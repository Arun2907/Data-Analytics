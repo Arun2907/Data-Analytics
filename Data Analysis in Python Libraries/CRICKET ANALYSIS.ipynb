{
 "cells": [
  {
   "cell_type": "markdown",
   "id": "64ba1e7e",
   "metadata": {},
   "source": [
    "# EDA ANALYSIS ON CRICKET DATASET"
   ]
  },
  {
   "cell_type": "markdown",
   "id": "ab8d68bf",
   "metadata": {},
   "source": [
    "The following dataset contains three datasets of worldcup matches which showcases the performance made by diffrent players on \n",
    "diffrent years and the datsets are batsman dataset contain runs,strike rate,balls faced,notouts,date of match,fours,sixers and the bowler data contain overs,maidens,runs conceeded,strike rate,economy,average,wickets,ground,opposition,and the match results contain wins,loss,margin,country,opposition,ground.Her we going to make analysis on that."
   ]
  },
  {
   "cell_type": "markdown",
   "id": "98553c9e",
   "metadata": {},
   "source": [
    "# Importing libraries"
   ]
  },
  {
   "cell_type": "code",
   "execution_count": 1,
   "id": "4507bb6d",
   "metadata": {},
   "outputs": [],
   "source": [
    "import pandas as pd\n",
    "import numpy as np\n",
    "import matplotlib.pyplot as plt\n",
    "import seaborn as sns"
   ]
  },
  {
   "cell_type": "markdown",
   "id": "46020445",
   "metadata": {},
   "source": [
    "# Reading the data"
   ]
  },
  {
   "cell_type": "code",
   "execution_count": 2,
   "id": "c574054a",
   "metadata": {},
   "outputs": [],
   "source": [
    "#uploading the dataset\n",
    "\n",
    "bat=pd.read_csv('bat.csv')\n",
    "ball=pd.read_csv('bowl.csv')\n",
    "odi=pd.read_csv('odi.csv')"
   ]
  },
  {
   "cell_type": "code",
   "execution_count": 3,
   "id": "cc4ed6bf",
   "metadata": {},
   "outputs": [
    {
     "data": {
      "text/plain": [
       "Unnamed: 0    0\n",
       "Overs         0\n",
       "Mdns          0\n",
       "Runs          0\n",
       "Wkts          0\n",
       "Econ          0\n",
       "Ave           0\n",
       "SR            0\n",
       "Opposition    0\n",
       "Ground        0\n",
       "Start Date    0\n",
       "Match_ID      0\n",
       "Bowler        0\n",
       "Player_ID     0\n",
       "dtype: int64"
      ]
     },
     "execution_count": 3,
     "metadata": {},
     "output_type": "execute_result"
    }
   ],
   "source": [
    "#checking the null values\n",
    "\n",
    "ball.isnull().sum()"
   ]
  },
  {
   "cell_type": "code",
   "execution_count": 4,
   "id": "b08df36f",
   "metadata": {},
   "outputs": [
    {
     "data": {
      "text/plain": [
       "Unnamed: 0    0\n",
       "Bat1          0\n",
       "Runs          0\n",
       "BF            0\n",
       "SR            0\n",
       "4s            0\n",
       "6s            0\n",
       "Opposition    0\n",
       "Ground        0\n",
       "Start Date    0\n",
       "Match_ID      0\n",
       "Batsman       0\n",
       "Player_ID     0\n",
       "dtype: int64"
      ]
     },
     "execution_count": 4,
     "metadata": {},
     "output_type": "execute_result"
    }
   ],
   "source": [
    "bat.isnull().sum()"
   ]
  },
  {
   "cell_type": "code",
   "execution_count": 5,
   "id": "ff8d2ca1",
   "metadata": {
    "scrolled": true
   },
   "outputs": [
    {
     "data": {
      "text/plain": [
       "Unnamed: 0      0\n",
       "Result          0\n",
       "Margin          0\n",
       "BR            716\n",
       "Toss            0\n",
       "Bat             0\n",
       "Opposition      0\n",
       "Ground          0\n",
       "Start Date      0\n",
       "Match_ID        0\n",
       "Country         0\n",
       "Country_ID      0\n",
       "dtype: int64"
      ]
     },
     "execution_count": 5,
     "metadata": {},
     "output_type": "execute_result"
    }
   ],
   "source": [
    "odi.isnull().sum()"
   ]
  },
  {
   "cell_type": "markdown",
   "id": "cd83bbdf",
   "metadata": {},
   "source": [
    "# Data cleaning"
   ]
  },
  {
   "cell_type": "code",
   "execution_count": 6,
   "id": "592efdaa",
   "metadata": {},
   "outputs": [],
   "source": [
    "#Dropping the unnecessary columns\n",
    "\n",
    "bat.drop(['Unnamed: 0','Match_ID','Player_ID'],inplace=True,axis=1)\n",
    "ball.drop(['Unnamed: 0','Match_ID','Player_ID'],inplace=True,axis=1)\n",
    "odi.drop(['Unnamed: 0','Match_ID','Country_ID'],inplace=True,axis=1)"
   ]
  },
  {
   "cell_type": "code",
   "execution_count": 7,
   "id": "909a6080",
   "metadata": {},
   "outputs": [],
   "source": [
    "#Replacing values\n",
    "\n",
    "bat=bat.replace(['-'],0)\n",
    "ball=ball.replace(['-'],0)\n",
    "odi=odi.replace(['-'],0)"
   ]
  },
  {
   "cell_type": "code",
   "execution_count": 8,
   "id": "96932176",
   "metadata": {},
   "outputs": [],
   "source": [
    "#seperating column for notouts\n",
    "\n",
    "bat['Bat1']=bat['Bat1'].apply(str)\n",
    "bat['notout']=np.where(bat['Bat1'].str.endswith('*'),1,0)"
   ]
  },
  {
   "cell_type": "code",
   "execution_count": 9,
   "id": "1aa04b97",
   "metadata": {},
   "outputs": [],
   "source": [
    "#changing the datatype of bat dataset\n",
    "\n",
    "bat_new=bat.loc[((bat['Bat1']!='DNB')&(bat['Bat1']!='TDNB')&(bat['Bat1']!='absent')&(bat['Bat1']!='sub')),'Runs':]\n",
    "bat_new['Runs']=bat_new['Runs'].astype(int)\n",
    "bat_new['BF']=bat_new['BF'].astype(int)\n",
    "bat_new['SR']=bat_new['SR'].astype(float)\n",
    "bat_new['4s']=bat_new['4s'].astype(int)\n",
    "bat_new['6s']=bat_new['6s'].astype(int)"
   ]
  },
  {
   "cell_type": "code",
   "execution_count": 10,
   "id": "53945b25",
   "metadata": {},
   "outputs": [
    {
     "data": {
      "text/plain": [
       "Runs            int32\n",
       "BF              int32\n",
       "SR            float64\n",
       "4s              int32\n",
       "6s              int32\n",
       "Opposition     object\n",
       "Ground         object\n",
       "Start Date     object\n",
       "Batsman        object\n",
       "notout          int32\n",
       "dtype: object"
      ]
     },
     "execution_count": 10,
     "metadata": {},
     "output_type": "execute_result"
    }
   ],
   "source": [
    "bat_new.dtypes"
   ]
  },
  {
   "cell_type": "code",
   "execution_count": 11,
   "id": "2c3eac60",
   "metadata": {},
   "outputs": [
    {
     "data": {
      "text/plain": [
       "Result         object\n",
       "Margin         object\n",
       "BR            float64\n",
       "Toss           object\n",
       "Bat            object\n",
       "Opposition     object\n",
       "Ground         object\n",
       "Start Date     object\n",
       "Country        object\n",
       "dtype: object"
      ]
     },
     "execution_count": 11,
     "metadata": {},
     "output_type": "execute_result"
    }
   ],
   "source": [
    "odi.dtypes"
   ]
  },
  {
   "cell_type": "code",
   "execution_count": 12,
   "id": "51df4bf0",
   "metadata": {},
   "outputs": [],
   "source": [
    "#changing the datatype of dataset\n",
    "\n",
    "\n",
    "ball['Overs']=ball['Overs'].astype(float)\n",
    "ball['Mdns']=ball['Overs'].astype(int)\n",
    "ball['Runs']=ball['Overs'].astype(int)\n",
    "ball['Wkts']=ball['Overs'].astype(int)\n",
    "ball['Econ']=ball['Overs'].astype(float)\n",
    "ball['Ave']=ball['Overs'].astype(float)\n",
    "ball['SR']=ball['SR'].astype(float)\n",
    "ball['Ave']=ball['Overs'].astype(float)\n",
    "#ball['Start Date']=pd.to_datetime(ball['Start Date'],format='%d-%m-%y')"
   ]
  },
  {
   "cell_type": "code",
   "execution_count": 13,
   "id": "0703f5ae",
   "metadata": {
    "scrolled": false
   },
   "outputs": [
    {
     "data": {
      "text/plain": [
       "Runs            int32\n",
       "BF              int32\n",
       "SR            float64\n",
       "4s              int32\n",
       "6s              int32\n",
       "Opposition     object\n",
       "Ground         object\n",
       "Start Date     object\n",
       "Batsman        object\n",
       "notout          int32\n",
       "dtype: object"
      ]
     },
     "execution_count": 13,
     "metadata": {},
     "output_type": "execute_result"
    }
   ],
   "source": [
    "bat_new.dtypes"
   ]
  },
  {
   "cell_type": "code",
   "execution_count": 14,
   "id": "578028d0",
   "metadata": {},
   "outputs": [
    {
     "data": {
      "text/plain": [
       "Overs         float64\n",
       "Mdns            int32\n",
       "Runs            int32\n",
       "Wkts            int32\n",
       "Econ          float64\n",
       "Ave           float64\n",
       "SR            float64\n",
       "Opposition     object\n",
       "Ground         object\n",
       "Start Date     object\n",
       "Bowler         object\n",
       "dtype: object"
      ]
     },
     "execution_count": 14,
     "metadata": {},
     "output_type": "execute_result"
    }
   ],
   "source": [
    "ball.dtypes"
   ]
  },
  {
   "cell_type": "markdown",
   "id": "a0af86ae",
   "metadata": {},
   "source": [
    "# Batsman Analysis"
   ]
  },
  {
   "cell_type": "code",
   "execution_count": 15,
   "id": "81d02e96",
   "metadata": {},
   "outputs": [
    {
     "name": "stdout",
     "output_type": "stream",
     "text": [
      "Matches played so far : 1322\n",
      "\n",
      "Teams Participated : ['Pakistan' 'India' 'SriLanka' 'Australia' 'England' 'SouthAfrica'\n",
      " 'Newzealad' 'WestIndies' 'Afghanistan' 'Bangladesh']\n"
     ]
    }
   ],
   "source": [
    "#total matches played by each country\n",
    "\n",
    "print(\"Matches played so far :\",odi.shape[0])\n",
    "\n",
    "print(\"\\nTeams Participated :\",odi[\"Country\"].unique())"
   ]
  },
  {
   "cell_type": "code",
   "execution_count": 16,
   "id": "1b2f1bfe",
   "metadata": {},
   "outputs": [
    {
     "data": {
      "text/plain": [
       "Text(0.5, 1.0, 'Highest Runs Scored')"
      ]
     },
     "execution_count": 16,
     "metadata": {},
     "output_type": "execute_result"
    },
    {
     "data": {
      "image/png": "[encoded data removed]",
      "text/plain": [
       "<Figure size 1152x648 with 1 Axes>"
      ]
     },
     "metadata": {
      "needs_background": "light"
     },
     "output_type": "display_data"
    }
   ],
   "source": [
    "#Highest run score by batsman\n",
    "\n",
    "r=bat_new.groupby(['Batsman'])['Runs'].sum().reset_index()\n",
    "r.sort_values(by='Runs',ascending=False,inplace=True)\n",
    "r=r.head(10)\n",
    "\n",
    "plt.figure(figsize=(16,9))\n",
    "sns.barplot(y='Batsman',x='Runs',data=r,palette=\"mako\")\n",
    "\n",
    "plt.yticks(fontsize=10)\n",
    "plt.ylabel(\"batsman\",fontsize=10)\n",
    "plt.xlabel(\"runs scored\",fontsize=10)\n",
    "plt.title(\"Highest Runs Scored\",fontsize=15)"
   ]
  },
  {
   "cell_type": "code",
   "execution_count": 17,
   "id": "dc387dcc",
   "metadata": {},
   "outputs": [
    {
     "data": {
      "text/plain": [
       "Text(0.5, 1.0, 'Highest Strike Rate')"
      ]
     },
     "execution_count": 17,
     "metadata": {},
     "output_type": "execute_result"
    },
    {
     "data": {
      "image/png": "[encoded data removed]",
      "text/plain": [
       "<Figure size 1152x648 with 1 Axes>"
      ]
     },
     "metadata": {
      "needs_background": "light"
     },
     "output_type": "display_data"
    }
   ],
   "source": [
    "#Maximum strike rate by batsman\n",
    "\n",
    "\n",
    "sr=bat_new.groupby(['Batsman'])['SR'].mean().reset_index()\n",
    "sr.sort_values(by='SR',ascending=False,inplace=True)\n",
    "sr=sr.head(10)\n",
    "\n",
    "plt.figure(figsize=(16,9))\n",
    "sns.barplot(y='Batsman',x='SR',data=sr,palette=\"flare\")\n",
    "\n",
    "plt.yticks(fontsize=10)\n",
    "plt.ylabel(\"Batsman\",fontsize=10)\n",
    "plt.xlabel(\"Strike Rate\",fontsize=10)\n",
    "plt.title(\"Highest Strike Rate\",fontsize=15)"
   ]
  },
  {
   "cell_type": "code",
   "execution_count": 18,
   "id": "610a25cd",
   "metadata": {},
   "outputs": [
    {
     "data": {
      "text/plain": [
       "Text(0.5, 1.0, 'Highest number of Fours')"
      ]
     },
     "execution_count": 18,
     "metadata": {},
     "output_type": "execute_result"
    },
    {
     "data": {
      "image/png": "[encoded data removed]",
      "text/plain": [
       "<Figure size 1152x648 with 1 Axes>"
      ]
     },
     "metadata": {
      "needs_background": "light"
     },
     "output_type": "display_data"
    }
   ],
   "source": [
    "#Highest number of fours by batsman\n",
    "\n",
    "f=bat_new.groupby(['Batsman'])['4s'].sum().reset_index()\n",
    "f.sort_values(by='4s',ascending=False,inplace=True)\n",
    "f=f.head(10)\n",
    "\n",
    "plt.figure(figsize=(16,9))\n",
    "sns.barplot(y='Batsman',x='4s',data=f,palette=\"tab10\")\n",
    "\n",
    "plt.yticks(fontsize=10)\n",
    "plt.ylabel(\"Batsman\",fontsize=10)\n",
    "plt.xlabel(\"Fours\",fontsize=10)\n",
    "plt.title(\"Highest number of Fours\",fontsize=15)"
   ]
  },
  {
   "cell_type": "code",
   "execution_count": 19,
   "id": "c3176480",
   "metadata": {},
   "outputs": [
    {
     "data": {
      "text/plain": [
       "Text(0.5, 1.0, 'Highest no of sixers')"
      ]
     },
     "execution_count": 19,
     "metadata": {},
     "output_type": "execute_result"
    },
    {
     "data": {
      "image/png": "[encoded data removed]",
      "text/plain": [
       "<Figure size 1152x648 with 1 Axes>"
      ]
     },
     "metadata": {
      "needs_background": "light"
     },
     "output_type": "display_data"
    }
   ],
   "source": [
    "#Highest no of sixers by batsman\n",
    "\n",
    "s=bat_new.groupby(['Batsman'])['6s'].sum().reset_index()\n",
    "s.sort_values(by='6s',ascending=False,inplace=True)\n",
    "s=s.head(10)\n",
    "\n",
    "plt.figure(figsize=(16,9))\n",
    "sns.barplot(y='Batsman',x='6s',data=s,palette=\"cubehelix\")\n",
    "\n",
    "plt.yticks(fontsize=10)\n",
    "plt.ylabel(\"Batsman\",fontsize=10)\n",
    "plt.xlabel(\"sixers\",fontsize=10)\n",
    "plt.title('Highest no of sixers',fontsize=15)"
   ]
  },
  {
   "cell_type": "code",
   "execution_count": 20,
   "id": "610863f9",
   "metadata": {},
   "outputs": [
    {
     "data": {
      "text/plain": [
       "Batsman\n",
       "MS Dhoni           82\n",
       "Angelo Mathews     46\n",
       "Mahmudullah        41\n",
       "Shoaib Malik       40\n",
       "JP Duminy          40\n",
       "Virat Kohli        37\n",
       "Ross Taylor        37\n",
       "Lasith Malinga     35\n",
       "Ravindra Jadeja    33\n",
       "Kemar Roach        33\n",
       "dtype: int64"
      ]
     },
     "execution_count": 20,
     "metadata": {},
     "output_type": "execute_result"
    }
   ],
   "source": [
    "#Maximum notouts by batsman\n",
    "\n",
    "max_notout=bat_new[['notout','Batsman']].groupby('Batsman').sum()\n",
    "s=max_notout.sum(axis=1).sort_values(ascending=False).head(10)\n",
    "s"
   ]
  },
  {
   "cell_type": "code",
   "execution_count": 21,
   "id": "e7e1fce4",
   "metadata": {
    "scrolled": true
   },
   "outputs": [
    {
     "data": {
      "text/plain": [
       "<AxesSubplot:title={'center':'Maximum notouts'}, xlabel='Batsman'>"
      ]
     },
     "execution_count": 21,
     "metadata": {},
     "output_type": "execute_result"
    },
    {
     "data": {
      "image/png": "[encoded data removed]",
      "text/plain": [
       "<Figure size 864x360 with 1 Axes>"
      ]
     },
     "metadata": {
      "needs_background": "light"
     },
     "output_type": "display_data"
    }
   ],
   "source": [
    "plt.rcParams['figure.figsize']=[12,5]\n",
    "s.plot(kind='bar',color='c',title='Maximum notouts')"
   ]
  },
  {
   "cell_type": "markdown",
   "id": "3c9cedd3",
   "metadata": {},
   "source": [
    "# Bowler Analysis"
   ]
  },
  {
   "cell_type": "code",
   "execution_count": 22,
   "id": "70eb0d83",
   "metadata": {},
   "outputs": [
    {
     "data": {
      "text/plain": [
       "Text(0.5, 1.0, 'Highest wickets by player')"
      ]
     },
     "execution_count": 22,
     "metadata": {},
     "output_type": "execute_result"
    },
    {
     "data": {
      "image/png": "[encoded data removed]",
      "text/plain": [
       "<Figure size 864x360 with 1 Axes>"
      ]
     },
     "metadata": {
      "needs_background": "light"
     },
     "output_type": "display_data"
    }
   ],
   "source": [
    "#Maximum wickets by bowlers\n",
    "\n",
    "w=ball.groupby(['Bowler'])['Wkts'].sum().reset_index()\n",
    "w.sort_values(by='Wkts',ascending=False,inplace=True)\n",
    "w=w.head(10)\n",
    "\n",
    "plt.figure(figsize=(12,5))\n",
    "sns.barplot(x='Bowler',y='Wkts',data=w,palette='rocket_r')\n",
    "\n",
    "plt.yticks(fontsize=10)\n",
    "plt.xticks(rotation=90,fontsize=10)\n",
    "plt.xlabel(\"Bowler\",fontsize=10)\n",
    "plt.ylabel(\"Max Wickets\",fontsize=10)\n",
    "plt.title(\"Highest wickets by player\",fontsize=15)"
   ]
  },
  {
   "cell_type": "code",
   "execution_count": null,
   "id": "9e092a96",
   "metadata": {},
   "outputs": [],
   "source": []
  },
  {
   "cell_type": "code",
   "execution_count": 24,
   "id": "55fabba0",
   "metadata": {
    "scrolled": true
   },
   "outputs": [
    {
     "data": {
      "text/plain": [
       "Text(0.5, 1.0, 'Overs count by bowler')"
      ]
     },
     "execution_count": 24,
     "metadata": {},
     "output_type": "execute_result"
    },
    {
     "data": {
      "image/png": "[encoded data removed]",
      "text/plain": [
       "<Figure size 864x360 with 1 Axes>"
      ]
     },
     "metadata": {
      "needs_background": "light"
     },
     "output_type": "display_data"
    }
   ],
   "source": [
    "#Maximum overs bowled by bowlers\n",
    "\n",
    "\n",
    "o=ball.groupby(['Bowler'])['Overs'].sum().reset_index()\n",
    "o.sort_values(by='Overs',ascending=False,inplace=True)\n",
    "o=o.head(10)\n",
    "o\n",
    "\n",
    "\n",
    "plt.figure(figsize=(12,5))\n",
    "sns.barplot(x='Bowler',y='Overs',data=o,palette='crest')\n",
    "\n",
    "plt.yticks(fontsize=10)\n",
    "plt.xticks(rotation=90,fontsize=10)\n",
    "plt.xlabel(\"Bowler\",fontsize=10)\n",
    "plt.ylabel(\"overs\",fontsize=10)\n",
    "plt.title(\"Overs count by bowler\",fontsize=15)"
   ]
  },
  {
   "cell_type": "code",
   "execution_count": null,
   "id": "df0bef11",
   "metadata": {},
   "outputs": [],
   "source": []
  },
  {
   "cell_type": "code",
   "execution_count": 25,
   "id": "e64eb0da",
   "metadata": {},
   "outputs": [
    {
     "data": {
      "text/plain": [
       "Text(0.5, 1.0, 'Maidens by bowler ')"
      ]
     },
     "execution_count": 25,
     "metadata": {},
     "output_type": "execute_result"
    },
    {
     "data": {
      "image/png": "[encoded data removed]",
      "text/plain": [
       "<Figure size 864x360 with 1 Axes>"
      ]
     },
     "metadata": {
      "needs_background": "light"
     },
     "output_type": "display_data"
    }
   ],
   "source": [
    "#Maidens by bowlers\n",
    "\n",
    "m=ball.groupby(['Bowler'])['Mdns'].sum().reset_index()\n",
    "m.sort_values(by='Mdns',ascending=False,inplace=True)\n",
    "m=m.head(15)\n",
    "m\n",
    "\n",
    "plt.figure(figsize=(12,5))\n",
    "sns.barplot(x='Bowler',y='Mdns',data=m,palette='vlag')\n",
    "\n",
    "plt.yticks(fontsize=10)\n",
    "plt.xticks(rotation=90,fontsize=10)\n",
    "plt.xlabel(\"Bowler\",fontsize=10)\n",
    "plt.ylabel(\"maidens\",fontsize=10)\n",
    "plt.title(\"Maidens by bowler \",fontsize=15)"
   ]
  },
  {
   "cell_type": "markdown",
   "id": "03381b46",
   "metadata": {},
   "source": [
    "# Match Analysis"
   ]
  },
  {
   "cell_type": "code",
   "execution_count": 26,
   "id": "4835d56a",
   "metadata": {},
   "outputs": [
    {
     "name": "stderr",
     "output_type": "stream",
     "text": [
      "C:\\Users\\srigu\\anaconda3\\lib\\site-packages\\seaborn\\_decorators.py:36: FutureWarning: Pass the following variable as a keyword arg: x. From version 0.12, the only valid positional argument will be `data`, and passing other arguments without an explicit keyword will result in an error or misinterpretation.\n",
      "  warnings.warn(\n"
     ]
    },
    {
     "data": {
      "image/png": "[encoded data removed]",
      "text/plain": [
       "<Figure size 864x360 with 1 Axes>"
      ]
     },
     "metadata": {
      "needs_background": "light"
     },
     "output_type": "display_data"
    }
   ],
   "source": [
    "#Maximum wins by team\n",
    "\n",
    "\n",
    "sns.countplot(odi['Country'][odi['Result']=='won'],data=odi)\n",
    "plt.xticks(rotation=90)\n",
    "plt.title('Maximum wins',fontsize=15)\n",
    "plt.show()"
   ]
  },
  {
   "cell_type": "code",
   "execution_count": 27,
   "id": "dd32bb16",
   "metadata": {},
   "outputs": [
    {
     "name": "stderr",
     "output_type": "stream",
     "text": [
      "C:\\Users\\srigu\\anaconda3\\lib\\site-packages\\seaborn\\_decorators.py:36: FutureWarning: Pass the following variable as a keyword arg: x. From version 0.12, the only valid positional argument will be `data`, and passing other arguments without an explicit keyword will result in an error or misinterpretation.\n",
      "  warnings.warn(\n"
     ]
    },
    {
     "data": {
      "image/png": "[encoded data removed]",
      "text/plain": [
       "<Figure size 864x360 with 1 Axes>"
      ]
     },
     "metadata": {
      "needs_background": "light"
     },
     "output_type": "display_data"
    }
   ],
   "source": [
    "#Maximum loss by team\n",
    "\n",
    "sns.countplot(odi['Country'][odi['Result']=='lost'],data=odi)\n",
    "plt.xticks(rotation=90)\n",
    "plt.title('Maximum loss',fontsize=15)\n",
    "plt.show()"
   ]
  },
  {
   "cell_type": "code",
   "execution_count": null,
   "id": "f9ed63be",
   "metadata": {},
   "outputs": [],
   "source": []
  },
  {
   "cell_type": "code",
   "execution_count": null,
   "id": "1b885159",
   "metadata": {},
   "outputs": [],
   "source": []
  },
  {
   "cell_type": "markdown",
   "id": "862d37ab",
   "metadata": {},
   "source": [
    "# Results\n",
    "\n",
    "\n"
   ]
  },
  {
   "cell_type": "markdown",
   "id": "d8a196a7",
   "metadata": {},
   "source": [
    "# Maximum Runs by Batsman----VIRAT KHOLI\n"
   ]
  },
  {
   "cell_type": "markdown",
   "id": "c2689e0c",
   "metadata": {},
   "source": [
    "# Highest Strike Rate--------JASON BEHRENDROFF\n"
   ]
  },
  {
   "cell_type": "markdown",
   "id": "d171d952",
   "metadata": {},
   "source": [
    "# Highest Not Outs-----------MS DHONI\n"
   ]
  },
  {
   "cell_type": "markdown",
   "id": "8405d132",
   "metadata": {},
   "source": [
    "# Highest wicket Taker-------LASITH MALINGA\n"
   ]
  },
  {
   "cell_type": "markdown",
   "id": "be89a589",
   "metadata": {},
   "source": [
    "# Highest Overs Bowled-------LASITH MALINGA\n"
   ]
  },
  {
   "cell_type": "markdown",
   "id": "2e2b6995",
   "metadata": {},
   "source": [
    "# Maximum Winning Team-------INDIA\n"
   ]
  },
  {
   "cell_type": "markdown",
   "id": "4e7401dc",
   "metadata": {},
   "source": [
    "# Maximum loss Team----------SRI LANKA"
   ]
  },
  {
   "cell_type": "code",
   "execution_count": null,
   "id": "f22b3122",
   "metadata": {},
   "outputs": [],
   "source": []
  },
  {
   "cell_type": "code",
   "execution_count": null,
   "id": "0e50b7b0",
   "metadata": {},
   "outputs": [],
   "source": []
  },
  {
   "cell_type": "code",
   "execution_count": null,
   "id": "9a1c7f7d",
   "metadata": {},
   "outputs": [],
   "source": []
  },
  {
   "cell_type": "code",
   "execution_count": null,
   "id": "9e829d24",
   "metadata": {},
   "outputs": [],
   "source": []
  },
  {
   "cell_type": "code",
   "execution_count": null,
   "id": "89b9980b",
   "metadata": {},
   "outputs": [],
   "source": []
  },
  {
   "cell_type": "code",
   "execution_count": null,
   "id": "b8978eef",
   "metadata": {},
   "outputs": [],
   "source": []
  },
  {
   "cell_type": "code",
   "execution_count": null,
   "id": "f11d55ce",
   "metadata": {},
   "outputs": [],
   "source": []
  },
  {
   "cell_type": "code",
   "execution_count": null,
   "id": "fc5084ec",
   "metadata": {},
   "outputs": [],
   "source": []
  },
  {
   "cell_type": "code",
   "execution_count": null,
   "id": "c54cbb2d",
   "metadata": {},
   "outputs": [],
   "source": []
  },
  {
   "cell_type": "code",
   "execution_count": null,
   "id": "5af59a6c",
   "metadata": {},
   "outputs": [],
   "source": []
  },
  {
   "cell_type": "code",
   "execution_count": null,
   "id": "6c01e31e",
   "metadata": {},
   "outputs": [],
   "source": []
  },
  {
   "cell_type": "code",
   "execution_count": null,
   "id": "d8fae2ca",
   "metadata": {},
   "outputs": [],
   "source": []
  },
  {
   "cell_type": "code",
   "execution_count": null,
   "id": "dad680a5",
   "metadata": {},
   "outputs": [],
   "source": []
  },
  {
   "cell_type": "code",
   "execution_count": null,
   "id": "4f4ac0f6",
   "metadata": {},
   "outputs": [],
   "source": []
  },
  {
   "cell_type": "code",
   "execution_count": null,
   "id": "3919d275",
   "metadata": {},
   "outputs": [],
   "source": []
  },
  {
   "cell_type": "code",
   "execution_count": null,
   "id": "8b0402c7",
   "metadata": {},
   "outputs": [],
   "source": []
  },
  {
   "cell_type": "code",
   "execution_count": null,
   "id": "112b7bd6",
   "metadata": {},
   "outputs": [],
   "source": []
  },
  {
   "cell_type": "code",
   "execution_count": null,
   "id": "270d0147",
   "metadata": {},
   "outputs": [],
   "source": []
  },
  {
   "cell_type": "code",
   "execution_count": null,
   "id": "64202359",
   "metadata": {},
   "outputs": [],
   "source": []
  },
  {
   "cell_type": "code",
   "execution_count": null,
   "id": "f324a095",
   "metadata": {},
   "outputs": [],
   "source": []
  },
  {
   "cell_type": "code",
   "execution_count": null,
   "id": "417131b4",
   "metadata": {},
   "outputs": [],
   "source": []
  },
  {
   "cell_type": "code",
   "execution_count": null,
   "id": "b1b76f15",
   "metadata": {},
   "outputs": [],
   "source": []
  },
  {
   "cell_type": "code",
   "execution_count": null,
   "id": "fb9db818",
   "metadata": {},
   "outputs": [],
   "source": []
  },
  {
   "cell_type": "code",
   "execution_count": null,
   "id": "f031f04b",
   "metadata": {},
   "outputs": [],
   "source": []
  },
  {
   "cell_type": "code",
   "execution_count": null,
   "id": "7271eca8",
   "metadata": {},
   "outputs": [],
   "source": []
  },
  {
   "cell_type": "code",
   "execution_count": null,
   "id": "ce121e8b",
   "metadata": {},
   "outputs": [],
   "source": []
  },
  {
   "cell_type": "code",
   "execution_count": null,
   "id": "f980f2dc",
   "metadata": {},
   "outputs": [],
   "source": []
  },
  {
   "cell_type": "code",
   "execution_count": null,
   "id": "a01f007e",
   "metadata": {},
   "outputs": [],
   "source": []
  },
  {
   "cell_type": "code",
   "execution_count": null,
   "id": "55a1083f",
   "metadata": {},
   "outputs": [],
   "source": []
  },
  {
   "cell_type": "code",
   "execution_count": null,
   "id": "7b44405f",
   "metadata": {},
   "outputs": [],
   "source": []
  },
  {
   "cell_type": "code",
   "execution_count": null,
   "id": "5bf1809d",
   "metadata": {},
   "outputs": [],
   "source": []
  },
  {
   "cell_type": "code",
   "execution_count": null,
   "id": "20abc800",
   "metadata": {},
   "outputs": [],
   "source": []
  },
  {
   "cell_type": "code",
   "execution_count": null,
   "id": "9dd6aac1",
   "metadata": {},
   "outputs": [],
   "source": []
  },
  {
   "cell_type": "code",
   "execution_count": null,
   "id": "f3ab6bf3",
   "metadata": {},
   "outputs": [],
   "source": []
  },
  {
   "cell_type": "code",
   "execution_count": null,
   "id": "a9b9716d",
   "metadata": {},
   "outputs": [],
   "source": []
  },
  {
   "cell_type": "code",
   "execution_count": null,
   "id": "58648c5c",
   "metadata": {},
   "outputs": [],
   "source": []
  },
  {
   "cell_type": "code",
   "execution_count": null,
   "id": "be987cf6",
   "metadata": {},
   "outputs": [],
   "source": []
  },
  {
   "cell_type": "code",
   "execution_count": null,
   "id": "fc66d830",
   "metadata": {},
   "outputs": [],
   "source": []
  },
  {
   "cell_type": "code",
   "execution_count": null,
   "id": "24623f2f",
   "metadata": {},
   "outputs": [],
   "source": []
  },
  {
   "cell_type": "code",
   "execution_count": null,
   "id": "11815917",
   "metadata": {},
   "outputs": [],
   "source": []
  },
  {
   "cell_type": "code",
   "execution_count": null,
   "id": "5f6307c5",
   "metadata": {},
   "outputs": [],
   "source": []
  },
  {
   "cell_type": "code",
   "execution_count": null,
   "id": "e65303a8",
   "metadata": {},
   "outputs": [],
   "source": []
  },
  {
   "cell_type": "code",
   "execution_count": null,
   "id": "942efd32",
   "metadata": {},
   "outputs": [],
   "source": []
  },
  {
   "cell_type": "code",
   "execution_count": null,
   "id": "c39468b8",
   "metadata": {},
   "outputs": [],
   "source": []
  }
 ],
 "metadata": {
  "kernelspec": {
   "display_name": "Python 3",
   "language": "python",
   "name": "python3"
  },
  "language_info": {
   "codemirror_mode": {
    "name": "ipython",
    "version": 3
   },
   "file_extension": ".py",
   "mimetype": "text/x-python",
   "name": "python",
   "nbconvert_exporter": "python",
   "pygments_lexer": "ipython3",
   "version": "3.8.8"
  }
 },
 "nbformat": 4,
 "nbformat_minor": 5
}
