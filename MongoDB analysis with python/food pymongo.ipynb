{
 "cells": [
  {
   "cell_type": "code",
   "execution_count": 1,
   "id": "0c6f43fe",
   "metadata": {},
   "outputs": [],
   "source": [
    "#importing pymongo\n",
    "\n",
    "from pymongo import MongoClient"
   ]
  },
  {
   "cell_type": "code",
   "execution_count": 2,
   "id": "e992243e",
   "metadata": {},
   "outputs": [],
   "source": [
    "# connecting with the mongo client\n",
    "\n",
    "client = MongoClient('mongodb://localhost:27017/')"
   ]
  },
  {
   "cell_type": "code",
   "execution_count": 3,
   "id": "b9696fec",
   "metadata": {},
   "outputs": [
    {
     "data": {
      "text/plain": [
       "['admin',\n",
       " 'config',\n",
       " 'employee',\n",
       " 'foodsales',\n",
       " 'local',\n",
       " 'professor',\n",
       " 'purchase',\n",
       " 'restaurant',\n",
       " 'titanic']"
      ]
     },
     "execution_count": 3,
     "metadata": {},
     "output_type": "execute_result"
    }
   ],
   "source": [
    "#listing of data bases\n",
    "\n",
    "\n",
    "client.list_database_names()"
   ]
  },
  {
   "cell_type": "code",
   "execution_count": 4,
   "id": "7e810a77",
   "metadata": {},
   "outputs": [],
   "source": [
    "#making connection with one database\n",
    "\n",
    "db = client [\"foodsales\"]"
   ]
  },
  {
   "cell_type": "code",
   "execution_count": 5,
   "id": "964ee672",
   "metadata": {},
   "outputs": [
    {
     "data": {
      "text/plain": [
       "['food']"
      ]
     },
     "execution_count": 5,
     "metadata": {},
     "output_type": "execute_result"
    }
   ],
   "source": [
    "# getting the names of collection inside the database\n",
    "\n",
    "db.list_collection_names()"
   ]
  },
  {
   "cell_type": "code",
   "execution_count": 6,
   "id": "f21093a1",
   "metadata": {},
   "outputs": [
    {
     "data": {
      "text/plain": [
       "244"
      ]
     },
     "execution_count": 6,
     "metadata": {},
     "output_type": "execute_result"
    }
   ],
   "source": [
    "#total documents \n",
    "\n",
    "db.food.count_documents({})"
   ]
  },
  {
   "cell_type": "code",
   "execution_count": 7,
   "id": "1fe68bbf",
   "metadata": {},
   "outputs": [
    {
     "name": "stdout",
     "output_type": "stream",
     "text": [
      "{'_id': ObjectId('61b0c0876d59357969f0f553'), 'OrderDate': datetime.datetime(2019, 12, 31, 18, 30), 'Region': 'East', 'City': 'Boston', 'Category': 'Bars', 'Product': 'Carrot', 'Quantity': 33, 'UnitPrice': 1.77, 'TotalPrice': 58.41}\n",
      "{'_id': ObjectId('61b0c0876d59357969f0f554'), 'OrderDate': datetime.datetime(2020, 1, 3, 18, 30), 'Region': 'East', 'City': 'Boston', 'Category': 'Crackers', 'Product': 'Whole Wheat', 'Quantity': 87, 'UnitPrice': 3.49, 'TotalPrice': 303.63}\n",
      "{'_id': ObjectId('61b0c0876d59357969f0f555'), 'OrderDate': datetime.datetime(2020, 1, 6, 18, 30), 'Region': 'West', 'City': 'Los Angeles', 'Category': 'Cookies', 'Product': 'Chocolate Chip', 'Quantity': 58, 'UnitPrice': 1.87, 'TotalPrice': 108.46}\n",
      "{'_id': ObjectId('61b0c0876d59357969f0f556'), 'OrderDate': datetime.datetime(2020, 1, 9, 18, 30), 'Region': 'East', 'City': 'New York', 'Category': 'Cookies', 'Product': 'Chocolate Chip', 'Quantity': 82, 'UnitPrice': 1.87, 'TotalPrice': 153.34}\n",
      "{'_id': ObjectId('61b0c0876d59357969f0f557'), 'OrderDate': datetime.datetime(2020, 1, 12, 18, 30), 'Region': 'East', 'City': 'Boston', 'Category': 'Cookies', 'Product': 'Arrowroot', 'Quantity': 38, 'UnitPrice': 2.18, 'TotalPrice': 82.84}\n",
      "{'_id': ObjectId('61b0c0876d59357969f0f558'), 'OrderDate': datetime.datetime(2020, 1, 15, 18, 30), 'Region': 'East', 'City': 'Boston', 'Category': 'Bars', 'Product': 'Carrot', 'Quantity': 54, 'UnitPrice': 1.77, 'TotalPrice': 95.58}\n",
      "{'_id': ObjectId('61b0c0876d59357969f0f559'), 'OrderDate': datetime.datetime(2020, 1, 18, 18, 30), 'Region': 'East', 'City': 'Boston', 'Category': 'Crackers', 'Product': 'Whole Wheat', 'Quantity': 149, 'UnitPrice': 3.49, 'TotalPrice': 520.01}\n",
      "{'_id': ObjectId('61b0c0876d59357969f0f55a'), 'OrderDate': datetime.datetime(2020, 1, 21, 18, 30), 'Region': 'West', 'City': 'Los Angeles', 'Category': 'Bars', 'Product': 'Carrot', 'Quantity': 51, 'UnitPrice': 1.77, 'TotalPrice': 90.27}\n",
      "{'_id': ObjectId('61b0c0876d59357969f0f55b'), 'OrderDate': datetime.datetime(2020, 1, 24, 18, 30), 'Region': 'East', 'City': 'New York', 'Category': 'Bars', 'Product': 'Carrot', 'Quantity': 100, 'UnitPrice': 1.77, 'TotalPrice': 177.0}\n",
      "{'_id': ObjectId('61b0c0876d59357969f0f55c'), 'OrderDate': datetime.datetime(2020, 1, 27, 18, 30), 'Region': 'East', 'City': 'New York', 'Category': 'Snacks', 'Product': 'Potato Chips', 'Quantity': 28, 'UnitPrice': 1.35, 'TotalPrice': 37.8}\n",
      "{'_id': ObjectId('61b0c0876d59357969f0f55d'), 'OrderDate': datetime.datetime(2020, 1, 30, 18, 30), 'Region': 'East', 'City': 'Boston', 'Category': 'Cookies', 'Product': 'Arrowroot', 'Quantity': 36, 'UnitPrice': 2.18, 'TotalPrice': 78.48}\n",
      "{'_id': ObjectId('61b0c0876d59357969f0f55e'), 'OrderDate': datetime.datetime(2020, 2, 2, 18, 30), 'Region': 'East', 'City': 'Boston', 'Category': 'Cookies', 'Product': 'Chocolate Chip', 'Quantity': 31, 'UnitPrice': 1.87, 'TotalPrice': 57.97}\n",
      "{'_id': ObjectId('61b0c0876d59357969f0f55f'), 'OrderDate': datetime.datetime(2020, 2, 5, 18, 30), 'Region': 'East', 'City': 'Boston', 'Category': 'Crackers', 'Product': 'Whole Wheat', 'Quantity': 28, 'UnitPrice': 3.49, 'TotalPrice': 97.72}\n",
      "{'_id': ObjectId('61b0c0876d59357969f0f560'), 'OrderDate': datetime.datetime(2020, 2, 8, 18, 30), 'Region': 'West', 'City': 'Los Angeles', 'Category': 'Bars', 'Product': 'Carrot', 'Quantity': 44, 'UnitPrice': 1.77, 'TotalPrice': 77.88}\n",
      "{'_id': ObjectId('61b0c0876d59357969f0f561'), 'OrderDate': datetime.datetime(2020, 2, 11, 18, 30), 'Region': 'East', 'City': 'New York', 'Category': 'Bars', 'Product': 'Carrot', 'Quantity': 23, 'UnitPrice': 1.77, 'TotalPrice': 40.71}\n",
      "{'_id': ObjectId('61b0c0876d59357969f0f562'), 'OrderDate': datetime.datetime(2020, 2, 14, 18, 30), 'Region': 'East', 'City': 'New York', 'Category': 'Snacks', 'Product': 'Potato Chips', 'Quantity': 27, 'UnitPrice': 1.35, 'TotalPrice': 36.45}\n",
      "{'_id': ObjectId('61b0c0876d59357969f0f563'), 'OrderDate': datetime.datetime(2020, 2, 17, 18, 30), 'Region': 'East', 'City': 'Boston', 'Category': 'Cookies', 'Product': 'Arrowroot', 'Quantity': 43, 'UnitPrice': 2.18, 'TotalPrice': 93.74}\n",
      "{'_id': ObjectId('61b0c0876d59357969f0f564'), 'OrderDate': datetime.datetime(2020, 2, 20, 18, 30), 'Region': 'East', 'City': 'Boston', 'Category': 'Cookies', 'Product': 'Oatmeal Raisin', 'Quantity': 123, 'UnitPrice': 2.84, 'TotalPrice': 349.32}\n",
      "{'_id': ObjectId('61b0c0876d59357969f0f565'), 'OrderDate': datetime.datetime(2020, 2, 23, 18, 30), 'Region': 'West', 'City': 'Los Angeles', 'Category': 'Bars', 'Product': 'Bran', 'Quantity': 42, 'UnitPrice': 1.87, 'TotalPrice': 78.54}\n",
      "{'_id': ObjectId('61b0c0876d59357969f0f566'), 'OrderDate': datetime.datetime(2020, 2, 26, 18, 30), 'Region': 'West', 'City': 'Los Angeles', 'Category': 'Cookies', 'Product': 'Oatmeal Raisin', 'Quantity': 33, 'UnitPrice': 2.84, 'TotalPrice': 93.72}\n",
      "{'_id': ObjectId('61b0c0876d59357969f0f567'), 'OrderDate': datetime.datetime(2020, 3, 1, 18, 30), 'Region': 'East', 'City': 'New York', 'Category': 'Cookies', 'Product': 'Chocolate Chip', 'Quantity': 85, 'UnitPrice': 1.87, 'TotalPrice': 158.95}\n",
      "{'_id': ObjectId('61b0c0876d59357969f0f568'), 'OrderDate': datetime.datetime(2020, 3, 4, 18, 30), 'Region': 'West', 'City': 'San Diego', 'Category': 'Cookies', 'Product': 'Oatmeal Raisin', 'Quantity': 30, 'UnitPrice': 2.84, 'TotalPrice': 85.2}\n",
      "{'_id': ObjectId('61b0c0876d59357969f0f569'), 'OrderDate': datetime.datetime(2020, 3, 7, 18, 30), 'Region': 'East', 'City': 'Boston', 'Category': 'Bars', 'Product': 'Carrot', 'Quantity': 61, 'UnitPrice': 1.77, 'TotalPrice': 107.97}\n",
      "{'_id': ObjectId('61b0c0876d59357969f0f56a'), 'OrderDate': datetime.datetime(2020, 3, 10, 18, 30), 'Region': 'East', 'City': 'Boston', 'Category': 'Crackers', 'Product': 'Whole Wheat', 'Quantity': 40, 'UnitPrice': 3.49, 'TotalPrice': 139.6}\n",
      "{'_id': ObjectId('61b0c0876d59357969f0f56b'), 'OrderDate': datetime.datetime(2020, 3, 13, 18, 30), 'Region': 'West', 'City': 'Los Angeles', 'Category': 'Cookies', 'Product': 'Chocolate Chip', 'Quantity': 86, 'UnitPrice': 1.87, 'TotalPrice': 160.82}\n",
      "{'_id': ObjectId('61b0c0876d59357969f0f56c'), 'OrderDate': datetime.datetime(2020, 3, 16, 18, 30), 'Region': 'East', 'City': 'New York', 'Category': 'Bars', 'Product': 'Carrot', 'Quantity': 38, 'UnitPrice': 1.77, 'TotalPrice': 67.26}\n",
      "{'_id': ObjectId('61b0c0876d59357969f0f56d'), 'OrderDate': datetime.datetime(2020, 3, 19, 18, 30), 'Region': 'East', 'City': 'New York', 'Category': 'Snacks', 'Product': 'Potato Chips', 'Quantity': 68, 'UnitPrice': 1.68, 'TotalPrice': 114.24}\n",
      "{'_id': ObjectId('61b0c0876d59357969f0f56e'), 'OrderDate': datetime.datetime(2020, 3, 22, 18, 30), 'Region': 'West', 'City': 'San Diego', 'Category': 'Cookies', 'Product': 'Chocolate Chip', 'Quantity': 39, 'UnitPrice': 1.87, 'TotalPrice': 72.93}\n",
      "{'_id': ObjectId('61b0c0876d59357969f0f56f'), 'OrderDate': datetime.datetime(2020, 3, 25, 18, 30), 'Region': 'East', 'City': 'Boston', 'Category': 'Bars', 'Product': 'Bran', 'Quantity': 103, 'UnitPrice': 1.87, 'TotalPrice': 192.61}\n",
      "{'_id': ObjectId('61b0c0876d59357969f0f570'), 'OrderDate': datetime.datetime(2020, 3, 28, 18, 30), 'Region': 'East', 'City': 'Boston', 'Category': 'Cookies', 'Product': 'Oatmeal Raisin', 'Quantity': 193, 'UnitPrice': 2.84, 'TotalPrice': 548.12}\n",
      "{'_id': ObjectId('61b0c0876d59357969f0f571'), 'OrderDate': datetime.datetime(2020, 3, 31, 18, 30), 'Region': 'West', 'City': 'Los Angeles', 'Category': 'Bars', 'Product': 'Carrot', 'Quantity': 58, 'UnitPrice': 1.77, 'TotalPrice': 102.66}\n",
      "{'_id': ObjectId('61b0c0876d59357969f0f572'), 'OrderDate': datetime.datetime(2020, 4, 3, 18, 30), 'Region': 'West', 'City': 'Los Angeles', 'Category': 'Snacks', 'Product': 'Potato Chips', 'Quantity': 68, 'UnitPrice': 1.68, 'TotalPrice': 114.24}\n",
      "{'_id': ObjectId('61b0c0876d59357969f0f573'), 'OrderDate': datetime.datetime(2020, 4, 6, 18, 30), 'Region': 'East', 'City': 'New York', 'Category': 'Bars', 'Product': 'Carrot', 'Quantity': 91, 'UnitPrice': 1.77, 'TotalPrice': 161.07}\n",
      "{'_id': ObjectId('61b0c0876d59357969f0f574'), 'OrderDate': datetime.datetime(2020, 4, 9, 18, 30), 'Region': 'East', 'City': 'New York', 'Category': 'Crackers', 'Product': 'Whole Wheat', 'Quantity': 23, 'UnitPrice': 3.49, 'TotalPrice': 80.27}\n",
      "{'_id': ObjectId('61b0c0876d59357969f0f575'), 'OrderDate': datetime.datetime(2020, 4, 12, 18, 30), 'Region': 'West', 'City': 'San Diego', 'Category': 'Snacks', 'Product': 'Potato Chips', 'Quantity': 28, 'UnitPrice': 1.68, 'TotalPrice': 47.04}\n",
      "{'_id': ObjectId('61b0c0876d59357969f0f576'), 'OrderDate': datetime.datetime(2020, 4, 15, 18, 30), 'Region': 'East', 'City': 'Boston', 'Category': 'Bars', 'Product': 'Carrot', 'Quantity': 48, 'UnitPrice': 1.77, 'TotalPrice': 84.96}\n",
      "{'_id': ObjectId('61b0c0876d59357969f0f577'), 'OrderDate': datetime.datetime(2020, 4, 18, 18, 30), 'Region': 'East', 'City': 'Boston', 'Category': 'Snacks', 'Product': 'Potato Chips', 'Quantity': 134, 'UnitPrice': 1.68, 'TotalPrice': 225.12}\n",
      "{'_id': ObjectId('61b0c0876d59357969f0f578'), 'OrderDate': datetime.datetime(2020, 4, 21, 18, 30), 'Region': 'West', 'City': 'Los Angeles', 'Category': 'Bars', 'Product': 'Carrot', 'Quantity': 20, 'UnitPrice': 1.77, 'TotalPrice': 35.4}\n",
      "{'_id': ObjectId('61b0c0876d59357969f0f579'), 'OrderDate': datetime.datetime(2020, 4, 24, 18, 30), 'Region': 'East', 'City': 'New York', 'Category': 'Bars', 'Product': 'Carrot', 'Quantity': 53, 'UnitPrice': 1.77, 'TotalPrice': 93.81}\n",
      "{'_id': ObjectId('61b0c0876d59357969f0f57a'), 'OrderDate': datetime.datetime(2020, 4, 27, 18, 30), 'Region': 'East', 'City': 'New York', 'Category': 'Snacks', 'Product': 'Potato Chips', 'Quantity': 64, 'UnitPrice': 1.68, 'TotalPrice': 107.52}\n",
      "{'_id': ObjectId('61b0c0876d59357969f0f57b'), 'OrderDate': datetime.datetime(2020, 4, 30, 18, 30), 'Region': 'West', 'City': 'San Diego', 'Category': 'Cookies', 'Product': 'Chocolate Chip', 'Quantity': 63, 'UnitPrice': 1.87, 'TotalPrice': 117.81}\n",
      "{'_id': ObjectId('61b0c0876d59357969f0f57c'), 'OrderDate': datetime.datetime(2020, 5, 3, 18, 30), 'Region': 'East', 'City': 'Boston', 'Category': 'Bars', 'Product': 'Bran', 'Quantity': 105, 'UnitPrice': 1.87, 'TotalPrice': 196.35}\n",
      "{'_id': ObjectId('61b0c0876d59357969f0f57d'), 'OrderDate': datetime.datetime(2020, 5, 6, 18, 30), 'Region': 'East', 'City': 'Boston', 'Category': 'Cookies', 'Product': 'Oatmeal Raisin', 'Quantity': 138, 'UnitPrice': 2.84, 'TotalPrice': 391.92}\n",
      "{'_id': ObjectId('61b0c0876d59357969f0f57e'), 'OrderDate': datetime.datetime(2020, 5, 9, 18, 30), 'Region': 'West', 'City': 'Los Angeles', 'Category': 'Bars', 'Product': 'Carrot', 'Quantity': 25, 'UnitPrice': 1.77, 'TotalPrice': 44.25}\n",
      "{'_id': ObjectId('61b0c0876d59357969f0f57f'), 'OrderDate': datetime.datetime(2020, 5, 12, 18, 30), 'Region': 'West', 'City': 'Los Angeles', 'Category': 'Crackers', 'Product': 'Whole Wheat', 'Quantity': 21, 'UnitPrice': 3.49, 'TotalPrice': 73.29}\n",
      "{'_id': ObjectId('61b0c0876d59357969f0f580'), 'OrderDate': datetime.datetime(2020, 5, 15, 18, 30), 'Region': 'East', 'City': 'New York', 'Category': 'Bars', 'Product': 'Carrot', 'Quantity': 61, 'UnitPrice': 1.77, 'TotalPrice': 107.97}\n",
      "{'_id': ObjectId('61b0c0876d59357969f0f581'), 'OrderDate': datetime.datetime(2020, 5, 18, 18, 30), 'Region': 'East', 'City': 'New York', 'Category': 'Snacks', 'Product': 'Potato Chips', 'Quantity': 49, 'UnitPrice': 1.68, 'TotalPrice': 82.32}\n",
      "{'_id': ObjectId('61b0c0876d59357969f0f582'), 'OrderDate': datetime.datetime(2020, 5, 21, 18, 30), 'Region': 'West', 'City': 'San Diego', 'Category': 'Cookies', 'Product': 'Chocolate Chip', 'Quantity': 55, 'UnitPrice': 1.87, 'TotalPrice': 102.85}\n",
      "{'_id': ObjectId('61b0c0876d59357969f0f583'), 'OrderDate': datetime.datetime(2020, 5, 24, 18, 30), 'Region': 'East', 'City': 'Boston', 'Category': 'Cookies', 'Product': 'Arrowroot', 'Quantity': 27, 'UnitPrice': 2.18, 'TotalPrice': 58.86}\n",
      "{'_id': ObjectId('61b0c0876d59357969f0f584'), 'OrderDate': datetime.datetime(2020, 5, 27, 18, 30), 'Region': 'East', 'City': 'Boston', 'Category': 'Bars', 'Product': 'Carrot', 'Quantity': 58, 'UnitPrice': 1.77, 'TotalPrice': 102.66}\n",
      "{'_id': ObjectId('61b0c0876d59357969f0f585'), 'OrderDate': datetime.datetime(2020, 5, 30, 18, 30), 'Region': 'East', 'City': 'Boston', 'Category': 'Crackers', 'Product': 'Whole Wheat', 'Quantity': 33, 'UnitPrice': 3.49, 'TotalPrice': 115.17}\n",
      "{'_id': ObjectId('61b0c0876d59357969f0f586'), 'OrderDate': datetime.datetime(2020, 6, 2, 18, 30), 'Region': 'West', 'City': 'Los Angeles', 'Category': 'Cookies', 'Product': 'Oatmeal Raisin', 'Quantity': 288, 'UnitPrice': 2.84, 'TotalPrice': 817.92}\n",
      "{'_id': ObjectId('61b0c0876d59357969f0f587'), 'OrderDate': datetime.datetime(2020, 6, 5, 18, 30), 'Region': 'East', 'City': 'New York', 'Category': 'Cookies', 'Product': 'Chocolate Chip', 'Quantity': 76, 'UnitPrice': 1.87, 'TotalPrice': 142.12}\n",
      "{'_id': ObjectId('61b0c0876d59357969f0f588'), 'OrderDate': datetime.datetime(2020, 6, 8, 18, 30), 'Region': 'West', 'City': 'San Diego', 'Category': 'Bars', 'Product': 'Carrot', 'Quantity': 42, 'UnitPrice': 1.77, 'TotalPrice': 74.34}\n",
      "{'_id': ObjectId('61b0c0876d59357969f0f589'), 'OrderDate': datetime.datetime(2020, 6, 11, 18, 30), 'Region': 'West', 'City': 'San Diego', 'Category': 'Crackers', 'Product': 'Whole Wheat', 'Quantity': 20, 'UnitPrice': 3.49, 'TotalPrice': 69.8}\n",
      "{'_id': ObjectId('61b0c0876d59357969f0f58a'), 'OrderDate': datetime.datetime(2020, 6, 14, 18, 30), 'Region': 'East', 'City': 'Boston', 'Category': 'Bars', 'Product': 'Carrot', 'Quantity': 75, 'UnitPrice': 1.77, 'TotalPrice': 132.75}\n",
      "{'_id': ObjectId('61b0c0876d59357969f0f58b'), 'OrderDate': datetime.datetime(2020, 6, 17, 18, 30), 'Region': 'East', 'City': 'Boston', 'Category': 'Crackers', 'Product': 'Whole Wheat', 'Quantity': 38, 'UnitPrice': 3.49, 'TotalPrice': 132.62}\n",
      "{'_id': ObjectId('61b0c0876d59357969f0f58c'), 'OrderDate': datetime.datetime(2020, 6, 20, 18, 30), 'Region': 'West', 'City': 'Los Angeles', 'Category': 'Bars', 'Product': 'Carrot', 'Quantity': 306, 'UnitPrice': 1.77, 'TotalPrice': 541.62}\n",
      "{'_id': ObjectId('61b0c0876d59357969f0f58d'), 'OrderDate': datetime.datetime(2020, 6, 23, 18, 30), 'Region': 'West', 'City': 'Los Angeles', 'Category': 'Snacks', 'Product': 'Potato Chips', 'Quantity': 28, 'UnitPrice': 1.68, 'TotalPrice': 47.04}\n",
      "{'_id': ObjectId('61b0c0876d59357969f0f58e'), 'OrderDate': datetime.datetime(2020, 6, 26, 18, 30), 'Region': 'East', 'City': 'New York', 'Category': 'Bars', 'Product': 'Bran', 'Quantity': 110, 'UnitPrice': 1.87, 'TotalPrice': 205.7}\n",
      "{'_id': ObjectId('61b0c0876d59357969f0f58f'), 'OrderDate': datetime.datetime(2020, 6, 29, 18, 30), 'Region': 'East', 'City': 'New York', 'Category': 'Cookies', 'Product': 'Oatmeal Raisin', 'Quantity': 51, 'UnitPrice': 2.84, 'TotalPrice': 144.84}\n",
      "{'_id': ObjectId('61b0c0876d59357969f0f590'), 'OrderDate': datetime.datetime(2020, 7, 2, 18, 30), 'Region': 'West', 'City': 'San Diego', 'Category': 'Bars', 'Product': 'Carrot', 'Quantity': 52, 'UnitPrice': 1.77, 'TotalPrice': 92.04}\n",
      "{'_id': ObjectId('61b0c0876d59357969f0f591'), 'OrderDate': datetime.datetime(2020, 7, 5, 18, 30), 'Region': 'West', 'City': 'San Diego', 'Category': 'Crackers', 'Product': 'Whole Wheat', 'Quantity': 28, 'UnitPrice': 3.49, 'TotalPrice': 97.72}\n",
      "{'_id': ObjectId('61b0c0876d59357969f0f592'), 'OrderDate': datetime.datetime(2020, 7, 8, 18, 30), 'Region': 'East', 'City': 'Boston', 'Category': 'Bars', 'Product': 'Carrot', 'Quantity': 136, 'UnitPrice': 1.77, 'TotalPrice': 240.72}\n",
      "{'_id': ObjectId('61b0c0876d59357969f0f593'), 'OrderDate': datetime.datetime(2020, 7, 11, 18, 30), 'Region': 'East', 'City': 'Boston', 'Category': 'Crackers', 'Product': 'Whole Wheat', 'Quantity': 42, 'UnitPrice': 3.49, 'TotalPrice': 146.58}\n",
      "{'_id': ObjectId('61b0c0876d59357969f0f594'), 'OrderDate': datetime.datetime(2020, 7, 14, 18, 30), 'Region': 'West', 'City': 'Los Angeles', 'Category': 'Cookies', 'Product': 'Chocolate Chip', 'Quantity': 75, 'UnitPrice': 1.87, 'TotalPrice': 140.25}\n",
      "{'_id': ObjectId('61b0c0876d59357969f0f595'), 'OrderDate': datetime.datetime(2020, 7, 17, 18, 30), 'Region': 'East', 'City': 'New York', 'Category': 'Bars', 'Product': 'Bran', 'Quantity': 72, 'UnitPrice': 1.87, 'TotalPrice': 134.64}\n",
      "{'_id': ObjectId('61b0c0876d59357969f0f596'), 'OrderDate': datetime.datetime(2020, 7, 20, 18, 30), 'Region': 'East', 'City': 'New York', 'Category': 'Cookies', 'Product': 'Oatmeal Raisin', 'Quantity': 56, 'UnitPrice': 2.84, 'TotalPrice': 159.04}\n",
      "{'_id': ObjectId('61b0c0876d59357969f0f597'), 'OrderDate': datetime.datetime(2020, 7, 23, 18, 30), 'Region': 'West', 'City': 'San Diego', 'Category': 'Bars', 'Product': 'Bran', 'Quantity': 51, 'UnitPrice': 1.87, 'TotalPrice': 95.37}\n",
      "{'_id': ObjectId('61b0c0876d59357969f0f598'), 'OrderDate': datetime.datetime(2020, 7, 26, 18, 30), 'Region': 'West', 'City': 'San Diego', 'Category': 'Snacks', 'Product': 'Potato Chips', 'Quantity': 31, 'UnitPrice': 1.68, 'TotalPrice': 52.08}\n",
      "{'_id': ObjectId('61b0c0876d59357969f0f599'), 'OrderDate': datetime.datetime(2020, 7, 29, 18, 30), 'Region': 'East', 'City': 'Boston', 'Category': 'Bars', 'Product': 'Bran', 'Quantity': 56, 'UnitPrice': 1.87, 'TotalPrice': 104.72}\n",
      "{'_id': ObjectId('61b0c0876d59357969f0f59a'), 'OrderDate': datetime.datetime(2020, 8, 1, 18, 30), 'Region': 'East', 'City': 'Boston', 'Category': 'Cookies', 'Product': 'Oatmeal Raisin', 'Quantity': 137, 'UnitPrice': 2.84, 'TotalPrice': 389.08}\n",
      "{'_id': ObjectId('61b0c0876d59357969f0f59b'), 'OrderDate': datetime.datetime(2020, 8, 4, 18, 30), 'Region': 'West', 'City': 'Los Angeles', 'Category': 'Cookies', 'Product': 'Chocolate Chip', 'Quantity': 107, 'UnitPrice': 1.87, 'TotalPrice': 200.09}\n",
      "{'_id': ObjectId('61b0c0876d59357969f0f59c'), 'OrderDate': datetime.datetime(2020, 8, 7, 18, 30), 'Region': 'East', 'City': 'New York', 'Category': 'Bars', 'Product': 'Carrot', 'Quantity': 24, 'UnitPrice': 1.77, 'TotalPrice': 42.48}\n",
      "{'_id': ObjectId('61b0c0876d59357969f0f59d'), 'OrderDate': datetime.datetime(2020, 8, 10, 18, 30), 'Region': 'East', 'City': 'New York', 'Category': 'Crackers', 'Product': 'Whole Wheat', 'Quantity': 30, 'UnitPrice': 3.49, 'TotalPrice': 104.7}\n",
      "{'_id': ObjectId('61b0c0876d59357969f0f59e'), 'OrderDate': datetime.datetime(2020, 8, 13, 18, 30), 'Region': 'West', 'City': 'San Diego', 'Category': 'Cookies', 'Product': 'Chocolate Chip', 'Quantity': 70, 'UnitPrice': 1.87, 'TotalPrice': 130.9}\n",
      "{'_id': ObjectId('61b0c0876d59357969f0f59f'), 'OrderDate': datetime.datetime(2020, 8, 16, 18, 30), 'Region': 'East', 'City': 'Boston', 'Category': 'Cookies', 'Product': 'Arrowroot', 'Quantity': 31, 'UnitPrice': 2.18, 'TotalPrice': 67.58}\n",
      "{'_id': ObjectId('61b0c0876d59357969f0f5a0'), 'OrderDate': datetime.datetime(2020, 8, 19, 18, 30), 'Region': 'East', 'City': 'Boston', 'Category': 'Bars', 'Product': 'Carrot', 'Quantity': 109, 'UnitPrice': 1.77, 'TotalPrice': 192.93}\n",
      "{'_id': ObjectId('61b0c0876d59357969f0f5a1'), 'OrderDate': datetime.datetime(2020, 8, 22, 18, 30), 'Region': 'East', 'City': 'Boston', 'Category': 'Crackers', 'Product': 'Whole Wheat', 'Quantity': 21, 'UnitPrice': 3.49, 'TotalPrice': 73.29}\n",
      "{'_id': ObjectId('61b0c0876d59357969f0f5a2'), 'OrderDate': datetime.datetime(2020, 8, 25, 18, 30), 'Region': 'West', 'City': 'Los Angeles', 'Category': 'Cookies', 'Product': 'Chocolate Chip', 'Quantity': 80, 'UnitPrice': 1.87, 'TotalPrice': 149.6}\n",
      "{'_id': ObjectId('61b0c0876d59357969f0f5a3'), 'OrderDate': datetime.datetime(2020, 8, 28, 18, 30), 'Region': 'East', 'City': 'New York', 'Category': 'Bars', 'Product': 'Bran', 'Quantity': 75, 'UnitPrice': 1.87, 'TotalPrice': 140.25}\n",
      "{'_id': ObjectId('61b0c0876d59357969f0f5a4'), 'OrderDate': datetime.datetime(2020, 8, 31, 18, 30), 'Region': 'East', 'City': 'New York', 'Category': 'Cookies', 'Product': 'Oatmeal Raisin', 'Quantity': 74, 'UnitPrice': 2.84, 'TotalPrice': 210.16}\n",
      "{'_id': ObjectId('61b0c0876d59357969f0f5a5'), 'OrderDate': datetime.datetime(2020, 9, 3, 18, 30), 'Region': 'West', 'City': 'San Diego', 'Category': 'Bars', 'Product': 'Carrot', 'Quantity': 45, 'UnitPrice': 1.77, 'TotalPrice': 79.65}\n",
      "{'_id': ObjectId('61b0c0876d59357969f0f5a6'), 'OrderDate': datetime.datetime(2020, 9, 6, 18, 30), 'Region': 'East', 'City': 'Boston', 'Category': 'Cookies', 'Product': 'Arrowroot', 'Quantity': 28, 'UnitPrice': 2.18, 'TotalPrice': 61.04}\n",
      "{'_id': ObjectId('61b0c0876d59357969f0f5a7'), 'OrderDate': datetime.datetime(2020, 9, 9, 18, 30), 'Region': 'East', 'City': 'Boston', 'Category': 'Bars', 'Product': 'Carrot', 'Quantity': 143, 'UnitPrice': 1.77, 'TotalPrice': 253.11}\n",
      "{'_id': ObjectId('61b0c0876d59357969f0f5a8'), 'OrderDate': datetime.datetime(2020, 9, 12, 18, 30), 'Region': 'East', 'City': 'Boston', 'Category': 'Snacks', 'Product': 'Pretzels', 'Quantity': 27, 'UnitPrice': 3.15, 'TotalPrice': 85.05}\n",
      "{'_id': ObjectId('61b0c0876d59357969f0f5a9'), 'OrderDate': datetime.datetime(2020, 9, 15, 18, 30), 'Region': 'West', 'City': 'Los Angeles', 'Category': 'Bars', 'Product': 'Carrot', 'Quantity': 133, 'UnitPrice': 1.77, 'TotalPrice': 235.41}\n",
      "{'_id': ObjectId('61b0c0876d59357969f0f5aa'), 'OrderDate': datetime.datetime(2020, 9, 18, 18, 30), 'Region': 'East', 'City': 'New York', 'Category': 'Cookies', 'Product': 'Arrowroot', 'Quantity': 110, 'UnitPrice': 2.18, 'TotalPrice': 239.8}\n",
      "{'_id': ObjectId('61b0c0876d59357969f0f5ab'), 'OrderDate': datetime.datetime(2020, 9, 21, 18, 30), 'Region': 'East', 'City': 'New York', 'Category': 'Cookies', 'Product': 'Chocolate Chip', 'Quantity': 65, 'UnitPrice': 1.87, 'TotalPrice': 121.55}\n",
      "{'_id': ObjectId('61b0c0876d59357969f0f5ac'), 'OrderDate': datetime.datetime(2020, 9, 24, 18, 30), 'Region': 'West', 'City': 'San Diego', 'Category': 'Bars', 'Product': 'Bran', 'Quantity': 33, 'UnitPrice': 1.87, 'TotalPrice': 61.71}\n",
      "{'_id': ObjectId('61b0c0876d59357969f0f5ad'), 'OrderDate': datetime.datetime(2020, 9, 27, 18, 30), 'Region': 'East', 'City': 'Boston', 'Category': 'Cookies', 'Product': 'Arrowroot', 'Quantity': 81, 'UnitPrice': 2.18, 'TotalPrice': 176.58}\n",
      "{'_id': ObjectId('61b0c0876d59357969f0f5ae'), 'OrderDate': datetime.datetime(2020, 9, 30, 18, 30), 'Region': 'East', 'City': 'Boston', 'Category': 'Bars', 'Product': 'Carrot', 'Quantity': 77, 'UnitPrice': 1.77, 'TotalPrice': 136.29}\n",
      "{'_id': ObjectId('61b0c0876d59357969f0f5af'), 'OrderDate': datetime.datetime(2020, 10, 3, 18, 30), 'Region': 'East', 'City': 'Boston', 'Category': 'Crackers', 'Product': 'Whole Wheat', 'Quantity': 38, 'UnitPrice': 3.49, 'TotalPrice': 132.62}\n",
      "{'_id': ObjectId('61b0c0876d59357969f0f5b0'), 'OrderDate': datetime.datetime(2020, 10, 6, 18, 30), 'Region': 'West', 'City': 'Los Angeles', 'Category': 'Bars', 'Product': 'Carrot', 'Quantity': 40, 'UnitPrice': 1.77, 'TotalPrice': 70.8}\n",
      "{'_id': ObjectId('61b0c0876d59357969f0f5b1'), 'OrderDate': datetime.datetime(2020, 10, 9, 18, 30), 'Region': 'West', 'City': 'Los Angeles', 'Category': 'Snacks', 'Product': 'Potato Chips', 'Quantity': 114, 'UnitPrice': 1.68, 'TotalPrice': 191.52}\n",
      "{'_id': ObjectId('61b0c0876d59357969f0f5b2'), 'OrderDate': datetime.datetime(2020, 10, 12, 18, 30), 'Region': 'East', 'City': 'New York', 'Category': 'Cookies', 'Product': 'Arrowroot', 'Quantity': 224, 'UnitPrice': 2.18, 'TotalPrice': 488.32}\n",
      "{'_id': ObjectId('61b0c0876d59357969f0f5b3'), 'OrderDate': datetime.datetime(2020, 10, 15, 18, 30), 'Region': 'East', 'City': 'New York', 'Category': 'Bars', 'Product': 'Carrot', 'Quantity': 141, 'UnitPrice': 1.77, 'TotalPrice': 249.57}\n",
      "{'_id': ObjectId('61b0c0876d59357969f0f5b4'), 'OrderDate': datetime.datetime(2020, 10, 18, 18, 30), 'Region': 'East', 'City': 'New York', 'Category': 'Crackers', 'Product': 'Whole Wheat', 'Quantity': 32, 'UnitPrice': 3.49, 'TotalPrice': 111.68}\n",
      "{'_id': ObjectId('61b0c0876d59357969f0f5b5'), 'OrderDate': datetime.datetime(2020, 10, 21, 18, 30), 'Region': 'West', 'City': 'San Diego', 'Category': 'Bars', 'Product': 'Carrot', 'Quantity': 20, 'UnitPrice': 1.77, 'TotalPrice': 35.4}\n",
      "{'_id': ObjectId('61b0c0876d59357969f0f5b6'), 'OrderDate': datetime.datetime(2020, 10, 24, 18, 30), 'Region': 'East', 'City': 'Boston', 'Category': 'Cookies', 'Product': 'Arrowroot', 'Quantity': 40, 'UnitPrice': 2.18, 'TotalPrice': 87.2}\n",
      "{'_id': ObjectId('61b0c0876d59357969f0f5b7'), 'OrderDate': datetime.datetime(2020, 10, 27, 18, 30), 'Region': 'East', 'City': 'Boston', 'Category': 'Cookies', 'Product': 'Chocolate Chip', 'Quantity': 49, 'UnitPrice': 1.87, 'TotalPrice': 91.63}\n",
      "{'_id': ObjectId('61b0c0876d59357969f0f5b8'), 'OrderDate': datetime.datetime(2020, 10, 30, 18, 30), 'Region': 'East', 'City': 'Boston', 'Category': 'Crackers', 'Product': 'Whole Wheat', 'Quantity': 46, 'UnitPrice': 3.49, 'TotalPrice': 160.54}\n",
      "{'_id': ObjectId('61b0c0876d59357969f0f5b9'), 'OrderDate': datetime.datetime(2020, 11, 2, 18, 30), 'Region': 'West', 'City': 'Los Angeles', 'Category': 'Bars', 'Product': 'Carrot', 'Quantity': 39, 'UnitPrice': 1.77, 'TotalPrice': 69.03}\n",
      "{'_id': ObjectId('61b0c0876d59357969f0f5ba'), 'OrderDate': datetime.datetime(2020, 11, 5, 18, 30), 'Region': 'West', 'City': 'Los Angeles', 'Category': 'Snacks', 'Product': 'Potato Chips', 'Quantity': 62, 'UnitPrice': 1.68, 'TotalPrice': 104.16}\n",
      "{'_id': ObjectId('61b0c0876d59357969f0f5bb'), 'OrderDate': datetime.datetime(2020, 11, 8, 18, 30), 'Region': 'East', 'City': 'New York', 'Category': 'Bars', 'Product': 'Carrot', 'Quantity': 90, 'UnitPrice': 1.77, 'TotalPrice': 159.3}\n",
      "{'_id': ObjectId('61b0c0876d59357969f0f5bc'), 'OrderDate': datetime.datetime(2020, 11, 11, 18, 30), 'Region': 'West', 'City': 'San Diego', 'Category': 'Cookies', 'Product': 'Arrowroot', 'Quantity': 103, 'UnitPrice': 2.18, 'TotalPrice': 224.54}\n",
      "{'_id': ObjectId('61b0c0876d59357969f0f5bd'), 'OrderDate': datetime.datetime(2020, 11, 14, 18, 30), 'Region': 'West', 'City': 'San Diego', 'Category': 'Cookies', 'Product': 'Oatmeal Raisin', 'Quantity': 32, 'UnitPrice': 2.84, 'TotalPrice': 90.88}\n",
      "{'_id': ObjectId('61b0c0876d59357969f0f5be'), 'OrderDate': datetime.datetime(2020, 11, 17, 18, 30), 'Region': 'East', 'City': 'Boston', 'Category': 'Bars', 'Product': 'Bran', 'Quantity': 66, 'UnitPrice': 1.87, 'TotalPrice': 123.42}\n",
      "{'_id': ObjectId('61b0c0876d59357969f0f5bf'), 'OrderDate': datetime.datetime(2020, 11, 20, 18, 30), 'Region': 'East', 'City': 'Boston', 'Category': 'Cookies', 'Product': 'Oatmeal Raisin', 'Quantity': 97, 'UnitPrice': 2.84, 'TotalPrice': 275.48}\n",
      "{'_id': ObjectId('61b0c0876d59357969f0f5c0'), 'OrderDate': datetime.datetime(2020, 11, 23, 18, 30), 'Region': 'West', 'City': 'Los Angeles', 'Category': 'Bars', 'Product': 'Carrot', 'Quantity': 30, 'UnitPrice': 1.77, 'TotalPrice': 53.1}\n",
      "{'_id': ObjectId('61b0c0876d59357969f0f5c1'), 'OrderDate': datetime.datetime(2020, 11, 26, 18, 30), 'Region': 'West', 'City': 'Los Angeles', 'Category': 'Snacks', 'Product': 'Potato Chips', 'Quantity': 29, 'UnitPrice': 1.68, 'TotalPrice': 48.72}\n",
      "{'_id': ObjectId('61b0c0876d59357969f0f5c2'), 'OrderDate': datetime.datetime(2020, 11, 29, 18, 30), 'Region': 'East', 'City': 'New York', 'Category': 'Bars', 'Product': 'Carrot', 'Quantity': 92, 'UnitPrice': 1.77, 'TotalPrice': 162.84}\n",
      "{'_id': ObjectId('61b0c0876d59357969f0f5c3'), 'OrderDate': datetime.datetime(2020, 12, 2, 18, 30), 'Region': 'West', 'City': 'San Diego', 'Category': 'Cookies', 'Product': 'Arrowroot', 'Quantity': 139, 'UnitPrice': 2.18, 'TotalPrice': 303.02}\n",
      "{'_id': ObjectId('61b0c0876d59357969f0f5c4'), 'OrderDate': datetime.datetime(2020, 12, 5, 18, 30), 'Region': 'West', 'City': 'San Diego', 'Category': 'Cookies', 'Product': 'Oatmeal Raisin', 'Quantity': 29, 'UnitPrice': 2.84, 'TotalPrice': 82.36}\n",
      "{'_id': ObjectId('61b0c0876d59357969f0f5c5'), 'OrderDate': datetime.datetime(2020, 12, 8, 18, 30), 'Region': 'East', 'City': 'Boston', 'Category': 'Bars', 'Product': 'Banana', 'Quantity': 30, 'UnitPrice': 2.27, 'TotalPrice': 68.1}\n",
      "{'_id': ObjectId('61b0c0876d59357969f0f5c6'), 'OrderDate': datetime.datetime(2020, 12, 11, 18, 30), 'Region': 'East', 'City': 'Boston', 'Category': 'Cookies', 'Product': 'Chocolate Chip', 'Quantity': 36, 'UnitPrice': 1.87, 'TotalPrice': 67.32}\n",
      "{'_id': ObjectId('61b0c0876d59357969f0f5c7'), 'OrderDate': datetime.datetime(2020, 12, 14, 18, 30), 'Region': 'East', 'City': 'Boston', 'Category': 'Crackers', 'Product': 'Whole Wheat', 'Quantity': 41, 'UnitPrice': 3.49, 'TotalPrice': 143.09}\n",
      "{'_id': ObjectId('61b0c0876d59357969f0f5c8'), 'OrderDate': datetime.datetime(2020, 12, 17, 18, 30), 'Region': 'West', 'City': 'Los Angeles', 'Category': 'Bars', 'Product': 'Carrot', 'Quantity': 44, 'UnitPrice': 1.77, 'TotalPrice': 77.88}\n",
      "{'_id': ObjectId('61b0c0876d59357969f0f5c9'), 'OrderDate': datetime.datetime(2020, 12, 20, 18, 30), 'Region': 'West', 'City': 'Los Angeles', 'Category': 'Snacks', 'Product': 'Potato Chips', 'Quantity': 29, 'UnitPrice': 1.68, 'TotalPrice': 48.72}\n",
      "{'_id': ObjectId('61b0c0876d59357969f0f5ca'), 'OrderDate': datetime.datetime(2020, 12, 23, 18, 30), 'Region': 'East', 'City': 'New York', 'Category': 'Cookies', 'Product': 'Arrowroot', 'Quantity': 237, 'UnitPrice': 2.18, 'TotalPrice': 516.66}\n",
      "{'_id': ObjectId('61b0c0876d59357969f0f5cb'), 'OrderDate': datetime.datetime(2020, 12, 26, 18, 30), 'Region': 'East', 'City': 'New York', 'Category': 'Cookies', 'Product': 'Chocolate Chip', 'Quantity': 65, 'UnitPrice': 1.87, 'TotalPrice': 121.55}\n",
      "{'_id': ObjectId('61b0c0876d59357969f0f5cc'), 'OrderDate': datetime.datetime(2020, 12, 29, 18, 30), 'Region': 'West', 'City': 'San Diego', 'Category': 'Cookies', 'Product': 'Arrowroot', 'Quantity': 83, 'UnitPrice': 2.18, 'TotalPrice': 180.94}\n",
      "{'_id': ObjectId('61b0c0876d59357969f0f5cd'), 'OrderDate': datetime.datetime(2021, 1, 1, 18, 30), 'Region': 'East', 'City': 'Boston', 'Category': 'Cookies', 'Product': 'Arrowroot', 'Quantity': 32, 'UnitPrice': 2.18, 'TotalPrice': 69.76}\n",
      "{'_id': ObjectId('61b0c0876d59357969f0f5ce'), 'OrderDate': datetime.datetime(2021, 1, 4, 18, 30), 'Region': 'East', 'City': 'Boston', 'Category': 'Bars', 'Product': 'Carrot', 'Quantity': 63, 'UnitPrice': 1.77, 'TotalPrice': 111.51}\n",
      "{'_id': ObjectId('61b0c0876d59357969f0f5cf'), 'OrderDate': datetime.datetime(2021, 1, 7, 18, 30), 'Region': 'East', 'City': 'Boston', 'Category': 'Snacks', 'Product': 'Pretzels', 'Quantity': 29, 'UnitPrice': 3.15, 'TotalPrice': 91.35}\n",
      "{'_id': ObjectId('61b0c0876d59357969f0f5d0'), 'OrderDate': datetime.datetime(2021, 1, 10, 18, 30), 'Region': 'West', 'City': 'Los Angeles', 'Category': 'Bars', 'Product': 'Bran', 'Quantity': 77, 'UnitPrice': 1.87, 'TotalPrice': 143.99}\n",
      "{'_id': ObjectId('61b0c0876d59357969f0f5d1'), 'OrderDate': datetime.datetime(2021, 1, 13, 18, 30), 'Region': 'West', 'City': 'Los Angeles', 'Category': 'Cookies', 'Product': 'Oatmeal Raisin', 'Quantity': 80, 'UnitPrice': 2.84, 'TotalPrice': 227.2}\n",
      "{'_id': ObjectId('61b0c0876d59357969f0f5d2'), 'OrderDate': datetime.datetime(2021, 1, 16, 18, 30), 'Region': 'East', 'City': 'New York', 'Category': 'Bars', 'Product': 'Carrot', 'Quantity': 102, 'UnitPrice': 1.77, 'TotalPrice': 180.54}\n",
      "{'_id': ObjectId('61b0c0876d59357969f0f5d3'), 'OrderDate': datetime.datetime(2021, 1, 19, 18, 30), 'Region': 'East', 'City': 'New York', 'Category': 'Crackers', 'Product': 'Whole Wheat', 'Quantity': 31, 'UnitPrice': 3.49, 'TotalPrice': 108.19}\n",
      "{'_id': ObjectId('61b0c0876d59357969f0f5d4'), 'OrderDate': datetime.datetime(2021, 1, 22, 18, 30), 'Region': 'West', 'City': 'San Diego', 'Category': 'Bars', 'Product': 'Carrot', 'Quantity': 56, 'UnitPrice': 1.77, 'TotalPrice': 99.12}\n",
      "{'_id': ObjectId('61b0c0876d59357969f0f5d5'), 'OrderDate': datetime.datetime(2021, 1, 25, 18, 30), 'Region': 'East', 'City': 'Boston', 'Category': 'Cookies', 'Product': 'Arrowroot', 'Quantity': 52, 'UnitPrice': 2.18, 'TotalPrice': 113.36}\n",
      "{'_id': ObjectId('61b0c0876d59357969f0f5d6'), 'OrderDate': datetime.datetime(2021, 1, 28, 18, 30), 'Region': 'East', 'City': 'Boston', 'Category': 'Bars', 'Product': 'Carrot', 'Quantity': 51, 'UnitPrice': 1.77, 'TotalPrice': 90.27}\n",
      "{'_id': ObjectId('61b0c0876d59357969f0f5d7'), 'OrderDate': datetime.datetime(2021, 1, 31, 18, 30), 'Region': 'East', 'City': 'Boston', 'Category': 'Snacks', 'Product': 'Potato Chips', 'Quantity': 24, 'UnitPrice': 1.68, 'TotalPrice': 40.32}\n",
      "{'_id': ObjectId('61b0c0876d59357969f0f5d8'), 'OrderDate': datetime.datetime(2021, 2, 3, 18, 30), 'Region': 'West', 'City': 'Los Angeles', 'Category': 'Cookies', 'Product': 'Arrowroot', 'Quantity': 58, 'UnitPrice': 2.18, 'TotalPrice': 126.44}\n",
      "{'_id': ObjectId('61b0c0876d59357969f0f5d9'), 'OrderDate': datetime.datetime(2021, 2, 6, 18, 30), 'Region': 'West', 'City': 'Los Angeles', 'Category': 'Cookies', 'Product': 'Chocolate Chip', 'Quantity': 34, 'UnitPrice': 1.87, 'TotalPrice': 63.58}\n",
      "{'_id': ObjectId('61b0c0876d59357969f0f5da'), 'OrderDate': datetime.datetime(2021, 2, 9, 18, 30), 'Region': 'East', 'City': 'New York', 'Category': 'Bars', 'Product': 'Carrot', 'Quantity': 34, 'UnitPrice': 1.77, 'TotalPrice': 60.18}\n",
      "{'_id': ObjectId('61b0c0876d59357969f0f5db'), 'OrderDate': datetime.datetime(2021, 2, 12, 18, 30), 'Region': 'East', 'City': 'New York', 'Category': 'Snacks', 'Product': 'Potato Chips', 'Quantity': 21, 'UnitPrice': 1.68, 'TotalPrice': 35.28}\n",
      "{'_id': ObjectId('61b0c0876d59357969f0f5dc'), 'OrderDate': datetime.datetime(2021, 2, 15, 18, 30), 'Region': 'West', 'City': 'San Diego', 'Category': 'Cookies', 'Product': 'Oatmeal Raisin', 'Quantity': 29, 'UnitPrice': 2.84, 'TotalPrice': 82.36}\n",
      "{'_id': ObjectId('61b0c0876d59357969f0f5dd'), 'OrderDate': datetime.datetime(2021, 2, 18, 18, 30), 'Region': 'East', 'City': 'Boston', 'Category': 'Bars', 'Product': 'Carrot', 'Quantity': 68, 'UnitPrice': 1.77, 'TotalPrice': 120.36}\n",
      "{'_id': ObjectId('61b0c0876d59357969f0f5de'), 'OrderDate': datetime.datetime(2021, 2, 21, 18, 30), 'Region': 'East', 'City': 'Boston', 'Category': 'Snacks', 'Product': 'Pretzels', 'Quantity': 31, 'UnitPrice': 3.15, 'TotalPrice': 97.65}\n",
      "{'_id': ObjectId('61b0c0876d59357969f0f5df'), 'OrderDate': datetime.datetime(2021, 2, 24, 18, 30), 'Region': 'West', 'City': 'Los Angeles', 'Category': 'Cookies', 'Product': 'Arrowroot', 'Quantity': 30, 'UnitPrice': 2.18, 'TotalPrice': 65.4}\n",
      "{'_id': ObjectId('61b0c0876d59357969f0f5e0'), 'OrderDate': datetime.datetime(2021, 2, 27, 18, 30), 'Region': 'West', 'City': 'Los Angeles', 'Category': 'Cookies', 'Product': 'Chocolate Chip', 'Quantity': 232, 'UnitPrice': 1.87, 'TotalPrice': 433.84}\n",
      "{'_id': ObjectId('61b0c0876d59357969f0f5e1'), 'OrderDate': datetime.datetime(2021, 3, 1, 18, 30), 'Region': 'East', 'City': 'New York', 'Category': 'Bars', 'Product': 'Bran', 'Quantity': 68, 'UnitPrice': 1.87, 'TotalPrice': 127.16}\n",
      "{'_id': ObjectId('61b0c0876d59357969f0f5e2'), 'OrderDate': datetime.datetime(2021, 3, 4, 18, 30), 'Region': 'East', 'City': 'New York', 'Category': 'Cookies', 'Product': 'Oatmeal Raisin', 'Quantity': 97, 'UnitPrice': 2.84, 'TotalPrice': 275.48}\n",
      "{'_id': ObjectId('61b0c0876d59357969f0f5e3'), 'OrderDate': datetime.datetime(2021, 3, 7, 18, 30), 'Region': 'West', 'City': 'San Diego', 'Category': 'Bars', 'Product': 'Bran', 'Quantity': 86, 'UnitPrice': 1.87, 'TotalPrice': 160.82}\n",
      "{'_id': ObjectId('61b0c0876d59357969f0f5e4'), 'OrderDate': datetime.datetime(2021, 3, 10, 18, 30), 'Region': 'West', 'City': 'San Diego', 'Category': 'Snacks', 'Product': 'Potato Chips', 'Quantity': 41, 'UnitPrice': 1.68, 'TotalPrice': 68.88}\n",
      "{'_id': ObjectId('61b0c0876d59357969f0f5e5'), 'OrderDate': datetime.datetime(2021, 3, 13, 18, 30), 'Region': 'East', 'City': 'Boston', 'Category': 'Bars', 'Product': 'Carrot', 'Quantity': 93, 'UnitPrice': 1.77, 'TotalPrice': 164.61}\n",
      "{'_id': ObjectId('61b0c0876d59357969f0f5e6'), 'OrderDate': datetime.datetime(2021, 3, 16, 18, 30), 'Region': 'East', 'City': 'Boston', 'Category': 'Snacks', 'Product': 'Potato Chips', 'Quantity': 47, 'UnitPrice': 1.68, 'TotalPrice': 78.96}\n",
      "{'_id': ObjectId('61b0c0876d59357969f0f5e7'), 'OrderDate': datetime.datetime(2021, 3, 19, 18, 30), 'Region': 'West', 'City': 'Los Angeles', 'Category': 'Bars', 'Product': 'Carrot', 'Quantity': 103, 'UnitPrice': 1.77, 'TotalPrice': 182.31}\n",
      "{'_id': ObjectId('61b0c0876d59357969f0f5e8'), 'OrderDate': datetime.datetime(2021, 3, 22, 18, 30), 'Region': 'West', 'City': 'Los Angeles', 'Category': 'Snacks', 'Product': 'Potato Chips', 'Quantity': 33, 'UnitPrice': 1.68, 'TotalPrice': 55.44}\n",
      "{'_id': ObjectId('61b0c0876d59357969f0f5e9'), 'OrderDate': datetime.datetime(2021, 3, 25, 18, 30), 'Region': 'East', 'City': 'New York', 'Category': 'Bars', 'Product': 'Bran', 'Quantity': 57, 'UnitPrice': 1.87, 'TotalPrice': 106.59}\n",
      "{'_id': ObjectId('61b0c0876d59357969f0f5ea'), 'OrderDate': datetime.datetime(2021, 3, 28, 18, 30), 'Region': 'East', 'City': 'New York', 'Category': 'Cookies', 'Product': 'Oatmeal Raisin', 'Quantity': 65, 'UnitPrice': 2.84, 'TotalPrice': 184.6}\n",
      "{'_id': ObjectId('61b0c0876d59357969f0f5eb'), 'OrderDate': datetime.datetime(2021, 3, 31, 18, 30), 'Region': 'West', 'City': 'San Diego', 'Category': 'Bars', 'Product': 'Carrot', 'Quantity': 118, 'UnitPrice': 1.77, 'TotalPrice': 208.86}\n",
      "{'_id': ObjectId('61b0c0876d59357969f0f5ec'), 'OrderDate': datetime.datetime(2021, 4, 3, 18, 30), 'Region': 'East', 'City': 'Boston', 'Category': 'Cookies', 'Product': 'Arrowroot', 'Quantity': 36, 'UnitPrice': 2.18, 'TotalPrice': 78.48}\n",
      "{'_id': ObjectId('61b0c0876d59357969f0f5ed'), 'OrderDate': datetime.datetime(2021, 4, 6, 18, 30), 'Region': 'East', 'City': 'Boston', 'Category': 'Cookies', 'Product': 'Oatmeal Raisin', 'Quantity': 123, 'UnitPrice': 2.84, 'TotalPrice': 349.32}\n",
      "{'_id': ObjectId('61b0c0876d59357969f0f5ee'), 'OrderDate': datetime.datetime(2021, 4, 9, 18, 30), 'Region': 'West', 'City': 'Los Angeles', 'Category': 'Bars', 'Product': 'Carrot', 'Quantity': 90, 'UnitPrice': 1.77, 'TotalPrice': 159.3}\n",
      "{'_id': ObjectId('61b0c0876d59357969f0f5ef'), 'OrderDate': datetime.datetime(2021, 4, 12, 18, 30), 'Region': 'West', 'City': 'Los Angeles', 'Category': 'Crackers', 'Product': 'Whole Wheat', 'Quantity': 21, 'UnitPrice': 3.49, 'TotalPrice': 73.29}\n",
      "{'_id': ObjectId('61b0c0876d59357969f0f5f0'), 'OrderDate': datetime.datetime(2021, 4, 15, 18, 30), 'Region': 'East', 'City': 'New York', 'Category': 'Bars', 'Product': 'Carrot', 'Quantity': 48, 'UnitPrice': 1.77, 'TotalPrice': 84.96}\n",
      "{'_id': ObjectId('61b0c0876d59357969f0f5f1'), 'OrderDate': datetime.datetime(2021, 4, 18, 18, 30), 'Region': 'East', 'City': 'New York', 'Category': 'Snacks', 'Product': 'Potato Chips', 'Quantity': 24, 'UnitPrice': 1.68, 'TotalPrice': 40.32}\n",
      "{'_id': ObjectId('61b0c0876d59357969f0f5f2'), 'OrderDate': datetime.datetime(2021, 4, 21, 18, 30), 'Region': 'West', 'City': 'San Diego', 'Category': 'Cookies', 'Product': 'Chocolate Chip', 'Quantity': 67, 'UnitPrice': 1.87, 'TotalPrice': 125.29}\n",
      "{'_id': ObjectId('61b0c0876d59357969f0f5f3'), 'OrderDate': datetime.datetime(2021, 4, 24, 18, 30), 'Region': 'East', 'City': 'Boston', 'Category': 'Bars', 'Product': 'Bran', 'Quantity': 27, 'UnitPrice': 1.87, 'TotalPrice': 50.49}\n",
      "{'_id': ObjectId('61b0c0876d59357969f0f5f4'), 'OrderDate': datetime.datetime(2021, 4, 27, 18, 30), 'Region': 'East', 'City': 'Boston', 'Category': 'Cookies', 'Product': 'Oatmeal Raisin', 'Quantity': 129, 'UnitPrice': 2.84, 'TotalPrice': 366.36}\n",
      "{'_id': ObjectId('61b0c0876d59357969f0f5f5'), 'OrderDate': datetime.datetime(2021, 4, 30, 18, 30), 'Region': 'West', 'City': 'Los Angeles', 'Category': 'Cookies', 'Product': 'Arrowroot', 'Quantity': 77, 'UnitPrice': 2.18, 'TotalPrice': 167.86}\n",
      "{'_id': ObjectId('61b0c0876d59357969f0f5f6'), 'OrderDate': datetime.datetime(2021, 5, 3, 18, 30), 'Region': 'West', 'City': 'Los Angeles', 'Category': 'Cookies', 'Product': 'Chocolate Chip', 'Quantity': 58, 'UnitPrice': 1.87, 'TotalPrice': 108.46}\n",
      "{'_id': ObjectId('61b0c0876d59357969f0f5f7'), 'OrderDate': datetime.datetime(2021, 5, 6, 18, 30), 'Region': 'East', 'City': 'New York', 'Category': 'Bars', 'Product': 'Bran', 'Quantity': 47, 'UnitPrice': 1.87, 'TotalPrice': 87.89}\n",
      "{'_id': ObjectId('61b0c0876d59357969f0f5f8'), 'OrderDate': datetime.datetime(2021, 5, 9, 18, 30), 'Region': 'East', 'City': 'New York', 'Category': 'Cookies', 'Product': 'Oatmeal Raisin', 'Quantity': 33, 'UnitPrice': 2.84, 'TotalPrice': 93.72}\n",
      "{'_id': ObjectId('61b0c0876d59357969f0f5f9'), 'OrderDate': datetime.datetime(2021, 5, 12, 18, 30), 'Region': 'West', 'City': 'San Diego', 'Category': 'Cookies', 'Product': 'Chocolate Chip', 'Quantity': 82, 'UnitPrice': 1.87, 'TotalPrice': 153.34}\n",
      "{'_id': ObjectId('61b0c0876d59357969f0f5fa'), 'OrderDate': datetime.datetime(2021, 5, 15, 18, 30), 'Region': 'East', 'City': 'Boston', 'Category': 'Bars', 'Product': 'Carrot', 'Quantity': 58, 'UnitPrice': 1.77, 'TotalPrice': 102.66}\n",
      "{'_id': ObjectId('61b0c0876d59357969f0f5fb'), 'OrderDate': datetime.datetime(2021, 5, 18, 18, 30), 'Region': 'East', 'City': 'Boston', 'Category': 'Snacks', 'Product': 'Pretzels', 'Quantity': 30, 'UnitPrice': 3.15, 'TotalPrice': 94.5}\n",
      "{'_id': ObjectId('61b0c0876d59357969f0f5fc'), 'OrderDate': datetime.datetime(2021, 5, 21, 18, 30), 'Region': 'West', 'City': 'Los Angeles', 'Category': 'Cookies', 'Product': 'Chocolate Chip', 'Quantity': 43, 'UnitPrice': 1.87, 'TotalPrice': 80.41}\n",
      "{'_id': ObjectId('61b0c0876d59357969f0f5fd'), 'OrderDate': datetime.datetime(2021, 5, 24, 18, 30), 'Region': 'East', 'City': 'New York', 'Category': 'Bars', 'Product': 'Carrot', 'Quantity': 84, 'UnitPrice': 1.77, 'TotalPrice': 148.68}\n",
      "{'_id': ObjectId('61b0c0876d59357969f0f5fe'), 'OrderDate': datetime.datetime(2021, 5, 27, 18, 30), 'Region': 'West', 'City': 'San Diego', 'Category': 'Cookies', 'Product': 'Arrowroot', 'Quantity': 36, 'UnitPrice': 2.18, 'TotalPrice': 78.48}\n",
      "{'_id': ObjectId('61b0c0876d59357969f0f5ff'), 'OrderDate': datetime.datetime(2021, 5, 30, 18, 30), 'Region': 'West', 'City': 'San Diego', 'Category': 'Cookies', 'Product': 'Oatmeal Raisin', 'Quantity': 44, 'UnitPrice': 2.84, 'TotalPrice': 124.96}\n",
      "{'_id': ObjectId('61b0c0876d59357969f0f600'), 'OrderDate': datetime.datetime(2021, 6, 2, 18, 30), 'Region': 'East', 'City': 'Boston', 'Category': 'Bars', 'Product': 'Bran', 'Quantity': 27, 'UnitPrice': 1.87, 'TotalPrice': 50.49}\n",
      "{'_id': ObjectId('61b0c0876d59357969f0f601'), 'OrderDate': datetime.datetime(2021, 6, 5, 18, 30), 'Region': 'East', 'City': 'Boston', 'Category': 'Cookies', 'Product': 'Oatmeal Raisin', 'Quantity': 120, 'UnitPrice': 2.84, 'TotalPrice': 340.8}\n",
      "{'_id': ObjectId('61b0c0876d59357969f0f602'), 'OrderDate': datetime.datetime(2021, 6, 8, 18, 30), 'Region': 'East', 'City': 'Boston', 'Category': 'Crackers', 'Product': 'Whole Wheat', 'Quantity': 26, 'UnitPrice': 3.49, 'TotalPrice': 90.74}\n",
      "{'_id': ObjectId('61b0c0876d59357969f0f603'), 'OrderDate': datetime.datetime(2021, 6, 11, 18, 30), 'Region': 'West', 'City': 'Los Angeles', 'Category': 'Bars', 'Product': 'Carrot', 'Quantity': 73, 'UnitPrice': 1.77, 'TotalPrice': 129.21}\n",
      "{'_id': ObjectId('61b0c0876d59357969f0f604'), 'OrderDate': datetime.datetime(2021, 6, 14, 18, 30), 'Region': 'East', 'City': 'New York', 'Category': 'Bars', 'Product': 'Bran', 'Quantity': 38, 'UnitPrice': 1.87, 'TotalPrice': 71.06}\n",
      "{'_id': ObjectId('61b0c0876d59357969f0f605'), 'OrderDate': datetime.datetime(2021, 6, 17, 18, 30), 'Region': 'East', 'City': 'New York', 'Category': 'Cookies', 'Product': 'Oatmeal Raisin', 'Quantity': 40, 'UnitPrice': 2.84, 'TotalPrice': 113.6}\n",
      "{'_id': ObjectId('61b0c0876d59357969f0f606'), 'OrderDate': datetime.datetime(2021, 6, 20, 18, 30), 'Region': 'West', 'City': 'San Diego', 'Category': 'Bars', 'Product': 'Carrot', 'Quantity': 41, 'UnitPrice': 1.77, 'TotalPrice': 72.57}\n",
      "{'_id': ObjectId('61b0c0876d59357969f0f607'), 'OrderDate': datetime.datetime(2021, 6, 23, 18, 30), 'Region': 'East', 'City': 'Boston', 'Category': 'Bars', 'Product': 'Banana', 'Quantity': 27, 'UnitPrice': 2.27, 'TotalPrice': 61.29}\n",
      "{'_id': ObjectId('61b0c0876d59357969f0f608'), 'OrderDate': datetime.datetime(2021, 6, 26, 18, 30), 'Region': 'East', 'City': 'Boston', 'Category': 'Cookies', 'Product': 'Chocolate Chip', 'Quantity': 38, 'UnitPrice': 1.87, 'TotalPrice': 71.06}\n",
      "{'_id': ObjectId('61b0c0876d59357969f0f609'), 'OrderDate': datetime.datetime(2021, 6, 29, 18, 30), 'Region': 'East', 'City': 'Boston', 'Category': 'Crackers', 'Product': 'Whole Wheat', 'Quantity': 34, 'UnitPrice': 3.49, 'TotalPrice': 118.66}\n",
      "{'_id': ObjectId('61b0c0876d59357969f0f60a'), 'OrderDate': datetime.datetime(2021, 7, 2, 18, 30), 'Region': 'West', 'City': 'Los Angeles', 'Category': 'Bars', 'Product': 'Bran', 'Quantity': 65, 'UnitPrice': 1.87, 'TotalPrice': 121.55}\n",
      "{'_id': ObjectId('61b0c0876d59357969f0f60b'), 'OrderDate': datetime.datetime(2021, 7, 5, 18, 30), 'Region': 'West', 'City': 'Los Angeles', 'Category': 'Cookies', 'Product': 'Oatmeal Raisin', 'Quantity': 60, 'UnitPrice': 2.84, 'TotalPrice': 170.4}\n",
      "{'_id': ObjectId('61b0c0876d59357969f0f60c'), 'OrderDate': datetime.datetime(2021, 7, 8, 18, 30), 'Region': 'East', 'City': 'New York', 'Category': 'Cookies', 'Product': 'Arrowroot', 'Quantity': 37, 'UnitPrice': 2.18, 'TotalPrice': 80.66}\n",
      "{'_id': ObjectId('61b0c0876d59357969f0f60d'), 'OrderDate': datetime.datetime(2021, 7, 11, 18, 30), 'Region': 'East', 'City': 'New York', 'Category': 'Cookies', 'Product': 'Chocolate Chip', 'Quantity': 40, 'UnitPrice': 1.87, 'TotalPrice': 74.8}\n",
      "{'_id': ObjectId('61b0c0876d59357969f0f60e'), 'OrderDate': datetime.datetime(2021, 7, 14, 18, 30), 'Region': 'West', 'City': 'San Diego', 'Category': 'Bars', 'Product': 'Bran', 'Quantity': 26, 'UnitPrice': 1.87, 'TotalPrice': 48.62}\n",
      "{'_id': ObjectId('61b0c0876d59357969f0f60f'), 'OrderDate': datetime.datetime(2021, 7, 17, 18, 30), 'Region': 'East', 'City': 'Boston', 'Category': 'Bars', 'Product': 'Banana', 'Quantity': 22, 'UnitPrice': 2.27, 'TotalPrice': 49.94}\n",
      "{'_id': ObjectId('61b0c0876d59357969f0f610'), 'OrderDate': datetime.datetime(2021, 7, 20, 18, 30), 'Region': 'East', 'City': 'Boston', 'Category': 'Cookies', 'Product': 'Chocolate Chip', 'Quantity': 32, 'UnitPrice': 1.87, 'TotalPrice': 59.84}\n",
      "{'_id': ObjectId('61b0c0876d59357969f0f611'), 'OrderDate': datetime.datetime(2021, 7, 23, 18, 30), 'Region': 'East', 'City': 'Boston', 'Category': 'Crackers', 'Product': 'Whole Wheat', 'Quantity': 23, 'UnitPrice': 3.49, 'TotalPrice': 80.27}\n",
      "{'_id': ObjectId('61b0c0876d59357969f0f612'), 'OrderDate': datetime.datetime(2021, 7, 26, 18, 30), 'Region': 'West', 'City': 'Los Angeles', 'Category': 'Cookies', 'Product': 'Arrowroot', 'Quantity': 20, 'UnitPrice': 2.18, 'TotalPrice': 43.6}\n",
      "{'_id': ObjectId('61b0c0876d59357969f0f613'), 'OrderDate': datetime.datetime(2021, 7, 29, 18, 30), 'Region': 'West', 'City': 'Los Angeles', 'Category': 'Cookies', 'Product': 'Chocolate Chip', 'Quantity': 64, 'UnitPrice': 1.87, 'TotalPrice': 119.68}\n",
      "{'_id': ObjectId('61b0c0876d59357969f0f614'), 'OrderDate': datetime.datetime(2021, 8, 1, 18, 30), 'Region': 'East', 'City': 'New York', 'Category': 'Bars', 'Product': 'Carrot', 'Quantity': 71, 'UnitPrice': 1.77, 'TotalPrice': 125.67}\n",
      "{'_id': ObjectId('61b0c0876d59357969f0f615'), 'OrderDate': datetime.datetime(2021, 8, 4, 18, 30), 'Region': 'West', 'City': 'San Diego', 'Category': 'Cookies', 'Product': 'Arrowroot', 'Quantity': 90, 'UnitPrice': 2.18, 'TotalPrice': 196.2}\n",
      "{'_id': ObjectId('61b0c0876d59357969f0f616'), 'OrderDate': datetime.datetime(2021, 8, 7, 18, 30), 'Region': 'West', 'City': 'San Diego', 'Category': 'Cookies', 'Product': 'Oatmeal Raisin', 'Quantity': 38, 'UnitPrice': 2.84, 'TotalPrice': 107.92}\n",
      "{'_id': ObjectId('61b0c0876d59357969f0f617'), 'OrderDate': datetime.datetime(2021, 8, 10, 18, 30), 'Region': 'East', 'City': 'Boston', 'Category': 'Bars', 'Product': 'Carrot', 'Quantity': 55, 'UnitPrice': 1.77, 'TotalPrice': 97.35}\n",
      "{'_id': ObjectId('61b0c0876d59357969f0f618'), 'OrderDate': datetime.datetime(2021, 8, 13, 18, 30), 'Region': 'East', 'City': 'Boston', 'Category': 'Snacks', 'Product': 'Pretzels', 'Quantity': 22, 'UnitPrice': 3.15, 'TotalPrice': 69.3}\n",
      "{'_id': ObjectId('61b0c0876d59357969f0f619'), 'OrderDate': datetime.datetime(2021, 8, 16, 18, 30), 'Region': 'West', 'City': 'Los Angeles', 'Category': 'Bars', 'Product': 'Carrot', 'Quantity': 34, 'UnitPrice': 1.77, 'TotalPrice': 60.18}\n",
      "{'_id': ObjectId('61b0c0876d59357969f0f61a'), 'OrderDate': datetime.datetime(2021, 8, 19, 18, 30), 'Region': 'East', 'City': 'New York', 'Category': 'Bars', 'Product': 'Bran', 'Quantity': 39, 'UnitPrice': 1.87, 'TotalPrice': 72.93}\n",
      "{'_id': ObjectId('61b0c0876d59357969f0f61b'), 'OrderDate': datetime.datetime(2021, 8, 22, 18, 30), 'Region': 'East', 'City': 'New York', 'Category': 'Cookies', 'Product': 'Oatmeal Raisin', 'Quantity': 41, 'UnitPrice': 2.84, 'TotalPrice': 116.44}\n",
      "{'_id': ObjectId('61b0c0876d59357969f0f61c'), 'OrderDate': datetime.datetime(2021, 8, 25, 18, 30), 'Region': 'West', 'City': 'San Diego', 'Category': 'Bars', 'Product': 'Carrot', 'Quantity': 41, 'UnitPrice': 1.77, 'TotalPrice': 72.57}\n",
      "{'_id': ObjectId('61b0c0876d59357969f0f61d'), 'OrderDate': datetime.datetime(2021, 8, 28, 18, 30), 'Region': 'East', 'City': 'Boston', 'Category': 'Cookies', 'Product': 'Arrowroot', 'Quantity': 136, 'UnitPrice': 2.18, 'TotalPrice': 296.48}\n",
      "{'_id': ObjectId('61b0c0876d59357969f0f61e'), 'OrderDate': datetime.datetime(2021, 8, 31, 18, 30), 'Region': 'East', 'City': 'Boston', 'Category': 'Bars', 'Product': 'Carrot', 'Quantity': 25, 'UnitPrice': 1.77, 'TotalPrice': 44.25}\n",
      "{'_id': ObjectId('61b0c0876d59357969f0f61f'), 'OrderDate': datetime.datetime(2021, 9, 3, 18, 30), 'Region': 'East', 'City': 'Boston', 'Category': 'Snacks', 'Product': 'Pretzels', 'Quantity': 26, 'UnitPrice': 3.15, 'TotalPrice': 81.9}\n",
      "{'_id': ObjectId('61b0c0876d59357969f0f620'), 'OrderDate': datetime.datetime(2021, 9, 6, 18, 30), 'Region': 'West', 'City': 'Los Angeles', 'Category': 'Bars', 'Product': 'Bran', 'Quantity': 50, 'UnitPrice': 1.87, 'TotalPrice': 93.5}\n",
      "{'_id': ObjectId('61b0c0876d59357969f0f621'), 'OrderDate': datetime.datetime(2021, 9, 9, 18, 30), 'Region': 'West', 'City': 'Los Angeles', 'Category': 'Cookies', 'Product': 'Oatmeal Raisin', 'Quantity': 79, 'UnitPrice': 2.84, 'TotalPrice': 224.36}\n",
      "{'_id': ObjectId('61b0c0876d59357969f0f622'), 'OrderDate': datetime.datetime(2021, 9, 12, 18, 30), 'Region': 'East', 'City': 'New York', 'Category': 'Bars', 'Product': 'Carrot', 'Quantity': 30, 'UnitPrice': 1.77, 'TotalPrice': 53.1}\n",
      "{'_id': ObjectId('61b0c0876d59357969f0f623'), 'OrderDate': datetime.datetime(2021, 9, 15, 18, 30), 'Region': 'East', 'City': 'New York', 'Category': 'Snacks', 'Product': 'Potato Chips', 'Quantity': 20, 'UnitPrice': 1.68, 'TotalPrice': 33.6}\n",
      "{'_id': ObjectId('61b0c0876d59357969f0f624'), 'OrderDate': datetime.datetime(2021, 9, 18, 18, 30), 'Region': 'West', 'City': 'San Diego', 'Category': 'Bars', 'Product': 'Carrot', 'Quantity': 49, 'UnitPrice': 1.77, 'TotalPrice': 86.73}\n",
      "{'_id': ObjectId('61b0c0876d59357969f0f625'), 'OrderDate': datetime.datetime(2021, 9, 21, 18, 30), 'Region': 'East', 'City': 'Boston', 'Category': 'Cookies', 'Product': 'Arrowroot', 'Quantity': 40, 'UnitPrice': 2.18, 'TotalPrice': 87.2}\n",
      "{'_id': ObjectId('61b0c0876d59357969f0f626'), 'OrderDate': datetime.datetime(2021, 9, 24, 18, 30), 'Region': 'East', 'City': 'Boston', 'Category': 'Bars', 'Product': 'Carrot', 'Quantity': 31, 'UnitPrice': 1.77, 'TotalPrice': 54.87}\n",
      "{'_id': ObjectId('61b0c0876d59357969f0f627'), 'OrderDate': datetime.datetime(2021, 9, 27, 18, 30), 'Region': 'East', 'City': 'Boston', 'Category': 'Snacks', 'Product': 'Pretzels', 'Quantity': 21, 'UnitPrice': 3.15, 'TotalPrice': 66.15}\n",
      "{'_id': ObjectId('61b0c0876d59357969f0f628'), 'OrderDate': datetime.datetime(2021, 9, 30, 18, 30), 'Region': 'West', 'City': 'Los Angeles', 'Category': 'Bars', 'Product': 'Bran', 'Quantity': 43, 'UnitPrice': 1.87, 'TotalPrice': 80.41}\n",
      "{'_id': ObjectId('61b0c0876d59357969f0f629'), 'OrderDate': datetime.datetime(2021, 10, 3, 18, 30), 'Region': 'West', 'City': 'Los Angeles', 'Category': 'Cookies', 'Product': 'Oatmeal Raisin', 'Quantity': 47, 'UnitPrice': 2.84, 'TotalPrice': 133.48}\n",
      "{'_id': ObjectId('61b0c0876d59357969f0f62a'), 'OrderDate': datetime.datetime(2021, 10, 6, 18, 30), 'Region': 'East', 'City': 'New York', 'Category': 'Cookies', 'Product': 'Arrowroot', 'Quantity': 175, 'UnitPrice': 2.18, 'TotalPrice': 381.5}\n",
      "{'_id': ObjectId('61b0c0876d59357969f0f62b'), 'OrderDate': datetime.datetime(2021, 10, 9, 18, 30), 'Region': 'East', 'City': 'New York', 'Category': 'Cookies', 'Product': 'Chocolate Chip', 'Quantity': 23, 'UnitPrice': 1.87, 'TotalPrice': 43.01}\n",
      "{'_id': ObjectId('61b0c0876d59357969f0f62c'), 'OrderDate': datetime.datetime(2021, 10, 12, 18, 30), 'Region': 'West', 'City': 'San Diego', 'Category': 'Bars', 'Product': 'Carrot', 'Quantity': 40, 'UnitPrice': 1.77, 'TotalPrice': 70.8}\n",
      "{'_id': ObjectId('61b0c0876d59357969f0f62d'), 'OrderDate': datetime.datetime(2021, 10, 15, 18, 30), 'Region': 'East', 'City': 'Boston', 'Category': 'Cookies', 'Product': 'Arrowroot', 'Quantity': 87, 'UnitPrice': 2.18, 'TotalPrice': 189.66}\n",
      "{'_id': ObjectId('61b0c0876d59357969f0f62e'), 'OrderDate': datetime.datetime(2021, 10, 18, 18, 30), 'Region': 'East', 'City': 'Boston', 'Category': 'Bars', 'Product': 'Carrot', 'Quantity': 43, 'UnitPrice': 1.77, 'TotalPrice': 76.11}\n",
      "{'_id': ObjectId('61b0c0876d59357969f0f62f'), 'OrderDate': datetime.datetime(2021, 10, 21, 18, 30), 'Region': 'East', 'City': 'Boston', 'Category': 'Crackers', 'Product': 'Whole Wheat', 'Quantity': 30, 'UnitPrice': 3.49, 'TotalPrice': 104.7}\n",
      "{'_id': ObjectId('61b0c0876d59357969f0f630'), 'OrderDate': datetime.datetime(2021, 10, 24, 18, 30), 'Region': 'West', 'City': 'Los Angeles', 'Category': 'Bars', 'Product': 'Carrot', 'Quantity': 35, 'UnitPrice': 1.77, 'TotalPrice': 61.95}\n",
      "{'_id': ObjectId('61b0c0876d59357969f0f631'), 'OrderDate': datetime.datetime(2021, 10, 27, 18, 30), 'Region': 'East', 'City': 'New York', 'Category': 'Bars', 'Product': 'Bran', 'Quantity': 57, 'UnitPrice': 1.87, 'TotalPrice': 106.59}\n",
      "{'_id': ObjectId('61b0c0876d59357969f0f632'), 'OrderDate': datetime.datetime(2021, 10, 30, 18, 30), 'Region': 'East', 'City': 'New York', 'Category': 'Snacks', 'Product': 'Potato Chips', 'Quantity': 25, 'UnitPrice': 1.68, 'TotalPrice': 42.0}\n",
      "{'_id': ObjectId('61b0c0876d59357969f0f633'), 'OrderDate': datetime.datetime(2021, 11, 2, 18, 30), 'Region': 'West', 'City': 'San Diego', 'Category': 'Cookies', 'Product': 'Chocolate Chip', 'Quantity': 24, 'UnitPrice': 1.87, 'TotalPrice': 44.88}\n",
      "{'_id': ObjectId('61b0c0876d59357969f0f634'), 'OrderDate': datetime.datetime(2021, 11, 5, 18, 30), 'Region': 'East', 'City': 'Boston', 'Category': 'Bars', 'Product': 'Bran', 'Quantity': 83, 'UnitPrice': 1.87, 'TotalPrice': 155.21}\n",
      "{'_id': ObjectId('61b0c0876d59357969f0f635'), 'OrderDate': datetime.datetime(2021, 11, 8, 18, 30), 'Region': 'East', 'City': 'Boston', 'Category': 'Cookies', 'Product': 'Oatmeal Raisin', 'Quantity': 124, 'UnitPrice': 2.84, 'TotalPrice': 352.16}\n",
      "{'_id': ObjectId('61b0c0876d59357969f0f636'), 'OrderDate': datetime.datetime(2021, 11, 11, 18, 30), 'Region': 'West', 'City': 'Los Angeles', 'Category': 'Bars', 'Product': 'Carrot', 'Quantity': 137, 'UnitPrice': 1.77, 'TotalPrice': 242.49}\n",
      "{'_id': ObjectId('61b0c0876d59357969f0f637'), 'OrderDate': datetime.datetime(2021, 11, 14, 18, 30), 'Region': 'East', 'City': 'New York', 'Category': 'Cookies', 'Product': 'Arrowroot', 'Quantity': 146, 'UnitPrice': 2.18, 'TotalPrice': 318.28}\n",
      "{'_id': ObjectId('61b0c0876d59357969f0f638'), 'OrderDate': datetime.datetime(2021, 11, 17, 18, 30), 'Region': 'East', 'City': 'New York', 'Category': 'Cookies', 'Product': 'Chocolate Chip', 'Quantity': 34, 'UnitPrice': 1.87, 'TotalPrice': 63.58}\n",
      "{'_id': ObjectId('61b0c0876d59357969f0f639'), 'OrderDate': datetime.datetime(2021, 11, 20, 18, 30), 'Region': 'West', 'City': 'San Diego', 'Category': 'Bars', 'Product': 'Carrot', 'Quantity': 20, 'UnitPrice': 1.77, 'TotalPrice': 35.4}\n",
      "{'_id': ObjectId('61b0c0876d59357969f0f63a'), 'OrderDate': datetime.datetime(2021, 11, 23, 18, 30), 'Region': 'East', 'City': 'Boston', 'Category': 'Cookies', 'Product': 'Arrowroot', 'Quantity': 139, 'UnitPrice': 2.18, 'TotalPrice': 303.02}\n",
      "{'_id': ObjectId('61b0c0876d59357969f0f63b'), 'OrderDate': datetime.datetime(2021, 11, 26, 18, 30), 'Region': 'East', 'City': 'Boston', 'Category': 'Cookies', 'Product': 'Chocolate Chip', 'Quantity': 211, 'UnitPrice': 1.87, 'TotalPrice': 394.57}\n",
      "{'_id': ObjectId('61b0c0876d59357969f0f63c'), 'OrderDate': datetime.datetime(2021, 11, 29, 18, 30), 'Region': 'East', 'City': 'Boston', 'Category': 'Crackers', 'Product': 'Whole Wheat', 'Quantity': 20, 'UnitPrice': 3.49, 'TotalPrice': 69.8}\n",
      "{'_id': ObjectId('61b0c0876d59357969f0f63d'), 'OrderDate': datetime.datetime(2021, 12, 2, 18, 30), 'Region': 'West', 'City': 'Los Angeles', 'Category': 'Bars', 'Product': 'Bran', 'Quantity': 42, 'UnitPrice': 1.87, 'TotalPrice': 78.54}\n",
      "{'_id': ObjectId('61b0c0876d59357969f0f63e'), 'OrderDate': datetime.datetime(2021, 12, 5, 18, 30), 'Region': 'West', 'City': 'Los Angeles', 'Category': 'Cookies', 'Product': 'Oatmeal Raisin', 'Quantity': 100, 'UnitPrice': 2.84, 'TotalPrice': 284.0}\n",
      "{'_id': ObjectId('61b0c0876d59357969f0f63f'), 'OrderDate': datetime.datetime(2021, 12, 8, 18, 30), 'Region': 'East', 'City': 'New York', 'Category': 'Bars', 'Product': 'Carrot', 'Quantity': 38, 'UnitPrice': 1.77, 'TotalPrice': 67.26}\n",
      "{'_id': ObjectId('61b0c0876d59357969f0f640'), 'OrderDate': datetime.datetime(2021, 12, 11, 18, 30), 'Region': 'East', 'City': 'New York', 'Category': 'Crackers', 'Product': 'Whole Wheat', 'Quantity': 25, 'UnitPrice': 3.49, 'TotalPrice': 87.25}\n",
      "{'_id': ObjectId('61b0c0876d59357969f0f641'), 'OrderDate': datetime.datetime(2021, 12, 14, 18, 30), 'Region': 'West', 'City': 'San Diego', 'Category': 'Cookies', 'Product': 'Chocolate Chip', 'Quantity': 96, 'UnitPrice': 1.87, 'TotalPrice': 179.52}\n",
      "{'_id': ObjectId('61b0c0876d59357969f0f642'), 'OrderDate': datetime.datetime(2021, 12, 17, 18, 30), 'Region': 'East', 'City': 'Boston', 'Category': 'Cookies', 'Product': 'Arrowroot', 'Quantity': 34, 'UnitPrice': 2.18, 'TotalPrice': 74.12}\n",
      "{'_id': ObjectId('61b0c0876d59357969f0f643'), 'OrderDate': datetime.datetime(2021, 12, 20, 18, 30), 'Region': 'East', 'City': 'Boston', 'Category': 'Cookies', 'Product': 'Chocolate Chip', 'Quantity': 245, 'UnitPrice': 1.87, 'TotalPrice': 458.15}\n",
      "{'_id': ObjectId('61b0c0876d59357969f0f644'), 'OrderDate': datetime.datetime(2021, 12, 23, 18, 30), 'Region': 'East', 'City': 'Boston', 'Category': 'Crackers', 'Product': 'Whole Wheat', 'Quantity': 30, 'UnitPrice': 3.49, 'TotalPrice': 104.7}\n",
      "{'_id': ObjectId('61b0c0876d59357969f0f645'), 'OrderDate': datetime.datetime(2021, 12, 26, 18, 30), 'Region': 'West', 'City': 'Los Angeles', 'Category': 'Bars', 'Product': 'Bran', 'Quantity': 30, 'UnitPrice': 1.87, 'TotalPrice': 56.1}\n",
      "{'_id': ObjectId('61b0c0876d59357969f0f646'), 'OrderDate': datetime.datetime(2021, 12, 29, 18, 30), 'Region': 'West', 'City': 'Los Angeles', 'Category': 'Cookies', 'Product': 'Oatmeal Raisin', 'Quantity': 44, 'UnitPrice': 2.84, 'TotalPrice': 124.96}\n"
     ]
    }
   ],
   "source": [
    "#getting all the documents\n",
    "\n",
    "for i in db.food.find():\n",
    "    print(i)"
   ]
  },
  {
   "cell_type": "code",
   "execution_count": 8,
   "id": "06de2049",
   "metadata": {},
   "outputs": [
    {
     "name": "stdout",
     "output_type": "stream",
     "text": [
      "{'_id': 'null', 'totalsales': 33325.58}\n"
     ]
    }
   ],
   "source": [
    "#total revenue for both the years\n",
    "\n",
    "r=db.food.aggregate([{\"$group\":{\"_id\":\"null\",\"totalsales\":{\"$sum\":\"$TotalPrice\"}}}])\n",
    "\n",
    "for i in r:\n",
    "    print(i)"
   ]
  },
  {
   "cell_type": "code",
   "execution_count": 9,
   "id": "2fe395bc",
   "metadata": {},
   "outputs": [
    {
     "name": "stdout",
     "output_type": "stream",
     "text": [
      "{'_id': 'null', 'avgsales': 136.58024590163936}\n"
     ]
    }
   ],
   "source": [
    "# average revenue\n",
    "\n",
    "\n",
    "r=db.food.aggregate([{\"$group\":{\"_id\":\"null\",\"avgsales\":{\"$avg\":\"$TotalPrice\"}}}])\n",
    "\n",
    "for i in r:\n",
    "    print(i)"
   ]
  },
  {
   "cell_type": "code",
   "execution_count": 10,
   "id": "5869d37d",
   "metadata": {},
   "outputs": [
    {
     "name": "stdout",
     "output_type": "stream",
     "text": [
      "{'_id': 'Snacks', 'Total Revenue': 2237.67}\n",
      "{'_id': 'Bars', 'Total Revenue': 10535.57}\n",
      "{'_id': 'Crackers', 'Total Revenue': 3339.93}\n",
      "{'_id': 'Cookies', 'Total Revenue': 17212.41}\n"
     ]
    }
   ],
   "source": [
    "#Total revenue generated for the categories \"Snacks\",\"Bars\",\"Crackers\",\"Cookies\"  in both years\n",
    "\n",
    "r=[\"Snacks\",\"Bars\",\"Crackers\",\"Cookies\"]\n",
    "for i in r:\n",
    "    p=db.food.aggregate([{\"$match\":{\"Category\":i}},{\"$group\":{\"_id\":i,\"Total Revenue\":{\"$sum\":\"$TotalPrice\"}}}])\n",
    "    for j in p:\n",
    "        print(j)"
   ]
  },
  {
   "cell_type": "code",
   "execution_count": 11,
   "id": "db458a24",
   "metadata": {},
   "outputs": [
    {
     "name": "stdout",
     "output_type": "stream",
     "text": [
      "{'_id': 'Arrowroot', 'Total Revenue': 5330.1}\n",
      "{'_id': 'Banana', 'Total Revenue': 179.32999999999998}\n",
      "{'_id': 'Bran', 'Total Revenue': 2945.25}\n",
      "{'_id': 'Carrot', 'Total Revenue': 7410.99}\n",
      "{'_id': 'Chocolate Chip', 'Total Revenue': 4572.15}\n",
      "{'_id': 'Oatmeal Raisin', 'Total Revenue': 7310.16}\n",
      "{'_id': 'Potato Chips', 'Total Revenue': 1651.77}\n",
      "{'_id': 'Pretzels', 'Total Revenue': 585.9}\n",
      "{'_id': 'Whole Wheat', 'Total Revenue': 3339.93}\n"
     ]
    }
   ],
   "source": [
    "#Total revenue generated for products in both years\n",
    "\n",
    "p=db.food.distinct(\"Product\")\n",
    "for i in p:\n",
    "    b=db.food.aggregate([{\"$match\":{\"Product\":i}},{\"$group\":{\"_id\":i,\"Total Revenue\":{\"$sum\":\"$TotalPrice\"}}}])\n",
    "    for j in b:\n",
    "        print(j)"
   ]
  },
  {
   "cell_type": "code",
   "execution_count": 12,
   "id": "141f214f",
   "metadata": {},
   "outputs": [
    {
     "name": "stdout",
     "output_type": "stream",
     "text": [
      "{'_id': 'East', 'Total Revenue': 21524.36}\n",
      "{'_id': 'West', 'Total Revenue': 11801.22}\n"
     ]
    }
   ],
   "source": [
    "#Total revenue generated region wise in both years\n",
    "\n",
    "r=db.food.distinct(\"Region\")\n",
    "for i in r:\n",
    "    b=db.food.aggregate([{\"$match\":{\"Region\":i}},{\"$group\":{\"_id\":i,\"Total Revenue\":{\"$sum\":\"$TotalPrice\"}}}])\n",
    "    for j in b:\n",
    "        print(j)"
   ]
  },
  {
   "cell_type": "code",
   "execution_count": 13,
   "id": "13e4e741",
   "metadata": {},
   "outputs": [
    {
     "name": "stdout",
     "output_type": "stream",
     "text": [
      "{'_id': 'East', 'maximum Revenue': 548.12}\n",
      "{'_id': 'West', 'maximum Revenue': 817.92}\n"
     ]
    }
   ],
   "source": [
    "# Max revenue generated on east and west \n",
    "\n",
    "r=db.food.distinct(\"Region\")\n",
    "for i in r:\n",
    "    s = db.food.aggregate([{\"$match\":{\"Region\":i}},{\"$group\":{\"_id\":i,\"maximum Revenue\":{\"$max\":\"$TotalPrice\"}}}])\n",
    "    for j in s:\n",
    "        print(j)"
   ]
  },
  {
   "cell_type": "code",
   "execution_count": 14,
   "id": "62b2b605",
   "metadata": {},
   "outputs": [
    {
     "name": "stdout",
     "output_type": "stream",
     "text": [
      "{'_id': 'East', 'minimum Revenue': 33.6}\n",
      "{'_id': 'West', 'minimum Revenue': 35.4}\n"
     ]
    }
   ],
   "source": [
    "# Min revenue generated on east and west \n",
    "\n",
    "r=db.food.distinct(\"Region\")\n",
    "for i in r:\n",
    "    s = db.food.aggregate([{\"$match\":{\"Region\":i}},{\"$group\":{\"_id\":i,\"minimum Revenue\":{\"$min\":\"$TotalPrice\"}}}])\n",
    "    for j in s:\n",
    "        print(j)"
   ]
  },
  {
   "cell_type": "code",
   "execution_count": 15,
   "id": "c21918fa",
   "metadata": {},
   "outputs": [
    {
     "name": "stdout",
     "output_type": "stream",
     "text": [
      "{'_id': 'Boston', 'Totalsales': 13265.53}\n",
      "{'_id': 'Los Angeles', 'Totalsales': 7687.32}\n",
      "{'_id': 'New York', 'Totalsales': 8258.83}\n",
      "{'_id': 'San Diego', 'Totalsales': 4113.9}\n"
     ]
    }
   ],
   "source": [
    "#  city wise sales\n",
    "\n",
    "c=db.food.distinct(\"City\")\n",
    "for i in c:\n",
    "    \n",
    "    b=db.food.aggregate([{\"$match\":{\"City\":i}},{\"$group\":{\"_id\":i,\"Totalsales\":{\"$sum\":\"$TotalPrice\"}}}])\n",
    "    for j in b:\n",
    "        print(j)"
   ]
  },
  {
   "cell_type": "code",
   "execution_count": 16,
   "id": "392484e6",
   "metadata": {},
   "outputs": [
    {
     "name": "stdout",
     "output_type": "stream",
     "text": [
      "Boston\n",
      "{'_id': 'Arrowroot', 'sumTotalPrice': 1918.4}\n",
      "{'_id': 'Banana', 'sumTotalPrice': 179.32999999999998}\n",
      "{'_id': 'Bran', 'sumTotalPrice': 873.29}\n",
      "{'_id': 'Carrot', 'sumTotalPrice': 2267.37}\n",
      "{'_id': 'Chocolate Chip', 'sumTotalPrice': 1200.54}\n",
      "{'_id': 'Oatmeal Raisin', 'sumTotalPrice': 3362.56}\n",
      "{'_id': 'Potato Chips', 'sumTotalPrice': 344.4}\n",
      "{'_id': 'Pretzels', 'sumTotalPrice': 585.9}\n",
      "{'_id': 'Whole Wheat', 'sumTotalPrice': 2533.74}\n",
      "Los Angeles\n",
      "{'_id': 'Arrowroot', 'sumTotalPrice': 403.3}\n",
      "{'_id': 'Bran', 'sumTotalPrice': 652.63}\n",
      "{'_id': 'Carrot', 'sumTotalPrice': 2233.74}\n",
      "{'_id': 'Chocolate Chip', 'sumTotalPrice': 1565.19}\n",
      "{'_id': 'Oatmeal Raisin', 'sumTotalPrice': 2076.04}\n",
      "{'_id': 'Potato Chips', 'sumTotalPrice': 609.84}\n",
      "{'_id': 'Whole Wheat', 'sumTotalPrice': 146.58}\n",
      "New York\n",
      "{'_id': 'Arrowroot', 'sumTotalPrice': 2025.2199999999998}\n",
      "{'_id': 'Bran', 'sumTotalPrice': 1052.81}\n",
      "{'_id': 'Carrot', 'sumTotalPrice': 1982.4}\n",
      "{'_id': 'Chocolate Chip', 'sumTotalPrice': 878.9}\n",
      "{'_id': 'Oatmeal Raisin', 'sumTotalPrice': 1297.88}\n",
      "{'_id': 'Potato Chips', 'sumTotalPrice': 529.53}\n",
      "{'_id': 'Whole Wheat', 'sumTotalPrice': 492.09000000000003}\n",
      "San Diego\n",
      "{'_id': 'Arrowroot', 'sumTotalPrice': 983.18}\n",
      "{'_id': 'Bran', 'sumTotalPrice': 366.52}\n",
      "{'_id': 'Carrot', 'sumTotalPrice': 927.48}\n",
      "{'_id': 'Chocolate Chip', 'sumTotalPrice': 927.52}\n",
      "{'_id': 'Oatmeal Raisin', 'sumTotalPrice': 573.68}\n",
      "{'_id': 'Potato Chips', 'sumTotalPrice': 168.0}\n",
      "{'_id': 'Whole Wheat', 'sumTotalPrice': 167.51999999999998}\n"
     ]
    }
   ],
   "source": [
    "# city wise product sales\n",
    "\n",
    "c=db.food.distinct(\"City\")\n",
    "p=db.food.distinct(\"Product\")\n",
    "for i in c:\n",
    "    print(i)\n",
    "    for j in p:\n",
    "        \n",
    "        b=db.food.aggregate([{\"$match\":{\"$and\":[{\"City\":i},{\"Product\":j}]}},{\"$group\":{\"_id\":j,\"sumTotalPrice\":{\"$sum\":\"$TotalPrice\"}}}])\n",
    "        for j in b:\n",
    "            print(j)"
   ]
  },
  {
   "cell_type": "code",
   "execution_count": 19,
   "id": "41640b04",
   "metadata": {},
   "outputs": [
    {
     "name": "stdout",
     "output_type": "stream",
     "text": [
      "Boston\n",
      "{'_id': 'Arrowroot', 'maxPrice': 303.02}\n",
      "{'_id': 'Banana', 'maxPrice': 68.1}\n",
      "{'_id': 'Bran', 'maxPrice': 196.35}\n",
      "{'_id': 'Carrot', 'maxPrice': 253.11}\n",
      "{'_id': 'Chocolate Chip', 'maxPrice': 458.15}\n",
      "{'_id': 'Oatmeal Raisin', 'maxPrice': 548.12}\n",
      "{'_id': 'Potato Chips', 'maxPrice': 225.12}\n",
      "{'_id': 'Pretzels', 'maxPrice': 97.65}\n",
      "{'_id': 'Whole Wheat', 'maxPrice': 520.01}\n",
      "Los Angeles\n",
      "{'_id': 'Arrowroot', 'maxPrice': 167.86}\n",
      "{'_id': 'Bran', 'maxPrice': 143.99}\n",
      "{'_id': 'Carrot', 'maxPrice': 541.62}\n",
      "{'_id': 'Chocolate Chip', 'maxPrice': 433.84}\n",
      "{'_id': 'Oatmeal Raisin', 'maxPrice': 817.92}\n",
      "{'_id': 'Potato Chips', 'maxPrice': 191.52}\n",
      "{'_id': 'Whole Wheat', 'maxPrice': 73.29}\n",
      "New York\n",
      "{'_id': 'Arrowroot', 'maxPrice': 516.66}\n",
      "{'_id': 'Bran', 'maxPrice': 205.7}\n",
      "{'_id': 'Carrot', 'maxPrice': 249.57}\n",
      "{'_id': 'Chocolate Chip', 'maxPrice': 158.95}\n",
      "{'_id': 'Oatmeal Raisin', 'maxPrice': 275.48}\n",
      "{'_id': 'Potato Chips', 'maxPrice': 114.24}\n",
      "{'_id': 'Whole Wheat', 'maxPrice': 111.68}\n",
      "San Diego\n",
      "{'_id': 'Arrowroot', 'maxPrice': 303.02}\n",
      "{'_id': 'Bran', 'maxPrice': 160.82}\n",
      "{'_id': 'Carrot', 'maxPrice': 208.86}\n",
      "{'_id': 'Chocolate Chip', 'maxPrice': 179.52}\n",
      "{'_id': 'Oatmeal Raisin', 'maxPrice': 124.96}\n",
      "{'_id': 'Potato Chips', 'maxPrice': 68.88}\n",
      "{'_id': 'Whole Wheat', 'maxPrice': 97.72}\n"
     ]
    }
   ],
   "source": [
    "# city wise maximum  product sales\n",
    "\n",
    "c=db.food.distinct(\"City\")\n",
    "p=db.food.distinct(\"Product\")\n",
    "for i in c:\n",
    "    print(i)\n",
    "    for j in p:\n",
    "        \n",
    "        b=db.food.aggregate([{\"$match\":{\"$and\":[{\"City\":i},{\"Product\":j}]}},{\"$group\":{\"_id\":j,\"maxPrice\":{\"$max\":\"$TotalPrice\"}}}])\n",
    "        for j in b:\n",
    "            print(j)"
   ]
  },
  {
   "cell_type": "code",
   "execution_count": 20,
   "id": "b4e18f0f",
   "metadata": {},
   "outputs": [
    {
     "name": "stdout",
     "output_type": "stream",
     "text": [
      "Boston\n",
      "{'_id': 'Arrowroot', 'minPrice': 58.86}\n",
      "{'_id': 'Banana', 'minPrice': 49.94}\n",
      "{'_id': 'Bran', 'minPrice': 50.49}\n",
      "{'_id': 'Carrot', 'minPrice': 44.25}\n",
      "{'_id': 'Chocolate Chip', 'minPrice': 57.97}\n",
      "{'_id': 'Oatmeal Raisin', 'minPrice': 275.48}\n",
      "{'_id': 'Potato Chips', 'minPrice': 40.32}\n",
      "{'_id': 'Pretzels', 'minPrice': 66.15}\n",
      "{'_id': 'Whole Wheat', 'minPrice': 69.8}\n",
      "Los Angeles\n",
      "{'_id': 'Arrowroot', 'minPrice': 43.6}\n",
      "{'_id': 'Bran', 'minPrice': 56.1}\n",
      "{'_id': 'Carrot', 'minPrice': 35.4}\n",
      "{'_id': 'Chocolate Chip', 'minPrice': 63.58}\n",
      "{'_id': 'Oatmeal Raisin', 'minPrice': 93.72}\n",
      "{'_id': 'Potato Chips', 'minPrice': 47.04}\n",
      "{'_id': 'Whole Wheat', 'minPrice': 73.29}\n",
      "New York\n",
      "{'_id': 'Arrowroot', 'minPrice': 80.66}\n",
      "{'_id': 'Bran', 'minPrice': 71.06}\n",
      "{'_id': 'Carrot', 'minPrice': 40.71}\n",
      "{'_id': 'Chocolate Chip', 'minPrice': 43.01}\n",
      "{'_id': 'Oatmeal Raisin', 'minPrice': 93.72}\n",
      "{'_id': 'Potato Chips', 'minPrice': 33.6}\n",
      "{'_id': 'Whole Wheat', 'minPrice': 80.27}\n",
      "San Diego\n",
      "{'_id': 'Arrowroot', 'minPrice': 78.48}\n",
      "{'_id': 'Bran', 'minPrice': 48.62}\n",
      "{'_id': 'Carrot', 'minPrice': 35.4}\n",
      "{'_id': 'Chocolate Chip', 'minPrice': 44.88}\n",
      "{'_id': 'Oatmeal Raisin', 'minPrice': 82.36}\n",
      "{'_id': 'Potato Chips', 'minPrice': 47.04}\n",
      "{'_id': 'Whole Wheat', 'minPrice': 69.8}\n"
     ]
    }
   ],
   "source": [
    "# city wise minimum product sales\n",
    "\n",
    "c=db.food.distinct(\"City\")\n",
    "p=db.food.distinct(\"Product\")\n",
    "for i in c:\n",
    "    print(i)\n",
    "    for j in p:\n",
    "        \n",
    "        b=db.food.aggregate([{\"$match\":{\"$and\":[{\"City\":i},{\"Product\":j}]}},{\"$group\":{\"_id\":j,\"minPrice\":{\"$min\":\"$TotalPrice\"}}}])\n",
    "        for j in b:\n",
    "            print(j)"
   ]
  },
  {
   "cell_type": "code",
   "execution_count": 12,
   "id": "62cf3fe9",
   "metadata": {},
   "outputs": [
    {
     "name": "stdout",
     "output_type": "stream",
     "text": [
      "Arrowroot\n",
      "Banana\n",
      "Bran\n",
      "Carrot\n",
      "Chocolate Chip\n",
      "Oatmeal Raisin\n",
      "Potato Chips\n",
      "Pretzels\n",
      "Whole Wheat\n"
     ]
    }
   ],
   "source": [
    "#no of products\n",
    "\n",
    "r=db.food.distinct(\"Product\")\n",
    "    \n",
    "for i in r:\n",
    "    print(i)"
   ]
  },
  {
   "cell_type": "code",
   "execution_count": 13,
   "id": "49af91a8",
   "metadata": {},
   "outputs": [
    {
     "name": "stdout",
     "output_type": "stream",
     "text": [
      "Bars\n",
      "Cookies\n",
      "Crackers\n",
      "Snacks\n"
     ]
    }
   ],
   "source": [
    "#no of category\n",
    "\n",
    "1r=db.food.distinct(\"Category\")\n",
    "\n",
    "for i in r:\n",
    "    print(i)"
   ]
  },
  {
   "cell_type": "code",
   "execution_count": 14,
   "id": "0c20188f",
   "metadata": {},
   "outputs": [
    {
     "name": "stdout",
     "output_type": "stream",
     "text": [
      "{'_id': 'null', 'Quantity': 15442}\n"
     ]
    }
   ],
   "source": [
    "#total quantity\n",
    "\n",
    "r=db.food.aggregate([{\"$group\":{\"_id\":\"null\",\"Quantity\":{\"$sum\":\"$Quantity\"}}}])\n",
    "\n",
    "for i in r:\n",
    "    print(i)"
   ]
  },
  {
   "cell_type": "code",
   "execution_count": 29,
   "id": "d6ecbd11",
   "metadata": {},
   "outputs": [
    {
     "name": "stdout",
     "output_type": "stream",
     "text": [
      "Total count of orders in East region and West region are 94 and 150\n"
     ]
    }
   ],
   "source": [
    "#count no of orders in east region and west region.\n",
    "\n",
    "w=db.food.count_documents({\"Region\":\"West\"})\n",
    "e=db.food.count_documents({\"Region\":\"East\"})\n",
    "print(\"Total count of orders in East region and West region are\",w,\"and\",e)"
   ]
  },
  {
   "cell_type": "code",
   "execution_count": 30,
   "id": "667e2662",
   "metadata": {},
   "outputs": [
    {
     "name": "stdout",
     "output_type": "stream",
     "text": [
      "[{'_id': 'Boston', 'sales': 88}, {'_id': 'New York', 'sales': 62}, {'_id': 'Los Angeles', 'sales': 55}, {'_id': 'San Diego', 'sales': 39}]\n"
     ]
    }
   ],
   "source": [
    "# no of orders in each city wise sales\n",
    "\n",
    "\n",
    "city=[{\"$unwind\":\"$City\"},{\"$group\":{\"_id\":\"$City\",\"sales\":{\"$sum\":1}}}]\n",
    "print(list(db.food.aggregate(city)))"
   ]
  },
  {
   "cell_type": "code",
   "execution_count": 29,
   "id": "1bb6e162",
   "metadata": {},
   "outputs": [
    {
     "name": "stdout",
     "output_type": "stream",
     "text": [
      "{'Quantity': 33, 'TotalPrice': 58.41, 'city': 'Boston', 'Category': 'Bars'}\n",
      "{'Quantity': 87, 'TotalPrice': 303.63, 'city': 'Boston', 'Category': 'Crackers'}\n",
      "{'Quantity': 38, 'TotalPrice': 82.84, 'city': 'Boston', 'Category': 'Cookies'}\n",
      "{'Quantity': 54, 'TotalPrice': 95.58, 'city': 'Boston', 'Category': 'Bars'}\n",
      "{'Quantity': 149, 'TotalPrice': 520.01, 'city': 'Boston', 'Category': 'Crackers'}\n",
      "{'Quantity': 36, 'TotalPrice': 78.48, 'city': 'Boston', 'Category': 'Cookies'}\n",
      "{'Quantity': 31, 'TotalPrice': 57.97, 'city': 'Boston', 'Category': 'Cookies'}\n",
      "{'Quantity': 28, 'TotalPrice': 97.72, 'city': 'Boston', 'Category': 'Crackers'}\n",
      "{'Quantity': 43, 'TotalPrice': 93.74, 'city': 'Boston', 'Category': 'Cookies'}\n",
      "{'Quantity': 123, 'TotalPrice': 349.32, 'city': 'Boston', 'Category': 'Cookies'}\n",
      "{'Quantity': 61, 'TotalPrice': 107.97, 'city': 'Boston', 'Category': 'Bars'}\n",
      "{'Quantity': 40, 'TotalPrice': 139.6, 'city': 'Boston', 'Category': 'Crackers'}\n",
      "{'Quantity': 103, 'TotalPrice': 192.61, 'city': 'Boston', 'Category': 'Bars'}\n",
      "{'Quantity': 193, 'TotalPrice': 548.12, 'city': 'Boston', 'Category': 'Cookies'}\n",
      "{'Quantity': 48, 'TotalPrice': 84.96, 'city': 'Boston', 'Category': 'Bars'}\n",
      "{'Quantity': 134, 'TotalPrice': 225.12, 'city': 'Boston', 'Category': 'Snacks'}\n",
      "{'Quantity': 105, 'TotalPrice': 196.35, 'city': 'Boston', 'Category': 'Bars'}\n",
      "{'Quantity': 138, 'TotalPrice': 391.92, 'city': 'Boston', 'Category': 'Cookies'}\n",
      "{'Quantity': 27, 'TotalPrice': 58.86, 'city': 'Boston', 'Category': 'Cookies'}\n",
      "{'Quantity': 58, 'TotalPrice': 102.66, 'city': 'Boston', 'Category': 'Bars'}\n",
      "{'Quantity': 33, 'TotalPrice': 115.17, 'city': 'Boston', 'Category': 'Crackers'}\n",
      "{'Quantity': 75, 'TotalPrice': 132.75, 'city': 'Boston', 'Category': 'Bars'}\n",
      "{'Quantity': 38, 'TotalPrice': 132.62, 'city': 'Boston', 'Category': 'Crackers'}\n",
      "{'Quantity': 136, 'TotalPrice': 240.72, 'city': 'Boston', 'Category': 'Bars'}\n",
      "{'Quantity': 42, 'TotalPrice': 146.58, 'city': 'Boston', 'Category': 'Crackers'}\n",
      "{'Quantity': 56, 'TotalPrice': 104.72, 'city': 'Boston', 'Category': 'Bars'}\n",
      "{'Quantity': 137, 'TotalPrice': 389.08, 'city': 'Boston', 'Category': 'Cookies'}\n",
      "{'Quantity': 31, 'TotalPrice': 67.58, 'city': 'Boston', 'Category': 'Cookies'}\n",
      "{'Quantity': 109, 'TotalPrice': 192.93, 'city': 'Boston', 'Category': 'Bars'}\n",
      "{'Quantity': 21, 'TotalPrice': 73.29, 'city': 'Boston', 'Category': 'Crackers'}\n",
      "{'Quantity': 28, 'TotalPrice': 61.04, 'city': 'Boston', 'Category': 'Cookies'}\n",
      "{'Quantity': 143, 'TotalPrice': 253.11, 'city': 'Boston', 'Category': 'Bars'}\n",
      "{'Quantity': 27, 'TotalPrice': 85.05, 'city': 'Boston', 'Category': 'Snacks'}\n",
      "{'Quantity': 81, 'TotalPrice': 176.58, 'city': 'Boston', 'Category': 'Cookies'}\n",
      "{'Quantity': 77, 'TotalPrice': 136.29, 'city': 'Boston', 'Category': 'Bars'}\n",
      "{'Quantity': 38, 'TotalPrice': 132.62, 'city': 'Boston', 'Category': 'Crackers'}\n",
      "{'Quantity': 40, 'TotalPrice': 87.2, 'city': 'Boston', 'Category': 'Cookies'}\n",
      "{'Quantity': 49, 'TotalPrice': 91.63, 'city': 'Boston', 'Category': 'Cookies'}\n",
      "{'Quantity': 46, 'TotalPrice': 160.54, 'city': 'Boston', 'Category': 'Crackers'}\n",
      "{'Quantity': 66, 'TotalPrice': 123.42, 'city': 'Boston', 'Category': 'Bars'}\n",
      "{'Quantity': 97, 'TotalPrice': 275.48, 'city': 'Boston', 'Category': 'Cookies'}\n",
      "{'Quantity': 30, 'TotalPrice': 68.1, 'city': 'Boston', 'Category': 'Bars'}\n",
      "{'Quantity': 36, 'TotalPrice': 67.32, 'city': 'Boston', 'Category': 'Cookies'}\n",
      "{'Quantity': 41, 'TotalPrice': 143.09, 'city': 'Boston', 'Category': 'Crackers'}\n",
      "{'Quantity': 32, 'TotalPrice': 69.76, 'city': 'Boston', 'Category': 'Cookies'}\n",
      "{'Quantity': 63, 'TotalPrice': 111.51, 'city': 'Boston', 'Category': 'Bars'}\n",
      "{'Quantity': 29, 'TotalPrice': 91.35, 'city': 'Boston', 'Category': 'Snacks'}\n",
      "{'Quantity': 52, 'TotalPrice': 113.36, 'city': 'Boston', 'Category': 'Cookies'}\n",
      "{'Quantity': 51, 'TotalPrice': 90.27, 'city': 'Boston', 'Category': 'Bars'}\n",
      "{'Quantity': 24, 'TotalPrice': 40.32, 'city': 'Boston', 'Category': 'Snacks'}\n",
      "{'Quantity': 68, 'TotalPrice': 120.36, 'city': 'Boston', 'Category': 'Bars'}\n",
      "{'Quantity': 31, 'TotalPrice': 97.65, 'city': 'Boston', 'Category': 'Snacks'}\n",
      "{'Quantity': 93, 'TotalPrice': 164.61, 'city': 'Boston', 'Category': 'Bars'}\n",
      "{'Quantity': 47, 'TotalPrice': 78.96, 'city': 'Boston', 'Category': 'Snacks'}\n",
      "{'Quantity': 36, 'TotalPrice': 78.48, 'city': 'Boston', 'Category': 'Cookies'}\n",
      "{'Quantity': 123, 'TotalPrice': 349.32, 'city': 'Boston', 'Category': 'Cookies'}\n",
      "{'Quantity': 27, 'TotalPrice': 50.49, 'city': 'Boston', 'Category': 'Bars'}\n",
      "{'Quantity': 129, 'TotalPrice': 366.36, 'city': 'Boston', 'Category': 'Cookies'}\n",
      "{'Quantity': 58, 'TotalPrice': 102.66, 'city': 'Boston', 'Category': 'Bars'}\n",
      "{'Quantity': 30, 'TotalPrice': 94.5, 'city': 'Boston', 'Category': 'Snacks'}\n",
      "{'Quantity': 27, 'TotalPrice': 50.49, 'city': 'Boston', 'Category': 'Bars'}\n",
      "{'Quantity': 120, 'TotalPrice': 340.8, 'city': 'Boston', 'Category': 'Cookies'}\n",
      "{'Quantity': 26, 'TotalPrice': 90.74, 'city': 'Boston', 'Category': 'Crackers'}\n",
      "{'Quantity': 27, 'TotalPrice': 61.29, 'city': 'Boston', 'Category': 'Bars'}\n",
      "{'Quantity': 38, 'TotalPrice': 71.06, 'city': 'Boston', 'Category': 'Cookies'}\n",
      "{'Quantity': 34, 'TotalPrice': 118.66, 'city': 'Boston', 'Category': 'Crackers'}\n",
      "{'Quantity': 22, 'TotalPrice': 49.94, 'city': 'Boston', 'Category': 'Bars'}\n",
      "{'Quantity': 32, 'TotalPrice': 59.84, 'city': 'Boston', 'Category': 'Cookies'}\n",
      "{'Quantity': 23, 'TotalPrice': 80.27, 'city': 'Boston', 'Category': 'Crackers'}\n",
      "{'Quantity': 55, 'TotalPrice': 97.35, 'city': 'Boston', 'Category': 'Bars'}\n",
      "{'Quantity': 22, 'TotalPrice': 69.3, 'city': 'Boston', 'Category': 'Snacks'}\n",
      "{'Quantity': 136, 'TotalPrice': 296.48, 'city': 'Boston', 'Category': 'Cookies'}\n",
      "{'Quantity': 25, 'TotalPrice': 44.25, 'city': 'Boston', 'Category': 'Bars'}\n",
      "{'Quantity': 26, 'TotalPrice': 81.9, 'city': 'Boston', 'Category': 'Snacks'}\n",
      "{'Quantity': 40, 'TotalPrice': 87.2, 'city': 'Boston', 'Category': 'Cookies'}\n",
      "{'Quantity': 31, 'TotalPrice': 54.87, 'city': 'Boston', 'Category': 'Bars'}\n",
      "{'Quantity': 21, 'TotalPrice': 66.15, 'city': 'Boston', 'Category': 'Snacks'}\n",
      "{'Quantity': 87, 'TotalPrice': 189.66, 'city': 'Boston', 'Category': 'Cookies'}\n",
      "{'Quantity': 43, 'TotalPrice': 76.11, 'city': 'Boston', 'Category': 'Bars'}\n",
      "{'Quantity': 30, 'TotalPrice': 104.7, 'city': 'Boston', 'Category': 'Crackers'}\n",
      "{'Quantity': 83, 'TotalPrice': 155.21, 'city': 'Boston', 'Category': 'Bars'}\n",
      "{'Quantity': 124, 'TotalPrice': 352.16, 'city': 'Boston', 'Category': 'Cookies'}\n",
      "{'Quantity': 139, 'TotalPrice': 303.02, 'city': 'Boston', 'Category': 'Cookies'}\n",
      "{'Quantity': 211, 'TotalPrice': 394.57, 'city': 'Boston', 'Category': 'Cookies'}\n",
      "{'Quantity': 20, 'TotalPrice': 69.8, 'city': 'Boston', 'Category': 'Crackers'}\n",
      "{'Quantity': 34, 'TotalPrice': 74.12, 'city': 'Boston', 'Category': 'Cookies'}\n",
      "{'Quantity': 245, 'TotalPrice': 458.15, 'city': 'Boston', 'Category': 'Cookies'}\n",
      "{'Quantity': 30, 'TotalPrice': 104.7, 'city': 'Boston', 'Category': 'Crackers'}\n"
     ]
    }
   ],
   "source": [
    "#quantity wise sales on category where city is boston\n",
    "\n",
    "r=db.food.aggregate([{\"$match\":{\"City\":\"Boston\"}},{\"$project\":{\"_id\":0,\"city\":\"Boston\",\"Category\":\"$Category\",\"Quantity\":1,\"TotalPrice\":1}}])\n",
    "\n",
    "for i in r:\n",
    "    print(i)"
   ]
  },
  {
   "cell_type": "code",
   "execution_count": 16,
   "id": "487230e3",
   "metadata": {},
   "outputs": [
    {
     "name": "stdout",
     "output_type": "stream",
     "text": [
      "{'City': 'Boston', 'Quantity': 87, 'Region': 'East'}\n",
      "{'City': 'New York', 'Quantity': 82, 'Region': 'East'}\n",
      "{'City': 'New York', 'Quantity': 100, 'Region': 'East'}\n",
      "{'City': 'New York', 'Quantity': 85, 'Region': 'East'}\n",
      "{'City': 'Los Angeles', 'Quantity': 86, 'Region': 'East'}\n",
      "{'City': 'New York', 'Quantity': 91, 'Region': 'East'}\n",
      "{'City': 'New York', 'Quantity': 76, 'Region': 'East'}\n",
      "{'City': 'Boston', 'Quantity': 75, 'Region': 'East'}\n",
      "{'City': 'Los Angeles', 'Quantity': 75, 'Region': 'East'}\n",
      "{'City': 'New York', 'Quantity': 72, 'Region': 'East'}\n",
      "{'City': 'San Diego', 'Quantity': 70, 'Region': 'East'}\n",
      "{'City': 'Los Angeles', 'Quantity': 80, 'Region': 'East'}\n",
      "{'City': 'New York', 'Quantity': 75, 'Region': 'East'}\n",
      "{'City': 'New York', 'Quantity': 74, 'Region': 'East'}\n",
      "{'City': 'Boston', 'Quantity': 81, 'Region': 'East'}\n",
      "{'City': 'Boston', 'Quantity': 77, 'Region': 'East'}\n",
      "{'City': 'New York', 'Quantity': 90, 'Region': 'East'}\n",
      "{'City': 'Boston', 'Quantity': 97, 'Region': 'East'}\n",
      "{'City': 'New York', 'Quantity': 92, 'Region': 'East'}\n",
      "{'City': 'San Diego', 'Quantity': 83, 'Region': 'East'}\n",
      "{'City': 'Los Angeles', 'Quantity': 77, 'Region': 'East'}\n",
      "{'City': 'Los Angeles', 'Quantity': 80, 'Region': 'East'}\n",
      "{'City': 'New York', 'Quantity': 97, 'Region': 'East'}\n",
      "{'City': 'San Diego', 'Quantity': 86, 'Region': 'East'}\n",
      "{'City': 'Boston', 'Quantity': 93, 'Region': 'East'}\n",
      "{'City': 'Los Angeles', 'Quantity': 90, 'Region': 'East'}\n",
      "{'City': 'Los Angeles', 'Quantity': 77, 'Region': 'East'}\n",
      "{'City': 'San Diego', 'Quantity': 82, 'Region': 'East'}\n",
      "{'City': 'New York', 'Quantity': 84, 'Region': 'East'}\n",
      "{'City': 'Los Angeles', 'Quantity': 73, 'Region': 'East'}\n",
      "{'City': 'New York', 'Quantity': 71, 'Region': 'East'}\n",
      "{'City': 'San Diego', 'Quantity': 90, 'Region': 'East'}\n",
      "{'City': 'Los Angeles', 'Quantity': 79, 'Region': 'East'}\n",
      "{'City': 'Boston', 'Quantity': 87, 'Region': 'East'}\n",
      "{'City': 'Boston', 'Quantity': 83, 'Region': 'East'}\n",
      "{'City': 'Los Angeles', 'Quantity': 100, 'Region': 'East'}\n",
      "{'City': 'San Diego', 'Quantity': 96, 'Region': 'East'}\n"
     ]
    }
   ],
   "source": [
    "#east region sales base on quantity\n",
    "\n",
    "\n",
    "for i in db.food.aggregate([{\"$match\":{\"$and\":[{\"Quantity\":{\"$gte\":70,\"$lte\":100}}]}},{\"$project\":{\"_id\":0,\"Region\":\"East\",\"City\":1,\"Quantity\":1}}]):\n",
    "    print(i)"
   ]
  },
  {
   "cell_type": "code",
   "execution_count": 17,
   "id": "5c4c18ea",
   "metadata": {},
   "outputs": [
    {
     "name": "stdout",
     "output_type": "stream",
     "text": [
      "{'City': 'Boston', 'Quantity': 87, 'Region': 'West'}\n",
      "{'City': 'New York', 'Quantity': 82, 'Region': 'West'}\n",
      "{'City': 'New York', 'Quantity': 100, 'Region': 'West'}\n",
      "{'City': 'New York', 'Quantity': 85, 'Region': 'West'}\n",
      "{'City': 'Los Angeles', 'Quantity': 86, 'Region': 'West'}\n",
      "{'City': 'New York', 'Quantity': 91, 'Region': 'West'}\n",
      "{'City': 'New York', 'Quantity': 76, 'Region': 'West'}\n",
      "{'City': 'Boston', 'Quantity': 75, 'Region': 'West'}\n",
      "{'City': 'Los Angeles', 'Quantity': 75, 'Region': 'West'}\n",
      "{'City': 'New York', 'Quantity': 72, 'Region': 'West'}\n",
      "{'City': 'San Diego', 'Quantity': 70, 'Region': 'West'}\n",
      "{'City': 'Los Angeles', 'Quantity': 80, 'Region': 'West'}\n",
      "{'City': 'New York', 'Quantity': 75, 'Region': 'West'}\n",
      "{'City': 'New York', 'Quantity': 74, 'Region': 'West'}\n",
      "{'City': 'Boston', 'Quantity': 81, 'Region': 'West'}\n",
      "{'City': 'Boston', 'Quantity': 77, 'Region': 'West'}\n",
      "{'City': 'New York', 'Quantity': 90, 'Region': 'West'}\n",
      "{'City': 'Boston', 'Quantity': 97, 'Region': 'West'}\n",
      "{'City': 'New York', 'Quantity': 92, 'Region': 'West'}\n",
      "{'City': 'San Diego', 'Quantity': 83, 'Region': 'West'}\n",
      "{'City': 'Los Angeles', 'Quantity': 77, 'Region': 'West'}\n",
      "{'City': 'Los Angeles', 'Quantity': 80, 'Region': 'West'}\n",
      "{'City': 'New York', 'Quantity': 97, 'Region': 'West'}\n",
      "{'City': 'San Diego', 'Quantity': 86, 'Region': 'West'}\n",
      "{'City': 'Boston', 'Quantity': 93, 'Region': 'West'}\n",
      "{'City': 'Los Angeles', 'Quantity': 90, 'Region': 'West'}\n",
      "{'City': 'Los Angeles', 'Quantity': 77, 'Region': 'West'}\n",
      "{'City': 'San Diego', 'Quantity': 82, 'Region': 'West'}\n",
      "{'City': 'New York', 'Quantity': 84, 'Region': 'West'}\n",
      "{'City': 'Los Angeles', 'Quantity': 73, 'Region': 'West'}\n",
      "{'City': 'New York', 'Quantity': 71, 'Region': 'West'}\n",
      "{'City': 'San Diego', 'Quantity': 90, 'Region': 'West'}\n",
      "{'City': 'Los Angeles', 'Quantity': 79, 'Region': 'West'}\n",
      "{'City': 'Boston', 'Quantity': 87, 'Region': 'West'}\n",
      "{'City': 'Boston', 'Quantity': 83, 'Region': 'West'}\n",
      "{'City': 'Los Angeles', 'Quantity': 100, 'Region': 'West'}\n",
      "{'City': 'San Diego', 'Quantity': 96, 'Region': 'West'}\n"
     ]
    }
   ],
   "source": [
    "#west region sales on quality between 70 to 100\n",
    "\n",
    "for i in db.food.aggregate([{\"$match\":{\"$and\":[{\"Quantity\":{\"$gte\":70,\"$lte\":100}}]}},{\"$project\":{\"_id\":0,\"Region\":\"West\",\"City\":1,\"Quantity\":1}}]):\n",
    "    print(i)"
   ]
  },
  {
   "cell_type": "code",
   "execution_count": 24,
   "id": "aa80579f",
   "metadata": {},
   "outputs": [
    {
     "name": "stdout",
     "output_type": "stream",
     "text": [
      "{'City': 'Los Angeles', 'Quantity': 288, 'Region': 'West'}\n",
      "{'City': 'Los Angeles', 'Quantity': 306, 'Region': 'West'}\n",
      "{'City': 'New York', 'Quantity': 224, 'Region': 'West'}\n",
      "{'City': 'New York', 'Quantity': 237, 'Region': 'West'}\n",
      "{'City': 'Los Angeles', 'Quantity': 232, 'Region': 'West'}\n",
      "{'City': 'Boston', 'Quantity': 211, 'Region': 'West'}\n",
      "{'City': 'Boston', 'Quantity': 245, 'Region': 'West'}\n"
     ]
    }
   ],
   "source": [
    "#west region sales on quantity greater than 200 and less than 310\n",
    "\n",
    "for i in db.food.aggregate([{\"$match\":{\"$and\":[{\"Quantity\":{\"$gte\":200,\"$lte\":310}}]}},{\"$project\":{\"_id\":0,\"Region\":\"West\",\"City\":1,\"Quantity\":1}}]):\n",
    "    print(i)"
   ]
  },
  {
   "cell_type": "code",
   "execution_count": 23,
   "id": "3706ae01",
   "metadata": {},
   "outputs": [],
   "source": []
  },
  {
   "cell_type": "code",
   "execution_count": null,
   "id": "2bf828c5",
   "metadata": {},
   "outputs": [],
   "source": []
  },
  {
   "cell_type": "code",
   "execution_count": null,
   "id": "0d58ce7e",
   "metadata": {},
   "outputs": [],
   "source": []
  },
  {
   "cell_type": "code",
   "execution_count": null,
   "id": "da5573c0",
   "metadata": {},
   "outputs": [],
   "source": []
  },
  {
   "cell_type": "code",
   "execution_count": null,
   "id": "83cf81aa",
   "metadata": {},
   "outputs": [],
   "source": []
  },
  {
   "cell_type": "code",
   "execution_count": null,
   "id": "82a7cd50",
   "metadata": {},
   "outputs": [],
   "source": []
  },
  {
   "cell_type": "code",
   "execution_count": null,
   "id": "d8710d6d",
   "metadata": {},
   "outputs": [],
   "source": []
  },
  {
   "cell_type": "code",
   "execution_count": null,
   "id": "a6ba4a8f",
   "metadata": {},
   "outputs": [],
   "source": []
  },
  {
   "cell_type": "code",
   "execution_count": null,
   "id": "8b586a7a",
   "metadata": {},
   "outputs": [],
   "source": []
  },
  {
   "cell_type": "code",
   "execution_count": null,
   "id": "824c657c",
   "metadata": {},
   "outputs": [],
   "source": []
  },
  {
   "cell_type": "code",
   "execution_count": null,
   "id": "a969947e",
   "metadata": {},
   "outputs": [],
   "source": []
  },
  {
   "cell_type": "code",
   "execution_count": null,
   "id": "4c827a78",
   "metadata": {},
   "outputs": [],
   "source": []
  },
  {
   "cell_type": "code",
   "execution_count": null,
   "id": "0095c1fe",
   "metadata": {},
   "outputs": [],
   "source": []
  },
  {
   "cell_type": "code",
   "execution_count": null,
   "id": "d65705ce",
   "metadata": {},
   "outputs": [],
   "source": []
  },
  {
   "cell_type": "code",
   "execution_count": null,
   "id": "0bf665c2",
   "metadata": {},
   "outputs": [],
   "source": []
  }
 ],
 "metadata": {
  "kernelspec": {
   "display_name": "Python 3",
   "language": "python",
   "name": "python3"
  },
  "language_info": {
   "codemirror_mode": {
    "name": "ipython",
    "version": 3
   },
   "file_extension": ".py",
   "mimetype": "text/x-python",
   "name": "python",
   "nbconvert_exporter": "python",
   "pygments_lexer": "ipython3",
   "version": "3.8.8"
  }
 },
 "nbformat": 4,
 "nbformat_minor": 5
}
