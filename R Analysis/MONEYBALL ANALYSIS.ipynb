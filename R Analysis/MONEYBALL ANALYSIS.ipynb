{
 "cells": [
  {
   "cell_type": "code",
   "execution_count": null,
   "id": "cf1a8827",
   "metadata": {},
   "outputs": [],
   "source": [
    "#MONEYBALL ANALYSIS"
   ]
  },
  {
   "cell_type": "code",
   "execution_count": 1,
   "id": "ef892cc5",
   "metadata": {},
   "outputs": [
    {
     "name": "stderr",
     "output_type": "stream",
     "text": [
      "Warning message:\n",
      "\"package 'dplyr' was built under R version 3.6.3\"\n",
      "Attaching package: 'dplyr'\n",
      "\n",
      "The following objects are masked from 'package:stats':\n",
      "\n",
      "    filter, lag\n",
      "\n",
      "The following objects are masked from 'package:base':\n",
      "\n",
      "    intersect, setdiff, setequal, union\n",
      "\n"
     ]
    }
   ],
   "source": [
    "library('dplyr')\n",
    "library('ggplot2')"
   ]
  },
  {
   "cell_type": "code",
   "execution_count": 2,
   "id": "bfb0722b",
   "metadata": {},
   "outputs": [],
   "source": [
    "bat=read.csv('Batting.csv')\n",
    "sal=read.csv('Salaries.csv')"
   ]
  },
  {
   "cell_type": "code",
   "execution_count": 5,
   "id": "c3d9e950",
   "metadata": {},
   "outputs": [
    {
     "data": {
      "text/html": [
       "<table>\n",
       "<thead><tr><th scope=col>playerID</th><th scope=col>yearID</th><th scope=col>stint</th><th scope=col>teamID</th><th scope=col>lgID</th><th scope=col>G</th><th scope=col>G_batting</th><th scope=col>AB</th><th scope=col>R</th><th scope=col>H</th><th scope=col>...</th><th scope=col>SB</th><th scope=col>CS</th><th scope=col>BB</th><th scope=col>SO</th><th scope=col>IBB</th><th scope=col>HBP</th><th scope=col>SH</th><th scope=col>SF</th><th scope=col>GIDP</th><th scope=col>G_old</th></tr></thead>\n",
       "<tbody>\n",
       "\t<tr><td>aardsda01</td><td>2004     </td><td>1        </td><td>SFN      </td><td>NL       </td><td>11       </td><td>11       </td><td>0        </td><td>0        </td><td>0        </td><td>...      </td><td>0        </td><td>0        </td><td>0        </td><td>0        </td><td>0        </td><td>0        </td><td>0        </td><td>0        </td><td>0        </td><td>11       </td></tr>\n",
       "\t<tr><td>aardsda01</td><td>2006     </td><td>1        </td><td>CHN      </td><td>NL       </td><td>45       </td><td>43       </td><td>2        </td><td>0        </td><td>0        </td><td>...      </td><td>0        </td><td>0        </td><td>0        </td><td>0        </td><td>0        </td><td>0        </td><td>1        </td><td>0        </td><td>0        </td><td>45       </td></tr>\n",
       "\t<tr><td>aardsda01</td><td>2007     </td><td>1        </td><td>CHA      </td><td>AL       </td><td>25       </td><td> 2       </td><td>0        </td><td>0        </td><td>0        </td><td>...      </td><td>0        </td><td>0        </td><td>0        </td><td>0        </td><td>0        </td><td>0        </td><td>0        </td><td>0        </td><td>0        </td><td> 2       </td></tr>\n",
       "\t<tr><td>aardsda01</td><td>2008     </td><td>1        </td><td>BOS      </td><td>AL       </td><td>47       </td><td> 5       </td><td>1        </td><td>0        </td><td>0        </td><td>...      </td><td>0        </td><td>0        </td><td>0        </td><td>1        </td><td>0        </td><td>0        </td><td>0        </td><td>0        </td><td>0        </td><td> 5       </td></tr>\n",
       "\t<tr><td>aardsda01</td><td>2009     </td><td>1        </td><td>SEA      </td><td>AL       </td><td>73       </td><td> 3       </td><td>0        </td><td>0        </td><td>0        </td><td>...      </td><td>0        </td><td>0        </td><td>0        </td><td>0        </td><td>0        </td><td>0        </td><td>0        </td><td>0        </td><td>0        </td><td>NA       </td></tr>\n",
       "\t<tr><td>aardsda01</td><td>2010     </td><td>1        </td><td>SEA      </td><td>AL       </td><td>53       </td><td> 4       </td><td>0        </td><td>0        </td><td>0        </td><td>...      </td><td>0        </td><td>0        </td><td>0        </td><td>0        </td><td>0        </td><td>0        </td><td>0        </td><td>0        </td><td>0        </td><td>NA       </td></tr>\n",
       "</tbody>\n",
       "</table>\n"
      ],
      "text/latex": [
       "\\begin{tabular}{r|llllllllllllllllllllllll}\n",
       " playerID & yearID & stint & teamID & lgID & G & G\\_batting & AB & R & H & ... & SB & CS & BB & SO & IBB & HBP & SH & SF & GIDP & G\\_old\\\\\n",
       "\\hline\n",
       "\t aardsda01 & 2004      & 1         & SFN       & NL        & 11        & 11        & 0         & 0         & 0         & ...       & 0         & 0         & 0         & 0         & 0         & 0         & 0         & 0         & 0         & 11       \\\\\n",
       "\t aardsda01 & 2006      & 1         & CHN       & NL        & 45        & 43        & 2         & 0         & 0         & ...       & 0         & 0         & 0         & 0         & 0         & 0         & 1         & 0         & 0         & 45       \\\\\n",
       "\t aardsda01 & 2007      & 1         & CHA       & AL        & 25        &  2        & 0         & 0         & 0         & ...       & 0         & 0         & 0         & 0         & 0         & 0         & 0         & 0         & 0         &  2       \\\\\n",
       "\t aardsda01 & 2008      & 1         & BOS       & AL        & 47        &  5        & 1         & 0         & 0         & ...       & 0         & 0         & 0         & 1         & 0         & 0         & 0         & 0         & 0         &  5       \\\\\n",
       "\t aardsda01 & 2009      & 1         & SEA       & AL        & 73        &  3        & 0         & 0         & 0         & ...       & 0         & 0         & 0         & 0         & 0         & 0         & 0         & 0         & 0         & NA       \\\\\n",
       "\t aardsda01 & 2010      & 1         & SEA       & AL        & 53        &  4        & 0         & 0         & 0         & ...       & 0         & 0         & 0         & 0         & 0         & 0         & 0         & 0         & 0         & NA       \\\\\n",
       "\\end{tabular}\n"
      ],
      "text/markdown": [
       "\n",
       "| playerID | yearID | stint | teamID | lgID | G | G_batting | AB | R | H | ... | SB | CS | BB | SO | IBB | HBP | SH | SF | GIDP | G_old |\n",
       "|---|---|---|---|---|---|---|---|---|---|---|---|---|---|---|---|---|---|---|---|---|\n",
       "| aardsda01 | 2004      | 1         | SFN       | NL        | 11        | 11        | 0         | 0         | 0         | ...       | 0         | 0         | 0         | 0         | 0         | 0         | 0         | 0         | 0         | 11        |\n",
       "| aardsda01 | 2006      | 1         | CHN       | NL        | 45        | 43        | 2         | 0         | 0         | ...       | 0         | 0         | 0         | 0         | 0         | 0         | 1         | 0         | 0         | 45        |\n",
       "| aardsda01 | 2007      | 1         | CHA       | AL        | 25        |  2        | 0         | 0         | 0         | ...       | 0         | 0         | 0         | 0         | 0         | 0         | 0         | 0         | 0         |  2        |\n",
       "| aardsda01 | 2008      | 1         | BOS       | AL        | 47        |  5        | 1         | 0         | 0         | ...       | 0         | 0         | 0         | 1         | 0         | 0         | 0         | 0         | 0         |  5        |\n",
       "| aardsda01 | 2009      | 1         | SEA       | AL        | 73        |  3        | 0         | 0         | 0         | ...       | 0         | 0         | 0         | 0         | 0         | 0         | 0         | 0         | 0         | NA        |\n",
       "| aardsda01 | 2010      | 1         | SEA       | AL        | 53        |  4        | 0         | 0         | 0         | ...       | 0         | 0         | 0         | 0         | 0         | 0         | 0         | 0         | 0         | NA        |\n",
       "\n"
      ],
      "text/plain": [
       "  playerID  yearID stint teamID lgID G  G_batting AB R H ... SB CS BB SO IBB\n",
       "1 aardsda01 2004   1     SFN    NL   11 11        0  0 0 ... 0  0  0  0  0  \n",
       "2 aardsda01 2006   1     CHN    NL   45 43        2  0 0 ... 0  0  0  0  0  \n",
       "3 aardsda01 2007   1     CHA    AL   25  2        0  0 0 ... 0  0  0  0  0  \n",
       "4 aardsda01 2008   1     BOS    AL   47  5        1  0 0 ... 0  0  0  1  0  \n",
       "5 aardsda01 2009   1     SEA    AL   73  3        0  0 0 ... 0  0  0  0  0  \n",
       "6 aardsda01 2010   1     SEA    AL   53  4        0  0 0 ... 0  0  0  0  0  \n",
       "  HBP SH SF GIDP G_old\n",
       "1 0   0  0  0    11   \n",
       "2 0   1  0  0    45   \n",
       "3 0   0  0  0     2   \n",
       "4 0   0  0  0     5   \n",
       "5 0   0  0  0    NA   \n",
       "6 0   0  0  0    NA   "
      ]
     },
     "metadata": {},
     "output_type": "display_data"
    }
   ],
   "source": [
    "head(bat)"
   ]
  },
  {
   "cell_type": "code",
   "execution_count": 6,
   "id": "0663fcd1",
   "metadata": {},
   "outputs": [
    {
     "data": {
      "text/html": [
       "<table>\n",
       "<thead><tr><th scope=col>yearID</th><th scope=col>teamID</th><th scope=col>lgID</th><th scope=col>playerID</th><th scope=col>salary</th></tr></thead>\n",
       "<tbody>\n",
       "\t<tr><td>1985     </td><td>BAL      </td><td>AL       </td><td>murraed02</td><td>1472819  </td></tr>\n",
       "\t<tr><td>1985     </td><td>BAL      </td><td>AL       </td><td>lynnfr01 </td><td>1090000  </td></tr>\n",
       "\t<tr><td>1985     </td><td>BAL      </td><td>AL       </td><td>ripkeca01</td><td> 800000  </td></tr>\n",
       "\t<tr><td>1985     </td><td>BAL      </td><td>AL       </td><td>lacyle01 </td><td> 725000  </td></tr>\n",
       "\t<tr><td>1985     </td><td>BAL      </td><td>AL       </td><td>flanami01</td><td> 641667  </td></tr>\n",
       "\t<tr><td>1985     </td><td>BAL      </td><td>AL       </td><td>boddimi01</td><td> 625000  </td></tr>\n",
       "</tbody>\n",
       "</table>\n"
      ],
      "text/latex": [
       "\\begin{tabular}{r|lllll}\n",
       " yearID & teamID & lgID & playerID & salary\\\\\n",
       "\\hline\n",
       "\t 1985      & BAL       & AL        & murraed02 & 1472819  \\\\\n",
       "\t 1985      & BAL       & AL        & lynnfr01  & 1090000  \\\\\n",
       "\t 1985      & BAL       & AL        & ripkeca01 &  800000  \\\\\n",
       "\t 1985      & BAL       & AL        & lacyle01  &  725000  \\\\\n",
       "\t 1985      & BAL       & AL        & flanami01 &  641667  \\\\\n",
       "\t 1985      & BAL       & AL        & boddimi01 &  625000  \\\\\n",
       "\\end{tabular}\n"
      ],
      "text/markdown": [
       "\n",
       "| yearID | teamID | lgID | playerID | salary |\n",
       "|---|---|---|---|---|\n",
       "| 1985      | BAL       | AL        | murraed02 | 1472819   |\n",
       "| 1985      | BAL       | AL        | lynnfr01  | 1090000   |\n",
       "| 1985      | BAL       | AL        | ripkeca01 |  800000   |\n",
       "| 1985      | BAL       | AL        | lacyle01  |  725000   |\n",
       "| 1985      | BAL       | AL        | flanami01 |  641667   |\n",
       "| 1985      | BAL       | AL        | boddimi01 |  625000   |\n",
       "\n"
      ],
      "text/plain": [
       "  yearID teamID lgID playerID  salary \n",
       "1 1985   BAL    AL   murraed02 1472819\n",
       "2 1985   BAL    AL   lynnfr01  1090000\n",
       "3 1985   BAL    AL   ripkeca01  800000\n",
       "4 1985   BAL    AL   lacyle01   725000\n",
       "5 1985   BAL    AL   flanami01  641667\n",
       "6 1985   BAL    AL   boddimi01  625000"
      ]
     },
     "metadata": {},
     "output_type": "display_data"
    }
   ],
   "source": [
    "head(sal)"
   ]
  },
  {
   "cell_type": "code",
   "execution_count": 8,
   "id": "3f157b8c",
   "metadata": {},
   "outputs": [
    {
     "name": "stdout",
     "output_type": "stream",
     "text": [
      "'data.frame':\t97889 obs. of  24 variables:\n",
      " $ playerID : Factor w/ 18107 levels \"aardsda01\",\"aaronha01\",..: 1 1 1 1 1 1 1 2 2 2 ...\n",
      " $ yearID   : int  2004 2006 2007 2008 2009 2010 2012 1954 1955 1956 ...\n",
      " $ stint    : int  1 1 1 1 1 1 1 1 1 1 ...\n",
      " $ teamID   : Factor w/ 149 levels \"ALT\",\"ANA\",\"ARI\",..: 117 35 33 16 116 116 93 80 80 80 ...\n",
      " $ lgID     : Factor w/ 6 levels \"AA\",\"AL\",\"FL\",..: 4 4 2 2 2 2 2 4 4 4 ...\n",
      " $ G        : int  11 45 25 47 73 53 1 122 153 153 ...\n",
      " $ G_batting: int  11 43 2 5 3 4 NA 122 153 153 ...\n",
      " $ AB       : int  0 2 0 1 0 0 NA 468 602 609 ...\n",
      " $ R        : int  0 0 0 0 0 0 NA 58 105 106 ...\n",
      " $ H        : int  0 0 0 0 0 0 NA 131 189 200 ...\n",
      " $ X2B      : int  0 0 0 0 0 0 NA 27 37 34 ...\n",
      " $ X3B      : int  0 0 0 0 0 0 NA 6 9 14 ...\n",
      " $ HR       : int  0 0 0 0 0 0 NA 13 27 26 ...\n",
      " $ RBI      : int  0 0 0 0 0 0 NA 69 106 92 ...\n",
      " $ SB       : int  0 0 0 0 0 0 NA 2 3 2 ...\n",
      " $ CS       : int  0 0 0 0 0 0 NA 2 1 4 ...\n",
      " $ BB       : int  0 0 0 0 0 0 NA 28 49 37 ...\n",
      " $ SO       : int  0 0 0 1 0 0 NA 39 61 54 ...\n",
      " $ IBB      : int  0 0 0 0 0 0 NA NA 5 6 ...\n",
      " $ HBP      : int  0 0 0 0 0 0 NA 3 3 2 ...\n",
      " $ SH       : int  0 1 0 0 0 0 NA 6 7 5 ...\n",
      " $ SF       : int  0 0 0 0 0 0 NA 4 4 7 ...\n",
      " $ GIDP     : int  0 0 0 0 0 0 NA 13 20 21 ...\n",
      " $ G_old    : int  11 45 2 5 NA NA NA 122 153 153 ...\n"
     ]
    }
   ],
   "source": [
    "str(bat)"
   ]
  },
  {
   "cell_type": "code",
   "execution_count": 9,
   "id": "bda34078",
   "metadata": {},
   "outputs": [
    {
     "name": "stdout",
     "output_type": "stream",
     "text": [
      "'data.frame':\t23956 obs. of  5 variables:\n",
      " $ yearID  : int  1985 1985 1985 1985 1985 1985 1985 1985 1985 1985 ...\n",
      " $ teamID  : Factor w/ 35 levels \"ANA\",\"ARI\",\"ATL\",..: 4 4 4 4 4 4 4 4 4 4 ...\n",
      " $ lgID    : Factor w/ 2 levels \"AL\",\"NL\": 1 1 1 1 1 1 1 1 1 1 ...\n",
      " $ playerID: Factor w/ 4668 levels \"aardsda01\",\"aasedo01\",..: 2961 2517 3566 2304 1332 394 4061 2604 3634 2722 ...\n",
      " $ salary  : int  1472819 1090000 800000 725000 641667 625000 581250 560000 558333 547143 ...\n"
     ]
    }
   ],
   "source": [
    "str(sal)"
   ]
  },
  {
   "cell_type": "code",
   "execution_count": 10,
   "id": "a0fb4d8a",
   "metadata": {},
   "outputs": [
    {
     "data": {
      "text/html": [
       "<ol class=list-inline>\n",
       "\t<li>0</li>\n",
       "\t<li>2</li>\n",
       "\t<li>0</li>\n",
       "\t<li>1</li>\n",
       "\t<li>0</li>\n",
       "\t<li>0</li>\n",
       "</ol>\n"
      ],
      "text/latex": [
       "\\begin{enumerate*}\n",
       "\\item 0\n",
       "\\item 2\n",
       "\\item 0\n",
       "\\item 1\n",
       "\\item 0\n",
       "\\item 0\n",
       "\\end{enumerate*}\n"
      ],
      "text/markdown": [
       "1. 0\n",
       "2. 2\n",
       "3. 0\n",
       "4. 1\n",
       "5. 0\n",
       "6. 0\n",
       "\n",
       "\n"
      ],
      "text/plain": [
       "[1] 0 2 0 1 0 0"
      ]
     },
     "metadata": {},
     "output_type": "display_data"
    }
   ],
   "source": [
    "head(bat$AB)"
   ]
  },
  {
   "cell_type": "code",
   "execution_count": 11,
   "id": "38a5f850",
   "metadata": {},
   "outputs": [
    {
     "data": {
      "text/html": [
       "<ol class=list-inline>\n",
       "\t<li>0</li>\n",
       "\t<li>0</li>\n",
       "\t<li>0</li>\n",
       "\t<li>0</li>\n",
       "\t<li>0</li>\n",
       "\t<li>0</li>\n",
       "</ol>\n"
      ],
      "text/latex": [
       "\\begin{enumerate*}\n",
       "\\item 0\n",
       "\\item 0\n",
       "\\item 0\n",
       "\\item 0\n",
       "\\item 0\n",
       "\\item 0\n",
       "\\end{enumerate*}\n"
      ],
      "text/markdown": [
       "1. 0\n",
       "2. 0\n",
       "3. 0\n",
       "4. 0\n",
       "5. 0\n",
       "6. 0\n",
       "\n",
       "\n"
      ],
      "text/plain": [
       "[1] 0 0 0 0 0 0"
      ]
     },
     "metadata": {},
     "output_type": "display_data"
    }
   ],
   "source": [
    "head(bat$X2B)"
   ]
  },
  {
   "cell_type": "markdown",
   "id": "0ac1e207",
   "metadata": {},
   "source": [
    "#Feature Engineering\n",
    "\n",
    "Batting Average\n",
    "Onbase Percentage\n",
    "Slugging Percentage"
   ]
  },
  {
   "cell_type": "code",
   "execution_count": 12,
   "id": "55b3d2b8",
   "metadata": {},
   "outputs": [],
   "source": [
    "#Batting Average\n",
    "\n",
    "bat$BA = bat$H/bat$AB"
   ]
  },
  {
   "cell_type": "code",
   "execution_count": 13,
   "id": "9d4a6518",
   "metadata": {},
   "outputs": [
    {
     "data": {
      "text/html": [
       "<ol class=list-inline>\n",
       "\t<li>0</li>\n",
       "\t<li>0.123076923076923</li>\n",
       "\t<li>0.274647887323944</li>\n",
       "\t<li>0.147058823529412</li>\n",
       "\t<li>0.274509803921569</li>\n",
       "\t<li>0.213872832369942</li>\n",
       "</ol>\n"
      ],
      "text/latex": [
       "\\begin{enumerate*}\n",
       "\\item 0\n",
       "\\item 0.123076923076923\n",
       "\\item 0.274647887323944\n",
       "\\item 0.147058823529412\n",
       "\\item 0.274509803921569\n",
       "\\item 0.213872832369942\n",
       "\\end{enumerate*}\n"
      ],
      "text/markdown": [
       "1. 0\n",
       "2. 0.123076923076923\n",
       "3. 0.274647887323944\n",
       "4. 0.147058823529412\n",
       "5. 0.274509803921569\n",
       "6. 0.213872832369942\n",
       "\n",
       "\n"
      ],
      "text/plain": [
       "[1] 0.0000000 0.1230769 0.2746479 0.1470588 0.2745098 0.2138728"
      ]
     },
     "metadata": {},
     "output_type": "display_data"
    }
   ],
   "source": [
    "tail(bat$BA)"
   ]
  },
  {
   "cell_type": "code",
   "execution_count": 14,
   "id": "6115be27",
   "metadata": {},
   "outputs": [],
   "source": [
    "#Onbase Percentage\n",
    "\n",
    "bat$OBP = (bat$H+bat$BB+bat$HBP)/(bat$AB+bat$BB+bat$HBP+bat$SF)"
   ]
  },
  {
   "cell_type": "code",
   "execution_count": 15,
   "id": "916777c9",
   "metadata": {},
   "outputs": [
    {
     "data": {
      "text/html": [
       "<ol class=list-inline>\n",
       "\t<li>0</li>\n",
       "\t<li>0.134328358208955</li>\n",
       "\t<li>0.344391785150079</li>\n",
       "\t<li>0.147058823529412</li>\n",
       "\t<li>0.354375896700143</li>\n",
       "\t<li>0.290155440414508</li>\n",
       "</ol>\n"
      ],
      "text/latex": [
       "\\begin{enumerate*}\n",
       "\\item 0\n",
       "\\item 0.134328358208955\n",
       "\\item 0.344391785150079\n",
       "\\item 0.147058823529412\n",
       "\\item 0.354375896700143\n",
       "\\item 0.290155440414508\n",
       "\\end{enumerate*}\n"
      ],
      "text/markdown": [
       "1. 0\n",
       "2. 0.134328358208955\n",
       "3. 0.344391785150079\n",
       "4. 0.147058823529412\n",
       "5. 0.354375896700143\n",
       "6. 0.290155440414508\n",
       "\n",
       "\n"
      ],
      "text/plain": [
       "[1] 0.0000000 0.1343284 0.3443918 0.1470588 0.3543759 0.2901554"
      ]
     },
     "metadata": {},
     "output_type": "display_data"
    }
   ],
   "source": [
    "tail(bat$OBP)"
   ]
  },
  {
   "cell_type": "code",
   "execution_count": 16,
   "id": "40b3a5d7",
   "metadata": {},
   "outputs": [],
   "source": [
    "#Slugging percentage\n",
    "\n",
    "bat$X1B = bat$H-bat$X2B-bat$X3B-bat$HR"
   ]
  },
  {
   "cell_type": "code",
   "execution_count": 17,
   "id": "f06b868c",
   "metadata": {},
   "outputs": [],
   "source": [
    "bat$SLG = ((1 * bat$X1B)+(2 * bat$X2B)+(3 * bat$X3B)+(4 * bat$HR))/bat$AB "
   ]
  },
  {
   "cell_type": "code",
   "execution_count": 18,
   "id": "84eb55c9",
   "metadata": {},
   "outputs": [
    {
     "name": "stdout",
     "output_type": "stream",
     "text": [
      "'data.frame':\t97889 obs. of  28 variables:\n",
      " $ playerID : Factor w/ 18107 levels \"aardsda01\",\"aaronha01\",..: 1 1 1 1 1 1 1 2 2 2 ...\n",
      " $ yearID   : int  2004 2006 2007 2008 2009 2010 2012 1954 1955 1956 ...\n",
      " $ stint    : int  1 1 1 1 1 1 1 1 1 1 ...\n",
      " $ teamID   : Factor w/ 149 levels \"ALT\",\"ANA\",\"ARI\",..: 117 35 33 16 116 116 93 80 80 80 ...\n",
      " $ lgID     : Factor w/ 6 levels \"AA\",\"AL\",\"FL\",..: 4 4 2 2 2 2 2 4 4 4 ...\n",
      " $ G        : int  11 45 25 47 73 53 1 122 153 153 ...\n",
      " $ G_batting: int  11 43 2 5 3 4 NA 122 153 153 ...\n",
      " $ AB       : int  0 2 0 1 0 0 NA 468 602 609 ...\n",
      " $ R        : int  0 0 0 0 0 0 NA 58 105 106 ...\n",
      " $ H        : int  0 0 0 0 0 0 NA 131 189 200 ...\n",
      " $ X2B      : int  0 0 0 0 0 0 NA 27 37 34 ...\n",
      " $ X3B      : int  0 0 0 0 0 0 NA 6 9 14 ...\n",
      " $ HR       : int  0 0 0 0 0 0 NA 13 27 26 ...\n",
      " $ RBI      : int  0 0 0 0 0 0 NA 69 106 92 ...\n",
      " $ SB       : int  0 0 0 0 0 0 NA 2 3 2 ...\n",
      " $ CS       : int  0 0 0 0 0 0 NA 2 1 4 ...\n",
      " $ BB       : int  0 0 0 0 0 0 NA 28 49 37 ...\n",
      " $ SO       : int  0 0 0 1 0 0 NA 39 61 54 ...\n",
      " $ IBB      : int  0 0 0 0 0 0 NA NA 5 6 ...\n",
      " $ HBP      : int  0 0 0 0 0 0 NA 3 3 2 ...\n",
      " $ SH       : int  0 1 0 0 0 0 NA 6 7 5 ...\n",
      " $ SF       : int  0 0 0 0 0 0 NA 4 4 7 ...\n",
      " $ GIDP     : int  0 0 0 0 0 0 NA 13 20 21 ...\n",
      " $ G_old    : int  11 45 2 5 NA NA NA 122 153 153 ...\n",
      " $ BA       : num  NaN 0 NaN 0 NaN ...\n",
      " $ OBP      : num  NaN 0 NaN 0 NaN ...\n",
      " $ X1B      : int  0 0 0 0 0 0 NA 85 116 126 ...\n",
      " $ SLG      : num  NaN 0 NaN 0 NaN ...\n"
     ]
    }
   ],
   "source": [
    "str(bat)"
   ]
  },
  {
   "cell_type": "code",
   "execution_count": 19,
   "id": "30b4c383",
   "metadata": {},
   "outputs": [
    {
     "data": {
      "text/plain": [
       "      playerID         yearID         stint           teamID        lgID      \n",
       " mcguide01:   31   Min.   :1871   Min.   :1.000   CHN    : 4720   AA  : 1890  \n",
       " henderi01:   29   1st Qu.:1931   1st Qu.:1.000   PHI    : 4621   AL  :44369  \n",
       " newsobo01:   29   Median :1970   Median :1.000   PIT    : 4575   FL  :  470  \n",
       " johnto01 :   28   Mean   :1962   Mean   :1.077   SLN    : 4535   NL  :49944  \n",
       " kaatji01 :   28   3rd Qu.:1995   3rd Qu.:1.000   CIN    : 4393   PL  :  147  \n",
       " ansonca01:   27   Max.   :2013   Max.   :5.000   CLE    : 4318   UA  :  332  \n",
       " (Other)  :97717                                  (Other):70727   NA's:  737  \n",
       "       G            G_batting            AB              R         \n",
       " Min.   :  1.00   Min.   :  0.00   Min.   :  0.0   Min.   :  0.00  \n",
       " 1st Qu.: 13.00   1st Qu.:  7.00   1st Qu.:  9.0   1st Qu.:  0.00  \n",
       " Median : 35.00   Median : 32.00   Median : 61.0   Median :  5.00  \n",
       " Mean   : 51.65   Mean   : 49.13   Mean   :154.1   Mean   : 20.47  \n",
       " 3rd Qu.: 81.00   3rd Qu.: 81.00   3rd Qu.:260.0   3rd Qu.: 31.00  \n",
       " Max.   :165.00   Max.   :165.00   Max.   :716.0   Max.   :192.00  \n",
       "                  NA's   :1406     NA's   :6413    NA's   :6413    \n",
       "       H               X2B            X3B               HR        \n",
       " Min.   :  0.00   Min.   : 0.0   Min.   : 0.000   Min.   : 0.000  \n",
       " 1st Qu.:  1.00   1st Qu.: 0.0   1st Qu.: 0.000   1st Qu.: 0.000  \n",
       " Median : 12.00   Median : 2.0   Median : 0.000   Median : 0.000  \n",
       " Mean   : 40.37   Mean   : 6.8   Mean   : 1.424   Mean   : 3.002  \n",
       " 3rd Qu.: 66.00   3rd Qu.:10.0   3rd Qu.: 2.000   3rd Qu.: 3.000  \n",
       " Max.   :262.00   Max.   :67.0   Max.   :36.000   Max.   :73.000  \n",
       " NA's   :6413     NA's   :6413   NA's   :6413     NA's   :6413    \n",
       "      RBI               SB                CS               BB        \n",
       " Min.   :  0.00   Min.   :  0.000   Min.   : 0.000   Min.   :  0.00  \n",
       " 1st Qu.:  0.00   1st Qu.:  0.000   1st Qu.: 0.000   1st Qu.:  0.00  \n",
       " Median :  5.00   Median :  0.000   Median : 0.000   Median :  4.00  \n",
       " Mean   : 18.47   Mean   :  3.265   Mean   : 1.385   Mean   : 14.21  \n",
       " 3rd Qu.: 28.00   3rd Qu.:  2.000   3rd Qu.: 1.000   3rd Qu.: 21.00  \n",
       " Max.   :191.00   Max.   :138.000   Max.   :42.000   Max.   :232.00  \n",
       " NA's   :6837     NA's   :7713      NA's   :29867    NA's   :6413    \n",
       "       SO              IBB              HBP               SH        \n",
       " Min.   :  0.00   Min.   :  0.00   Min.   : 0.000   Min.   : 0.000  \n",
       " 1st Qu.:  2.00   1st Qu.:  0.00   1st Qu.: 0.000   1st Qu.: 0.000  \n",
       " Median : 11.00   Median :  0.00   Median : 0.000   Median : 1.000  \n",
       " Mean   : 21.95   Mean   :  1.28   Mean   : 1.136   Mean   : 2.564  \n",
       " 3rd Qu.: 31.00   3rd Qu.:  1.00   3rd Qu.: 1.000   3rd Qu.: 3.000  \n",
       " Max.   :223.00   Max.   :120.00   Max.   :51.000   Max.   :67.000  \n",
       " NA's   :14251    NA's   :42977    NA's   :9233     NA's   :12751   \n",
       "       SF             GIDP           G_old              BA       \n",
       " Min.   : 0.0    Min.   : 0.00   Min.   :  0.00   Min.   :0.000  \n",
       " 1st Qu.: 0.0    1st Qu.: 0.00   1st Qu.: 11.00   1st Qu.:0.148  \n",
       " Median : 0.0    Median : 1.00   Median : 34.00   Median :0.231  \n",
       " Mean   : 1.2    Mean   : 3.33   Mean   : 50.99   Mean   :0.209  \n",
       " 3rd Qu.: 2.0    3rd Qu.: 5.00   3rd Qu.: 82.00   3rd Qu.:0.275  \n",
       " Max.   :19.0    Max.   :36.00   Max.   :165.00   Max.   :1.000  \n",
       " NA's   :42446   NA's   :32521   NA's   :5189     NA's   :13520  \n",
       "      OBP             X1B              SLG       \n",
       " Min.   :0.00    Min.   :  0.00   Min.   :0.000  \n",
       " 1st Qu.:0.19    1st Qu.:  1.00   1st Qu.:0.179  \n",
       " Median :0.29    Median :  9.00   Median :0.309  \n",
       " Mean   :0.26    Mean   : 29.14   Mean   :0.291  \n",
       " 3rd Qu.:0.34    3rd Qu.: 48.00   3rd Qu.:0.397  \n",
       " Max.   :1.00    Max.   :225.00   Max.   :4.000  \n",
       " NA's   :49115   NA's   :6413     NA's   :13520  "
      ]
     },
     "metadata": {},
     "output_type": "display_data"
    }
   ],
   "source": [
    "summary(bat)"
   ]
  },
  {
   "cell_type": "code",
   "execution_count": 20,
   "id": "cb0f1892",
   "metadata": {},
   "outputs": [],
   "source": [
    "bat=subset(bat, yearID >= 1985)"
   ]
  },
  {
   "cell_type": "code",
   "execution_count": 21,
   "id": "569c9e4b",
   "metadata": {},
   "outputs": [
    {
     "data": {
      "text/plain": [
       "      playerID         yearID         stint          teamID      lgID      \n",
       " moyerja01:   27   Min.   :1985   Min.   :1.00   SDN    : 1313   AA:    0  \n",
       " mulhote01:   26   1st Qu.:1993   1st Qu.:1.00   CLE    : 1306   AL:17226  \n",
       " weathda01:   26   Median :2000   Median :1.00   PIT    : 1299   FL:    0  \n",
       " maddugr01:   25   Mean   :2000   Mean   :1.08   NYN    : 1297   NL:18426  \n",
       " sierrru01:   25   3rd Qu.:2007   3rd Qu.:1.00   BOS    : 1279   PL:    0  \n",
       " thomeji01:   25   Max.   :2013   Max.   :4.00   CIN    : 1279   UA:    0  \n",
       " (Other)  :35498                                 (Other):27879             \n",
       "       G           G_batting            AB              R         \n",
       " Min.   :  1.0   Min.   :  0.00   Min.   :  0.0   Min.   :  0.00  \n",
       " 1st Qu.: 14.0   1st Qu.:  4.00   1st Qu.:  3.0   1st Qu.:  0.00  \n",
       " Median : 34.0   Median : 27.00   Median : 47.0   Median :  4.00  \n",
       " Mean   : 51.7   Mean   : 46.28   Mean   :144.7   Mean   : 19.44  \n",
       " 3rd Qu.: 77.0   3rd Qu.: 77.00   3rd Qu.:241.0   3rd Qu.: 30.00  \n",
       " Max.   :163.0   Max.   :163.00   Max.   :716.0   Max.   :152.00  \n",
       "                 NA's   :1406     NA's   :4377    NA's   :4377    \n",
       "       H               X2B              X3B               HR        \n",
       " Min.   :  0.00   Min.   : 0.000   Min.   : 0.000   Min.   : 0.000  \n",
       " 1st Qu.:  0.00   1st Qu.: 0.000   1st Qu.: 0.000   1st Qu.: 0.000  \n",
       " Median :  8.00   Median : 1.000   Median : 0.000   Median : 0.000  \n",
       " Mean   : 37.95   Mean   : 7.293   Mean   : 0.824   Mean   : 4.169  \n",
       " 3rd Qu.: 61.00   3rd Qu.:11.000   3rd Qu.: 1.000   3rd Qu.: 5.000  \n",
       " Max.   :262.00   Max.   :59.000   Max.   :23.000   Max.   :73.000  \n",
       " NA's   :4377     NA's   :4377     NA's   :4377     NA's   :4377    \n",
       "      RBI               SB                CS               BB        \n",
       " Min.   :  0.00   Min.   :  0.000   Min.   : 0.000   Min.   :  0.00  \n",
       " 1st Qu.:  0.00   1st Qu.:  0.000   1st Qu.: 0.000   1st Qu.:  0.00  \n",
       " Median :  3.00   Median :  0.000   Median : 0.000   Median :  3.00  \n",
       " Mean   : 18.41   Mean   :  2.811   Mean   : 1.219   Mean   : 14.06  \n",
       " 3rd Qu.: 27.00   3rd Qu.:  2.000   3rd Qu.: 1.000   3rd Qu.: 21.00  \n",
       " Max.   :165.00   Max.   :110.000   Max.   :29.000   Max.   :232.00  \n",
       " NA's   :4377     NA's   :4377      NA's   :4377     NA's   :4377    \n",
       "       SO              IBB               HBP               SH        \n",
       " Min.   :  0.00   Min.   :  0.000   Min.   : 0.000   Min.   : 0.000  \n",
       " 1st Qu.:  1.00   1st Qu.:  0.000   1st Qu.: 0.000   1st Qu.: 0.000  \n",
       " Median : 12.00   Median :  0.000   Median : 0.000   Median : 0.000  \n",
       " Mean   : 27.03   Mean   :  1.171   Mean   : 1.273   Mean   : 1.465  \n",
       " 3rd Qu.: 42.00   3rd Qu.:  1.000   3rd Qu.: 1.000   3rd Qu.: 2.000  \n",
       " Max.   :223.00   Max.   :120.000   Max.   :35.000   Max.   :39.000  \n",
       " NA's   :4377     NA's   :4378      NA's   :4387     NA's   :4377    \n",
       "       SF              GIDP           G_old             BA       \n",
       " Min.   : 0.000   Min.   : 0.00   Min.   :  0.0   Min.   :0.000  \n",
       " 1st Qu.: 0.000   1st Qu.: 0.00   1st Qu.: 11.0   1st Qu.:0.136  \n",
       " Median : 0.000   Median : 1.00   Median : 32.0   Median :0.233  \n",
       " Mean   : 1.212   Mean   : 3.25   Mean   : 49.7   Mean   :0.205  \n",
       " 3rd Qu.: 2.000   3rd Qu.: 5.00   3rd Qu.: 77.0   3rd Qu.:0.274  \n",
       " Max.   :17.000   Max.   :35.00   Max.   :163.0   Max.   :1.000  \n",
       " NA's   :4378     NA's   :4377    NA's   :5189    NA's   :8905   \n",
       "      OBP             X1B              SLG       \n",
       " Min.   :0.000   Min.   :  0.00   Min.   :0.000  \n",
       " 1st Qu.:0.188   1st Qu.:  0.00   1st Qu.:0.167  \n",
       " Median :0.296   Median :  6.00   Median :0.333  \n",
       " Mean   :0.262   Mean   : 25.66   Mean   :0.304  \n",
       " 3rd Qu.:0.342   3rd Qu.: 42.00   3rd Qu.:0.423  \n",
       " Max.   :1.000   Max.   :225.00   Max.   :4.000  \n",
       " NA's   :8821    NA's   :4377     NA's   :8905   "
      ]
     },
     "metadata": {},
     "output_type": "display_data"
    }
   ],
   "source": [
    "summary(bat)"
   ]
  },
  {
   "cell_type": "code",
   "execution_count": 23,
   "id": "20786762",
   "metadata": {},
   "outputs": [],
   "source": [
    "#Merging sal and bat data\n",
    "\n",
    "\n",
    "combo = merge(bat,sal,by=c('playerID','yearID'))"
   ]
  },
  {
   "cell_type": "code",
   "execution_count": 24,
   "id": "16abc221",
   "metadata": {},
   "outputs": [
    {
     "data": {
      "text/plain": [
       "      playerID         yearID         stint          teamID.x     lgID.x    \n",
       " moyerja01:   27   Min.   :1985   Min.   :1.000   LAN    :  940   AA:    0  \n",
       " thomeji01:   25   1st Qu.:1993   1st Qu.:1.000   PHI    :  937   AL:12292  \n",
       " weathda01:   25   Median :1999   Median :1.000   BOS    :  935   FL:    0  \n",
       " vizquom01:   24   Mean   :1999   Mean   :1.098   NYA    :  928   NL:13105  \n",
       " gaettga01:   23   3rd Qu.:2006   3rd Qu.:1.000   CLE    :  920   PL:    0  \n",
       " griffke02:   23   Max.   :2013   Max.   :4.000   SDN    :  914   UA:    0  \n",
       " (Other)  :25250                                  (Other):19823             \n",
       "       G            G_batting            AB              R         \n",
       " Min.   :  1.00   Min.   :  0.00   Min.   :  0.0   Min.   :  0.00  \n",
       " 1st Qu.: 26.00   1st Qu.:  8.00   1st Qu.:  5.0   1st Qu.:  0.00  \n",
       " Median : 50.00   Median : 42.00   Median : 85.0   Median :  9.00  \n",
       " Mean   : 64.06   Mean   : 57.58   Mean   :182.4   Mean   : 24.71  \n",
       " 3rd Qu.:101.00   3rd Qu.:101.00   3rd Qu.:336.0   3rd Qu.: 43.00  \n",
       " Max.   :163.00   Max.   :163.00   Max.   :716.0   Max.   :152.00  \n",
       "                  NA's   :906      NA's   :2661    NA's   :2661    \n",
       "       H               X2B              X3B               HR        \n",
       " Min.   :  0.00   Min.   : 0.000   Min.   : 0.000   Min.   : 0.000  \n",
       " 1st Qu.:  1.00   1st Qu.: 0.000   1st Qu.: 0.000   1st Qu.: 0.000  \n",
       " Median : 19.00   Median : 3.000   Median : 0.000   Median : 1.000  \n",
       " Mean   : 48.18   Mean   : 9.276   Mean   : 1.033   Mean   : 5.369  \n",
       " 3rd Qu.: 87.25   3rd Qu.:16.000   3rd Qu.: 1.000   3rd Qu.: 7.000  \n",
       " Max.   :262.00   Max.   :59.000   Max.   :23.000   Max.   :73.000  \n",
       " NA's   :2661     NA's   :2661     NA's   :2661     NA's   :2661    \n",
       "      RBI               SB                CS              BB        \n",
       " Min.   :  0.00   Min.   :  0.000   Min.   : 0.00   Min.   :  0.00  \n",
       " 1st Qu.:  0.00   1st Qu.:  0.000   1st Qu.: 0.00   1st Qu.:  0.00  \n",
       " Median :  8.00   Median :  0.000   Median : 0.00   Median :  6.00  \n",
       " Mean   : 23.56   Mean   :  3.568   Mean   : 1.54   Mean   : 17.98  \n",
       " 3rd Qu.: 39.00   3rd Qu.:  3.000   3rd Qu.: 2.00   3rd Qu.: 29.00  \n",
       " Max.   :165.00   Max.   :110.000   Max.   :29.00   Max.   :232.00  \n",
       " NA's   :2661     NA's   :2661      NA's   :2661    NA's   :2661    \n",
       "       SO              IBB               HBP               SH        \n",
       " Min.   :  0.00   Min.   :  0.000   Min.   : 0.000   Min.   : 0.000  \n",
       " 1st Qu.:  2.00   1st Qu.:  0.000   1st Qu.: 0.000   1st Qu.: 0.000  \n",
       " Median : 20.00   Median :  0.000   Median : 0.000   Median : 0.000  \n",
       " Mean   : 33.52   Mean   :  1.533   Mean   : 1.614   Mean   : 1.786  \n",
       " 3rd Qu.: 55.00   3rd Qu.:  2.000   3rd Qu.: 2.000   3rd Qu.: 2.000  \n",
       " Max.   :223.00   Max.   :120.000   Max.   :35.000   Max.   :39.000  \n",
       " NA's   :2661     NA's   :2662      NA's   :2670     NA's   :2661    \n",
       "       SF              GIDP            G_old              BA       \n",
       " Min.   : 0.000   Min.   : 0.000   Min.   :  0.00   Min.   :0.000  \n",
       " 1st Qu.: 0.000   1st Qu.: 0.000   1st Qu.: 20.00   1st Qu.:0.160  \n",
       " Median : 0.000   Median : 2.000   Median : 47.00   Median :0.242  \n",
       " Mean   : 1.554   Mean   : 4.127   Mean   : 61.43   Mean   :0.212  \n",
       " 3rd Qu.: 2.000   3rd Qu.: 7.000   3rd Qu.:101.00   3rd Qu.:0.276  \n",
       " Max.   :17.000   Max.   :35.000   Max.   :163.00   Max.   :1.000  \n",
       " NA's   :2662     NA's   :2661     NA's   :3414     NA's   :5618   \n",
       "      OBP             X1B             SLG           teamID.y     lgID.y    \n",
       " Min.   :0.000   Min.   :  0.0   Min.   :0.000   CLE    :  935   AL:12304  \n",
       " 1st Qu.:0.208   1st Qu.:  0.0   1st Qu.:0.200   PIT    :  932   NL:13093  \n",
       " Median :0.305   Median : 13.0   Median :0.351   PHI    :  931             \n",
       " Mean   :0.270   Mean   : 32.5   Mean   :0.317   SDN    :  923             \n",
       " 3rd Qu.:0.346   3rd Qu.: 59.0   3rd Qu.:0.432   LAN    :  921             \n",
       " Max.   :1.000   Max.   :225.0   Max.   :4.000   CIN    :  912             \n",
       " NA's   :5562    NA's   :2661    NA's   :5618    (Other):19843             \n",
       "     salary        \n",
       " Min.   :       0  \n",
       " 1st Qu.:  255000  \n",
       " Median :  550000  \n",
       " Mean   : 1879256  \n",
       " 3rd Qu.: 2150000  \n",
       " Max.   :33000000  \n",
       "                   "
      ]
     },
     "metadata": {},
     "output_type": "display_data"
    }
   ],
   "source": [
    "summary(combo)"
   ]
  },
  {
   "cell_type": "markdown",
   "id": "def00514",
   "metadata": {},
   "source": [
    "#Analyzing the lost players jason Giambi, Johnny Damon, Rainer Gustavo"
   ]
  },
  {
   "cell_type": "code",
   "execution_count": 25,
   "id": "848cd450",
   "metadata": {},
   "outputs": [],
   "source": [
    "lost=subset(combo,playerID %in% c('giambja01','damonjo01','saenzol01'))"
   ]
  },
  {
   "cell_type": "code",
   "execution_count": 26,
   "id": "44278078",
   "metadata": {},
   "outputs": [
    {
     "data": {
      "text/html": [
       "<table>\n",
       "<thead><tr><th></th><th scope=col>playerID</th><th scope=col>yearID</th><th scope=col>stint</th><th scope=col>teamID.x</th><th scope=col>lgID.x</th><th scope=col>G</th><th scope=col>G_batting</th><th scope=col>AB</th><th scope=col>R</th><th scope=col>H</th><th scope=col>...</th><th scope=col>SF</th><th scope=col>GIDP</th><th scope=col>G_old</th><th scope=col>BA</th><th scope=col>OBP</th><th scope=col>X1B</th><th scope=col>SLG</th><th scope=col>teamID.y</th><th scope=col>lgID.y</th><th scope=col>salary</th></tr></thead>\n",
       "<tbody>\n",
       "\t<tr><th scope=row>5135</th><td>damonjo01</td><td>1995     </td><td>1        </td><td>KCA      </td><td>AL       </td><td> 47      </td><td> 47      </td><td>188      </td><td> 32      </td><td> 53      </td><td>...      </td><td> 3       </td><td> 2       </td><td> 47      </td><td>0.2819149</td><td>0.3235294</td><td> 34      </td><td>0.4414894</td><td>KCA      </td><td>AL       </td><td>  109000 </td></tr>\n",
       "\t<tr><th scope=row>5136</th><td>damonjo01</td><td>1996     </td><td>1        </td><td>KCA      </td><td>AL       </td><td>145      </td><td>145      </td><td>517      </td><td> 61      </td><td>140      </td><td>...      </td><td> 5       </td><td> 4       </td><td>145      </td><td>0.2707930</td><td>0.3129496</td><td>107      </td><td>0.3675048</td><td>KCA      </td><td>AL       </td><td>  180000 </td></tr>\n",
       "\t<tr><th scope=row>5137</th><td>damonjo01</td><td>1997     </td><td>1        </td><td>KCA      </td><td>AL       </td><td>146      </td><td>146      </td><td>472      </td><td> 70      </td><td>130      </td><td>...      </td><td> 1       </td><td> 3       </td><td>146      </td><td>0.2754237</td><td>0.3378378</td><td>102      </td><td>0.3855932</td><td>KCA      </td><td>AL       </td><td>  240000 </td></tr>\n",
       "\t<tr><th scope=row>5138</th><td>damonjo01</td><td>1998     </td><td>1        </td><td>KCA      </td><td>AL       </td><td>161      </td><td>161      </td><td>642      </td><td>104      </td><td>178      </td><td>...      </td><td> 3       </td><td> 4       </td><td>161      </td><td>0.2772586</td><td>0.3394625</td><td>120      </td><td>0.4392523</td><td>KCA      </td><td>AL       </td><td>  460000 </td></tr>\n",
       "\t<tr><th scope=row>5139</th><td>damonjo01</td><td>1999     </td><td>1        </td><td>KCA      </td><td>AL       </td><td>145      </td><td>145      </td><td>583      </td><td>101      </td><td>179      </td><td>...      </td><td> 4       </td><td>13       </td><td>145      </td><td>0.3070326</td><td>0.3789954</td><td>117      </td><td>0.4768439</td><td>KCA      </td><td>AL       </td><td> 2100000 </td></tr>\n",
       "\t<tr><th scope=row>5140</th><td>damonjo01</td><td>2000     </td><td>1        </td><td>KCA      </td><td>AL       </td><td>159      </td><td>159      </td><td>655      </td><td>136      </td><td>214      </td><td>...      </td><td>12       </td><td> 7       </td><td>159      </td><td>0.3267176</td><td>0.3819918</td><td>146      </td><td>0.4946565</td><td>KCA      </td><td>AL       </td><td> 4000000 </td></tr>\n",
       "\t<tr><th scope=row>5141</th><td>damonjo01</td><td>2001     </td><td>1        </td><td>OAK      </td><td>AL       </td><td>155      </td><td>155      </td><td>644      </td><td>108      </td><td>165      </td><td>...      </td><td> 4       </td><td> 7       </td><td>155      </td><td>0.2562112</td><td>0.3235294</td><td>118      </td><td>0.3633540</td><td>OAK      </td><td>AL       </td><td> 7100000 </td></tr>\n",
       "\t<tr><th scope=row>5142</th><td>damonjo01</td><td>2002     </td><td>1        </td><td>BOS      </td><td>AL       </td><td>154      </td><td>154      </td><td>623      </td><td>118      </td><td>178      </td><td>...      </td><td> 5       </td><td> 4       </td><td>154      </td><td>0.2857143</td><td>0.3562232</td><td>119      </td><td>0.4430177</td><td>BOS      </td><td>AL       </td><td> 7250000 </td></tr>\n",
       "\t<tr><th scope=row>5143</th><td>damonjo01</td><td>2003     </td><td>1        </td><td>BOS      </td><td>AL       </td><td>145      </td><td>145      </td><td>608      </td><td>103      </td><td>166      </td><td>...      </td><td> 6       </td><td> 5       </td><td>145      </td><td>0.2730263</td><td>0.3450292</td><td>116      </td><td>0.4046053</td><td>BOS      </td><td>AL       </td><td> 7500000 </td></tr>\n",
       "\t<tr><th scope=row>5144</th><td>damonjo01</td><td>2004     </td><td>1        </td><td>BOS      </td><td>AL       </td><td>150      </td><td>150      </td><td>621      </td><td>123      </td><td>189      </td><td>...      </td><td> 3       </td><td> 8       </td><td>150      </td><td>0.3043478</td><td>0.3803419</td><td>128      </td><td>0.4766506</td><td>BOS      </td><td>AL       </td><td> 8000000 </td></tr>\n",
       "\t<tr><th scope=row>5145</th><td>damonjo01</td><td>2005     </td><td>1        </td><td>BOS      </td><td>AL       </td><td>148      </td><td>148      </td><td>624      </td><td>117      </td><td>197      </td><td>...      </td><td> 9       </td><td> 5       </td><td>148      </td><td>0.3157051</td><td>0.3662791</td><td>146      </td><td>0.4391026</td><td>BOS      </td><td>AL       </td><td> 8250000 </td></tr>\n",
       "\t<tr><th scope=row>5146</th><td>damonjo01</td><td>2006     </td><td>1        </td><td>NYA      </td><td>AL       </td><td>149      </td><td>149      </td><td>593      </td><td>115      </td><td>169      </td><td>...      </td><td> 5       </td><td> 4       </td><td>149      </td><td>0.2849916</td><td>0.3587444</td><td>105      </td><td>0.4822934</td><td>NYA      </td><td>AL       </td><td>13000000 </td></tr>\n",
       "\t<tr><th scope=row>5147</th><td>damonjo01</td><td>2007     </td><td>1        </td><td>NYA      </td><td>AL       </td><td>141      </td><td>141      </td><td>533      </td><td> 93      </td><td>144      </td><td>...      </td><td> 3       </td><td> 4       </td><td>141      </td><td>0.2701689</td><td>0.3509934</td><td>103      </td><td>0.3958724</td><td>NYA      </td><td>AL       </td><td>13000000 </td></tr>\n",
       "\t<tr><th scope=row>5148</th><td>damonjo01</td><td>2008     </td><td>1        </td><td>NYA      </td><td>AL       </td><td>143      </td><td>143      </td><td>555      </td><td> 95      </td><td>168      </td><td>...      </td><td> 1       </td><td> 5       </td><td>143      </td><td>0.3027027</td><td>0.3752013</td><td>119      </td><td>0.4612613</td><td>NYA      </td><td>AL       </td><td>13000000 </td></tr>\n",
       "\t<tr><th scope=row>5149</th><td>damonjo01</td><td>2009     </td><td>1        </td><td>NYA      </td><td>AL       </td><td>143      </td><td>143      </td><td>550      </td><td>107      </td><td>155      </td><td>...      </td><td> 1       </td><td> 9       </td><td> NA      </td><td>0.2818182</td><td>0.3653846</td><td> 92      </td><td>0.4890909</td><td>NYA      </td><td>AL       </td><td>13000000 </td></tr>\n",
       "\t<tr><th scope=row>5150</th><td>damonjo01</td><td>2010     </td><td>1        </td><td>DET      </td><td>AL       </td><td>145      </td><td>145      </td><td>539      </td><td> 81      </td><td>146      </td><td>...      </td><td> 1       </td><td> 5       </td><td> NA      </td><td>0.2708720</td><td>0.3551555</td><td> 97      </td><td>0.4007421</td><td>DET      </td><td>AL       </td><td> 8000000 </td></tr>\n",
       "\t<tr><th scope=row>5151</th><td>damonjo01</td><td>2011     </td><td>1        </td><td>TBA      </td><td>AL       </td><td>150      </td><td>150      </td><td>582      </td><td> 79      </td><td>152      </td><td>...      </td><td> 5       </td><td> 4       </td><td>150      </td><td>0.2611684</td><td>0.3255814</td><td>100      </td><td>0.4175258</td><td>TBA      </td><td>AL       </td><td> 5250000 </td></tr>\n",
       "\t<tr><th scope=row>7872</th><td>giambja01</td><td>1995     </td><td>1        </td><td>OAK      </td><td>AL       </td><td> 54      </td><td> 54      </td><td>176      </td><td> 27      </td><td> 45      </td><td>...      </td><td> 2       </td><td> 4       </td><td> 54      </td><td>0.2556818</td><td>0.3636364</td><td> 32      </td><td>0.3977273</td><td>OAK      </td><td>AL       </td><td>  109000 </td></tr>\n",
       "\t<tr><th scope=row>7873</th><td>giambja01</td><td>1996     </td><td>1        </td><td>OAK      </td><td>AL       </td><td>140      </td><td>140      </td><td>536      </td><td> 84      </td><td>156      </td><td>...      </td><td> 5       </td><td>15       </td><td>140      </td><td>0.2910448</td><td>0.3551089</td><td> 95      </td><td>0.4813433</td><td>OAK      </td><td>AL       </td><td>  120000 </td></tr>\n",
       "\t<tr><th scope=row>7874</th><td>giambja01</td><td>1997     </td><td>1        </td><td>OAK      </td><td>AL       </td><td>142      </td><td>142      </td><td>519      </td><td> 66      </td><td>152      </td><td>...      </td><td> 8       </td><td>11       </td><td>142      </td><td>0.2928709</td><td>0.3622449</td><td> 89      </td><td>0.4951830</td><td>OAK      </td><td>AL       </td><td>  205000 </td></tr>\n",
       "\t<tr><th scope=row>7875</th><td>giambja01</td><td>1998     </td><td>1        </td><td>OAK      </td><td>AL       </td><td>153      </td><td>153      </td><td>562      </td><td> 92      </td><td>166      </td><td>...      </td><td> 9       </td><td>16       </td><td>153      </td><td>0.2953737</td><td>0.3835616</td><td>111      </td><td>0.4893238</td><td>OAK      </td><td>AL       </td><td>  315000 </td></tr>\n",
       "\t<tr><th scope=row>7876</th><td>giambja01</td><td>1999     </td><td>1        </td><td>OAK      </td><td>AL       </td><td>158      </td><td>158      </td><td>575      </td><td>115      </td><td>181      </td><td>...      </td><td> 8       </td><td>11       </td><td>158      </td><td>0.3147826</td><td>0.4215827</td><td>111      </td><td>0.5530435</td><td>OAK      </td><td>AL       </td><td> 2103333 </td></tr>\n",
       "\t<tr><th scope=row>7877</th><td>giambja01</td><td>2000     </td><td>1        </td><td>OAK      </td><td>AL       </td><td>152      </td><td>152      </td><td>510      </td><td>108      </td><td>170      </td><td>...      </td><td> 8       </td><td> 9       </td><td>152      </td><td>0.3333333</td><td>0.4759036</td><td> 97      </td><td>0.6470588</td><td>OAK      </td><td>AL       </td><td> 3103333 </td></tr>\n",
       "\t<tr><th scope=row>7878</th><td>giambja01</td><td>2001     </td><td>1        </td><td>OAK      </td><td>AL       </td><td>154      </td><td>154      </td><td>520      </td><td>109      </td><td>178      </td><td>...      </td><td> 9       </td><td>17       </td><td>154      </td><td>0.3423077</td><td>0.4769001</td><td> 91      </td><td>0.6596154</td><td>OAK      </td><td>AL       </td><td> 4103333 </td></tr>\n",
       "\t<tr><th scope=row>7879</th><td>giambja01</td><td>2002     </td><td>1        </td><td>NYA      </td><td>AL       </td><td>155      </td><td>155      </td><td>560      </td><td>120      </td><td>176      </td><td>...      </td><td> 5       </td><td>18       </td><td>155      </td><td>0.3142857</td><td>0.4354136</td><td>100      </td><td>0.5982143</td><td>NYA      </td><td>AL       </td><td>10428571 </td></tr>\n",
       "\t<tr><th scope=row>7880</th><td>giambja01</td><td>2003     </td><td>1        </td><td>NYA      </td><td>AL       </td><td>156      </td><td>156      </td><td>535      </td><td> 97      </td><td>134      </td><td>...      </td><td> 5       </td><td> 9       </td><td>156      </td><td>0.2504673</td><td>0.4115942</td><td> 68      </td><td>0.5271028</td><td>NYA      </td><td>AL       </td><td>11428571 </td></tr>\n",
       "\t<tr><th scope=row>7881</th><td>giambja01</td><td>2004     </td><td>1        </td><td>NYA      </td><td>AL       </td><td> 80      </td><td> 80      </td><td>264      </td><td> 33      </td><td> 55      </td><td>...      </td><td> 3       </td><td> 5       </td><td> 80      </td><td>0.2083333</td><td>0.3416149</td><td> 34      </td><td>0.3787879</td><td>NYA      </td><td>AL       </td><td>12428571 </td></tr>\n",
       "\t<tr><th scope=row>7882</th><td>giambja01</td><td>2005     </td><td>1        </td><td>NYA      </td><td>AL       </td><td>139      </td><td>139      </td><td>417      </td><td> 74      </td><td>113      </td><td>...      </td><td> 1       </td><td> 7       </td><td>139      </td><td>0.2709832</td><td>0.4403670</td><td> 67      </td><td>0.5347722</td><td>NYA      </td><td>AL       </td><td>13428571 </td></tr>\n",
       "\t<tr><th scope=row>7883</th><td>giambja01</td><td>2006     </td><td>1        </td><td>NYA      </td><td>AL       </td><td>139      </td><td>139      </td><td>446      </td><td> 92      </td><td>113      </td><td>...      </td><td> 7       </td><td>10       </td><td>139      </td><td>0.2533632</td><td>0.4127807</td><td> 51      </td><td>0.5582960</td><td>NYA      </td><td>AL       </td><td>20428571 </td></tr>\n",
       "\t<tr><th scope=row>7884</th><td>giambja01</td><td>2007     </td><td>1        </td><td>NYA      </td><td>AL       </td><td> 83      </td><td> 83      </td><td>254      </td><td> 31      </td><td> 60      </td><td>...      </td><td> 1       </td><td> 1       </td><td> 83      </td><td>0.2362205</td><td>0.3564356</td><td> 38      </td><td>0.4330709</td><td>NYA      </td><td>AL       </td><td>23428571 </td></tr>\n",
       "\t<tr><th scope=row>7885</th><td>giambja01</td><td>2008     </td><td>1        </td><td>NYA      </td><td>AL       </td><td>145      </td><td>145      </td><td>458      </td><td> 68      </td><td>113      </td><td>...      </td><td> 9       </td><td> 6       </td><td>145      </td><td>0.2467249</td><td>0.3734513</td><td> 61      </td><td>0.5021834</td><td>NYA      </td><td>AL       </td><td>23428571 </td></tr>\n",
       "\t<tr><th scope=row>7886</th><td>giambja01</td><td>2009     </td><td>1        </td><td>OAK      </td><td>AL       </td><td> 83      </td><td> 83      </td><td>269      </td><td> 39      </td><td> 52      </td><td>...      </td><td> 2       </td><td> 6       </td><td> NA      </td><td>0.1933086</td><td>0.3323171</td><td> 28      </td><td>0.3643123</td><td>OAK      </td><td>AL       </td><td> 4000000 </td></tr>\n",
       "\t<tr><th scope=row>7887</th><td>giambja01</td><td>2009     </td><td>2        </td><td>COL      </td><td>NL       </td><td> 19      </td><td> 19      </td><td> 24      </td><td>  4      </td><td>  7      </td><td>...      </td><td> 0       </td><td> 0       </td><td> NA      </td><td>0.2916667</td><td>0.4516129</td><td>  4      </td><td>0.5833333</td><td>OAK      </td><td>AL       </td><td> 4000000 </td></tr>\n",
       "\t<tr><th scope=row>7888</th><td>giambja01</td><td>2010     </td><td>1        </td><td>COL      </td><td>NL       </td><td> 87      </td><td> 87      </td><td>176      </td><td> 17      </td><td> 43      </td><td>...      </td><td> 5       </td><td> 5       </td><td> NA      </td><td>0.2443182</td><td>0.3783784</td><td> 28      </td><td>0.3977273</td><td>COL      </td><td>NL       </td><td> 1750000 </td></tr>\n",
       "\t<tr><th scope=row>7889</th><td>giambja01</td><td>2011     </td><td>1        </td><td>COL      </td><td>NL       </td><td> 64      </td><td> 64      </td><td>131      </td><td> 20      </td><td> 34      </td><td>...      </td><td> 1       </td><td> 1       </td><td> 64      </td><td>0.2595420</td><td>0.3552632</td><td> 15      </td><td>0.6030534</td><td>COL      </td><td>NL       </td><td> 1000000 </td></tr>\n",
       "\t<tr><th scope=row>7890</th><td>giambja01</td><td>2012     </td><td>1        </td><td>COL      </td><td>NL       </td><td> 60      </td><td> NA      </td><td> 89      </td><td>  7      </td><td> 20      </td><td>...      </td><td> 2       </td><td> 4       </td><td> NA      </td><td>0.2247191</td><td>0.3716814</td><td> 15      </td><td>0.3033708</td><td>COL      </td><td>NL       </td><td> 1000000 </td></tr>\n",
       "\t<tr><th scope=row>7891</th><td>giambja01</td><td>2013     </td><td>1        </td><td>CLE      </td><td>AL       </td><td> 71      </td><td> 71      </td><td>186      </td><td> 21      </td><td> 34      </td><td>...      </td><td> 3       </td><td> 8       </td><td> NA      </td><td>0.1827957</td><td>0.2824074</td><td> 17      </td><td>0.3709677</td><td>CLE      </td><td>AL       </td><td>  750000 </td></tr>\n",
       "\t<tr><th scope=row>20112</th><td>saenzol01</td><td>1999     </td><td>1        </td><td>OAK      </td><td>AL       </td><td> 97      </td><td> 97      </td><td>255      </td><td> 41      </td><td> 70      </td><td>...      </td><td> 3       </td><td> 6       </td><td> 97      </td><td>0.2745098</td><td>0.3627119</td><td> 41      </td><td>0.4745098</td><td>OAK      </td><td>AL       </td><td>  240000 </td></tr>\n",
       "\t<tr><th scope=row>20113</th><td>saenzol01</td><td>2000     </td><td>1        </td><td>OAK      </td><td>AL       </td><td> 76      </td><td> 76      </td><td>214      </td><td> 40      </td><td> 67      </td><td>...      </td><td> 1       </td><td> 6       </td><td> 76      </td><td>0.3130841</td><td>0.4008097</td><td> 44      </td><td>0.5140187</td><td>OAK      </td><td>AL       </td><td>  260000 </td></tr>\n",
       "\t<tr><th scope=row>20114</th><td>saenzol01</td><td>2001     </td><td>1        </td><td>OAK      </td><td>AL       </td><td>106      </td><td>106      </td><td>305      </td><td> 33      </td><td> 67      </td><td>...      </td><td> 3       </td><td> 9       </td><td>106      </td><td>0.2196721</td><td>0.2911765</td><td> 36      </td><td>0.3836066</td><td>OAK      </td><td>AL       </td><td>  290000 </td></tr>\n",
       "\t<tr><th scope=row>20115</th><td>saenzol01</td><td>2002     </td><td>1        </td><td>OAK      </td><td>AL       </td><td> 68      </td><td> 68      </td><td>156      </td><td> 15      </td><td> 43      </td><td>...      </td><td> 2       </td><td> 2       </td><td> 68      </td><td>0.2756410</td><td>0.3539326</td><td> 26      </td><td>0.4679487</td><td>OAK      </td><td>AL       </td><td>  800000 </td></tr>\n",
       "\t<tr><th scope=row>20116</th><td>saenzol01</td><td>2005     </td><td>1        </td><td>LAN      </td><td>NL       </td><td>109      </td><td>109      </td><td>319      </td><td> 39      </td><td> 84      </td><td>...      </td><td> 2       </td><td>12       </td><td>109      </td><td>0.2633229</td><td>0.3247863</td><td> 45      </td><td>0.4796238</td><td>LAN      </td><td>NL       </td><td>  650000 </td></tr>\n",
       "\t<tr><th scope=row>20117</th><td>saenzol01</td><td>2006     </td><td>1        </td><td>LAN      </td><td>NL       </td><td>103      </td><td>103      </td><td>179      </td><td> 30      </td><td> 53      </td><td>...      </td><td> 4       </td><td> 4       </td><td>103      </td><td>0.2960894</td><td>0.3627451</td><td> 27      </td><td>0.5642458</td><td>LAN      </td><td>NL       </td><td> 1000000 </td></tr>\n",
       "\t<tr><th scope=row>20118</th><td>saenzol01</td><td>2007     </td><td>1        </td><td>LAN      </td><td>NL       </td><td> 92      </td><td> 92      </td><td>110      </td><td>  9      </td><td> 21      </td><td>...      </td><td> 4       </td><td> 5       </td><td> 92      </td><td>0.1909091</td><td>0.2954545</td><td> 12      </td><td>0.3454545</td><td>LAN      </td><td>NL       </td><td> 1000000 </td></tr>\n",
       "</tbody>\n",
       "</table>\n"
      ],
      "text/latex": [
       "\\begin{tabular}{r|lllllllllllllllllllllllllllllll}\n",
       "  & playerID & yearID & stint & teamID.x & lgID.x & G & G\\_batting & AB & R & H & ... & SF & GIDP & G\\_old & BA & OBP & X1B & SLG & teamID.y & lgID.y & salary\\\\\n",
       "\\hline\n",
       "\t5135 & damonjo01 & 1995      & 1         & KCA       & AL        &  47       &  47       & 188       &  32       &  53       & ...       &  3        &  2        &  47       & 0.2819149 & 0.3235294 &  34       & 0.4414894 & KCA       & AL        &   109000 \\\\\n",
       "\t5136 & damonjo01 & 1996      & 1         & KCA       & AL        & 145       & 145       & 517       &  61       & 140       & ...       &  5        &  4        & 145       & 0.2707930 & 0.3129496 & 107       & 0.3675048 & KCA       & AL        &   180000 \\\\\n",
       "\t5137 & damonjo01 & 1997      & 1         & KCA       & AL        & 146       & 146       & 472       &  70       & 130       & ...       &  1        &  3        & 146       & 0.2754237 & 0.3378378 & 102       & 0.3855932 & KCA       & AL        &   240000 \\\\\n",
       "\t5138 & damonjo01 & 1998      & 1         & KCA       & AL        & 161       & 161       & 642       & 104       & 178       & ...       &  3        &  4        & 161       & 0.2772586 & 0.3394625 & 120       & 0.4392523 & KCA       & AL        &   460000 \\\\\n",
       "\t5139 & damonjo01 & 1999      & 1         & KCA       & AL        & 145       & 145       & 583       & 101       & 179       & ...       &  4        & 13        & 145       & 0.3070326 & 0.3789954 & 117       & 0.4768439 & KCA       & AL        &  2100000 \\\\\n",
       "\t5140 & damonjo01 & 2000      & 1         & KCA       & AL        & 159       & 159       & 655       & 136       & 214       & ...       & 12        &  7        & 159       & 0.3267176 & 0.3819918 & 146       & 0.4946565 & KCA       & AL        &  4000000 \\\\\n",
       "\t5141 & damonjo01 & 2001      & 1         & OAK       & AL        & 155       & 155       & 644       & 108       & 165       & ...       &  4        &  7        & 155       & 0.2562112 & 0.3235294 & 118       & 0.3633540 & OAK       & AL        &  7100000 \\\\\n",
       "\t5142 & damonjo01 & 2002      & 1         & BOS       & AL        & 154       & 154       & 623       & 118       & 178       & ...       &  5        &  4        & 154       & 0.2857143 & 0.3562232 & 119       & 0.4430177 & BOS       & AL        &  7250000 \\\\\n",
       "\t5143 & damonjo01 & 2003      & 1         & BOS       & AL        & 145       & 145       & 608       & 103       & 166       & ...       &  6        &  5        & 145       & 0.2730263 & 0.3450292 & 116       & 0.4046053 & BOS       & AL        &  7500000 \\\\\n",
       "\t5144 & damonjo01 & 2004      & 1         & BOS       & AL        & 150       & 150       & 621       & 123       & 189       & ...       &  3        &  8        & 150       & 0.3043478 & 0.3803419 & 128       & 0.4766506 & BOS       & AL        &  8000000 \\\\\n",
       "\t5145 & damonjo01 & 2005      & 1         & BOS       & AL        & 148       & 148       & 624       & 117       & 197       & ...       &  9        &  5        & 148       & 0.3157051 & 0.3662791 & 146       & 0.4391026 & BOS       & AL        &  8250000 \\\\\n",
       "\t5146 & damonjo01 & 2006      & 1         & NYA       & AL        & 149       & 149       & 593       & 115       & 169       & ...       &  5        &  4        & 149       & 0.2849916 & 0.3587444 & 105       & 0.4822934 & NYA       & AL        & 13000000 \\\\\n",
       "\t5147 & damonjo01 & 2007      & 1         & NYA       & AL        & 141       & 141       & 533       &  93       & 144       & ...       &  3        &  4        & 141       & 0.2701689 & 0.3509934 & 103       & 0.3958724 & NYA       & AL        & 13000000 \\\\\n",
       "\t5148 & damonjo01 & 2008      & 1         & NYA       & AL        & 143       & 143       & 555       &  95       & 168       & ...       &  1        &  5        & 143       & 0.3027027 & 0.3752013 & 119       & 0.4612613 & NYA       & AL        & 13000000 \\\\\n",
       "\t5149 & damonjo01 & 2009      & 1         & NYA       & AL        & 143       & 143       & 550       & 107       & 155       & ...       &  1        &  9        &  NA       & 0.2818182 & 0.3653846 &  92       & 0.4890909 & NYA       & AL        & 13000000 \\\\\n",
       "\t5150 & damonjo01 & 2010      & 1         & DET       & AL        & 145       & 145       & 539       &  81       & 146       & ...       &  1        &  5        &  NA       & 0.2708720 & 0.3551555 &  97       & 0.4007421 & DET       & AL        &  8000000 \\\\\n",
       "\t5151 & damonjo01 & 2011      & 1         & TBA       & AL        & 150       & 150       & 582       &  79       & 152       & ...       &  5        &  4        & 150       & 0.2611684 & 0.3255814 & 100       & 0.4175258 & TBA       & AL        &  5250000 \\\\\n",
       "\t7872 & giambja01 & 1995      & 1         & OAK       & AL        &  54       &  54       & 176       &  27       &  45       & ...       &  2        &  4        &  54       & 0.2556818 & 0.3636364 &  32       & 0.3977273 & OAK       & AL        &   109000 \\\\\n",
       "\t7873 & giambja01 & 1996      & 1         & OAK       & AL        & 140       & 140       & 536       &  84       & 156       & ...       &  5        & 15        & 140       & 0.2910448 & 0.3551089 &  95       & 0.4813433 & OAK       & AL        &   120000 \\\\\n",
       "\t7874 & giambja01 & 1997      & 1         & OAK       & AL        & 142       & 142       & 519       &  66       & 152       & ...       &  8        & 11        & 142       & 0.2928709 & 0.3622449 &  89       & 0.4951830 & OAK       & AL        &   205000 \\\\\n",
       "\t7875 & giambja01 & 1998      & 1         & OAK       & AL        & 153       & 153       & 562       &  92       & 166       & ...       &  9        & 16        & 153       & 0.2953737 & 0.3835616 & 111       & 0.4893238 & OAK       & AL        &   315000 \\\\\n",
       "\t7876 & giambja01 & 1999      & 1         & OAK       & AL        & 158       & 158       & 575       & 115       & 181       & ...       &  8        & 11        & 158       & 0.3147826 & 0.4215827 & 111       & 0.5530435 & OAK       & AL        &  2103333 \\\\\n",
       "\t7877 & giambja01 & 2000      & 1         & OAK       & AL        & 152       & 152       & 510       & 108       & 170       & ...       &  8        &  9        & 152       & 0.3333333 & 0.4759036 &  97       & 0.6470588 & OAK       & AL        &  3103333 \\\\\n",
       "\t7878 & giambja01 & 2001      & 1         & OAK       & AL        & 154       & 154       & 520       & 109       & 178       & ...       &  9        & 17        & 154       & 0.3423077 & 0.4769001 &  91       & 0.6596154 & OAK       & AL        &  4103333 \\\\\n",
       "\t7879 & giambja01 & 2002      & 1         & NYA       & AL        & 155       & 155       & 560       & 120       & 176       & ...       &  5        & 18        & 155       & 0.3142857 & 0.4354136 & 100       & 0.5982143 & NYA       & AL        & 10428571 \\\\\n",
       "\t7880 & giambja01 & 2003      & 1         & NYA       & AL        & 156       & 156       & 535       &  97       & 134       & ...       &  5        &  9        & 156       & 0.2504673 & 0.4115942 &  68       & 0.5271028 & NYA       & AL        & 11428571 \\\\\n",
       "\t7881 & giambja01 & 2004      & 1         & NYA       & AL        &  80       &  80       & 264       &  33       &  55       & ...       &  3        &  5        &  80       & 0.2083333 & 0.3416149 &  34       & 0.3787879 & NYA       & AL        & 12428571 \\\\\n",
       "\t7882 & giambja01 & 2005      & 1         & NYA       & AL        & 139       & 139       & 417       &  74       & 113       & ...       &  1        &  7        & 139       & 0.2709832 & 0.4403670 &  67       & 0.5347722 & NYA       & AL        & 13428571 \\\\\n",
       "\t7883 & giambja01 & 2006      & 1         & NYA       & AL        & 139       & 139       & 446       &  92       & 113       & ...       &  7        & 10        & 139       & 0.2533632 & 0.4127807 &  51       & 0.5582960 & NYA       & AL        & 20428571 \\\\\n",
       "\t7884 & giambja01 & 2007      & 1         & NYA       & AL        &  83       &  83       & 254       &  31       &  60       & ...       &  1        &  1        &  83       & 0.2362205 & 0.3564356 &  38       & 0.4330709 & NYA       & AL        & 23428571 \\\\\n",
       "\t7885 & giambja01 & 2008      & 1         & NYA       & AL        & 145       & 145       & 458       &  68       & 113       & ...       &  9        &  6        & 145       & 0.2467249 & 0.3734513 &  61       & 0.5021834 & NYA       & AL        & 23428571 \\\\\n",
       "\t7886 & giambja01 & 2009      & 1         & OAK       & AL        &  83       &  83       & 269       &  39       &  52       & ...       &  2        &  6        &  NA       & 0.1933086 & 0.3323171 &  28       & 0.3643123 & OAK       & AL        &  4000000 \\\\\n",
       "\t7887 & giambja01 & 2009      & 2         & COL       & NL        &  19       &  19       &  24       &   4       &   7       & ...       &  0        &  0        &  NA       & 0.2916667 & 0.4516129 &   4       & 0.5833333 & OAK       & AL        &  4000000 \\\\\n",
       "\t7888 & giambja01 & 2010      & 1         & COL       & NL        &  87       &  87       & 176       &  17       &  43       & ...       &  5        &  5        &  NA       & 0.2443182 & 0.3783784 &  28       & 0.3977273 & COL       & NL        &  1750000 \\\\\n",
       "\t7889 & giambja01 & 2011      & 1         & COL       & NL        &  64       &  64       & 131       &  20       &  34       & ...       &  1        &  1        &  64       & 0.2595420 & 0.3552632 &  15       & 0.6030534 & COL       & NL        &  1000000 \\\\\n",
       "\t7890 & giambja01 & 2012      & 1         & COL       & NL        &  60       &  NA       &  89       &   7       &  20       & ...       &  2        &  4        &  NA       & 0.2247191 & 0.3716814 &  15       & 0.3033708 & COL       & NL        &  1000000 \\\\\n",
       "\t7891 & giambja01 & 2013      & 1         & CLE       & AL        &  71       &  71       & 186       &  21       &  34       & ...       &  3        &  8        &  NA       & 0.1827957 & 0.2824074 &  17       & 0.3709677 & CLE       & AL        &   750000 \\\\\n",
       "\t20112 & saenzol01 & 1999      & 1         & OAK       & AL        &  97       &  97       & 255       &  41       &  70       & ...       &  3        &  6        &  97       & 0.2745098 & 0.3627119 &  41       & 0.4745098 & OAK       & AL        &   240000 \\\\\n",
       "\t20113 & saenzol01 & 2000      & 1         & OAK       & AL        &  76       &  76       & 214       &  40       &  67       & ...       &  1        &  6        &  76       & 0.3130841 & 0.4008097 &  44       & 0.5140187 & OAK       & AL        &   260000 \\\\\n",
       "\t20114 & saenzol01 & 2001      & 1         & OAK       & AL        & 106       & 106       & 305       &  33       &  67       & ...       &  3        &  9        & 106       & 0.2196721 & 0.2911765 &  36       & 0.3836066 & OAK       & AL        &   290000 \\\\\n",
       "\t20115 & saenzol01 & 2002      & 1         & OAK       & AL        &  68       &  68       & 156       &  15       &  43       & ...       &  2        &  2        &  68       & 0.2756410 & 0.3539326 &  26       & 0.4679487 & OAK       & AL        &   800000 \\\\\n",
       "\t20116 & saenzol01 & 2005      & 1         & LAN       & NL        & 109       & 109       & 319       &  39       &  84       & ...       &  2        & 12        & 109       & 0.2633229 & 0.3247863 &  45       & 0.4796238 & LAN       & NL        &   650000 \\\\\n",
       "\t20117 & saenzol01 & 2006      & 1         & LAN       & NL        & 103       & 103       & 179       &  30       &  53       & ...       &  4        &  4        & 103       & 0.2960894 & 0.3627451 &  27       & 0.5642458 & LAN       & NL        &  1000000 \\\\\n",
       "\t20118 & saenzol01 & 2007      & 1         & LAN       & NL        &  92       &  92       & 110       &   9       &  21       & ...       &  4        &  5        &  92       & 0.1909091 & 0.2954545 &  12       & 0.3454545 & LAN       & NL        &  1000000 \\\\\n",
       "\\end{tabular}\n"
      ],
      "text/markdown": [
       "\n",
       "| <!--/--> | playerID | yearID | stint | teamID.x | lgID.x | G | G_batting | AB | R | H | ... | SF | GIDP | G_old | BA | OBP | X1B | SLG | teamID.y | lgID.y | salary |\n",
       "|---|---|---|---|---|---|---|---|---|---|---|---|---|---|---|---|---|---|---|---|---|---|\n",
       "| 5135 | damonjo01 | 1995      | 1         | KCA       | AL        |  47       |  47       | 188       |  32       |  53       | ...       |  3        |  2        |  47       | 0.2819149 | 0.3235294 |  34       | 0.4414894 | KCA       | AL        |   109000  |\n",
       "| 5136 | damonjo01 | 1996      | 1         | KCA       | AL        | 145       | 145       | 517       |  61       | 140       | ...       |  5        |  4        | 145       | 0.2707930 | 0.3129496 | 107       | 0.3675048 | KCA       | AL        |   180000  |\n",
       "| 5137 | damonjo01 | 1997      | 1         | KCA       | AL        | 146       | 146       | 472       |  70       | 130       | ...       |  1        |  3        | 146       | 0.2754237 | 0.3378378 | 102       | 0.3855932 | KCA       | AL        |   240000  |\n",
       "| 5138 | damonjo01 | 1998      | 1         | KCA       | AL        | 161       | 161       | 642       | 104       | 178       | ...       |  3        |  4        | 161       | 0.2772586 | 0.3394625 | 120       | 0.4392523 | KCA       | AL        |   460000  |\n",
       "| 5139 | damonjo01 | 1999      | 1         | KCA       | AL        | 145       | 145       | 583       | 101       | 179       | ...       |  4        | 13        | 145       | 0.3070326 | 0.3789954 | 117       | 0.4768439 | KCA       | AL        |  2100000  |\n",
       "| 5140 | damonjo01 | 2000      | 1         | KCA       | AL        | 159       | 159       | 655       | 136       | 214       | ...       | 12        |  7        | 159       | 0.3267176 | 0.3819918 | 146       | 0.4946565 | KCA       | AL        |  4000000  |\n",
       "| 5141 | damonjo01 | 2001      | 1         | OAK       | AL        | 155       | 155       | 644       | 108       | 165       | ...       |  4        |  7        | 155       | 0.2562112 | 0.3235294 | 118       | 0.3633540 | OAK       | AL        |  7100000  |\n",
       "| 5142 | damonjo01 | 2002      | 1         | BOS       | AL        | 154       | 154       | 623       | 118       | 178       | ...       |  5        |  4        | 154       | 0.2857143 | 0.3562232 | 119       | 0.4430177 | BOS       | AL        |  7250000  |\n",
       "| 5143 | damonjo01 | 2003      | 1         | BOS       | AL        | 145       | 145       | 608       | 103       | 166       | ...       |  6        |  5        | 145       | 0.2730263 | 0.3450292 | 116       | 0.4046053 | BOS       | AL        |  7500000  |\n",
       "| 5144 | damonjo01 | 2004      | 1         | BOS       | AL        | 150       | 150       | 621       | 123       | 189       | ...       |  3        |  8        | 150       | 0.3043478 | 0.3803419 | 128       | 0.4766506 | BOS       | AL        |  8000000  |\n",
       "| 5145 | damonjo01 | 2005      | 1         | BOS       | AL        | 148       | 148       | 624       | 117       | 197       | ...       |  9        |  5        | 148       | 0.3157051 | 0.3662791 | 146       | 0.4391026 | BOS       | AL        |  8250000  |\n",
       "| 5146 | damonjo01 | 2006      | 1         | NYA       | AL        | 149       | 149       | 593       | 115       | 169       | ...       |  5        |  4        | 149       | 0.2849916 | 0.3587444 | 105       | 0.4822934 | NYA       | AL        | 13000000  |\n",
       "| 5147 | damonjo01 | 2007      | 1         | NYA       | AL        | 141       | 141       | 533       |  93       | 144       | ...       |  3        |  4        | 141       | 0.2701689 | 0.3509934 | 103       | 0.3958724 | NYA       | AL        | 13000000  |\n",
       "| 5148 | damonjo01 | 2008      | 1         | NYA       | AL        | 143       | 143       | 555       |  95       | 168       | ...       |  1        |  5        | 143       | 0.3027027 | 0.3752013 | 119       | 0.4612613 | NYA       | AL        | 13000000  |\n",
       "| 5149 | damonjo01 | 2009      | 1         | NYA       | AL        | 143       | 143       | 550       | 107       | 155       | ...       |  1        |  9        |  NA       | 0.2818182 | 0.3653846 |  92       | 0.4890909 | NYA       | AL        | 13000000  |\n",
       "| 5150 | damonjo01 | 2010      | 1         | DET       | AL        | 145       | 145       | 539       |  81       | 146       | ...       |  1        |  5        |  NA       | 0.2708720 | 0.3551555 |  97       | 0.4007421 | DET       | AL        |  8000000  |\n",
       "| 5151 | damonjo01 | 2011      | 1         | TBA       | AL        | 150       | 150       | 582       |  79       | 152       | ...       |  5        |  4        | 150       | 0.2611684 | 0.3255814 | 100       | 0.4175258 | TBA       | AL        |  5250000  |\n",
       "| 7872 | giambja01 | 1995      | 1         | OAK       | AL        |  54       |  54       | 176       |  27       |  45       | ...       |  2        |  4        |  54       | 0.2556818 | 0.3636364 |  32       | 0.3977273 | OAK       | AL        |   109000  |\n",
       "| 7873 | giambja01 | 1996      | 1         | OAK       | AL        | 140       | 140       | 536       |  84       | 156       | ...       |  5        | 15        | 140       | 0.2910448 | 0.3551089 |  95       | 0.4813433 | OAK       | AL        |   120000  |\n",
       "| 7874 | giambja01 | 1997      | 1         | OAK       | AL        | 142       | 142       | 519       |  66       | 152       | ...       |  8        | 11        | 142       | 0.2928709 | 0.3622449 |  89       | 0.4951830 | OAK       | AL        |   205000  |\n",
       "| 7875 | giambja01 | 1998      | 1         | OAK       | AL        | 153       | 153       | 562       |  92       | 166       | ...       |  9        | 16        | 153       | 0.2953737 | 0.3835616 | 111       | 0.4893238 | OAK       | AL        |   315000  |\n",
       "| 7876 | giambja01 | 1999      | 1         | OAK       | AL        | 158       | 158       | 575       | 115       | 181       | ...       |  8        | 11        | 158       | 0.3147826 | 0.4215827 | 111       | 0.5530435 | OAK       | AL        |  2103333  |\n",
       "| 7877 | giambja01 | 2000      | 1         | OAK       | AL        | 152       | 152       | 510       | 108       | 170       | ...       |  8        |  9        | 152       | 0.3333333 | 0.4759036 |  97       | 0.6470588 | OAK       | AL        |  3103333  |\n",
       "| 7878 | giambja01 | 2001      | 1         | OAK       | AL        | 154       | 154       | 520       | 109       | 178       | ...       |  9        | 17        | 154       | 0.3423077 | 0.4769001 |  91       | 0.6596154 | OAK       | AL        |  4103333  |\n",
       "| 7879 | giambja01 | 2002      | 1         | NYA       | AL        | 155       | 155       | 560       | 120       | 176       | ...       |  5        | 18        | 155       | 0.3142857 | 0.4354136 | 100       | 0.5982143 | NYA       | AL        | 10428571  |\n",
       "| 7880 | giambja01 | 2003      | 1         | NYA       | AL        | 156       | 156       | 535       |  97       | 134       | ...       |  5        |  9        | 156       | 0.2504673 | 0.4115942 |  68       | 0.5271028 | NYA       | AL        | 11428571  |\n",
       "| 7881 | giambja01 | 2004      | 1         | NYA       | AL        |  80       |  80       | 264       |  33       |  55       | ...       |  3        |  5        |  80       | 0.2083333 | 0.3416149 |  34       | 0.3787879 | NYA       | AL        | 12428571  |\n",
       "| 7882 | giambja01 | 2005      | 1         | NYA       | AL        | 139       | 139       | 417       |  74       | 113       | ...       |  1        |  7        | 139       | 0.2709832 | 0.4403670 |  67       | 0.5347722 | NYA       | AL        | 13428571  |\n",
       "| 7883 | giambja01 | 2006      | 1         | NYA       | AL        | 139       | 139       | 446       |  92       | 113       | ...       |  7        | 10        | 139       | 0.2533632 | 0.4127807 |  51       | 0.5582960 | NYA       | AL        | 20428571  |\n",
       "| 7884 | giambja01 | 2007      | 1         | NYA       | AL        |  83       |  83       | 254       |  31       |  60       | ...       |  1        |  1        |  83       | 0.2362205 | 0.3564356 |  38       | 0.4330709 | NYA       | AL        | 23428571  |\n",
       "| 7885 | giambja01 | 2008      | 1         | NYA       | AL        | 145       | 145       | 458       |  68       | 113       | ...       |  9        |  6        | 145       | 0.2467249 | 0.3734513 |  61       | 0.5021834 | NYA       | AL        | 23428571  |\n",
       "| 7886 | giambja01 | 2009      | 1         | OAK       | AL        |  83       |  83       | 269       |  39       |  52       | ...       |  2        |  6        |  NA       | 0.1933086 | 0.3323171 |  28       | 0.3643123 | OAK       | AL        |  4000000  |\n",
       "| 7887 | giambja01 | 2009      | 2         | COL       | NL        |  19       |  19       |  24       |   4       |   7       | ...       |  0        |  0        |  NA       | 0.2916667 | 0.4516129 |   4       | 0.5833333 | OAK       | AL        |  4000000  |\n",
       "| 7888 | giambja01 | 2010      | 1         | COL       | NL        |  87       |  87       | 176       |  17       |  43       | ...       |  5        |  5        |  NA       | 0.2443182 | 0.3783784 |  28       | 0.3977273 | COL       | NL        |  1750000  |\n",
       "| 7889 | giambja01 | 2011      | 1         | COL       | NL        |  64       |  64       | 131       |  20       |  34       | ...       |  1        |  1        |  64       | 0.2595420 | 0.3552632 |  15       | 0.6030534 | COL       | NL        |  1000000  |\n",
       "| 7890 | giambja01 | 2012      | 1         | COL       | NL        |  60       |  NA       |  89       |   7       |  20       | ...       |  2        |  4        |  NA       | 0.2247191 | 0.3716814 |  15       | 0.3033708 | COL       | NL        |  1000000  |\n",
       "| 7891 | giambja01 | 2013      | 1         | CLE       | AL        |  71       |  71       | 186       |  21       |  34       | ...       |  3        |  8        |  NA       | 0.1827957 | 0.2824074 |  17       | 0.3709677 | CLE       | AL        |   750000  |\n",
       "| 20112 | saenzol01 | 1999      | 1         | OAK       | AL        |  97       |  97       | 255       |  41       |  70       | ...       |  3        |  6        |  97       | 0.2745098 | 0.3627119 |  41       | 0.4745098 | OAK       | AL        |   240000  |\n",
       "| 20113 | saenzol01 | 2000      | 1         | OAK       | AL        |  76       |  76       | 214       |  40       |  67       | ...       |  1        |  6        |  76       | 0.3130841 | 0.4008097 |  44       | 0.5140187 | OAK       | AL        |   260000  |\n",
       "| 20114 | saenzol01 | 2001      | 1         | OAK       | AL        | 106       | 106       | 305       |  33       |  67       | ...       |  3        |  9        | 106       | 0.2196721 | 0.2911765 |  36       | 0.3836066 | OAK       | AL        |   290000  |\n",
       "| 20115 | saenzol01 | 2002      | 1         | OAK       | AL        |  68       |  68       | 156       |  15       |  43       | ...       |  2        |  2        |  68       | 0.2756410 | 0.3539326 |  26       | 0.4679487 | OAK       | AL        |   800000  |\n",
       "| 20116 | saenzol01 | 2005      | 1         | LAN       | NL        | 109       | 109       | 319       |  39       |  84       | ...       |  2        | 12        | 109       | 0.2633229 | 0.3247863 |  45       | 0.4796238 | LAN       | NL        |   650000  |\n",
       "| 20117 | saenzol01 | 2006      | 1         | LAN       | NL        | 103       | 103       | 179       |  30       |  53       | ...       |  4        |  4        | 103       | 0.2960894 | 0.3627451 |  27       | 0.5642458 | LAN       | NL        |  1000000  |\n",
       "| 20118 | saenzol01 | 2007      | 1         | LAN       | NL        |  92       |  92       | 110       |   9       |  21       | ...       |  4        |  5        |  92       | 0.1909091 | 0.2954545 |  12       | 0.3454545 | LAN       | NL        |  1000000  |\n",
       "\n"
      ],
      "text/plain": [
       "      playerID  yearID stint teamID.x lgID.x G   G_batting AB  R   H   ... SF\n",
       "5135  damonjo01 1995   1     KCA      AL      47  47       188  32  53 ...  3\n",
       "5136  damonjo01 1996   1     KCA      AL     145 145       517  61 140 ...  5\n",
       "5137  damonjo01 1997   1     KCA      AL     146 146       472  70 130 ...  1\n",
       "5138  damonjo01 1998   1     KCA      AL     161 161       642 104 178 ...  3\n",
       "5139  damonjo01 1999   1     KCA      AL     145 145       583 101 179 ...  4\n",
       "5140  damonjo01 2000   1     KCA      AL     159 159       655 136 214 ... 12\n",
       "5141  damonjo01 2001   1     OAK      AL     155 155       644 108 165 ...  4\n",
       "5142  damonjo01 2002   1     BOS      AL     154 154       623 118 178 ...  5\n",
       "5143  damonjo01 2003   1     BOS      AL     145 145       608 103 166 ...  6\n",
       "5144  damonjo01 2004   1     BOS      AL     150 150       621 123 189 ...  3\n",
       "5145  damonjo01 2005   1     BOS      AL     148 148       624 117 197 ...  9\n",
       "5146  damonjo01 2006   1     NYA      AL     149 149       593 115 169 ...  5\n",
       "5147  damonjo01 2007   1     NYA      AL     141 141       533  93 144 ...  3\n",
       "5148  damonjo01 2008   1     NYA      AL     143 143       555  95 168 ...  1\n",
       "5149  damonjo01 2009   1     NYA      AL     143 143       550 107 155 ...  1\n",
       "5150  damonjo01 2010   1     DET      AL     145 145       539  81 146 ...  1\n",
       "5151  damonjo01 2011   1     TBA      AL     150 150       582  79 152 ...  5\n",
       "7872  giambja01 1995   1     OAK      AL      54  54       176  27  45 ...  2\n",
       "7873  giambja01 1996   1     OAK      AL     140 140       536  84 156 ...  5\n",
       "7874  giambja01 1997   1     OAK      AL     142 142       519  66 152 ...  8\n",
       "7875  giambja01 1998   1     OAK      AL     153 153       562  92 166 ...  9\n",
       "7876  giambja01 1999   1     OAK      AL     158 158       575 115 181 ...  8\n",
       "7877  giambja01 2000   1     OAK      AL     152 152       510 108 170 ...  8\n",
       "7878  giambja01 2001   1     OAK      AL     154 154       520 109 178 ...  9\n",
       "7879  giambja01 2002   1     NYA      AL     155 155       560 120 176 ...  5\n",
       "7880  giambja01 2003   1     NYA      AL     156 156       535  97 134 ...  5\n",
       "7881  giambja01 2004   1     NYA      AL      80  80       264  33  55 ...  3\n",
       "7882  giambja01 2005   1     NYA      AL     139 139       417  74 113 ...  1\n",
       "7883  giambja01 2006   1     NYA      AL     139 139       446  92 113 ...  7\n",
       "7884  giambja01 2007   1     NYA      AL      83  83       254  31  60 ...  1\n",
       "7885  giambja01 2008   1     NYA      AL     145 145       458  68 113 ...  9\n",
       "7886  giambja01 2009   1     OAK      AL      83  83       269  39  52 ...  2\n",
       "7887  giambja01 2009   2     COL      NL      19  19        24   4   7 ...  0\n",
       "7888  giambja01 2010   1     COL      NL      87  87       176  17  43 ...  5\n",
       "7889  giambja01 2011   1     COL      NL      64  64       131  20  34 ...  1\n",
       "7890  giambja01 2012   1     COL      NL      60  NA        89   7  20 ...  2\n",
       "7891  giambja01 2013   1     CLE      AL      71  71       186  21  34 ...  3\n",
       "20112 saenzol01 1999   1     OAK      AL      97  97       255  41  70 ...  3\n",
       "20113 saenzol01 2000   1     OAK      AL      76  76       214  40  67 ...  1\n",
       "20114 saenzol01 2001   1     OAK      AL     106 106       305  33  67 ...  3\n",
       "20115 saenzol01 2002   1     OAK      AL      68  68       156  15  43 ...  2\n",
       "20116 saenzol01 2005   1     LAN      NL     109 109       319  39  84 ...  2\n",
       "20117 saenzol01 2006   1     LAN      NL     103 103       179  30  53 ...  4\n",
       "20118 saenzol01 2007   1     LAN      NL      92  92       110   9  21 ...  4\n",
       "      GIDP G_old BA        OBP       X1B SLG       teamID.y lgID.y salary  \n",
       "5135   2    47   0.2819149 0.3235294  34 0.4414894 KCA      AL       109000\n",
       "5136   4   145   0.2707930 0.3129496 107 0.3675048 KCA      AL       180000\n",
       "5137   3   146   0.2754237 0.3378378 102 0.3855932 KCA      AL       240000\n",
       "5138   4   161   0.2772586 0.3394625 120 0.4392523 KCA      AL       460000\n",
       "5139  13   145   0.3070326 0.3789954 117 0.4768439 KCA      AL      2100000\n",
       "5140   7   159   0.3267176 0.3819918 146 0.4946565 KCA      AL      4000000\n",
       "5141   7   155   0.2562112 0.3235294 118 0.3633540 OAK      AL      7100000\n",
       "5142   4   154   0.2857143 0.3562232 119 0.4430177 BOS      AL      7250000\n",
       "5143   5   145   0.2730263 0.3450292 116 0.4046053 BOS      AL      7500000\n",
       "5144   8   150   0.3043478 0.3803419 128 0.4766506 BOS      AL      8000000\n",
       "5145   5   148   0.3157051 0.3662791 146 0.4391026 BOS      AL      8250000\n",
       "5146   4   149   0.2849916 0.3587444 105 0.4822934 NYA      AL     13000000\n",
       "5147   4   141   0.2701689 0.3509934 103 0.3958724 NYA      AL     13000000\n",
       "5148   5   143   0.3027027 0.3752013 119 0.4612613 NYA      AL     13000000\n",
       "5149   9    NA   0.2818182 0.3653846  92 0.4890909 NYA      AL     13000000\n",
       "5150   5    NA   0.2708720 0.3551555  97 0.4007421 DET      AL      8000000\n",
       "5151   4   150   0.2611684 0.3255814 100 0.4175258 TBA      AL      5250000\n",
       "7872   4    54   0.2556818 0.3636364  32 0.3977273 OAK      AL       109000\n",
       "7873  15   140   0.2910448 0.3551089  95 0.4813433 OAK      AL       120000\n",
       "7874  11   142   0.2928709 0.3622449  89 0.4951830 OAK      AL       205000\n",
       "7875  16   153   0.2953737 0.3835616 111 0.4893238 OAK      AL       315000\n",
       "7876  11   158   0.3147826 0.4215827 111 0.5530435 OAK      AL      2103333\n",
       "7877   9   152   0.3333333 0.4759036  97 0.6470588 OAK      AL      3103333\n",
       "7878  17   154   0.3423077 0.4769001  91 0.6596154 OAK      AL      4103333\n",
       "7879  18   155   0.3142857 0.4354136 100 0.5982143 NYA      AL     10428571\n",
       "7880   9   156   0.2504673 0.4115942  68 0.5271028 NYA      AL     11428571\n",
       "7881   5    80   0.2083333 0.3416149  34 0.3787879 NYA      AL     12428571\n",
       "7882   7   139   0.2709832 0.4403670  67 0.5347722 NYA      AL     13428571\n",
       "7883  10   139   0.2533632 0.4127807  51 0.5582960 NYA      AL     20428571\n",
       "7884   1    83   0.2362205 0.3564356  38 0.4330709 NYA      AL     23428571\n",
       "7885   6   145   0.2467249 0.3734513  61 0.5021834 NYA      AL     23428571\n",
       "7886   6    NA   0.1933086 0.3323171  28 0.3643123 OAK      AL      4000000\n",
       "7887   0    NA   0.2916667 0.4516129   4 0.5833333 OAK      AL      4000000\n",
       "7888   5    NA   0.2443182 0.3783784  28 0.3977273 COL      NL      1750000\n",
       "7889   1    64   0.2595420 0.3552632  15 0.6030534 COL      NL      1000000\n",
       "7890   4    NA   0.2247191 0.3716814  15 0.3033708 COL      NL      1000000\n",
       "7891   8    NA   0.1827957 0.2824074  17 0.3709677 CLE      AL       750000\n",
       "20112  6    97   0.2745098 0.3627119  41 0.4745098 OAK      AL       240000\n",
       "20113  6    76   0.3130841 0.4008097  44 0.5140187 OAK      AL       260000\n",
       "20114  9   106   0.2196721 0.2911765  36 0.3836066 OAK      AL       290000\n",
       "20115  2    68   0.2756410 0.3539326  26 0.4679487 OAK      AL       800000\n",
       "20116 12   109   0.2633229 0.3247863  45 0.4796238 LAN      NL       650000\n",
       "20117  4   103   0.2960894 0.3627451  27 0.5642458 LAN      NL      1000000\n",
       "20118  5    92   0.1909091 0.2954545  12 0.3454545 LAN      NL      1000000"
      ]
     },
     "metadata": {},
     "output_type": "display_data"
    }
   ],
   "source": [
    "lost"
   ]
  },
  {
   "cell_type": "code",
   "execution_count": 27,
   "id": "087a4cfc",
   "metadata": {},
   "outputs": [],
   "source": [
    "lost = subset(lost,yearID == 2001)"
   ]
  },
  {
   "cell_type": "code",
   "execution_count": 28,
   "id": "68f8fcc5",
   "metadata": {},
   "outputs": [],
   "source": [
    "lost = lost[,c('playerID','H','X2B','X3B','HR','OBP','SLG','BA','AB')]"
   ]
  },
  {
   "cell_type": "code",
   "execution_count": 29,
   "id": "a1011e3d",
   "metadata": {},
   "outputs": [
    {
     "data": {
      "text/html": [
       "<table>\n",
       "<thead><tr><th></th><th scope=col>playerID</th><th scope=col>H</th><th scope=col>X2B</th><th scope=col>X3B</th><th scope=col>HR</th><th scope=col>OBP</th><th scope=col>SLG</th><th scope=col>BA</th><th scope=col>AB</th></tr></thead>\n",
       "<tbody>\n",
       "\t<tr><th scope=row>5141</th><td>damonjo01</td><td>165      </td><td>34       </td><td>4        </td><td> 9       </td><td>0.3235294</td><td>0.3633540</td><td>0.2562112</td><td>644      </td></tr>\n",
       "\t<tr><th scope=row>7878</th><td>giambja01</td><td>178      </td><td>47       </td><td>2        </td><td>38       </td><td>0.4769001</td><td>0.6596154</td><td>0.3423077</td><td>520      </td></tr>\n",
       "\t<tr><th scope=row>20114</th><td>saenzol01</td><td> 67      </td><td>21       </td><td>1        </td><td> 9       </td><td>0.2911765</td><td>0.3836066</td><td>0.2196721</td><td>305      </td></tr>\n",
       "</tbody>\n",
       "</table>\n"
      ],
      "text/latex": [
       "\\begin{tabular}{r|lllllllll}\n",
       "  & playerID & H & X2B & X3B & HR & OBP & SLG & BA & AB\\\\\n",
       "\\hline\n",
       "\t5141 & damonjo01 & 165       & 34        & 4         &  9        & 0.3235294 & 0.3633540 & 0.2562112 & 644      \\\\\n",
       "\t7878 & giambja01 & 178       & 47        & 2         & 38        & 0.4769001 & 0.6596154 & 0.3423077 & 520      \\\\\n",
       "\t20114 & saenzol01 &  67       & 21        & 1         &  9        & 0.2911765 & 0.3836066 & 0.2196721 & 305      \\\\\n",
       "\\end{tabular}\n"
      ],
      "text/markdown": [
       "\n",
       "| <!--/--> | playerID | H | X2B | X3B | HR | OBP | SLG | BA | AB |\n",
       "|---|---|---|---|---|---|---|---|---|---|\n",
       "| 5141 | damonjo01 | 165       | 34        | 4         |  9        | 0.3235294 | 0.3633540 | 0.2562112 | 644       |\n",
       "| 7878 | giambja01 | 178       | 47        | 2         | 38        | 0.4769001 | 0.6596154 | 0.3423077 | 520       |\n",
       "| 20114 | saenzol01 |  67       | 21        | 1         |  9        | 0.2911765 | 0.3836066 | 0.2196721 | 305       |\n",
       "\n"
      ],
      "text/plain": [
       "      playerID  H   X2B X3B HR OBP       SLG       BA        AB \n",
       "5141  damonjo01 165 34  4    9 0.3235294 0.3633540 0.2562112 644\n",
       "7878  giambja01 178 47  2   38 0.4769001 0.6596154 0.3423077 520\n",
       "20114 saenzol01  67 21  1    9 0.2911765 0.3836066 0.2196721 305"
      ]
     },
     "metadata": {},
     "output_type": "display_data"
    }
   ],
   "source": [
    "lost"
   ]
  },
  {
   "cell_type": "markdown",
   "id": "ab43d02d",
   "metadata": {},
   "source": [
    "#Replacement Players Constraints\n",
    "\n",
    "\n",
    "salary of three players cannot br greater than 15 million dollars\n",
    "Their combined number of At bats shoud be greater than or equal to the lost players\n",
    "OBP must be greater than or equal to the mean OBP of the lost players\n",
    "\n",
    "\n"
   ]
  },
  {
   "cell_type": "code",
   "execution_count": 30,
   "id": "26949f68",
   "metadata": {},
   "outputs": [],
   "source": [
    "combo_2001 = subset(combo,yearID == 2001)"
   ]
  },
  {
   "cell_type": "code",
   "execution_count": 31,
   "id": "8b29eae0",
   "metadata": {},
   "outputs": [
    {
     "data": {
      "text/html": [
       "<table>\n",
       "<thead><tr><th></th><th scope=col>playerID</th><th scope=col>yearID</th><th scope=col>stint</th><th scope=col>teamID.x</th><th scope=col>lgID.x</th><th scope=col>G</th><th scope=col>G_batting</th><th scope=col>AB</th><th scope=col>R</th><th scope=col>H</th><th scope=col>...</th><th scope=col>SF</th><th scope=col>GIDP</th><th scope=col>G_old</th><th scope=col>BA</th><th scope=col>OBP</th><th scope=col>X1B</th><th scope=col>SLG</th><th scope=col>teamID.y</th><th scope=col>lgID.y</th><th scope=col>salary</th></tr></thead>\n",
       "<tbody>\n",
       "\t<tr><th scope=row>17</th><td>abbotje01 </td><td>2001      </td><td>1         </td><td>FLO       </td><td>NL        </td><td> 28       </td><td> 28       </td><td> 42       </td><td>  5       </td><td> 11       </td><td>...       </td><td>0         </td><td> 1        </td><td> 28       </td><td>0.26190476</td><td>0.32608696</td><td>  8       </td><td>0.33333333</td><td>FLO       </td><td>NL        </td><td> 300000   </td></tr>\n",
       "\t<tr><th scope=row>37</th><td>abbotku01 </td><td>2001      </td><td>1         </td><td>ATL       </td><td>NL        </td><td>  6       </td><td>  6       </td><td>  9       </td><td>  0       </td><td>  2       </td><td>...       </td><td>0         </td><td> 0        </td><td>  6       </td><td>0.22222222</td><td>0.22222222</td><td>  2       </td><td>0.22222222</td><td>ATL       </td><td>NL        </td><td> 600000   </td></tr>\n",
       "\t<tr><th scope=row>44</th><td>abbotpa01 </td><td>2001      </td><td>1         </td><td>SEA       </td><td>AL        </td><td> 28       </td><td>  2       </td><td>  4       </td><td>  0       </td><td>  1       </td><td>...       </td><td>0         </td><td> 0        </td><td>  2       </td><td>0.25000000</td><td>0.25000000</td><td>  1       </td><td>0.25000000</td><td>SEA       </td><td>AL        </td><td>1700000   </td></tr>\n",
       "\t<tr><th scope=row>62</th><td>abreubo01 </td><td>2001      </td><td>1         </td><td>PHI       </td><td>NL        </td><td>162       </td><td>162       </td><td>588       </td><td>118       </td><td>170       </td><td>...       </td><td>9         </td><td>13        </td><td>162       </td><td>0.28911565</td><td>0.39346591</td><td> 87       </td><td>0.54251701</td><td>PHI       </td><td>NL        </td><td>4983000   </td></tr>\n",
       "\t<tr><th scope=row>130</th><td>adamste01 </td><td>2001      </td><td>1         </td><td>LAN       </td><td>NL        </td><td> 43       </td><td> 41       </td><td> 39       </td><td>  2       </td><td>  2       </td><td>...       </td><td>1         </td><td> 0        </td><td> 41       </td><td>0.05128205</td><td>0.11627907</td><td>  1       </td><td>0.07692308</td><td>LAN       </td><td>NL        </td><td>2600000   </td></tr>\n",
       "\t<tr><th scope=row>157</th><td>agbaybe01 </td><td>2001      </td><td>1         </td><td>NYN       </td><td>NL        </td><td> 91       </td><td> 91       </td><td>296       </td><td> 28       </td><td> 82       </td><td>...       </td><td>1         </td><td>11        </td><td> 91       </td><td>0.27702703</td><td>0.36390533</td><td> 60       </td><td>0.39864865</td><td>NYN       </td><td>NL        </td><td> 260000   </td></tr>\n",
       "\t<tr><th scope=row>258</th><td>alfonan01 </td><td>2001      </td><td>1         </td><td>FLO       </td><td>NL        </td><td> 58       </td><td> 54       </td><td>  0       </td><td>  0       </td><td>  0       </td><td>...       </td><td>0         </td><td> 0        </td><td> 54       </td><td>       NaN</td><td>       NaN</td><td>  0       </td><td>       NaN</td><td>FLO       </td><td>NL        </td><td>2450000   </td></tr>\n",
       "\t<tr><th scope=row>271</th><td>alfoned01 </td><td>2001      </td><td>1         </td><td>NYN       </td><td>NL        </td><td>124       </td><td>124       </td><td>457       </td><td> 64       </td><td>111       </td><td>...       </td><td>5         </td><td> 7        </td><td>124       </td><td>0.24288840</td><td>0.32239382</td><td> 72       </td><td>0.40262582</td><td>NYN       </td><td>NL        </td><td>5750000   </td></tr>\n",
       "\t<tr><th scope=row>287</th><td>alicelu01 </td><td>2001      </td><td>1         </td><td>KCA       </td><td>AL        </td><td>113       </td><td>113       </td><td>387       </td><td> 44       </td><td>106       </td><td>...       </td><td>1         </td><td> 6        </td><td>113       </td><td>0.27390181</td><td>0.32048193</td><td> 82       </td><td>0.36692506</td><td>KCA       </td><td>AL        </td><td> 800000   </td></tr>\n",
       "\t<tr><th scope=row>299</th><td>allench01 </td><td>2001      </td><td>1         </td><td>MIN       </td><td>AL        </td><td> 57       </td><td> 57       </td><td>175       </td><td> 20       </td><td> 46       </td><td>...       </td><td>1         </td><td> 7        </td><td> 57       </td><td>0.26285714</td><td>0.33333333</td><td> 27       </td><td>0.42857143</td><td>MIN       </td><td>AL        </td><td> 240000   </td></tr>\n",
       "\t<tr><th scope=row>319</th><td>almanar01 </td><td>2001      </td><td>1         </td><td>FLO       </td><td>NL        </td><td> 52       </td><td> 49       </td><td>  0       </td><td>  0       </td><td>  0       </td><td>...       </td><td>0         </td><td> 0        </td><td> 49       </td><td>       NaN</td><td>       NaN</td><td>  0       </td><td>       NaN</td><td>FLO       </td><td>NL        </td><td> 225000   </td></tr>\n",
       "\t<tr><th scope=row>325</th><td>almanca01 </td><td>2001      </td><td>1         </td><td>NYA       </td><td>AL        </td><td> 10       </td><td>  1       </td><td>  0       </td><td>  0       </td><td>  0       </td><td>...       </td><td>0         </td><td> 0        </td><td>  1       </td><td>       NaN</td><td>       NaN</td><td>  0       </td><td>       NaN</td><td>NYA       </td><td>AL        </td><td> 270000   </td></tr>\n",
       "\t<tr><th scope=row>346</th><td>alomaro01 </td><td>2001      </td><td>1         </td><td>CLE       </td><td>AL        </td><td>157       </td><td>157       </td><td>575       </td><td>113       </td><td>193       </td><td>...       </td><td>9         </td><td> 9        </td><td>157       </td><td>0.33565217</td><td>0.41467066</td><td>127       </td><td>0.54086957</td><td>CLE       </td><td>AL        </td><td>7750000   </td></tr>\n",
       "\t<tr><th scope=row>363</th><td>alomasa02 </td><td>2001      </td><td>1         </td><td>CHA       </td><td>AL        </td><td> 70       </td><td> 70       </td><td>220       </td><td> 17       </td><td> 54       </td><td>...       </td><td>2         </td><td> 6        </td><td> 70       </td><td>0.24545455</td><td>0.28813559</td><td> 41       </td><td>0.34545455</td><td>CHA       </td><td>AL        </td><td>2900000   </td></tr>\n",
       "\t<tr><th scope=row>383</th><td>aloumo01  </td><td>2001      </td><td>1         </td><td>HOU       </td><td>NL        </td><td>136       </td><td>136       </td><td>513       </td><td> 79       </td><td>170       </td><td>...       </td><td>8         </td><td>18        </td><td>136       </td><td>0.33138402</td><td>0.39586919</td><td>111       </td><td>0.55360624</td><td>HOU       </td><td>NL        </td><td>5250000   </td></tr>\n",
       "\t<tr><th scope=row>456</th><td>anderbr01 </td><td>2001      </td><td>1         </td><td>BAL       </td><td>AL        </td><td>131       </td><td>131       </td><td>430       </td><td> 50       </td><td> 87       </td><td>...       </td><td>1         </td><td> 3        </td><td>131       </td><td>0.20232558</td><td>0.31062124</td><td> 64       </td><td>0.30000000</td><td>BAL       </td><td>AL        </td><td>7200000   </td></tr>\n",
       "\t<tr><th scope=row>464</th><td>anderbr02 </td><td>2001      </td><td>1         </td><td>ARI       </td><td>NL        </td><td> 33       </td><td> 31       </td><td> 37       </td><td>  1       </td><td>  5       </td><td>...       </td><td>0         </td><td> 2        </td><td> 31       </td><td>0.13513514</td><td>0.13513514</td><td>  3       </td><td>0.21621622</td><td>ARI       </td><td>NL        </td><td>4125000   </td></tr>\n",
       "\t<tr><th scope=row>493</th><td>anderga01 </td><td>2001      </td><td>1         </td><td>ANA       </td><td>AL        </td><td>161       </td><td>161       </td><td>672       </td><td> 83       </td><td>194       </td><td>...       </td><td>5         </td><td>12        </td><td>161       </td><td>0.28869048</td><td>0.31392045</td><td>125       </td><td>0.47767857</td><td>ANA       </td><td>AL        </td><td>4500000   </td></tr>\n",
       "\t<tr><th scope=row>507</th><td>anderji02 </td><td>2001      </td><td>1         </td><td>PIT       </td><td>NL        </td><td> 34       </td><td> 32       </td><td> 59       </td><td>  2       </td><td>  7       </td><td>...       </td><td>0         </td><td> 1        </td><td> 32       </td><td>0.11864407</td><td>0.17460317</td><td>  6       </td><td>0.13559322</td><td>PIT       </td><td>NL        </td><td> 285000   </td></tr>\n",
       "\t<tr><th scope=row>531</th><td>anderma01 </td><td>2001      </td><td>1         </td><td>DET       </td><td>AL        </td><td> 62       </td><td>  4       </td><td>  0       </td><td>  0       </td><td>  0       </td><td>...       </td><td>0         </td><td> 0        </td><td>  4       </td><td>       NaN</td><td>       NaN</td><td>  0       </td><td>       NaN</td><td>DET       </td><td>AL        </td><td> 355000   </td></tr>\n",
       "\t<tr><th scope=row>535</th><td>anderma02 </td><td>2001      </td><td>1         </td><td>PHI       </td><td>NL        </td><td>147       </td><td>147       </td><td>522       </td><td> 69       </td><td>153       </td><td>...       </td><td>5         </td><td>12        </td><td>147       </td><td>0.29310345</td><td>0.33687943</td><td>110       </td><td>0.42145594</td><td>PHI       </td><td>NL        </td><td> 280000   </td></tr>\n",
       "\t<tr><th scope=row>569</th><td>ankieri01 </td><td>2001      </td><td>1         </td><td>SLN       </td><td>NL        </td><td>  6       </td><td>  6       </td><td>  8       </td><td>  1       </td><td>  0       </td><td>...       </td><td>0         </td><td> 0        </td><td>  6       </td><td>0.00000000</td><td>0.11111111</td><td>  0       </td><td>0.00000000</td><td>SLN       </td><td>NL        </td><td> 400000   </td></tr>\n",
       "\t<tr><th scope=row>599</th><td>appieke01 </td><td>2001      </td><td>1         </td><td>NYN       </td><td>NL        </td><td> 33       </td><td> 31       </td><td> 62       </td><td>  4       </td><td>  7       </td><td>...       </td><td>0         </td><td> 0        </td><td> 31       </td><td>0.11290323</td><td>0.14062500</td><td>  7       </td><td>0.11290323</td><td>NYN       </td><td>NL        </td><td>8500000   </td></tr>\n",
       "\t<tr><th scope=row>629</th><td>ariasal01 </td><td>2001      </td><td>1         </td><td>SDN       </td><td>NL        </td><td> 70       </td><td> 70       </td><td>137       </td><td> 19       </td><td> 31       </td><td>...       </td><td>2         </td><td> 3        </td><td> 70       </td><td>0.22627737</td><td>0.31210191</td><td> 20       </td><td>0.33576642</td><td>SDN       </td><td>NL        </td><td> 550000   </td></tr>\n",
       "\t<tr><th scope=row>642</th><td>armasto02 </td><td>2001      </td><td>1         </td><td>MON       </td><td>NL        </td><td> 34       </td><td> 32       </td><td> 53       </td><td>  2       </td><td>  8       </td><td>...       </td><td>0         </td><td> 0        </td><td> 32       </td><td>0.15094340</td><td>0.15094340</td><td>  7       </td><td>0.16981132</td><td>MON       </td><td>NL        </td><td> 230000   </td></tr>\n",
       "\t<tr><th scope=row>672</th><td>arrojro01 </td><td>2001      </td><td>1         </td><td>BOS       </td><td>AL        </td><td> 41       </td><td>  3       </td><td>  4       </td><td>  0       </td><td>  0       </td><td>...       </td><td>0         </td><td> 0        </td><td>  3       </td><td>0.00000000</td><td>0.00000000</td><td>  0       </td><td>0.00000000</td><td>BOS       </td><td>AL        </td><td>1625000   </td></tr>\n",
       "\t<tr><th scope=row>674</th><td>arroybr01 </td><td>2001      </td><td>1         </td><td>PIT       </td><td>NL        </td><td> 24       </td><td> 23       </td><td> 21       </td><td>  0       </td><td>  1       </td><td>...       </td><td>1         </td><td> 0        </td><td> 23       </td><td>0.04761905</td><td>0.08695652</td><td>  1       </td><td>0.04761905</td><td>PIT       </td><td>NL        </td><td> 225000   </td></tr>\n",
       "\t<tr><th scope=row>703</th><td>ashbyan01 </td><td>2001      </td><td>1         </td><td>LAN       </td><td>NL        </td><td>  3       </td><td>  3       </td><td>  2       </td><td>  1       </td><td>  1       </td><td>...       </td><td>0         </td><td> 0        </td><td>  3       </td><td>0.50000000</td><td>0.66666667</td><td>  1       </td><td>0.50000000</td><td>LAN       </td><td>NL        </td><td>6000000   </td></tr>\n",
       "\t<tr><th scope=row>736</th><td>astacpe01 </td><td>2001      </td><td>2         </td><td>HOU       </td><td>NL        </td><td>  4       </td><td>  4       </td><td> 11       </td><td>  0       </td><td>  1       </td><td>...       </td><td>0         </td><td> 0        </td><td>  4       </td><td>0.09090909</td><td>0.09090909</td><td>  1       </td><td>0.09090909</td><td>COL       </td><td>NL        </td><td>6850000   </td></tr>\n",
       "\t<tr><th scope=row>737</th><td>astacpe01 </td><td>2001      </td><td>1         </td><td>COL       </td><td>NL        </td><td> 22       </td><td> 20       </td><td> 42       </td><td>  2       </td><td>  4       </td><td>...       </td><td>0         </td><td> 0        </td><td> 20       </td><td>0.09523810</td><td>0.09523810</td><td>  4       </td><td>0.09523810</td><td>COL       </td><td>NL        </td><td>6850000   </td></tr>\n",
       "\t<tr><th scope=row>...</th><td>...</td><td>...</td><td>...</td><td>...</td><td>...</td><td>...</td><td>...</td><td>...</td><td>...</td><td>...</td><td>   </td><td>...</td><td>...</td><td>...</td><td>...</td><td>...</td><td>...</td><td>...</td><td>...</td><td>...</td><td>...</td></tr>\n",
       "\t<tr><th scope=row>24749</th><td>wilsokr01</td><td>2001     </td><td>1        </td><td>KCA      </td><td>AL       </td><td> 29      </td><td>  1      </td><td>  3      </td><td> 1       </td><td>  1      </td><td>...      </td><td> 0       </td><td> 0       </td><td>  1      </td><td>0.3333333</td><td>0.3333333</td><td>  1      </td><td>0.3333333</td><td>KCA      </td><td>AL       </td><td> 205000  </td></tr>\n",
       "\t<tr><th scope=row>24763</th><td>wilsopa02</td><td>2001     </td><td>1        </td><td>TBA      </td><td>AL       </td><td> 37      </td><td>  4      </td><td>  0      </td><td> 0       </td><td>  0      </td><td>...      </td><td> 0       </td><td> 0       </td><td>  4      </td><td>      NaN</td><td>      NaN</td><td>  0      </td><td>      NaN</td><td>TBA      </td><td>AL       </td><td> 350000  </td></tr>\n",
       "\t<tr><th scope=row>24770</th><td>wilsopr01</td><td>2001     </td><td>1        </td><td>FLO      </td><td>NL       </td><td>123      </td><td>123      </td><td>468      </td><td>70       </td><td>128      </td><td>...      </td><td> 3       </td><td>14       </td><td>123      </td><td>0.2735043</td><td>0.3313840</td><td> 73      </td><td>0.4935897</td><td>FLO      </td><td>NL       </td><td>1000000  </td></tr>\n",
       "\t<tr><th scope=row>24806</th><td>winchsc01</td><td>2001     </td><td>1        </td><td>CIN      </td><td>NL       </td><td> 12      </td><td> 11      </td><td>  3      </td><td> 0       </td><td>  0      </td><td>...      </td><td> 0       </td><td> 1       </td><td> 11      </td><td>0.0000000</td><td>0.0000000</td><td>  0      </td><td>0.0000000</td><td>CIN      </td><td>NL       </td><td> 202000  </td></tr>\n",
       "\t<tr><th scope=row>24830</th><td>winnra01 </td><td>2001     </td><td>1        </td><td>TBA      </td><td>AL       </td><td>128      </td><td>128      </td><td>429      </td><td>54       </td><td>117      </td><td>...      </td><td> 2       </td><td>10       </td><td>128      </td><td>0.2727273</td><td>0.3389474</td><td> 80      </td><td>0.4009324</td><td>TBA      </td><td>AL       </td><td> 270000  </td></tr>\n",
       "\t<tr><th scope=row>24848</th><td>wisema01 </td><td>2001     </td><td>1        </td><td>ANA      </td><td>AL       </td><td> 11      </td><td>  0      </td><td> NA      </td><td>NA       </td><td> NA      </td><td>...      </td><td>NA       </td><td>NA       </td><td> 11      </td><td>       NA</td><td>       NA</td><td> NA      </td><td>       NA</td><td>ANA      </td><td>AL       </td><td> 207500  </td></tr>\n",
       "\t<tr><th scope=row>24856</th><td>witasja01</td><td>2001     </td><td>2        </td><td>NYA      </td><td>AL       </td><td> 32      </td><td>  3      </td><td>  0      </td><td> 0       </td><td>  0      </td><td>...      </td><td> 0       </td><td> 0       </td><td>  3      </td><td>      NaN</td><td>      NaN</td><td>  0      </td><td>      NaN</td><td>SDN      </td><td>NL       </td><td> 800000  </td></tr>\n",
       "\t<tr><th scope=row>24857</th><td>witasja01</td><td>2001     </td><td>1        </td><td>SDN      </td><td>NL       </td><td> 31      </td><td> 30      </td><td>  1      </td><td> 0       </td><td>  0      </td><td>...      </td><td> 0       </td><td> 0       </td><td> 30      </td><td>0.0000000</td><td>0.0000000</td><td>  0      </td><td>0.0000000</td><td>SDN      </td><td>NL       </td><td> 800000  </td></tr>\n",
       "\t<tr><th scope=row>24881</th><td>wittbo01 </td><td>2001     </td><td>1        </td><td>ARI      </td><td>NL       </td><td> 14      </td><td> 14      </td><td> 12      </td><td> 0       </td><td>  3      </td><td>...      </td><td> 0       </td><td> 0       </td><td> 14      </td><td>0.2500000</td><td>0.2500000</td><td>  3      </td><td>0.2500000</td><td>ARI      </td><td>NL       </td><td> 500000  </td></tr>\n",
       "\t<tr><th scope=row>24898</th><td>wohlema01</td><td>2001     </td><td>1        </td><td>CIN      </td><td>NL       </td><td> 30      </td><td> 29      </td><td>  0      </td><td> 0       </td><td>  0      </td><td>...      </td><td> 0       </td><td> 0       </td><td> 29      </td><td>      NaN</td><td>      NaN</td><td>  0      </td><td>      NaN</td><td>CIN      </td><td>NL       </td><td> 500000  </td></tr>\n",
       "\t<tr><th scope=row>24899</th><td>wohlema01</td><td>2001     </td><td>2        </td><td>NYA      </td><td>AL       </td><td> 31      </td><td>  5      </td><td>  0      </td><td> 0       </td><td>  0      </td><td>...      </td><td> 0       </td><td> 0       </td><td>  5      </td><td>      NaN</td><td>      NaN</td><td>  0      </td><td>      NaN</td><td>CIN      </td><td>NL       </td><td> 500000  </td></tr>\n",
       "\t<tr><th scope=row>24912</th><td>wolfra02 </td><td>2001     </td><td>1        </td><td>PHI      </td><td>NL       </td><td> 28      </td><td> 25      </td><td> 45      </td><td> 2       </td><td>  8      </td><td>...      </td><td> 0       </td><td> 1       </td><td> 25      </td><td>0.1777778</td><td>0.2291667</td><td>  8      </td><td>0.1777778</td><td>PHI      </td><td>NL       </td><td> 365000  </td></tr>\n",
       "\t<tr><th scope=row>24930</th><td>womacto01</td><td>2001     </td><td>1        </td><td>ARI      </td><td>NL       </td><td>125      </td><td>125      </td><td>481      </td><td>66       </td><td>128      </td><td>...      </td><td> 1       </td><td> 4       </td><td>125      </td><td>0.2661123</td><td>0.3072407</td><td>101      </td><td>0.3451143</td><td>ARI      </td><td>NL       </td><td>4000000  </td></tr>\n",
       "\t<tr><th scope=row>24946</th><td>woodast01</td><td>2001     </td><td>1        </td><td>CLE      </td><td>AL       </td><td> 29      </td><td>  3      </td><td>  1      </td><td> 0       </td><td>  0      </td><td>...      </td><td> 0       </td><td> 0       </td><td>  3      </td><td>0.0000000</td><td>0.0000000</td><td>  0      </td><td>0.0000000</td><td>CLE      </td><td>AL       </td><td>1325000  </td></tr>\n",
       "\t<tr><th scope=row>24958</th><td>woodke02 </td><td>2001     </td><td>1        </td><td>CHN      </td><td>NL       </td><td> 29      </td><td> 28      </td><td> 48      </td><td> 3       </td><td>  9      </td><td>...      </td><td> 0       </td><td> 0       </td><td> 28      </td><td>0.1875000</td><td>0.2040816</td><td>  8      </td><td>0.2083333</td><td>CHN      </td><td>NL       </td><td>1940000  </td></tr>\n",
       "\t<tr><th scope=row>24983</th><td>woodwch01</td><td>2001     </td><td>1        </td><td>TOR      </td><td>AL       </td><td> 37      </td><td> 37      </td><td> 63      </td><td> 9       </td><td> 12      </td><td>...      </td><td> 0       </td><td> 1       </td><td> 37      </td><td>0.1904762</td><td>0.2031250</td><td>  5      </td><td>0.3968254</td><td>TOR      </td><td>AL       </td><td> 223000  </td></tr>\n",
       "\t<tr><th scope=row>24990</th><td>wootesh01</td><td>2001     </td><td>1        </td><td>ANA      </td><td>AL       </td><td> 79      </td><td> 79      </td><td>221      </td><td>24       </td><td> 69      </td><td>...      </td><td> 3       </td><td> 5       </td><td> 79      </td><td>0.3122172</td><td>0.3318966</td><td> 52      </td><td>0.4660633</td><td>ANA      </td><td>AL       </td><td> 200500  </td></tr>\n",
       "\t<tr><th scope=row>25007</th><td>worreti01</td><td>2001     </td><td>1        </td><td>SFN      </td><td>NL       </td><td> 73      </td><td> 72      </td><td>  2      </td><td> 0       </td><td>  0      </td><td>...      </td><td> 0       </td><td> 0       </td><td> 72      </td><td>0.0000000</td><td>0.0000000</td><td>  0      </td><td>0.0000000</td><td>SFN      </td><td>NL       </td><td>1300000  </td></tr>\n",
       "\t<tr><th scope=row>25049</th><td>wrighja01</td><td>2001     </td><td>1        </td><td>MIL      </td><td>NL       </td><td> 34      </td><td> 33      </td><td> 67      </td><td> 7       </td><td> 13      </td><td>...      </td><td> 0       </td><td> 0       </td><td> 33      </td><td>0.1940299</td><td>0.2285714</td><td> 12      </td><td>0.2089552</td><td>MIL      </td><td>NL       </td><td>2350000  </td></tr>\n",
       "\t<tr><th scope=row>25061</th><td>wrighja02</td><td>2001     </td><td>1        </td><td>CLE      </td><td>AL       </td><td>  7      </td><td>  1      </td><td>  2      </td><td> 0       </td><td>  1      </td><td>...      </td><td> 0       </td><td> 0       </td><td>  1      </td><td>0.5000000</td><td>0.5000000</td><td>  1      </td><td>0.5000000</td><td>CLE      </td><td>AL       </td><td>2562500  </td></tr>\n",
       "\t<tr><th scope=row>25085</th><td>wunscke01</td><td>2001     </td><td>1        </td><td>CHA      </td><td>AL       </td><td> 33      </td><td>  2      </td><td>  0      </td><td> 0       </td><td>  0      </td><td>...      </td><td> 0       </td><td> 0       </td><td>  2      </td><td>      NaN</td><td>      NaN</td><td>  0      </td><td>      NaN</td><td>CHA      </td><td>AL       </td><td> 260000  </td></tr>\n",
       "\t<tr><th scope=row>25106</th><td>yanes01  </td><td>2001     </td><td>1        </td><td>TBA      </td><td>AL       </td><td> 54      </td><td>  2      </td><td>  0      </td><td> 0       </td><td>  0      </td><td>...      </td><td> 0       </td><td> 0       </td><td>  2      </td><td>      NaN</td><td>      NaN</td><td>  0      </td><td>      NaN</td><td>TBA      </td><td>AL       </td><td> 650000  </td></tr>\n",
       "\t<tr><th scope=row>25195</th><td>youngdm01</td><td>2001     </td><td>1        </td><td>CIN      </td><td>NL       </td><td>142      </td><td>142      </td><td>540      </td><td>68       </td><td>163      </td><td>...      </td><td> 3       </td><td>22       </td><td>142      </td><td>0.3018519</td><td>0.3504274</td><td>111      </td><td>0.4814815</td><td>CIN      </td><td>NL       </td><td>3500000  </td></tr>\n",
       "\t<tr><th scope=row>25212</th><td>younger01</td><td>2001     </td><td>1        </td><td>CHN      </td><td>NL       </td><td>149      </td><td>149      </td><td>603      </td><td>98       </td><td>168      </td><td>...      </td><td> 3       </td><td>15       </td><td>149      </td><td>0.2786070</td><td>0.3333333</td><td>115      </td><td>0.3930348</td><td>CHN      </td><td>NL       </td><td>4500000  </td></tr>\n",
       "\t<tr><th scope=row>25248</th><td>youngke01</td><td>2001     </td><td>1        </td><td>PIT      </td><td>NL       </td><td>142      </td><td>142      </td><td>449      </td><td>53       </td><td>104      </td><td>...      </td><td> 5       </td><td>17       </td><td>142      </td><td>0.2316258</td><td>0.3096647</td><td> 57      </td><td>0.3986637</td><td>PIT      </td><td>NL       </td><td>6125000  </td></tr>\n",
       "\t<tr><th scope=row>25314</th><td>zaungr01 </td><td>2001     </td><td>1        </td><td>KCA      </td><td>AL       </td><td> 39      </td><td> 39      </td><td>125      </td><td>15       </td><td> 40      </td><td>...      </td><td> 1       </td><td> 2       </td><td> 39      </td><td>0.3200000</td><td>0.3768116</td><td> 25      </td><td>0.5360000</td><td>KCA      </td><td>AL       </td><td>1150000  </td></tr>\n",
       "\t<tr><th scope=row>25341</th><td>zeileto01</td><td>2001     </td><td>1        </td><td>NYN      </td><td>NL       </td><td>151      </td><td>151      </td><td>531      </td><td>66       </td><td>141      </td><td>...      </td><td> 2       </td><td>15       </td><td>151      </td><td>0.2655367</td><td>0.3594771</td><td>105      </td><td>0.3728814</td><td>NYN      </td><td>NL       </td><td>6833333  </td></tr>\n",
       "\t<tr><th scope=row>25355</th><td>zimmeje02</td><td>2001     </td><td>1        </td><td>TEX      </td><td>AL       </td><td> 66      </td><td>  3      </td><td>  0      </td><td> 0       </td><td>  0      </td><td>...      </td><td> 0       </td><td> 0       </td><td>  3      </td><td>      NaN</td><td>      NaN</td><td>  0      </td><td>      NaN</td><td>TEX      </td><td>AL       </td><td> 307500  </td></tr>\n",
       "\t<tr><th scope=row>25366</th><td>zitoba01 </td><td>2001     </td><td>1        </td><td>OAK      </td><td>AL       </td><td> 35      </td><td>  2      </td><td>  5      </td><td> 0       </td><td>  0      </td><td>...      </td><td> 0       </td><td> 0       </td><td>  2      </td><td>0.0000000</td><td>0.0000000</td><td>  0      </td><td>0.0000000</td><td>OAK      </td><td>AL       </td><td> 240000  </td></tr>\n",
       "\t<tr><th scope=row>25388</th><td>zuletju01</td><td>2001     </td><td>1        </td><td>CHN      </td><td>NL       </td><td> 49      </td><td> 49      </td><td>106      </td><td>11       </td><td> 23      </td><td>...      </td><td> 1       </td><td> 3       </td><td> 49      </td><td>0.2169811</td><td>0.2881356</td><td> 14      </td><td>0.4150943</td><td>CHN      </td><td>NL       </td><td> 200000  </td></tr>\n",
       "</tbody>\n",
       "</table>\n"
      ],
      "text/latex": [
       "\\begin{tabular}{r|lllllllllllllllllllllllllllllll}\n",
       "  & playerID & yearID & stint & teamID.x & lgID.x & G & G\\_batting & AB & R & H & ... & SF & GIDP & G\\_old & BA & OBP & X1B & SLG & teamID.y & lgID.y & salary\\\\\n",
       "\\hline\n",
       "\t17 & abbotje01  & 2001       & 1          & FLO        & NL         &  28        &  28        &  42        &   5        &  11        & ...        & 0          &  1         &  28        & 0.26190476 & 0.32608696 &   8        & 0.33333333 & FLO        & NL         &  300000   \\\\\n",
       "\t37 & abbotku01  & 2001       & 1          & ATL        & NL         &   6        &   6        &   9        &   0        &   2        & ...        & 0          &  0         &   6        & 0.22222222 & 0.22222222 &   2        & 0.22222222 & ATL        & NL         &  600000   \\\\\n",
       "\t44 & abbotpa01  & 2001       & 1          & SEA        & AL         &  28        &   2        &   4        &   0        &   1        & ...        & 0          &  0         &   2        & 0.25000000 & 0.25000000 &   1        & 0.25000000 & SEA        & AL         & 1700000   \\\\\n",
       "\t62 & abreubo01  & 2001       & 1          & PHI        & NL         & 162        & 162        & 588        & 118        & 170        & ...        & 9          & 13         & 162        & 0.28911565 & 0.39346591 &  87        & 0.54251701 & PHI        & NL         & 4983000   \\\\\n",
       "\t130 & adamste01  & 2001       & 1          & LAN        & NL         &  43        &  41        &  39        &   2        &   2        & ...        & 1          &  0         &  41        & 0.05128205 & 0.11627907 &   1        & 0.07692308 & LAN        & NL         & 2600000   \\\\\n",
       "\t157 & agbaybe01  & 2001       & 1          & NYN        & NL         &  91        &  91        & 296        &  28        &  82        & ...        & 1          & 11         &  91        & 0.27702703 & 0.36390533 &  60        & 0.39864865 & NYN        & NL         &  260000   \\\\\n",
       "\t258 & alfonan01  & 2001       & 1          & FLO        & NL         &  58        &  54        &   0        &   0        &   0        & ...        & 0          &  0         &  54        &        NaN &        NaN &   0        &        NaN & FLO        & NL         & 2450000   \\\\\n",
       "\t271 & alfoned01  & 2001       & 1          & NYN        & NL         & 124        & 124        & 457        &  64        & 111        & ...        & 5          &  7         & 124        & 0.24288840 & 0.32239382 &  72        & 0.40262582 & NYN        & NL         & 5750000   \\\\\n",
       "\t287 & alicelu01  & 2001       & 1          & KCA        & AL         & 113        & 113        & 387        &  44        & 106        & ...        & 1          &  6         & 113        & 0.27390181 & 0.32048193 &  82        & 0.36692506 & KCA        & AL         &  800000   \\\\\n",
       "\t299 & allench01  & 2001       & 1          & MIN        & AL         &  57        &  57        & 175        &  20        &  46        & ...        & 1          &  7         &  57        & 0.26285714 & 0.33333333 &  27        & 0.42857143 & MIN        & AL         &  240000   \\\\\n",
       "\t319 & almanar01  & 2001       & 1          & FLO        & NL         &  52        &  49        &   0        &   0        &   0        & ...        & 0          &  0         &  49        &        NaN &        NaN &   0        &        NaN & FLO        & NL         &  225000   \\\\\n",
       "\t325 & almanca01  & 2001       & 1          & NYA        & AL         &  10        &   1        &   0        &   0        &   0        & ...        & 0          &  0         &   1        &        NaN &        NaN &   0        &        NaN & NYA        & AL         &  270000   \\\\\n",
       "\t346 & alomaro01  & 2001       & 1          & CLE        & AL         & 157        & 157        & 575        & 113        & 193        & ...        & 9          &  9         & 157        & 0.33565217 & 0.41467066 & 127        & 0.54086957 & CLE        & AL         & 7750000   \\\\\n",
       "\t363 & alomasa02  & 2001       & 1          & CHA        & AL         &  70        &  70        & 220        &  17        &  54        & ...        & 2          &  6         &  70        & 0.24545455 & 0.28813559 &  41        & 0.34545455 & CHA        & AL         & 2900000   \\\\\n",
       "\t383 & aloumo01   & 2001       & 1          & HOU        & NL         & 136        & 136        & 513        &  79        & 170        & ...        & 8          & 18         & 136        & 0.33138402 & 0.39586919 & 111        & 0.55360624 & HOU        & NL         & 5250000   \\\\\n",
       "\t456 & anderbr01  & 2001       & 1          & BAL        & AL         & 131        & 131        & 430        &  50        &  87        & ...        & 1          &  3         & 131        & 0.20232558 & 0.31062124 &  64        & 0.30000000 & BAL        & AL         & 7200000   \\\\\n",
       "\t464 & anderbr02  & 2001       & 1          & ARI        & NL         &  33        &  31        &  37        &   1        &   5        & ...        & 0          &  2         &  31        & 0.13513514 & 0.13513514 &   3        & 0.21621622 & ARI        & NL         & 4125000   \\\\\n",
       "\t493 & anderga01  & 2001       & 1          & ANA        & AL         & 161        & 161        & 672        &  83        & 194        & ...        & 5          & 12         & 161        & 0.28869048 & 0.31392045 & 125        & 0.47767857 & ANA        & AL         & 4500000   \\\\\n",
       "\t507 & anderji02  & 2001       & 1          & PIT        & NL         &  34        &  32        &  59        &   2        &   7        & ...        & 0          &  1         &  32        & 0.11864407 & 0.17460317 &   6        & 0.13559322 & PIT        & NL         &  285000   \\\\\n",
       "\t531 & anderma01  & 2001       & 1          & DET        & AL         &  62        &   4        &   0        &   0        &   0        & ...        & 0          &  0         &   4        &        NaN &        NaN &   0        &        NaN & DET        & AL         &  355000   \\\\\n",
       "\t535 & anderma02  & 2001       & 1          & PHI        & NL         & 147        & 147        & 522        &  69        & 153        & ...        & 5          & 12         & 147        & 0.29310345 & 0.33687943 & 110        & 0.42145594 & PHI        & NL         &  280000   \\\\\n",
       "\t569 & ankieri01  & 2001       & 1          & SLN        & NL         &   6        &   6        &   8        &   1        &   0        & ...        & 0          &  0         &   6        & 0.00000000 & 0.11111111 &   0        & 0.00000000 & SLN        & NL         &  400000   \\\\\n",
       "\t599 & appieke01  & 2001       & 1          & NYN        & NL         &  33        &  31        &  62        &   4        &   7        & ...        & 0          &  0         &  31        & 0.11290323 & 0.14062500 &   7        & 0.11290323 & NYN        & NL         & 8500000   \\\\\n",
       "\t629 & ariasal01  & 2001       & 1          & SDN        & NL         &  70        &  70        & 137        &  19        &  31        & ...        & 2          &  3         &  70        & 0.22627737 & 0.31210191 &  20        & 0.33576642 & SDN        & NL         &  550000   \\\\\n",
       "\t642 & armasto02  & 2001       & 1          & MON        & NL         &  34        &  32        &  53        &   2        &   8        & ...        & 0          &  0         &  32        & 0.15094340 & 0.15094340 &   7        & 0.16981132 & MON        & NL         &  230000   \\\\\n",
       "\t672 & arrojro01  & 2001       & 1          & BOS        & AL         &  41        &   3        &   4        &   0        &   0        & ...        & 0          &  0         &   3        & 0.00000000 & 0.00000000 &   0        & 0.00000000 & BOS        & AL         & 1625000   \\\\\n",
       "\t674 & arroybr01  & 2001       & 1          & PIT        & NL         &  24        &  23        &  21        &   0        &   1        & ...        & 1          &  0         &  23        & 0.04761905 & 0.08695652 &   1        & 0.04761905 & PIT        & NL         &  225000   \\\\\n",
       "\t703 & ashbyan01  & 2001       & 1          & LAN        & NL         &   3        &   3        &   2        &   1        &   1        & ...        & 0          &  0         &   3        & 0.50000000 & 0.66666667 &   1        & 0.50000000 & LAN        & NL         & 6000000   \\\\\n",
       "\t736 & astacpe01  & 2001       & 2          & HOU        & NL         &   4        &   4        &  11        &   0        &   1        & ...        & 0          &  0         &   4        & 0.09090909 & 0.09090909 &   1        & 0.09090909 & COL        & NL         & 6850000   \\\\\n",
       "\t737 & astacpe01  & 2001       & 1          & COL        & NL         &  22        &  20        &  42        &   2        &   4        & ...        & 0          &  0         &  20        & 0.09523810 & 0.09523810 &   4        & 0.09523810 & COL        & NL         & 6850000   \\\\\n",
       "\t... & ... & ... & ... & ... & ... & ... & ... & ... & ... & ... &     & ... & ... & ... & ... & ... & ... & ... & ... & ... & ...\\\\\n",
       "\t24749 & wilsokr01 & 2001      & 1         & KCA       & AL        &  29       &   1       &   3       &  1        &   1       & ...       &  0        &  0        &   1       & 0.3333333 & 0.3333333 &   1       & 0.3333333 & KCA       & AL        &  205000  \\\\\n",
       "\t24763 & wilsopa02 & 2001      & 1         & TBA       & AL        &  37       &   4       &   0       &  0        &   0       & ...       &  0        &  0        &   4       &       NaN &       NaN &   0       &       NaN & TBA       & AL        &  350000  \\\\\n",
       "\t24770 & wilsopr01 & 2001      & 1         & FLO       & NL        & 123       & 123       & 468       & 70        & 128       & ...       &  3        & 14        & 123       & 0.2735043 & 0.3313840 &  73       & 0.4935897 & FLO       & NL        & 1000000  \\\\\n",
       "\t24806 & winchsc01 & 2001      & 1         & CIN       & NL        &  12       &  11       &   3       &  0        &   0       & ...       &  0        &  1        &  11       & 0.0000000 & 0.0000000 &   0       & 0.0000000 & CIN       & NL        &  202000  \\\\\n",
       "\t24830 & winnra01  & 2001      & 1         & TBA       & AL        & 128       & 128       & 429       & 54        & 117       & ...       &  2        & 10        & 128       & 0.2727273 & 0.3389474 &  80       & 0.4009324 & TBA       & AL        &  270000  \\\\\n",
       "\t24848 & wisema01  & 2001      & 1         & ANA       & AL        &  11       &   0       &  NA       & NA        &  NA       & ...       & NA        & NA        &  11       &        NA &        NA &  NA       &        NA & ANA       & AL        &  207500  \\\\\n",
       "\t24856 & witasja01 & 2001      & 2         & NYA       & AL        &  32       &   3       &   0       &  0        &   0       & ...       &  0        &  0        &   3       &       NaN &       NaN &   0       &       NaN & SDN       & NL        &  800000  \\\\\n",
       "\t24857 & witasja01 & 2001      & 1         & SDN       & NL        &  31       &  30       &   1       &  0        &   0       & ...       &  0        &  0        &  30       & 0.0000000 & 0.0000000 &   0       & 0.0000000 & SDN       & NL        &  800000  \\\\\n",
       "\t24881 & wittbo01  & 2001      & 1         & ARI       & NL        &  14       &  14       &  12       &  0        &   3       & ...       &  0        &  0        &  14       & 0.2500000 & 0.2500000 &   3       & 0.2500000 & ARI       & NL        &  500000  \\\\\n",
       "\t24898 & wohlema01 & 2001      & 1         & CIN       & NL        &  30       &  29       &   0       &  0        &   0       & ...       &  0        &  0        &  29       &       NaN &       NaN &   0       &       NaN & CIN       & NL        &  500000  \\\\\n",
       "\t24899 & wohlema01 & 2001      & 2         & NYA       & AL        &  31       &   5       &   0       &  0        &   0       & ...       &  0        &  0        &   5       &       NaN &       NaN &   0       &       NaN & CIN       & NL        &  500000  \\\\\n",
       "\t24912 & wolfra02  & 2001      & 1         & PHI       & NL        &  28       &  25       &  45       &  2        &   8       & ...       &  0        &  1        &  25       & 0.1777778 & 0.2291667 &   8       & 0.1777778 & PHI       & NL        &  365000  \\\\\n",
       "\t24930 & womacto01 & 2001      & 1         & ARI       & NL        & 125       & 125       & 481       & 66        & 128       & ...       &  1        &  4        & 125       & 0.2661123 & 0.3072407 & 101       & 0.3451143 & ARI       & NL        & 4000000  \\\\\n",
       "\t24946 & woodast01 & 2001      & 1         & CLE       & AL        &  29       &   3       &   1       &  0        &   0       & ...       &  0        &  0        &   3       & 0.0000000 & 0.0000000 &   0       & 0.0000000 & CLE       & AL        & 1325000  \\\\\n",
       "\t24958 & woodke02  & 2001      & 1         & CHN       & NL        &  29       &  28       &  48       &  3        &   9       & ...       &  0        &  0        &  28       & 0.1875000 & 0.2040816 &   8       & 0.2083333 & CHN       & NL        & 1940000  \\\\\n",
       "\t24983 & woodwch01 & 2001      & 1         & TOR       & AL        &  37       &  37       &  63       &  9        &  12       & ...       &  0        &  1        &  37       & 0.1904762 & 0.2031250 &   5       & 0.3968254 & TOR       & AL        &  223000  \\\\\n",
       "\t24990 & wootesh01 & 2001      & 1         & ANA       & AL        &  79       &  79       & 221       & 24        &  69       & ...       &  3        &  5        &  79       & 0.3122172 & 0.3318966 &  52       & 0.4660633 & ANA       & AL        &  200500  \\\\\n",
       "\t25007 & worreti01 & 2001      & 1         & SFN       & NL        &  73       &  72       &   2       &  0        &   0       & ...       &  0        &  0        &  72       & 0.0000000 & 0.0000000 &   0       & 0.0000000 & SFN       & NL        & 1300000  \\\\\n",
       "\t25049 & wrighja01 & 2001      & 1         & MIL       & NL        &  34       &  33       &  67       &  7        &  13       & ...       &  0        &  0        &  33       & 0.1940299 & 0.2285714 &  12       & 0.2089552 & MIL       & NL        & 2350000  \\\\\n",
       "\t25061 & wrighja02 & 2001      & 1         & CLE       & AL        &   7       &   1       &   2       &  0        &   1       & ...       &  0        &  0        &   1       & 0.5000000 & 0.5000000 &   1       & 0.5000000 & CLE       & AL        & 2562500  \\\\\n",
       "\t25085 & wunscke01 & 2001      & 1         & CHA       & AL        &  33       &   2       &   0       &  0        &   0       & ...       &  0        &  0        &   2       &       NaN &       NaN &   0       &       NaN & CHA       & AL        &  260000  \\\\\n",
       "\t25106 & yanes01   & 2001      & 1         & TBA       & AL        &  54       &   2       &   0       &  0        &   0       & ...       &  0        &  0        &   2       &       NaN &       NaN &   0       &       NaN & TBA       & AL        &  650000  \\\\\n",
       "\t25195 & youngdm01 & 2001      & 1         & CIN       & NL        & 142       & 142       & 540       & 68        & 163       & ...       &  3        & 22        & 142       & 0.3018519 & 0.3504274 & 111       & 0.4814815 & CIN       & NL        & 3500000  \\\\\n",
       "\t25212 & younger01 & 2001      & 1         & CHN       & NL        & 149       & 149       & 603       & 98        & 168       & ...       &  3        & 15        & 149       & 0.2786070 & 0.3333333 & 115       & 0.3930348 & CHN       & NL        & 4500000  \\\\\n",
       "\t25248 & youngke01 & 2001      & 1         & PIT       & NL        & 142       & 142       & 449       & 53        & 104       & ...       &  5        & 17        & 142       & 0.2316258 & 0.3096647 &  57       & 0.3986637 & PIT       & NL        & 6125000  \\\\\n",
       "\t25314 & zaungr01  & 2001      & 1         & KCA       & AL        &  39       &  39       & 125       & 15        &  40       & ...       &  1        &  2        &  39       & 0.3200000 & 0.3768116 &  25       & 0.5360000 & KCA       & AL        & 1150000  \\\\\n",
       "\t25341 & zeileto01 & 2001      & 1         & NYN       & NL        & 151       & 151       & 531       & 66        & 141       & ...       &  2        & 15        & 151       & 0.2655367 & 0.3594771 & 105       & 0.3728814 & NYN       & NL        & 6833333  \\\\\n",
       "\t25355 & zimmeje02 & 2001      & 1         & TEX       & AL        &  66       &   3       &   0       &  0        &   0       & ...       &  0        &  0        &   3       &       NaN &       NaN &   0       &       NaN & TEX       & AL        &  307500  \\\\\n",
       "\t25366 & zitoba01  & 2001      & 1         & OAK       & AL        &  35       &   2       &   5       &  0        &   0       & ...       &  0        &  0        &   2       & 0.0000000 & 0.0000000 &   0       & 0.0000000 & OAK       & AL        &  240000  \\\\\n",
       "\t25388 & zuletju01 & 2001      & 1         & CHN       & NL        &  49       &  49       & 106       & 11        &  23       & ...       &  1        &  3        &  49       & 0.2169811 & 0.2881356 &  14       & 0.4150943 & CHN       & NL        &  200000  \\\\\n",
       "\\end{tabular}\n"
      ],
      "text/markdown": [
       "\n",
       "| <!--/--> | playerID | yearID | stint | teamID.x | lgID.x | G | G_batting | AB | R | H | ... | SF | GIDP | G_old | BA | OBP | X1B | SLG | teamID.y | lgID.y | salary |\n",
       "|---|---|---|---|---|---|---|---|---|---|---|---|---|---|---|---|---|---|---|---|---|---|\n",
       "| 17 | abbotje01  | 2001       | 1          | FLO        | NL         |  28        |  28        |  42        |   5        |  11        | ...        | 0          |  1         |  28        | 0.26190476 | 0.32608696 |   8        | 0.33333333 | FLO        | NL         |  300000    |\n",
       "| 37 | abbotku01  | 2001       | 1          | ATL        | NL         |   6        |   6        |   9        |   0        |   2        | ...        | 0          |  0         |   6        | 0.22222222 | 0.22222222 |   2        | 0.22222222 | ATL        | NL         |  600000    |\n",
       "| 44 | abbotpa01  | 2001       | 1          | SEA        | AL         |  28        |   2        |   4        |   0        |   1        | ...        | 0          |  0         |   2        | 0.25000000 | 0.25000000 |   1        | 0.25000000 | SEA        | AL         | 1700000    |\n",
       "| 62 | abreubo01  | 2001       | 1          | PHI        | NL         | 162        | 162        | 588        | 118        | 170        | ...        | 9          | 13         | 162        | 0.28911565 | 0.39346591 |  87        | 0.54251701 | PHI        | NL         | 4983000    |\n",
       "| 130 | adamste01  | 2001       | 1          | LAN        | NL         |  43        |  41        |  39        |   2        |   2        | ...        | 1          |  0         |  41        | 0.05128205 | 0.11627907 |   1        | 0.07692308 | LAN        | NL         | 2600000    |\n",
       "| 157 | agbaybe01  | 2001       | 1          | NYN        | NL         |  91        |  91        | 296        |  28        |  82        | ...        | 1          | 11         |  91        | 0.27702703 | 0.36390533 |  60        | 0.39864865 | NYN        | NL         |  260000    |\n",
       "| 258 | alfonan01  | 2001       | 1          | FLO        | NL         |  58        |  54        |   0        |   0        |   0        | ...        | 0          |  0         |  54        |        NaN |        NaN |   0        |        NaN | FLO        | NL         | 2450000    |\n",
       "| 271 | alfoned01  | 2001       | 1          | NYN        | NL         | 124        | 124        | 457        |  64        | 111        | ...        | 5          |  7         | 124        | 0.24288840 | 0.32239382 |  72        | 0.40262582 | NYN        | NL         | 5750000    |\n",
       "| 287 | alicelu01  | 2001       | 1          | KCA        | AL         | 113        | 113        | 387        |  44        | 106        | ...        | 1          |  6         | 113        | 0.27390181 | 0.32048193 |  82        | 0.36692506 | KCA        | AL         |  800000    |\n",
       "| 299 | allench01  | 2001       | 1          | MIN        | AL         |  57        |  57        | 175        |  20        |  46        | ...        | 1          |  7         |  57        | 0.26285714 | 0.33333333 |  27        | 0.42857143 | MIN        | AL         |  240000    |\n",
       "| 319 | almanar01  | 2001       | 1          | FLO        | NL         |  52        |  49        |   0        |   0        |   0        | ...        | 0          |  0         |  49        |        NaN |        NaN |   0        |        NaN | FLO        | NL         |  225000    |\n",
       "| 325 | almanca01  | 2001       | 1          | NYA        | AL         |  10        |   1        |   0        |   0        |   0        | ...        | 0          |  0         |   1        |        NaN |        NaN |   0        |        NaN | NYA        | AL         |  270000    |\n",
       "| 346 | alomaro01  | 2001       | 1          | CLE        | AL         | 157        | 157        | 575        | 113        | 193        | ...        | 9          |  9         | 157        | 0.33565217 | 0.41467066 | 127        | 0.54086957 | CLE        | AL         | 7750000    |\n",
       "| 363 | alomasa02  | 2001       | 1          | CHA        | AL         |  70        |  70        | 220        |  17        |  54        | ...        | 2          |  6         |  70        | 0.24545455 | 0.28813559 |  41        | 0.34545455 | CHA        | AL         | 2900000    |\n",
       "| 383 | aloumo01   | 2001       | 1          | HOU        | NL         | 136        | 136        | 513        |  79        | 170        | ...        | 8          | 18         | 136        | 0.33138402 | 0.39586919 | 111        | 0.55360624 | HOU        | NL         | 5250000    |\n",
       "| 456 | anderbr01  | 2001       | 1          | BAL        | AL         | 131        | 131        | 430        |  50        |  87        | ...        | 1          |  3         | 131        | 0.20232558 | 0.31062124 |  64        | 0.30000000 | BAL        | AL         | 7200000    |\n",
       "| 464 | anderbr02  | 2001       | 1          | ARI        | NL         |  33        |  31        |  37        |   1        |   5        | ...        | 0          |  2         |  31        | 0.13513514 | 0.13513514 |   3        | 0.21621622 | ARI        | NL         | 4125000    |\n",
       "| 493 | anderga01  | 2001       | 1          | ANA        | AL         | 161        | 161        | 672        |  83        | 194        | ...        | 5          | 12         | 161        | 0.28869048 | 0.31392045 | 125        | 0.47767857 | ANA        | AL         | 4500000    |\n",
       "| 507 | anderji02  | 2001       | 1          | PIT        | NL         |  34        |  32        |  59        |   2        |   7        | ...        | 0          |  1         |  32        | 0.11864407 | 0.17460317 |   6        | 0.13559322 | PIT        | NL         |  285000    |\n",
       "| 531 | anderma01  | 2001       | 1          | DET        | AL         |  62        |   4        |   0        |   0        |   0        | ...        | 0          |  0         |   4        |        NaN |        NaN |   0        |        NaN | DET        | AL         |  355000    |\n",
       "| 535 | anderma02  | 2001       | 1          | PHI        | NL         | 147        | 147        | 522        |  69        | 153        | ...        | 5          | 12         | 147        | 0.29310345 | 0.33687943 | 110        | 0.42145594 | PHI        | NL         |  280000    |\n",
       "| 569 | ankieri01  | 2001       | 1          | SLN        | NL         |   6        |   6        |   8        |   1        |   0        | ...        | 0          |  0         |   6        | 0.00000000 | 0.11111111 |   0        | 0.00000000 | SLN        | NL         |  400000    |\n",
       "| 599 | appieke01  | 2001       | 1          | NYN        | NL         |  33        |  31        |  62        |   4        |   7        | ...        | 0          |  0         |  31        | 0.11290323 | 0.14062500 |   7        | 0.11290323 | NYN        | NL         | 8500000    |\n",
       "| 629 | ariasal01  | 2001       | 1          | SDN        | NL         |  70        |  70        | 137        |  19        |  31        | ...        | 2          |  3         |  70        | 0.22627737 | 0.31210191 |  20        | 0.33576642 | SDN        | NL         |  550000    |\n",
       "| 642 | armasto02  | 2001       | 1          | MON        | NL         |  34        |  32        |  53        |   2        |   8        | ...        | 0          |  0         |  32        | 0.15094340 | 0.15094340 |   7        | 0.16981132 | MON        | NL         |  230000    |\n",
       "| 672 | arrojro01  | 2001       | 1          | BOS        | AL         |  41        |   3        |   4        |   0        |   0        | ...        | 0          |  0         |   3        | 0.00000000 | 0.00000000 |   0        | 0.00000000 | BOS        | AL         | 1625000    |\n",
       "| 674 | arroybr01  | 2001       | 1          | PIT        | NL         |  24        |  23        |  21        |   0        |   1        | ...        | 1          |  0         |  23        | 0.04761905 | 0.08695652 |   1        | 0.04761905 | PIT        | NL         |  225000    |\n",
       "| 703 | ashbyan01  | 2001       | 1          | LAN        | NL         |   3        |   3        |   2        |   1        |   1        | ...        | 0          |  0         |   3        | 0.50000000 | 0.66666667 |   1        | 0.50000000 | LAN        | NL         | 6000000    |\n",
       "| 736 | astacpe01  | 2001       | 2          | HOU        | NL         |   4        |   4        |  11        |   0        |   1        | ...        | 0          |  0         |   4        | 0.09090909 | 0.09090909 |   1        | 0.09090909 | COL        | NL         | 6850000    |\n",
       "| 737 | astacpe01  | 2001       | 1          | COL        | NL         |  22        |  20        |  42        |   2        |   4        | ...        | 0          |  0         |  20        | 0.09523810 | 0.09523810 |   4        | 0.09523810 | COL        | NL         | 6850000    |\n",
       "| ... | ... | ... | ... | ... | ... | ... | ... | ... | ... | ... |     | ... | ... | ... | ... | ... | ... | ... | ... | ... | ... |\n",
       "| 24749 | wilsokr01 | 2001      | 1         | KCA       | AL        |  29       |   1       |   3       |  1        |   1       | ...       |  0        |  0        |   1       | 0.3333333 | 0.3333333 |   1       | 0.3333333 | KCA       | AL        |  205000   |\n",
       "| 24763 | wilsopa02 | 2001      | 1         | TBA       | AL        |  37       |   4       |   0       |  0        |   0       | ...       |  0        |  0        |   4       |       NaN |       NaN |   0       |       NaN | TBA       | AL        |  350000   |\n",
       "| 24770 | wilsopr01 | 2001      | 1         | FLO       | NL        | 123       | 123       | 468       | 70        | 128       | ...       |  3        | 14        | 123       | 0.2735043 | 0.3313840 |  73       | 0.4935897 | FLO       | NL        | 1000000   |\n",
       "| 24806 | winchsc01 | 2001      | 1         | CIN       | NL        |  12       |  11       |   3       |  0        |   0       | ...       |  0        |  1        |  11       | 0.0000000 | 0.0000000 |   0       | 0.0000000 | CIN       | NL        |  202000   |\n",
       "| 24830 | winnra01  | 2001      | 1         | TBA       | AL        | 128       | 128       | 429       | 54        | 117       | ...       |  2        | 10        | 128       | 0.2727273 | 0.3389474 |  80       | 0.4009324 | TBA       | AL        |  270000   |\n",
       "| 24848 | wisema01  | 2001      | 1         | ANA       | AL        |  11       |   0       |  NA       | NA        |  NA       | ...       | NA        | NA        |  11       |        NA |        NA |  NA       |        NA | ANA       | AL        |  207500   |\n",
       "| 24856 | witasja01 | 2001      | 2         | NYA       | AL        |  32       |   3       |   0       |  0        |   0       | ...       |  0        |  0        |   3       |       NaN |       NaN |   0       |       NaN | SDN       | NL        |  800000   |\n",
       "| 24857 | witasja01 | 2001      | 1         | SDN       | NL        |  31       |  30       |   1       |  0        |   0       | ...       |  0        |  0        |  30       | 0.0000000 | 0.0000000 |   0       | 0.0000000 | SDN       | NL        |  800000   |\n",
       "| 24881 | wittbo01  | 2001      | 1         | ARI       | NL        |  14       |  14       |  12       |  0        |   3       | ...       |  0        |  0        |  14       | 0.2500000 | 0.2500000 |   3       | 0.2500000 | ARI       | NL        |  500000   |\n",
       "| 24898 | wohlema01 | 2001      | 1         | CIN       | NL        |  30       |  29       |   0       |  0        |   0       | ...       |  0        |  0        |  29       |       NaN |       NaN |   0       |       NaN | CIN       | NL        |  500000   |\n",
       "| 24899 | wohlema01 | 2001      | 2         | NYA       | AL        |  31       |   5       |   0       |  0        |   0       | ...       |  0        |  0        |   5       |       NaN |       NaN |   0       |       NaN | CIN       | NL        |  500000   |\n",
       "| 24912 | wolfra02  | 2001      | 1         | PHI       | NL        |  28       |  25       |  45       |  2        |   8       | ...       |  0        |  1        |  25       | 0.1777778 | 0.2291667 |   8       | 0.1777778 | PHI       | NL        |  365000   |\n",
       "| 24930 | womacto01 | 2001      | 1         | ARI       | NL        | 125       | 125       | 481       | 66        | 128       | ...       |  1        |  4        | 125       | 0.2661123 | 0.3072407 | 101       | 0.3451143 | ARI       | NL        | 4000000   |\n",
       "| 24946 | woodast01 | 2001      | 1         | CLE       | AL        |  29       |   3       |   1       |  0        |   0       | ...       |  0        |  0        |   3       | 0.0000000 | 0.0000000 |   0       | 0.0000000 | CLE       | AL        | 1325000   |\n",
       "| 24958 | woodke02  | 2001      | 1         | CHN       | NL        |  29       |  28       |  48       |  3        |   9       | ...       |  0        |  0        |  28       | 0.1875000 | 0.2040816 |   8       | 0.2083333 | CHN       | NL        | 1940000   |\n",
       "| 24983 | woodwch01 | 2001      | 1         | TOR       | AL        |  37       |  37       |  63       |  9        |  12       | ...       |  0        |  1        |  37       | 0.1904762 | 0.2031250 |   5       | 0.3968254 | TOR       | AL        |  223000   |\n",
       "| 24990 | wootesh01 | 2001      | 1         | ANA       | AL        |  79       |  79       | 221       | 24        |  69       | ...       |  3        |  5        |  79       | 0.3122172 | 0.3318966 |  52       | 0.4660633 | ANA       | AL        |  200500   |\n",
       "| 25007 | worreti01 | 2001      | 1         | SFN       | NL        |  73       |  72       |   2       |  0        |   0       | ...       |  0        |  0        |  72       | 0.0000000 | 0.0000000 |   0       | 0.0000000 | SFN       | NL        | 1300000   |\n",
       "| 25049 | wrighja01 | 2001      | 1         | MIL       | NL        |  34       |  33       |  67       |  7        |  13       | ...       |  0        |  0        |  33       | 0.1940299 | 0.2285714 |  12       | 0.2089552 | MIL       | NL        | 2350000   |\n",
       "| 25061 | wrighja02 | 2001      | 1         | CLE       | AL        |   7       |   1       |   2       |  0        |   1       | ...       |  0        |  0        |   1       | 0.5000000 | 0.5000000 |   1       | 0.5000000 | CLE       | AL        | 2562500   |\n",
       "| 25085 | wunscke01 | 2001      | 1         | CHA       | AL        |  33       |   2       |   0       |  0        |   0       | ...       |  0        |  0        |   2       |       NaN |       NaN |   0       |       NaN | CHA       | AL        |  260000   |\n",
       "| 25106 | yanes01   | 2001      | 1         | TBA       | AL        |  54       |   2       |   0       |  0        |   0       | ...       |  0        |  0        |   2       |       NaN |       NaN |   0       |       NaN | TBA       | AL        |  650000   |\n",
       "| 25195 | youngdm01 | 2001      | 1         | CIN       | NL        | 142       | 142       | 540       | 68        | 163       | ...       |  3        | 22        | 142       | 0.3018519 | 0.3504274 | 111       | 0.4814815 | CIN       | NL        | 3500000   |\n",
       "| 25212 | younger01 | 2001      | 1         | CHN       | NL        | 149       | 149       | 603       | 98        | 168       | ...       |  3        | 15        | 149       | 0.2786070 | 0.3333333 | 115       | 0.3930348 | CHN       | NL        | 4500000   |\n",
       "| 25248 | youngke01 | 2001      | 1         | PIT       | NL        | 142       | 142       | 449       | 53        | 104       | ...       |  5        | 17        | 142       | 0.2316258 | 0.3096647 |  57       | 0.3986637 | PIT       | NL        | 6125000   |\n",
       "| 25314 | zaungr01  | 2001      | 1         | KCA       | AL        |  39       |  39       | 125       | 15        |  40       | ...       |  1        |  2        |  39       | 0.3200000 | 0.3768116 |  25       | 0.5360000 | KCA       | AL        | 1150000   |\n",
       "| 25341 | zeileto01 | 2001      | 1         | NYN       | NL        | 151       | 151       | 531       | 66        | 141       | ...       |  2        | 15        | 151       | 0.2655367 | 0.3594771 | 105       | 0.3728814 | NYN       | NL        | 6833333   |\n",
       "| 25355 | zimmeje02 | 2001      | 1         | TEX       | AL        |  66       |   3       |   0       |  0        |   0       | ...       |  0        |  0        |   3       |       NaN |       NaN |   0       |       NaN | TEX       | AL        |  307500   |\n",
       "| 25366 | zitoba01  | 2001      | 1         | OAK       | AL        |  35       |   2       |   5       |  0        |   0       | ...       |  0        |  0        |   2       | 0.0000000 | 0.0000000 |   0       | 0.0000000 | OAK       | AL        |  240000   |\n",
       "| 25388 | zuletju01 | 2001      | 1         | CHN       | NL        |  49       |  49       | 106       | 11        |  23       | ...       |  1        |  3        |  49       | 0.2169811 | 0.2881356 |  14       | 0.4150943 | CHN       | NL        |  200000   |\n",
       "\n"
      ],
      "text/plain": [
       "      playerID  yearID stint teamID.x lgID.x G   G_batting AB  R   H   ... SF \n",
       "17    abbotje01 2001   1     FLO      NL      28  28        42   5  11 ... 0  \n",
       "37    abbotku01 2001   1     ATL      NL       6   6         9   0   2 ... 0  \n",
       "44    abbotpa01 2001   1     SEA      AL      28   2         4   0   1 ... 0  \n",
       "62    abreubo01 2001   1     PHI      NL     162 162       588 118 170 ... 9  \n",
       "130   adamste01 2001   1     LAN      NL      43  41        39   2   2 ... 1  \n",
       "157   agbaybe01 2001   1     NYN      NL      91  91       296  28  82 ... 1  \n",
       "258   alfonan01 2001   1     FLO      NL      58  54         0   0   0 ... 0  \n",
       "271   alfoned01 2001   1     NYN      NL     124 124       457  64 111 ... 5  \n",
       "287   alicelu01 2001   1     KCA      AL     113 113       387  44 106 ... 1  \n",
       "299   allench01 2001   1     MIN      AL      57  57       175  20  46 ... 1  \n",
       "319   almanar01 2001   1     FLO      NL      52  49         0   0   0 ... 0  \n",
       "325   almanca01 2001   1     NYA      AL      10   1         0   0   0 ... 0  \n",
       "346   alomaro01 2001   1     CLE      AL     157 157       575 113 193 ... 9  \n",
       "363   alomasa02 2001   1     CHA      AL      70  70       220  17  54 ... 2  \n",
       "383   aloumo01  2001   1     HOU      NL     136 136       513  79 170 ... 8  \n",
       "456   anderbr01 2001   1     BAL      AL     131 131       430  50  87 ... 1  \n",
       "464   anderbr02 2001   1     ARI      NL      33  31        37   1   5 ... 0  \n",
       "493   anderga01 2001   1     ANA      AL     161 161       672  83 194 ... 5  \n",
       "507   anderji02 2001   1     PIT      NL      34  32        59   2   7 ... 0  \n",
       "531   anderma01 2001   1     DET      AL      62   4         0   0   0 ... 0  \n",
       "535   anderma02 2001   1     PHI      NL     147 147       522  69 153 ... 5  \n",
       "569   ankieri01 2001   1     SLN      NL       6   6         8   1   0 ... 0  \n",
       "599   appieke01 2001   1     NYN      NL      33  31        62   4   7 ... 0  \n",
       "629   ariasal01 2001   1     SDN      NL      70  70       137  19  31 ... 2  \n",
       "642   armasto02 2001   1     MON      NL      34  32        53   2   8 ... 0  \n",
       "672   arrojro01 2001   1     BOS      AL      41   3         4   0   0 ... 0  \n",
       "674   arroybr01 2001   1     PIT      NL      24  23        21   0   1 ... 1  \n",
       "703   ashbyan01 2001   1     LAN      NL       3   3         2   1   1 ... 0  \n",
       "736   astacpe01 2001   2     HOU      NL       4   4        11   0   1 ... 0  \n",
       "737   astacpe01 2001   1     COL      NL      22  20        42   2   4 ... 0  \n",
       "...   ...       ...    ...   ...      ...    ... ...       ... ... ...     ...\n",
       "24749 wilsokr01 2001   1     KCA      AL      29   1         3  1    1 ...  0 \n",
       "24763 wilsopa02 2001   1     TBA      AL      37   4         0  0    0 ...  0 \n",
       "24770 wilsopr01 2001   1     FLO      NL     123 123       468 70  128 ...  3 \n",
       "24806 winchsc01 2001   1     CIN      NL      12  11         3  0    0 ...  0 \n",
       "24830 winnra01  2001   1     TBA      AL     128 128       429 54  117 ...  2 \n",
       "24848 wisema01  2001   1     ANA      AL      11   0        NA NA   NA ... NA \n",
       "24856 witasja01 2001   2     NYA      AL      32   3         0  0    0 ...  0 \n",
       "24857 witasja01 2001   1     SDN      NL      31  30         1  0    0 ...  0 \n",
       "24881 wittbo01  2001   1     ARI      NL      14  14        12  0    3 ...  0 \n",
       "24898 wohlema01 2001   1     CIN      NL      30  29         0  0    0 ...  0 \n",
       "24899 wohlema01 2001   2     NYA      AL      31   5         0  0    0 ...  0 \n",
       "24912 wolfra02  2001   1     PHI      NL      28  25        45  2    8 ...  0 \n",
       "24930 womacto01 2001   1     ARI      NL     125 125       481 66  128 ...  1 \n",
       "24946 woodast01 2001   1     CLE      AL      29   3         1  0    0 ...  0 \n",
       "24958 woodke02  2001   1     CHN      NL      29  28        48  3    9 ...  0 \n",
       "24983 woodwch01 2001   1     TOR      AL      37  37        63  9   12 ...  0 \n",
       "24990 wootesh01 2001   1     ANA      AL      79  79       221 24   69 ...  3 \n",
       "25007 worreti01 2001   1     SFN      NL      73  72         2  0    0 ...  0 \n",
       "25049 wrighja01 2001   1     MIL      NL      34  33        67  7   13 ...  0 \n",
       "25061 wrighja02 2001   1     CLE      AL       7   1         2  0    1 ...  0 \n",
       "25085 wunscke01 2001   1     CHA      AL      33   2         0  0    0 ...  0 \n",
       "25106 yanes01   2001   1     TBA      AL      54   2         0  0    0 ...  0 \n",
       "25195 youngdm01 2001   1     CIN      NL     142 142       540 68  163 ...  3 \n",
       "25212 younger01 2001   1     CHN      NL     149 149       603 98  168 ...  3 \n",
       "25248 youngke01 2001   1     PIT      NL     142 142       449 53  104 ...  5 \n",
       "25314 zaungr01  2001   1     KCA      AL      39  39       125 15   40 ...  1 \n",
       "25341 zeileto01 2001   1     NYN      NL     151 151       531 66  141 ...  2 \n",
       "25355 zimmeje02 2001   1     TEX      AL      66   3         0  0    0 ...  0 \n",
       "25366 zitoba01  2001   1     OAK      AL      35   2         5  0    0 ...  0 \n",
       "25388 zuletju01 2001   1     CHN      NL      49  49       106 11   23 ...  1 \n",
       "      GIDP G_old BA         OBP        X1B SLG        teamID.y lgID.y salary \n",
       "17     1    28   0.26190476 0.32608696   8 0.33333333 FLO      NL      300000\n",
       "37     0     6   0.22222222 0.22222222   2 0.22222222 ATL      NL      600000\n",
       "44     0     2   0.25000000 0.25000000   1 0.25000000 SEA      AL     1700000\n",
       "62    13   162   0.28911565 0.39346591  87 0.54251701 PHI      NL     4983000\n",
       "130    0    41   0.05128205 0.11627907   1 0.07692308 LAN      NL     2600000\n",
       "157   11    91   0.27702703 0.36390533  60 0.39864865 NYN      NL      260000\n",
       "258    0    54          NaN        NaN   0        NaN FLO      NL     2450000\n",
       "271    7   124   0.24288840 0.32239382  72 0.40262582 NYN      NL     5750000\n",
       "287    6   113   0.27390181 0.32048193  82 0.36692506 KCA      AL      800000\n",
       "299    7    57   0.26285714 0.33333333  27 0.42857143 MIN      AL      240000\n",
       "319    0    49          NaN        NaN   0        NaN FLO      NL      225000\n",
       "325    0     1          NaN        NaN   0        NaN NYA      AL      270000\n",
       "346    9   157   0.33565217 0.41467066 127 0.54086957 CLE      AL     7750000\n",
       "363    6    70   0.24545455 0.28813559  41 0.34545455 CHA      AL     2900000\n",
       "383   18   136   0.33138402 0.39586919 111 0.55360624 HOU      NL     5250000\n",
       "456    3   131   0.20232558 0.31062124  64 0.30000000 BAL      AL     7200000\n",
       "464    2    31   0.13513514 0.13513514   3 0.21621622 ARI      NL     4125000\n",
       "493   12   161   0.28869048 0.31392045 125 0.47767857 ANA      AL     4500000\n",
       "507    1    32   0.11864407 0.17460317   6 0.13559322 PIT      NL      285000\n",
       "531    0     4          NaN        NaN   0        NaN DET      AL      355000\n",
       "535   12   147   0.29310345 0.33687943 110 0.42145594 PHI      NL      280000\n",
       "569    0     6   0.00000000 0.11111111   0 0.00000000 SLN      NL      400000\n",
       "599    0    31   0.11290323 0.14062500   7 0.11290323 NYN      NL     8500000\n",
       "629    3    70   0.22627737 0.31210191  20 0.33576642 SDN      NL      550000\n",
       "642    0    32   0.15094340 0.15094340   7 0.16981132 MON      NL      230000\n",
       "672    0     3   0.00000000 0.00000000   0 0.00000000 BOS      AL     1625000\n",
       "674    0    23   0.04761905 0.08695652   1 0.04761905 PIT      NL      225000\n",
       "703    0     3   0.50000000 0.66666667   1 0.50000000 LAN      NL     6000000\n",
       "736    0     4   0.09090909 0.09090909   1 0.09090909 COL      NL     6850000\n",
       "737    0    20   0.09523810 0.09523810   4 0.09523810 COL      NL     6850000\n",
       "...   ...  ...   ...        ...        ... ...        ...      ...    ...    \n",
       "24749  0     1   0.3333333  0.3333333    1 0.3333333  KCA      AL      205000\n",
       "24763  0     4         NaN        NaN    0       NaN  TBA      AL      350000\n",
       "24770 14   123   0.2735043  0.3313840   73 0.4935897  FLO      NL     1000000\n",
       "24806  1    11   0.0000000  0.0000000    0 0.0000000  CIN      NL      202000\n",
       "24830 10   128   0.2727273  0.3389474   80 0.4009324  TBA      AL      270000\n",
       "24848 NA    11          NA         NA   NA        NA  ANA      AL      207500\n",
       "24856  0     3         NaN        NaN    0       NaN  SDN      NL      800000\n",
       "24857  0    30   0.0000000  0.0000000    0 0.0000000  SDN      NL      800000\n",
       "24881  0    14   0.2500000  0.2500000    3 0.2500000  ARI      NL      500000\n",
       "24898  0    29         NaN        NaN    0       NaN  CIN      NL      500000\n",
       "24899  0     5         NaN        NaN    0       NaN  CIN      NL      500000\n",
       "24912  1    25   0.1777778  0.2291667    8 0.1777778  PHI      NL      365000\n",
       "24930  4   125   0.2661123  0.3072407  101 0.3451143  ARI      NL     4000000\n",
       "24946  0     3   0.0000000  0.0000000    0 0.0000000  CLE      AL     1325000\n",
       "24958  0    28   0.1875000  0.2040816    8 0.2083333  CHN      NL     1940000\n",
       "24983  1    37   0.1904762  0.2031250    5 0.3968254  TOR      AL      223000\n",
       "24990  5    79   0.3122172  0.3318966   52 0.4660633  ANA      AL      200500\n",
       "25007  0    72   0.0000000  0.0000000    0 0.0000000  SFN      NL     1300000\n",
       "25049  0    33   0.1940299  0.2285714   12 0.2089552  MIL      NL     2350000\n",
       "25061  0     1   0.5000000  0.5000000    1 0.5000000  CLE      AL     2562500\n",
       "25085  0     2         NaN        NaN    0       NaN  CHA      AL      260000\n",
       "25106  0     2         NaN        NaN    0       NaN  TBA      AL      650000\n",
       "25195 22   142   0.3018519  0.3504274  111 0.4814815  CIN      NL     3500000\n",
       "25212 15   149   0.2786070  0.3333333  115 0.3930348  CHN      NL     4500000\n",
       "25248 17   142   0.2316258  0.3096647   57 0.3986637  PIT      NL     6125000\n",
       "25314  2    39   0.3200000  0.3768116   25 0.5360000  KCA      AL     1150000\n",
       "25341 15   151   0.2655367  0.3594771  105 0.3728814  NYN      NL     6833333\n",
       "25355  0     3         NaN        NaN    0       NaN  TEX      AL      307500\n",
       "25366  0     2   0.0000000  0.0000000    0 0.0000000  OAK      AL      240000\n",
       "25388  3    49   0.2169811  0.2881356   14 0.4150943  CHN      NL      200000"
      ]
     },
     "metadata": {},
     "output_type": "display_data"
    }
   ],
   "source": [
    "combo_2001"
   ]
  },
  {
   "cell_type": "code",
   "execution_count": 33,
   "id": "0a162476",
   "metadata": {},
   "outputs": [
    {
     "data": {
      "text/html": [
       "1469"
      ],
      "text/latex": [
       "1469"
      ],
      "text/markdown": [
       "1469"
      ],
      "text/plain": [
       "[1] 1469"
      ]
     },
     "metadata": {},
     "output_type": "display_data"
    }
   ],
   "source": [
    "sum(lost$AB)"
   ]
  },
  {
   "cell_type": "code",
   "execution_count": 34,
   "id": "a1db0261",
   "metadata": {},
   "outputs": [
    {
     "data": {
      "text/html": [
       "0.363868677128079"
      ],
      "text/latex": [
       "0.363868677128079"
      ],
      "text/markdown": [
       "0.363868677128079"
      ],
      "text/plain": [
       "[1] 0.3638687"
      ]
     },
     "metadata": {},
     "output_type": "display_data"
    }
   ],
   "source": [
    "mean(lost$OBP)"
   ]
  },
  {
   "cell_type": "markdown",
   "id": "ebab84e6",
   "metadata": {},
   "source": [
    "SO AB SHOUD BE EQUAL OR GREATER THAN 1469\n",
    "MEAN OBP SHOUD BE GREATER THAN OR EQUAL TO 0.363\n",
    "\n"
   ]
  },
  {
   "cell_type": "code",
   "execution_count": 35,
   "id": "f6589178",
   "metadata": {
    "scrolled": true
   },
   "outputs": [
    {
     "name": "stderr",
     "output_type": "stream",
     "text": [
      "Warning message:\n",
      "\"Removed 168 rows containing missing values (geom_point).\""
     ]
    },
    {
     "data": {
      "image/png": "[encoded data removed]",
      "text/plain": [
       "plot without title"
      ]
     },
     "metadata": {},
     "output_type": "display_data"
    }
   ],
   "source": [
    "#PLOTTING SALARIES AND OBP\n",
    "\n",
    "ggplot(combo_2001,aes(x=OBP,y=salary))+ geom_point()"
   ]
  },
  {
   "cell_type": "markdown",
   "id": "752ffd31",
   "metadata": {},
   "source": [
    "Going to consider players less than 8 million dollars and OBP equal to 0\n",
    "\n"
   ]
  },
  {
   "cell_type": "code",
   "execution_count": 36,
   "id": "fb9a2c21",
   "metadata": {},
   "outputs": [],
   "source": [
    "combo_2001 = filter(combo_2001, salary < 8000000,OBP >= 0)"
   ]
  },
  {
   "cell_type": "markdown",
   "id": "c75b7f19",
   "metadata": {},
   "source": [
    "Lets try to find players with AB higher than 500\n",
    "\n"
   ]
  },
  {
   "cell_type": "code",
   "execution_count": 37,
   "id": "dd650211",
   "metadata": {},
   "outputs": [],
   "source": [
    "combo_2001 = filter(combo_2001, AB >= 500)"
   ]
  },
  {
   "cell_type": "markdown",
   "id": "2db5a555",
   "metadata": {},
   "source": [
    "Sort by OBP\n"
   ]
  },
  {
   "cell_type": "code",
   "execution_count": 38,
   "id": "00ec7854",
   "metadata": {},
   "outputs": [],
   "source": [
    "possible = head(arrange(combo_2001, desc(OBP)),10)"
   ]
  },
  {
   "cell_type": "code",
   "execution_count": 39,
   "id": "dcae17a2",
   "metadata": {},
   "outputs": [],
   "source": [
    "possible = possible[,c('playerID','OBP','AB','salary')]"
   ]
  },
  {
   "cell_type": "code",
   "execution_count": 40,
   "id": "795295b4",
   "metadata": {},
   "outputs": [
    {
     "data": {
      "text/html": [
       "<table>\n",
       "<thead><tr><th scope=col>playerID</th><th scope=col>OBP</th><th scope=col>AB</th><th scope=col>salary</th></tr></thead>\n",
       "<tbody>\n",
       "\t<tr><td>giambja01</td><td>0.4769001</td><td>520      </td><td>4103333  </td></tr>\n",
       "\t<tr><td>heltoto01</td><td>0.4316547</td><td>587      </td><td>4950000  </td></tr>\n",
       "\t<tr><td>berkmla01</td><td>0.4302326</td><td>577      </td><td> 305000  </td></tr>\n",
       "\t<tr><td>gonzalu01</td><td>0.4285714</td><td>609      </td><td>4833333  </td></tr>\n",
       "\t<tr><td>thomeji01</td><td>0.4161491</td><td>526      </td><td>7875000  </td></tr>\n",
       "\t<tr><td>alomaro01</td><td>0.4146707</td><td>575      </td><td>7750000  </td></tr>\n",
       "\t<tr><td>edmonji01</td><td>0.4102142</td><td>500      </td><td>6333333  </td></tr>\n",
       "\t<tr><td>gilesbr02</td><td>0.4035608</td><td>576      </td><td>7333333  </td></tr>\n",
       "\t<tr><td>pujolal01</td><td>0.4029630</td><td>590      </td><td> 200000  </td></tr>\n",
       "\t<tr><td>olerujo01</td><td>0.4011799</td><td>572      </td><td>6700000  </td></tr>\n",
       "</tbody>\n",
       "</table>\n"
      ],
      "text/latex": [
       "\\begin{tabular}{r|llll}\n",
       " playerID & OBP & AB & salary\\\\\n",
       "\\hline\n",
       "\t giambja01 & 0.4769001 & 520       & 4103333  \\\\\n",
       "\t heltoto01 & 0.4316547 & 587       & 4950000  \\\\\n",
       "\t berkmla01 & 0.4302326 & 577       &  305000  \\\\\n",
       "\t gonzalu01 & 0.4285714 & 609       & 4833333  \\\\\n",
       "\t thomeji01 & 0.4161491 & 526       & 7875000  \\\\\n",
       "\t alomaro01 & 0.4146707 & 575       & 7750000  \\\\\n",
       "\t edmonji01 & 0.4102142 & 500       & 6333333  \\\\\n",
       "\t gilesbr02 & 0.4035608 & 576       & 7333333  \\\\\n",
       "\t pujolal01 & 0.4029630 & 590       &  200000  \\\\\n",
       "\t olerujo01 & 0.4011799 & 572       & 6700000  \\\\\n",
       "\\end{tabular}\n"
      ],
      "text/markdown": [
       "\n",
       "| playerID | OBP | AB | salary |\n",
       "|---|---|---|---|\n",
       "| giambja01 | 0.4769001 | 520       | 4103333   |\n",
       "| heltoto01 | 0.4316547 | 587       | 4950000   |\n",
       "| berkmla01 | 0.4302326 | 577       |  305000   |\n",
       "| gonzalu01 | 0.4285714 | 609       | 4833333   |\n",
       "| thomeji01 | 0.4161491 | 526       | 7875000   |\n",
       "| alomaro01 | 0.4146707 | 575       | 7750000   |\n",
       "| edmonji01 | 0.4102142 | 500       | 6333333   |\n",
       "| gilesbr02 | 0.4035608 | 576       | 7333333   |\n",
       "| pujolal01 | 0.4029630 | 590       |  200000   |\n",
       "| olerujo01 | 0.4011799 | 572       | 6700000   |\n",
       "\n"
      ],
      "text/plain": [
       "   playerID  OBP       AB  salary \n",
       "1  giambja01 0.4769001 520 4103333\n",
       "2  heltoto01 0.4316547 587 4950000\n",
       "3  berkmla01 0.4302326 577  305000\n",
       "4  gonzalu01 0.4285714 609 4833333\n",
       "5  thomeji01 0.4161491 526 7875000\n",
       "6  alomaro01 0.4146707 575 7750000\n",
       "7  edmonji01 0.4102142 500 6333333\n",
       "8  gilesbr02 0.4035608 576 7333333\n",
       "9  pujolal01 0.4029630 590  200000\n",
       "10 olerujo01 0.4011799 572 6700000"
      ]
     },
     "metadata": {},
     "output_type": "display_data"
    }
   ],
   "source": [
    "possible"
   ]
  },
  {
   "cell_type": "code",
   "execution_count": 41,
   "id": "28a4734c",
   "metadata": {},
   "outputs": [
    {
     "data": {
      "text/html": [
       "<table>\n",
       "<thead><tr><th></th><th scope=col>playerID</th><th scope=col>OBP</th><th scope=col>AB</th><th scope=col>salary</th></tr></thead>\n",
       "<tbody>\n",
       "\t<tr><th scope=row>2</th><td>heltoto01</td><td>0.4316547</td><td>587      </td><td>4950000  </td></tr>\n",
       "\t<tr><th scope=row>3</th><td>berkmla01</td><td>0.4302326</td><td>577      </td><td> 305000  </td></tr>\n",
       "\t<tr><th scope=row>4</th><td>gonzalu01</td><td>0.4285714</td><td>609      </td><td>4833333  </td></tr>\n",
       "</tbody>\n",
       "</table>\n"
      ],
      "text/latex": [
       "\\begin{tabular}{r|llll}\n",
       "  & playerID & OBP & AB & salary\\\\\n",
       "\\hline\n",
       "\t2 & heltoto01 & 0.4316547 & 587       & 4950000  \\\\\n",
       "\t3 & berkmla01 & 0.4302326 & 577       &  305000  \\\\\n",
       "\t4 & gonzalu01 & 0.4285714 & 609       & 4833333  \\\\\n",
       "\\end{tabular}\n"
      ],
      "text/markdown": [
       "\n",
       "| <!--/--> | playerID | OBP | AB | salary |\n",
       "|---|---|---|---|---|\n",
       "| 2 | heltoto01 | 0.4316547 | 587       | 4950000   |\n",
       "| 3 | berkmla01 | 0.4302326 | 577       |  305000   |\n",
       "| 4 | gonzalu01 | 0.4285714 | 609       | 4833333   |\n",
       "\n"
      ],
      "text/plain": [
       "  playerID  OBP       AB  salary \n",
       "2 heltoto01 0.4316547 587 4950000\n",
       "3 berkmla01 0.4302326 577  305000\n",
       "4 gonzalu01 0.4285714 609 4833333"
      ]
     },
     "metadata": {},
     "output_type": "display_data"
    }
   ],
   "source": [
    "#Giambja was the one of the lost players so we taken next three players\n",
    "\n",
    "\n",
    "possible[2:4,]"
   ]
  },
  {
   "cell_type": "code",
   "execution_count": null,
   "id": "cb9d53d9",
   "metadata": {},
   "outputs": [],
   "source": []
  },
  {
   "cell_type": "code",
   "execution_count": null,
   "id": "dc1df53f",
   "metadata": {},
   "outputs": [],
   "source": []
  },
  {
   "cell_type": "code",
   "execution_count": null,
   "id": "845d91ca",
   "metadata": {},
   "outputs": [],
   "source": []
  },
  {
   "cell_type": "code",
   "execution_count": null,
   "id": "89c837ca",
   "metadata": {},
   "outputs": [],
   "source": []
  },
  {
   "cell_type": "code",
   "execution_count": null,
   "id": "9bb4a0dc",
   "metadata": {},
   "outputs": [],
   "source": []
  },
  {
   "cell_type": "code",
   "execution_count": null,
   "id": "cbf75387",
   "metadata": {},
   "outputs": [],
   "source": []
  },
  {
   "cell_type": "code",
   "execution_count": null,
   "id": "dea245aa",
   "metadata": {},
   "outputs": [],
   "source": []
  },
  {
   "cell_type": "code",
   "execution_count": null,
   "id": "af378514",
   "metadata": {},
   "outputs": [],
   "source": []
  },
  {
   "cell_type": "code",
   "execution_count": null,
   "id": "f5aabe2c",
   "metadata": {},
   "outputs": [],
   "source": []
  },
  {
   "cell_type": "code",
   "execution_count": null,
   "id": "1901b044",
   "metadata": {},
   "outputs": [],
   "source": []
  },
  {
   "cell_type": "code",
   "execution_count": null,
   "id": "3c2d8928",
   "metadata": {},
   "outputs": [],
   "source": []
  },
  {
   "cell_type": "code",
   "execution_count": null,
   "id": "4ac9ec8a",
   "metadata": {},
   "outputs": [],
   "source": []
  },
  {
   "cell_type": "code",
   "execution_count": null,
   "id": "2161bdce",
   "metadata": {},
   "outputs": [],
   "source": []
  },
  {
   "cell_type": "code",
   "execution_count": null,
   "id": "2d09dc53",
   "metadata": {},
   "outputs": [],
   "source": []
  },
  {
   "cell_type": "code",
   "execution_count": null,
   "id": "cf8eb498",
   "metadata": {},
   "outputs": [],
   "source": []
  },
  {
   "cell_type": "code",
   "execution_count": null,
   "id": "876b7788",
   "metadata": {},
   "outputs": [],
   "source": []
  },
  {
   "cell_type": "code",
   "execution_count": null,
   "id": "2282ee45",
   "metadata": {},
   "outputs": [],
   "source": []
  },
  {
   "cell_type": "code",
   "execution_count": null,
   "id": "30dd9554",
   "metadata": {},
   "outputs": [],
   "source": []
  },
  {
   "cell_type": "code",
   "execution_count": null,
   "id": "4ee72906",
   "metadata": {},
   "outputs": [],
   "source": []
  },
  {
   "cell_type": "code",
   "execution_count": null,
   "id": "6feeeb0a",
   "metadata": {},
   "outputs": [],
   "source": []
  },
  {
   "cell_type": "code",
   "execution_count": null,
   "id": "5cb8115d",
   "metadata": {},
   "outputs": [],
   "source": []
  },
  {
   "cell_type": "code",
   "execution_count": null,
   "id": "2053eb1a",
   "metadata": {},
   "outputs": [],
   "source": []
  },
  {
   "cell_type": "code",
   "execution_count": null,
   "id": "024c505a",
   "metadata": {},
   "outputs": [],
   "source": []
  },
  {
   "cell_type": "code",
   "execution_count": null,
   "id": "5f0754d9",
   "metadata": {},
   "outputs": [],
   "source": []
  },
  {
   "cell_type": "code",
   "execution_count": null,
   "id": "c23b2b1b",
   "metadata": {},
   "outputs": [],
   "source": []
  },
  {
   "cell_type": "code",
   "execution_count": null,
   "id": "d2904c4b",
   "metadata": {},
   "outputs": [],
   "source": []
  },
  {
   "cell_type": "code",
   "execution_count": null,
   "id": "d98d2c14",
   "metadata": {},
   "outputs": [],
   "source": []
  },
  {
   "cell_type": "code",
   "execution_count": null,
   "id": "c76eaa3b",
   "metadata": {},
   "outputs": [],
   "source": []
  },
  {
   "cell_type": "code",
   "execution_count": null,
   "id": "b6e05437",
   "metadata": {},
   "outputs": [],
   "source": []
  },
  {
   "cell_type": "code",
   "execution_count": null,
   "id": "bb87cc7e",
   "metadata": {},
   "outputs": [],
   "source": []
  },
  {
   "cell_type": "code",
   "execution_count": null,
   "id": "6c785d16",
   "metadata": {},
   "outputs": [],
   "source": []
  },
  {
   "cell_type": "code",
   "execution_count": null,
   "id": "bf8d5196",
   "metadata": {},
   "outputs": [],
   "source": []
  },
  {
   "cell_type": "code",
   "execution_count": null,
   "id": "fafcf2a1",
   "metadata": {},
   "outputs": [],
   "source": []
  },
  {
   "cell_type": "code",
   "execution_count": null,
   "id": "63050409",
   "metadata": {},
   "outputs": [],
   "source": []
  },
  {
   "cell_type": "code",
   "execution_count": null,
   "id": "5b42c16a",
   "metadata": {},
   "outputs": [],
   "source": []
  },
  {
   "cell_type": "code",
   "execution_count": null,
   "id": "15d9cc59",
   "metadata": {},
   "outputs": [],
   "source": []
  },
  {
   "cell_type": "code",
   "execution_count": null,
   "id": "135c5ae8",
   "metadata": {},
   "outputs": [],
   "source": []
  },
  {
   "cell_type": "code",
   "execution_count": null,
   "id": "08ad6ee2",
   "metadata": {},
   "outputs": [],
   "source": []
  },
  {
   "cell_type": "code",
   "execution_count": null,
   "id": "98119887",
   "metadata": {},
   "outputs": [],
   "source": []
  },
  {
   "cell_type": "code",
   "execution_count": null,
   "id": "6a79fb96",
   "metadata": {},
   "outputs": [],
   "source": []
  },
  {
   "cell_type": "code",
   "execution_count": null,
   "id": "154a1abd",
   "metadata": {},
   "outputs": [],
   "source": []
  },
  {
   "cell_type": "code",
   "execution_count": null,
   "id": "81073035",
   "metadata": {},
   "outputs": [],
   "source": []
  },
  {
   "cell_type": "code",
   "execution_count": null,
   "id": "16f4c1e0",
   "metadata": {},
   "outputs": [],
   "source": []
  },
  {
   "cell_type": "code",
   "execution_count": null,
   "id": "4e9101a0",
   "metadata": {},
   "outputs": [],
   "source": []
  },
  {
   "cell_type": "code",
   "execution_count": null,
   "id": "1027acae",
   "metadata": {},
   "outputs": [],
   "source": []
  },
  {
   "cell_type": "code",
   "execution_count": null,
   "id": "541d28ae",
   "metadata": {},
   "outputs": [],
   "source": []
  },
  {
   "cell_type": "code",
   "execution_count": null,
   "id": "219d3a75",
   "metadata": {},
   "outputs": [],
   "source": []
  },
  {
   "cell_type": "code",
   "execution_count": null,
   "id": "b16e9a77",
   "metadata": {},
   "outputs": [],
   "source": []
  },
  {
   "cell_type": "code",
   "execution_count": null,
   "id": "b92c81c7",
   "metadata": {},
   "outputs": [],
   "source": []
  },
  {
   "cell_type": "code",
   "execution_count": null,
   "id": "3a6c037c",
   "metadata": {},
   "outputs": [],
   "source": []
  },
  {
   "cell_type": "code",
   "execution_count": null,
   "id": "4f45e446",
   "metadata": {},
   "outputs": [],
   "source": []
  },
  {
   "cell_type": "code",
   "execution_count": null,
   "id": "73340d4f",
   "metadata": {},
   "outputs": [],
   "source": []
  },
  {
   "cell_type": "code",
   "execution_count": null,
   "id": "a42cfe1f",
   "metadata": {},
   "outputs": [],
   "source": []
  },
  {
   "cell_type": "code",
   "execution_count": null,
   "id": "dbdc7587",
   "metadata": {},
   "outputs": [],
   "source": []
  }
 ],
 "metadata": {
  "kernelspec": {
   "display_name": "R",
   "language": "R",
   "name": "ir"
  },
  "language_info": {
   "codemirror_mode": "r",
   "file_extension": ".r",
   "mimetype": "text/x-r-source",
   "name": "R",
   "pygments_lexer": "r",
   "version": "3.6.1"
  }
 },
 "nbformat": 4,
 "nbformat_minor": 5
}
