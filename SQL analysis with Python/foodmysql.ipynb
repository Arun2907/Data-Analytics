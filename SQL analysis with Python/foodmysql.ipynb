{
 "cells": [
  {
   "cell_type": "code",
   "execution_count": 1,
   "id": "5a0ec855",
   "metadata": {},
   "outputs": [],
   "source": [
    "import mysql.connector as connection"
   ]
  },
  {
   "cell_type": "code",
   "execution_count": 2,
   "id": "169b8e12",
   "metadata": {},
   "outputs": [
    {
     "name": "stdout",
     "output_type": "stream",
     "text": [
      "True\n"
     ]
    }
   ],
   "source": [
    "mydb=connection.connect(host=\"localhost\",user=\"root\",passwd=\"123456789\",database=\"fooddata\")\n",
    "print(mydb.is_connected())"
   ]
  },
  {
   "cell_type": "code",
   "execution_count": 3,
   "id": "508e3a76",
   "metadata": {},
   "outputs": [],
   "source": [
    "c=mydb.cursor()"
   ]
  },
  {
   "cell_type": "code",
   "execution_count": 4,
   "id": "cfc42b4e",
   "metadata": {},
   "outputs": [
    {
     "name": "stdout",
     "output_type": "stream",
     "text": [
      "('fooddata',)\n",
      "('information_schema',)\n",
      "('mysql',)\n",
      "('performance_schema',)\n",
      "('sys',)\n"
     ]
    }
   ],
   "source": [
    "# to see list of databases\n",
    "\n",
    "sql=\"show databases\"\n",
    "c.execute(sql)\n",
    "r=c.fetchall()\n",
    "for x in r:\n",
    "    print(x)"
   ]
  },
  {
   "cell_type": "code",
   "execution_count": 5,
   "id": "6aab80fb",
   "metadata": {},
   "outputs": [
    {
     "name": "stdout",
     "output_type": "stream",
     "text": [
      "('1/1/2020', 'East', 'Boston', 'Bars', 'Carrot', 33, 1.77, 58.41)\n",
      "('1/4/2020', 'East', 'Boston', 'Crackers', 'Whole Wheat', 87, 3.49, 303.63)\n",
      "('1/7/2020', 'West', 'Los Angeles', 'Cookies', 'Chocolate Chip', 58, 1.87, 108.46)\n",
      "('1/10/2020', 'East', 'New York', 'Cookies', 'Chocolate Chip', 82, 1.87, 153.34)\n",
      "('1/13/2020', 'East', 'Boston', 'Cookies', 'Arrowroot', 38, 2.18, 82.84)\n",
      "('1/16/2020', 'East', 'Boston', 'Bars', 'Carrot', 54, 1.77, 95.58)\n",
      "('1/19/2020', 'East', 'Boston', 'Crackers', 'Whole Wheat', 149, 3.49, 520.01)\n",
      "('1/22/2020', 'West', 'Los Angeles', 'Bars', 'Carrot', 51, 1.77, 90.27)\n",
      "('1/25/2020', 'East', 'New York', 'Bars', 'Carrot', 100, 1.77, 177.0)\n",
      "('1/28/2020', 'East', 'New York', 'Snacks', 'Potato Chips', 28, 1.35, 37.8)\n",
      "('1/31/2020', 'East', 'Boston', 'Cookies', 'Arrowroot', 36, 2.18, 78.48)\n",
      "('2/3/2020', 'East', 'Boston', 'Cookies', 'Chocolate Chip', 31, 1.87, 57.97)\n",
      "('2/6/2020', 'East', 'Boston', 'Crackers', 'Whole Wheat', 28, 3.49, 97.72)\n",
      "('2/9/2020', 'West', 'Los Angeles', 'Bars', 'Carrot', 44, 1.77, 77.88)\n",
      "('2/12/2020', 'East', 'New York', 'Bars', 'Carrot', 23, 1.77, 40.71)\n",
      "('2/15/2020', 'East', 'New York', 'Snacks', 'Potato Chips', 27, 1.35, 36.45)\n",
      "('2/18/2020', 'East', 'Boston', 'Cookies', 'Arrowroot', 43, 2.18, 93.74)\n",
      "('2/21/2020', 'East', 'Boston', 'Cookies', 'Oatmeal Raisin', 123, 2.84, 349.32)\n",
      "('2/24/2020', 'West', 'Los Angeles', 'Bars', 'Bran', 42, 1.87, 78.54)\n",
      "('2/27/2020', 'West', 'Los Angeles', 'Cookies', 'Oatmeal Raisin', 33, 2.84, 93.72)\n",
      "('3/2/2020', 'East', 'New York', 'Cookies', 'Chocolate Chip', 85, 1.87, 158.95)\n",
      "('3/5/2020', 'West', 'San Diego', 'Cookies', 'Oatmeal Raisin', 30, 2.84, 85.2)\n",
      "('3/8/2020', 'East', 'Boston', 'Bars', 'Carrot', 61, 1.77, 107.97)\n",
      "('3/11/2020', 'East', 'Boston', 'Crackers', 'Whole Wheat', 40, 3.49, 139.6)\n",
      "('3/14/2020', 'West', 'Los Angeles', 'Cookies', 'Chocolate Chip', 86, 1.87, 160.82)\n",
      "('3/17/2020', 'East', 'New York', 'Bars', 'Carrot', 38, 1.77, 67.26)\n",
      "('3/20/2020', 'East', 'New York', 'Snacks', 'Potato Chips', 68, 1.68, 114.24)\n",
      "('3/23/2020', 'West', 'San Diego', 'Cookies', 'Chocolate Chip', 39, 1.87, 72.93)\n",
      "('3/26/2020', 'East', 'Boston', 'Bars', 'Bran', 103, 1.87, 192.61)\n",
      "('3/29/2020', 'East', 'Boston', 'Cookies', 'Oatmeal Raisin', 193, 2.84, 548.12)\n",
      "('4/1/2020', 'West', 'Los Angeles', 'Bars', 'Carrot', 58, 1.77, 102.66)\n",
      "('4/4/2020', 'West', 'Los Angeles', 'Snacks', 'Potato Chips', 68, 1.68, 114.24)\n",
      "('4/7/2020', 'East', 'New York', 'Bars', 'Carrot', 91, 1.77, 161.07)\n",
      "('4/10/2020', 'East', 'New York', 'Crackers', 'Whole Wheat', 23, 3.49, 80.27)\n",
      "('4/13/2020', 'West', 'San Diego', 'Snacks', 'Potato Chips', 28, 1.68, 47.04)\n",
      "('4/16/2020', 'East', 'Boston', 'Bars', 'Carrot', 48, 1.77, 84.96)\n",
      "('4/19/2020', 'East', 'Boston', 'Snacks', 'Potato Chips', 134, 1.68, 225.12)\n",
      "('4/22/2020', 'West', 'Los Angeles', 'Bars', 'Carrot', 20, 1.77, 35.4)\n",
      "('4/25/2020', 'East', 'New York', 'Bars', 'Carrot', 53, 1.77, 93.81)\n",
      "('4/28/2020', 'East', 'New York', 'Snacks', 'Potato Chips', 64, 1.68, 107.52)\n",
      "('5/1/2020', 'West', 'San Diego', 'Cookies', 'Chocolate Chip', 63, 1.87, 117.81)\n",
      "('5/4/2020', 'East', 'Boston', 'Bars', 'Bran', 105, 1.87, 196.35)\n",
      "('5/7/2020', 'East', 'Boston', 'Cookies', 'Oatmeal Raisin', 138, 2.84, 391.92)\n",
      "('5/10/2020', 'West', 'Los Angeles', 'Bars', 'Carrot', 25, 1.77, 44.25)\n",
      "('5/13/2020', 'West', 'Los Angeles', 'Crackers', 'Whole Wheat', 21, 3.49, 73.29)\n",
      "('5/16/2020', 'East', 'New York', 'Bars', 'Carrot', 61, 1.77, 107.97)\n",
      "('5/19/2020', 'East', 'New York', 'Snacks', 'Potato Chips', 49, 1.68, 82.32)\n",
      "('5/22/2020', 'West', 'San Diego', 'Cookies', 'Chocolate Chip', 55, 1.87, 102.85)\n",
      "('5/25/2020', 'East', 'Boston', 'Cookies', 'Arrowroot', 27, 2.18, 58.86)\n",
      "('5/28/2020', 'East', 'Boston', 'Bars', 'Carrot', 58, 1.77, 102.66)\n",
      "('5/31/2020', 'East', 'Boston', 'Crackers', 'Whole Wheat', 33, 3.49, 115.17)\n",
      "('6/3/2020', 'West', 'Los Angeles', 'Cookies', 'Oatmeal Raisin', 288, 2.84, 817.92)\n",
      "('6/6/2020', 'East', 'New York', 'Cookies', 'Chocolate Chip', 76, 1.87, 142.12)\n",
      "('6/9/2020', 'West', 'San Diego', 'Bars', 'Carrot', 42, 1.77, 74.34)\n",
      "('6/12/2020', 'West', 'San Diego', 'Crackers', 'Whole Wheat', 20, 3.49, 69.8)\n",
      "('6/15/2020', 'East', 'Boston', 'Bars', 'Carrot', 75, 1.77, 132.75)\n",
      "('6/18/2020', 'East', 'Boston', 'Crackers', 'Whole Wheat', 38, 3.49, 132.62)\n",
      "('6/21/2020', 'West', 'Los Angeles', 'Bars', 'Carrot', 306, 1.77, 541.62)\n",
      "('6/24/2020', 'West', 'Los Angeles', 'Snacks', 'Potato Chips', 28, 1.68, 47.04)\n",
      "('6/27/2020', 'East', 'New York', 'Bars', 'Bran', 110, 1.87, 205.7)\n",
      "('6/30/2020', 'East', 'New York', 'Cookies', 'Oatmeal Raisin', 51, 2.84, 144.84)\n",
      "('7/3/2020', 'West', 'San Diego', 'Bars', 'Carrot', 52, 1.77, 92.04)\n",
      "('7/6/2020', 'West', 'San Diego', 'Crackers', 'Whole Wheat', 28, 3.49, 97.72)\n",
      "('7/9/2020', 'East', 'Boston', 'Bars', 'Carrot', 136, 1.77, 240.72)\n",
      "('7/12/2020', 'East', 'Boston', 'Crackers', 'Whole Wheat', 42, 3.49, 146.58)\n",
      "('7/15/2020', 'West', 'Los Angeles', 'Cookies', 'Chocolate Chip', 75, 1.87, 140.25)\n",
      "('7/18/2020', 'East', 'New York', 'Bars', 'Bran', 72, 1.87, 134.64)\n",
      "('7/21/2020', 'East', 'New York', 'Cookies', 'Oatmeal Raisin', 56, 2.84, 159.04)\n",
      "('7/24/2020', 'West', 'San Diego', 'Bars', 'Bran', 51, 1.87, 95.37)\n",
      "('7/27/2020', 'West', 'San Diego', 'Snacks', 'Potato Chips', 31, 1.68, 52.08)\n",
      "('7/30/2020', 'East', 'Boston', 'Bars', 'Bran', 56, 1.87, 104.72)\n",
      "('8/2/2020', 'East', 'Boston', 'Cookies', 'Oatmeal Raisin', 137, 2.84, 389.08)\n",
      "('8/5/2020', 'West', 'Los Angeles', 'Cookies', 'Chocolate Chip', 107, 1.87, 200.09)\n",
      "('8/8/2020', 'East', 'New York', 'Bars', 'Carrot', 24, 1.77, 42.48)\n",
      "('8/11/2020', 'East', 'New York', 'Crackers', 'Whole Wheat', 30, 3.49, 104.7)\n",
      "('8/14/2020', 'West', 'San Diego', 'Cookies', 'Chocolate Chip', 70, 1.87, 130.9)\n",
      "('8/17/2020', 'East', 'Boston', 'Cookies', 'Arrowroot', 31, 2.18, 67.58)\n",
      "('8/20/2020', 'East', 'Boston', 'Bars', 'Carrot', 109, 1.77, 192.93)\n",
      "('8/23/2020', 'East', 'Boston', 'Crackers', 'Whole Wheat', 21, 3.49, 73.29)\n",
      "('8/26/2020', 'West', 'Los Angeles', 'Cookies', 'Chocolate Chip', 80, 1.87, 149.6)\n",
      "('8/29/2020', 'East', 'New York', 'Bars', 'Bran', 75, 1.87, 140.25)\n",
      "('9/1/2020', 'East', 'New York', 'Cookies', 'Oatmeal Raisin', 74, 2.84, 210.16)\n",
      "('9/4/2020', 'West', 'San Diego', 'Bars', 'Carrot', 45, 1.77, 79.65)\n",
      "('9/7/2020', 'East', 'Boston', 'Cookies', 'Arrowroot', 28, 2.18, 61.04)\n",
      "('9/10/2020', 'East', 'Boston', 'Bars', 'Carrot', 143, 1.77, 253.11)\n",
      "('9/13/2020', 'East', 'Boston', 'Snacks', 'Pretzels', 27, 3.15, 85.05)\n",
      "('9/16/2020', 'West', 'Los Angeles', 'Bars', 'Carrot', 133, 1.77, 235.41)\n",
      "('9/19/2020', 'East', 'New York', 'Cookies', 'Arrowroot', 110, 2.18, 239.8)\n",
      "('9/22/2020', 'East', 'New York', 'Cookies', 'Chocolate Chip', 65, 1.87, 121.55)\n",
      "('9/25/2020', 'West', 'San Diego', 'Bars', 'Bran', 33, 1.87, 61.71)\n",
      "('9/28/2020', 'East', 'Boston', 'Cookies', 'Arrowroot', 81, 2.18, 176.58)\n",
      "('10/1/2020', 'East', 'Boston', 'Bars', 'Carrot', 77, 1.77, 136.29)\n",
      "('10/4/2020', 'East', 'Boston', 'Crackers', 'Whole Wheat', 38, 3.49, 132.62)\n",
      "('10/7/2020', 'West', 'Los Angeles', 'Bars', 'Carrot', 40, 1.77, 70.8)\n",
      "('10/10/2020', 'West', 'Los Angeles', 'Snacks', 'Potato Chips', 114, 1.68, 191.52)\n",
      "('10/13/2020', 'East', 'New York', 'Cookies', 'Arrowroot', 224, 2.18, 488.32)\n",
      "('10/16/2020', 'East', 'New York', 'Bars', 'Carrot', 141, 1.77, 249.57)\n",
      "('10/19/2020', 'East', 'New York', 'Crackers', 'Whole Wheat', 32, 3.49, 111.68)\n",
      "('10/22/2020', 'West', 'San Diego', 'Bars', 'Carrot', 20, 1.77, 35.4)\n",
      "('10/25/2020', 'East', 'Boston', 'Cookies', 'Arrowroot', 40, 2.18, 87.2)\n",
      "('10/28/2020', 'East', 'Boston', 'Cookies', 'Chocolate Chip', 49, 1.87, 91.63)\n",
      "('10/31/2020', 'East', 'Boston', 'Crackers', 'Whole Wheat', 46, 3.49, 160.54)\n",
      "('11/3/2020', 'West', 'Los Angeles', 'Bars', 'Carrot', 39, 1.77, 69.03)\n",
      "('11/6/2020', 'West', 'Los Angeles', 'Snacks', 'Potato Chips', 62, 1.68, 104.16)\n",
      "('11/9/2020', 'East', 'New York', 'Bars', 'Carrot', 90, 1.77, 159.3)\n",
      "('11/12/2020', 'West', 'San Diego', 'Cookies', 'Arrowroot', 103, 2.18, 224.54)\n",
      "('11/15/2020', 'West', 'San Diego', 'Cookies', 'Oatmeal Raisin', 32, 2.84, 90.88)\n",
      "('11/18/2020', 'East', 'Boston', 'Bars', 'Bran', 66, 1.87, 123.42)\n",
      "('11/21/2020', 'East', 'Boston', 'Cookies', 'Oatmeal Raisin', 97, 2.84, 275.48)\n",
      "('11/24/2020', 'West', 'Los Angeles', 'Bars', 'Carrot', 30, 1.77, 53.1)\n",
      "('11/27/2020', 'West', 'Los Angeles', 'Snacks', 'Potato Chips', 29, 1.68, 48.72)\n",
      "('11/30/2020', 'East', 'New York', 'Bars', 'Carrot', 92, 1.77, 162.84)\n",
      "('12/3/2020', 'West', 'San Diego', 'Cookies', 'Arrowroot', 139, 2.18, 303.02)\n",
      "('12/6/2020', 'West', 'San Diego', 'Cookies', 'Oatmeal Raisin', 29, 2.84, 82.36)\n",
      "('12/9/2020', 'East', 'Boston', 'Bars', 'Banana', 30, 2.27, 68.1)\n",
      "('12/12/2020', 'East', 'Boston', 'Cookies', 'Chocolate Chip', 36, 1.87, 67.32)\n",
      "('12/15/2020', 'East', 'Boston', 'Crackers', 'Whole Wheat', 41, 3.49, 143.09)\n",
      "('12/18/2020', 'West', 'Los Angeles', 'Bars', 'Carrot', 44, 1.77, 77.88)\n",
      "('12/21/2020', 'West', 'Los Angeles', 'Snacks', 'Potato Chips', 29, 1.68, 48.72)\n",
      "('12/24/2020', 'East', 'New York', 'Cookies', 'Arrowroot', 237, 2.18, 516.66)\n",
      "('12/27/2020', 'East', 'New York', 'Cookies', 'Chocolate Chip', 65, 1.87, 121.55)\n",
      "('12/30/2020', 'West', 'San Diego', 'Cookies', 'Arrowroot', 83, 2.18, 180.94)\n",
      "('1/2/2021', 'East', 'Boston', 'Cookies', 'Arrowroot', 32, 2.18, 69.76)\n",
      "('1/5/2021', 'East', 'Boston', 'Bars', 'Carrot', 63, 1.77, 111.51)\n",
      "('1/8/2021', 'East', 'Boston', 'Snacks', 'Pretzels', 29, 3.15, 91.35)\n",
      "('1/11/2021', 'West', 'Los Angeles', 'Bars', 'Bran', 77, 1.87, 143.99)\n",
      "('1/14/2021', 'West', 'Los Angeles', 'Cookies', 'Oatmeal Raisin', 80, 2.84, 227.2)\n",
      "('1/17/2021', 'East', 'New York', 'Bars', 'Carrot', 102, 1.77, 180.54)\n",
      "('1/20/2021', 'East', 'New York', 'Crackers', 'Whole Wheat', 31, 3.49, 108.19)\n",
      "('1/23/2021', 'West', 'San Diego', 'Bars', 'Carrot', 56, 1.77, 99.12)\n",
      "('1/26/2021', 'East', 'Boston', 'Cookies', 'Arrowroot', 52, 2.18, 113.36)\n",
      "('1/29/2021', 'East', 'Boston', 'Bars', 'Carrot', 51, 1.77, 90.27)\n",
      "('2/1/2021', 'East', 'Boston', 'Snacks', 'Potato Chips', 24, 1.68, 40.32)\n",
      "('2/4/2021', 'West', 'Los Angeles', 'Cookies', 'Arrowroot', 58, 2.18, 126.44)\n",
      "('2/7/2021', 'West', 'Los Angeles', 'Cookies', 'Chocolate Chip', 34, 1.87, 63.58)\n",
      "('2/10/2021', 'East', 'New York', 'Bars', 'Carrot', 34, 1.77, 60.18)\n",
      "('2/13/2021', 'East', 'New York', 'Snacks', 'Potato Chips', 21, 1.68, 35.28)\n",
      "('2/16/2021', 'West', 'San Diego', 'Cookies', 'Oatmeal Raisin', 29, 2.84, 82.36)\n",
      "('2/19/2021', 'East', 'Boston', 'Bars', 'Carrot', 68, 1.77, 120.36)\n",
      "('2/22/2021', 'East', 'Boston', 'Snacks', 'Pretzels', 31, 3.15, 97.65)\n",
      "('2/25/2021', 'West', 'Los Angeles', 'Cookies', 'Arrowroot', 30, 2.18, 65.4)\n",
      "('2/28/2021', 'West', 'Los Angeles', 'Cookies', 'Chocolate Chip', 232, 1.87, 433.84)\n",
      "('3/2/2021', 'East', 'New York', 'Bars', 'Bran', 68, 1.87, 127.16)\n",
      "('3/5/2021', 'East', 'New York', 'Cookies', 'Oatmeal Raisin', 97, 2.84, 275.48)\n",
      "('3/8/2021', 'West', 'San Diego', 'Bars', 'Bran', 86, 1.87, 160.82)\n",
      "('3/11/2021', 'West', 'San Diego', 'Snacks', 'Potato Chips', 41, 1.68, 68.88)\n",
      "('3/14/2021', 'East', 'Boston', 'Bars', 'Carrot', 93, 1.77, 164.61)\n",
      "('3/17/2021', 'East', 'Boston', 'Snacks', 'Potato Chips', 47, 1.68, 78.96)\n",
      "('3/20/2021', 'West', 'Los Angeles', 'Bars', 'Carrot', 103, 1.77, 182.31)\n",
      "('3/23/2021', 'West', 'Los Angeles', 'Snacks', 'Potato Chips', 33, 1.68, 55.44)\n",
      "('3/26/2021', 'East', 'New York', 'Bars', 'Bran', 57, 1.87, 106.59)\n",
      "('3/29/2021', 'East', 'New York', 'Cookies', 'Oatmeal Raisin', 65, 2.84, 184.6)\n",
      "('4/1/2021', 'West', 'San Diego', 'Bars', 'Carrot', 118, 1.77, 208.86)\n",
      "('4/4/2021', 'East', 'Boston', 'Cookies', 'Arrowroot', 36, 2.18, 78.48)\n",
      "('4/7/2021', 'East', 'Boston', 'Cookies', 'Oatmeal Raisin', 123, 2.84, 349.32)\n",
      "('4/10/2021', 'West', 'Los Angeles', 'Bars', 'Carrot', 90, 1.77, 159.3)\n",
      "('4/13/2021', 'West', 'Los Angeles', 'Crackers', 'Whole Wheat', 21, 3.49, 73.29)\n",
      "('4/16/2021', 'East', 'New York', 'Bars', 'Carrot', 48, 1.77, 84.96)\n",
      "('4/19/2021', 'East', 'New York', 'Snacks', 'Potato Chips', 24, 1.68, 40.32)\n",
      "('4/22/2021', 'West', 'San Diego', 'Cookies', 'Chocolate Chip', 67, 1.87, 125.29)\n",
      "('4/25/2021', 'East', 'Boston', 'Bars', 'Bran', 27, 1.87, 50.49)\n",
      "('4/28/2021', 'East', 'Boston', 'Cookies', 'Oatmeal Raisin', 129, 2.84, 366.36)\n",
      "('5/1/2021', 'West', 'Los Angeles', 'Cookies', 'Arrowroot', 77, 2.18, 167.86)\n",
      "('5/4/2021', 'West', 'Los Angeles', 'Cookies', 'Chocolate Chip', 58, 1.87, 108.46)\n",
      "('5/7/2021', 'East', 'New York', 'Bars', 'Bran', 47, 1.87, 87.89)\n",
      "('5/10/2021', 'East', 'New York', 'Cookies', 'Oatmeal Raisin', 33, 2.84, 93.72)\n",
      "('5/13/2021', 'West', 'San Diego', 'Cookies', 'Chocolate Chip', 82, 1.87, 153.34)\n",
      "('5/16/2021', 'East', 'Boston', 'Bars', 'Carrot', 58, 1.77, 102.66)\n",
      "('5/19/2021', 'East', 'Boston', 'Snacks', 'Pretzels', 30, 3.15, 94.5)\n",
      "('5/22/2021', 'West', 'Los Angeles', 'Cookies', 'Chocolate Chip', 43, 1.87, 80.41)\n",
      "('5/25/2021', 'East', 'New York', 'Bars', 'Carrot', 84, 1.77, 148.68)\n",
      "('5/28/2021', 'West', 'San Diego', 'Cookies', 'Arrowroot', 36, 2.18, 78.48)\n",
      "('5/31/2021', 'West', 'San Diego', 'Cookies', 'Oatmeal Raisin', 44, 2.84, 124.96)\n",
      "('6/3/2021', 'East', 'Boston', 'Bars', 'Bran', 27, 1.87, 50.49)\n",
      "('6/6/2021', 'East', 'Boston', 'Cookies', 'Oatmeal Raisin', 120, 2.84, 340.8)\n",
      "('6/9/2021', 'East', 'Boston', 'Crackers', 'Whole Wheat', 26, 3.49, 90.74)\n",
      "('6/12/2021', 'West', 'Los Angeles', 'Bars', 'Carrot', 73, 1.77, 129.21)\n",
      "('6/15/2021', 'East', 'New York', 'Bars', 'Bran', 38, 1.87, 71.06)\n",
      "('6/18/2021', 'East', 'New York', 'Cookies', 'Oatmeal Raisin', 40, 2.84, 113.6)\n",
      "('6/21/2021', 'West', 'San Diego', 'Bars', 'Carrot', 41, 1.77, 72.57)\n",
      "('6/24/2021', 'East', 'Boston', 'Bars', 'Banana', 27, 2.27, 61.29)\n",
      "('6/27/2021', 'East', 'Boston', 'Cookies', 'Chocolate Chip', 38, 1.87, 71.06)\n",
      "('6/30/2021', 'East', 'Boston', 'Crackers', 'Whole Wheat', 34, 3.49, 118.66)\n",
      "('7/3/2021', 'West', 'Los Angeles', 'Bars', 'Bran', 65, 1.87, 121.55)\n",
      "('7/6/2021', 'West', 'Los Angeles', 'Cookies', 'Oatmeal Raisin', 60, 2.84, 170.4)\n",
      "('7/9/2021', 'East', 'New York', 'Cookies', 'Arrowroot', 37, 2.18, 80.66)\n",
      "('7/12/2021', 'East', 'New York', 'Cookies', 'Chocolate Chip', 40, 1.87, 74.8)\n",
      "('7/15/2021', 'West', 'San Diego', 'Bars', 'Bran', 26, 1.87, 48.62)\n",
      "('7/18/2021', 'East', 'Boston', 'Bars', 'Banana', 22, 2.27, 49.94)\n",
      "('7/21/2021', 'East', 'Boston', 'Cookies', 'Chocolate Chip', 32, 1.87, 59.84)\n",
      "('7/24/2021', 'East', 'Boston', 'Crackers', 'Whole Wheat', 23, 3.49, 80.27)\n",
      "('7/27/2021', 'West', 'Los Angeles', 'Cookies', 'Arrowroot', 20, 2.18, 43.6)\n",
      "('7/30/2021', 'West', 'Los Angeles', 'Cookies', 'Chocolate Chip', 64, 1.87, 119.68)\n",
      "('8/2/2021', 'East', 'New York', 'Bars', 'Carrot', 71, 1.77, 125.67)\n",
      "('8/5/2021', 'West', 'San Diego', 'Cookies', 'Arrowroot', 90, 2.18, 196.2)\n",
      "('8/8/2021', 'West', 'San Diego', 'Cookies', 'Oatmeal Raisin', 38, 2.84, 107.92)\n",
      "('8/11/2021', 'East', 'Boston', 'Bars', 'Carrot', 55, 1.77, 97.35)\n",
      "('8/14/2021', 'East', 'Boston', 'Snacks', 'Pretzels', 22, 3.15, 69.3)\n",
      "('8/17/2021', 'West', 'Los Angeles', 'Bars', 'Carrot', 34, 1.77, 60.18)\n",
      "('8/20/2021', 'East', 'New York', 'Bars', 'Bran', 39, 1.87, 72.93)\n",
      "('8/23/2021', 'East', 'New York', 'Cookies', 'Oatmeal Raisin', 41, 2.84, 116.44)\n",
      "('8/26/2021', 'West', 'San Diego', 'Bars', 'Carrot', 41, 1.77, 72.57)\n",
      "('8/29/2021', 'East', 'Boston', 'Cookies', 'Arrowroot', 136, 2.18, 296.48)\n",
      "('9/1/2021', 'East', 'Boston', 'Bars', 'Carrot', 25, 1.77, 44.25)\n",
      "('9/4/2021', 'East', 'Boston', 'Snacks', 'Pretzels', 26, 3.15, 81.9)\n",
      "('9/7/2021', 'West', 'Los Angeles', 'Bars', 'Bran', 50, 1.87, 93.5)\n",
      "('9/10/2021', 'West', 'Los Angeles', 'Cookies', 'Oatmeal Raisin', 79, 2.84, 224.36)\n",
      "('9/13/2021', 'East', 'New York', 'Bars', 'Carrot', 30, 1.77, 53.1)\n",
      "('9/16/2021', 'East', 'New York', 'Snacks', 'Potato Chips', 20, 1.68, 33.6)\n",
      "('9/19/2021', 'West', 'San Diego', 'Bars', 'Carrot', 49, 1.77, 86.73)\n",
      "('9/22/2021', 'East', 'Boston', 'Cookies', 'Arrowroot', 40, 2.18, 87.2)\n",
      "('9/25/2021', 'East', 'Boston', 'Bars', 'Carrot', 31, 1.77, 54.87)\n",
      "('9/28/2021', 'East', 'Boston', 'Snacks', 'Pretzels', 21, 3.15, 66.15)\n",
      "('10/1/2021', 'West', 'Los Angeles', 'Bars', 'Bran', 43, 1.87, 80.41)\n",
      "('10/4/2021', 'West', 'Los Angeles', 'Cookies', 'Oatmeal Raisin', 47, 2.84, 133.48)\n",
      "('10/7/2021', 'East', 'New York', 'Cookies', 'Arrowroot', 175, 2.18, 381.5)\n",
      "('10/10/2021', 'East', 'New York', 'Cookies', 'Chocolate Chip', 23, 1.87, 43.01)\n",
      "('10/13/2021', 'West', 'San Diego', 'Bars', 'Carrot', 40, 1.77, 70.8)\n",
      "('10/16/2021', 'East', 'Boston', 'Cookies', 'Arrowroot', 87, 2.18, 189.66)\n",
      "('10/19/2021', 'East', 'Boston', 'Bars', 'Carrot', 43, 1.77, 76.11)\n",
      "('10/22/2021', 'East', 'Boston', 'Crackers', 'Whole Wheat', 30, 3.49, 104.7)\n",
      "('10/25/2021', 'West', 'Los Angeles', 'Bars', 'Carrot', 35, 1.77, 61.95)\n",
      "('10/28/2021', 'East', 'New York', 'Bars', 'Bran', 57, 1.87, 106.59)\n",
      "('10/31/2021', 'East', 'New York', 'Snacks', 'Potato Chips', 25, 1.68, 42.0)\n",
      "('11/3/2021', 'West', 'San Diego', 'Cookies', 'Chocolate Chip', 24, 1.87, 44.88)\n",
      "('11/6/2021', 'East', 'Boston', 'Bars', 'Bran', 83, 1.87, 155.21)\n",
      "('11/9/2021', 'East', 'Boston', 'Cookies', 'Oatmeal Raisin', 124, 2.84, 352.16)\n",
      "('11/12/2021', 'West', 'Los Angeles', 'Bars', 'Carrot', 137, 1.77, 242.49)\n",
      "('11/15/2021', 'East', 'New York', 'Cookies', 'Arrowroot', 146, 2.18, 318.28)\n",
      "('11/18/2021', 'East', 'New York', 'Cookies', 'Chocolate Chip', 34, 1.87, 63.58)\n",
      "('11/21/2021', 'West', 'San Diego', 'Bars', 'Carrot', 20, 1.77, 35.4)\n",
      "('11/24/2021', 'East', 'Boston', 'Cookies', 'Arrowroot', 139, 2.18, 303.02)\n",
      "('11/27/2021', 'East', 'Boston', 'Cookies', 'Chocolate Chip', 211, 1.87, 394.57)\n",
      "('11/30/2021', 'East', 'Boston', 'Crackers', 'Whole Wheat', 20, 3.49, 69.8)\n",
      "('12/3/2021', 'West', 'Los Angeles', 'Bars', 'Bran', 42, 1.87, 78.54)\n",
      "('12/6/2021', 'West', 'Los Angeles', 'Cookies', 'Oatmeal Raisin', 100, 2.84, 284.0)\n",
      "('12/9/2021', 'East', 'New York', 'Bars', 'Carrot', 38, 1.77, 67.26)\n",
      "('12/12/2021', 'East', 'New York', 'Crackers', 'Whole Wheat', 25, 3.49, 87.25)\n",
      "('12/15/2021', 'West', 'San Diego', 'Cookies', 'Chocolate Chip', 96, 1.87, 179.52)\n",
      "('12/18/2021', 'East', 'Boston', 'Cookies', 'Arrowroot', 34, 2.18, 74.12)\n",
      "('12/21/2021', 'East', 'Boston', 'Cookies', 'Chocolate Chip', 245, 1.87, 458.15)\n",
      "('12/24/2021', 'East', 'Boston', 'Crackers', 'Whole Wheat', 30, 3.49, 104.7)\n",
      "('12/27/2021', 'West', 'Los Angeles', 'Bars', 'Bran', 30, 1.87, 56.1)\n",
      "('12/30/2021', 'West', 'Los Angeles', 'Cookies', 'Oatmeal Raisin', 44, 2.84, 124.96)\n"
     ]
    }
   ],
   "source": [
    "#to see data in foodsales\n",
    "\n",
    "\n",
    "c.execute(\"select * from foodsales\")\n",
    "r=c.fetchall()\n",
    "for i in r:\n",
    "    print(i)"
   ]
  },
  {
   "cell_type": "code",
   "execution_count": 14,
   "id": "4d7cf48b",
   "metadata": {},
   "outputs": [
    {
     "name": "stdout",
     "output_type": "stream",
     "text": [
      "('Carrot',)\n",
      "('Whole Wheat',)\n",
      "('Chocolate Chip',)\n",
      "('Arrowroot',)\n",
      "('Potato Chips',)\n",
      "('Oatmeal Raisin',)\n",
      "('Bran',)\n",
      "('Pretzels',)\n",
      "('Banana',)\n"
     ]
    }
   ],
   "source": [
    "# display product names in foodsales\n",
    "\n",
    "c.execute(\"select distinct Product from foodsales;\")\n",
    "r=c.fetchall()\n",
    "for i in r:\n",
    "    print(i)"
   ]
  },
  {
   "cell_type": "code",
   "execution_count": 15,
   "id": "0f1226bb",
   "metadata": {},
   "outputs": [
    {
     "name": "stdout",
     "output_type": "stream",
     "text": [
      "('1/1/2020', 'East', 'Boston', 'Bars', 'Carrot', 33, 1.77, 58.41)\n",
      "('1/16/2020', 'East', 'Boston', 'Bars', 'Carrot', 54, 1.77, 95.58)\n",
      "('1/22/2020', 'West', 'Los Angeles', 'Bars', 'Carrot', 51, 1.77, 90.27)\n",
      "('1/25/2020', 'East', 'New York', 'Bars', 'Carrot', 100, 1.77, 177.0)\n",
      "('2/9/2020', 'West', 'Los Angeles', 'Bars', 'Carrot', 44, 1.77, 77.88)\n",
      "('2/12/2020', 'East', 'New York', 'Bars', 'Carrot', 23, 1.77, 40.71)\n",
      "('3/8/2020', 'East', 'Boston', 'Bars', 'Carrot', 61, 1.77, 107.97)\n",
      "('3/17/2020', 'East', 'New York', 'Bars', 'Carrot', 38, 1.77, 67.26)\n",
      "('4/1/2020', 'West', 'Los Angeles', 'Bars', 'Carrot', 58, 1.77, 102.66)\n",
      "('4/7/2020', 'East', 'New York', 'Bars', 'Carrot', 91, 1.77, 161.07)\n",
      "('4/16/2020', 'East', 'Boston', 'Bars', 'Carrot', 48, 1.77, 84.96)\n",
      "('4/22/2020', 'West', 'Los Angeles', 'Bars', 'Carrot', 20, 1.77, 35.4)\n",
      "('4/25/2020', 'East', 'New York', 'Bars', 'Carrot', 53, 1.77, 93.81)\n",
      "('5/10/2020', 'West', 'Los Angeles', 'Bars', 'Carrot', 25, 1.77, 44.25)\n",
      "('5/16/2020', 'East', 'New York', 'Bars', 'Carrot', 61, 1.77, 107.97)\n",
      "('5/28/2020', 'East', 'Boston', 'Bars', 'Carrot', 58, 1.77, 102.66)\n",
      "('6/9/2020', 'West', 'San Diego', 'Bars', 'Carrot', 42, 1.77, 74.34)\n",
      "('6/15/2020', 'East', 'Boston', 'Bars', 'Carrot', 75, 1.77, 132.75)\n",
      "('6/21/2020', 'West', 'Los Angeles', 'Bars', 'Carrot', 306, 1.77, 541.62)\n",
      "('7/3/2020', 'West', 'San Diego', 'Bars', 'Carrot', 52, 1.77, 92.04)\n",
      "('7/9/2020', 'East', 'Boston', 'Bars', 'Carrot', 136, 1.77, 240.72)\n",
      "('8/8/2020', 'East', 'New York', 'Bars', 'Carrot', 24, 1.77, 42.48)\n",
      "('8/20/2020', 'East', 'Boston', 'Bars', 'Carrot', 109, 1.77, 192.93)\n",
      "('9/4/2020', 'West', 'San Diego', 'Bars', 'Carrot', 45, 1.77, 79.65)\n",
      "('9/10/2020', 'East', 'Boston', 'Bars', 'Carrot', 143, 1.77, 253.11)\n",
      "('9/16/2020', 'West', 'Los Angeles', 'Bars', 'Carrot', 133, 1.77, 235.41)\n",
      "('10/1/2020', 'East', 'Boston', 'Bars', 'Carrot', 77, 1.77, 136.29)\n",
      "('10/7/2020', 'West', 'Los Angeles', 'Bars', 'Carrot', 40, 1.77, 70.8)\n",
      "('10/16/2020', 'East', 'New York', 'Bars', 'Carrot', 141, 1.77, 249.57)\n",
      "('10/22/2020', 'West', 'San Diego', 'Bars', 'Carrot', 20, 1.77, 35.4)\n",
      "('11/3/2020', 'West', 'Los Angeles', 'Bars', 'Carrot', 39, 1.77, 69.03)\n",
      "('11/9/2020', 'East', 'New York', 'Bars', 'Carrot', 90, 1.77, 159.3)\n",
      "('11/24/2020', 'West', 'Los Angeles', 'Bars', 'Carrot', 30, 1.77, 53.1)\n",
      "('11/30/2020', 'East', 'New York', 'Bars', 'Carrot', 92, 1.77, 162.84)\n",
      "('12/18/2020', 'West', 'Los Angeles', 'Bars', 'Carrot', 44, 1.77, 77.88)\n",
      "('1/5/2021', 'East', 'Boston', 'Bars', 'Carrot', 63, 1.77, 111.51)\n",
      "('1/17/2021', 'East', 'New York', 'Bars', 'Carrot', 102, 1.77, 180.54)\n",
      "('1/23/2021', 'West', 'San Diego', 'Bars', 'Carrot', 56, 1.77, 99.12)\n",
      "('1/29/2021', 'East', 'Boston', 'Bars', 'Carrot', 51, 1.77, 90.27)\n",
      "('2/10/2021', 'East', 'New York', 'Bars', 'Carrot', 34, 1.77, 60.18)\n",
      "('2/19/2021', 'East', 'Boston', 'Bars', 'Carrot', 68, 1.77, 120.36)\n",
      "('3/14/2021', 'East', 'Boston', 'Bars', 'Carrot', 93, 1.77, 164.61)\n",
      "('3/20/2021', 'West', 'Los Angeles', 'Bars', 'Carrot', 103, 1.77, 182.31)\n",
      "('4/1/2021', 'West', 'San Diego', 'Bars', 'Carrot', 118, 1.77, 208.86)\n",
      "('4/10/2021', 'West', 'Los Angeles', 'Bars', 'Carrot', 90, 1.77, 159.3)\n",
      "('4/16/2021', 'East', 'New York', 'Bars', 'Carrot', 48, 1.77, 84.96)\n",
      "('5/16/2021', 'East', 'Boston', 'Bars', 'Carrot', 58, 1.77, 102.66)\n",
      "('5/25/2021', 'East', 'New York', 'Bars', 'Carrot', 84, 1.77, 148.68)\n",
      "('6/12/2021', 'West', 'Los Angeles', 'Bars', 'Carrot', 73, 1.77, 129.21)\n",
      "('6/21/2021', 'West', 'San Diego', 'Bars', 'Carrot', 41, 1.77, 72.57)\n",
      "('8/2/2021', 'East', 'New York', 'Bars', 'Carrot', 71, 1.77, 125.67)\n",
      "('8/11/2021', 'East', 'Boston', 'Bars', 'Carrot', 55, 1.77, 97.35)\n",
      "('8/17/2021', 'West', 'Los Angeles', 'Bars', 'Carrot', 34, 1.77, 60.18)\n",
      "('8/26/2021', 'West', 'San Diego', 'Bars', 'Carrot', 41, 1.77, 72.57)\n",
      "('9/1/2021', 'East', 'Boston', 'Bars', 'Carrot', 25, 1.77, 44.25)\n",
      "('9/13/2021', 'East', 'New York', 'Bars', 'Carrot', 30, 1.77, 53.1)\n",
      "('9/19/2021', 'West', 'San Diego', 'Bars', 'Carrot', 49, 1.77, 86.73)\n",
      "('9/25/2021', 'East', 'Boston', 'Bars', 'Carrot', 31, 1.77, 54.87)\n",
      "('10/13/2021', 'West', 'San Diego', 'Bars', 'Carrot', 40, 1.77, 70.8)\n",
      "('10/19/2021', 'East', 'Boston', 'Bars', 'Carrot', 43, 1.77, 76.11)\n",
      "('10/25/2021', 'West', 'Los Angeles', 'Bars', 'Carrot', 35, 1.77, 61.95)\n",
      "('11/12/2021', 'West', 'Los Angeles', 'Bars', 'Carrot', 137, 1.77, 242.49)\n",
      "('11/21/2021', 'West', 'San Diego', 'Bars', 'Carrot', 20, 1.77, 35.4)\n",
      "('12/9/2021', 'East', 'New York', 'Bars', 'Carrot', 38, 1.77, 67.26)\n"
     ]
    }
   ],
   "source": [
    "#display data where product is carrot\n",
    "\n",
    "c.execute(\"select * from foodsales where Product='Carrot';\")\n",
    "r=c.fetchall()\n",
    "for i in r:\n",
    "    print(i)"
   ]
  },
  {
   "cell_type": "code",
   "execution_count": 49,
   "id": "7a2e1736",
   "metadata": {},
   "outputs": [
    {
     "name": "stdout",
     "output_type": "stream",
     "text": [
      "('1/1/2020', 'East', 'Boston', 'Bars', 'Carrot', 33, 1.77, 58.41)\n",
      "('2/19/2021', 'East', 'Boston', 'Bars', 'Carrot', 68, 1.77, 120.36)\n",
      "('3/2/2021', 'East', 'New York', 'Bars', 'Bran', 68, 1.87, 127.16)\n",
      "('1/16/2020', 'East', 'Boston', 'Bars', 'Carrot', 54, 1.77, 95.58)\n",
      "('1/22/2020', 'West', 'Los Angeles', 'Bars', 'Carrot', 51, 1.77, 90.27)\n",
      "('1/25/2020', 'East', 'New York', 'Bars', 'Carrot', 100, 1.77, 177.0)\n",
      "('3/14/2021', 'East', 'Boston', 'Bars', 'Carrot', 93, 1.77, 164.61)\n",
      "('3/26/2021', 'East', 'New York', 'Bars', 'Bran', 57, 1.87, 106.59)\n",
      "('2/9/2020', 'West', 'Los Angeles', 'Bars', 'Carrot', 44, 1.77, 77.88)\n",
      "('2/12/2020', 'East', 'New York', 'Bars', 'Carrot', 23, 1.77, 40.71)\n",
      "('4/1/2021', 'West', 'San Diego', 'Bars', 'Carrot', 118, 1.77, 208.86)\n",
      "('4/10/2021', 'West', 'Los Angeles', 'Bars', 'Carrot', 90, 1.77, 159.3)\n",
      "('4/16/2021', 'East', 'New York', 'Bars', 'Carrot', 48, 1.77, 84.96)\n",
      "('3/8/2020', 'East', 'Boston', 'Bars', 'Carrot', 61, 1.77, 107.97)\n",
      "('3/17/2020', 'East', 'New York', 'Bars', 'Carrot', 38, 1.77, 67.26)\n",
      "('5/7/2021', 'East', 'New York', 'Bars', 'Bran', 47, 1.87, 87.89)\n",
      "('4/1/2020', 'West', 'Los Angeles', 'Bars', 'Carrot', 58, 1.77, 102.66)\n",
      "('4/7/2020', 'East', 'New York', 'Bars', 'Carrot', 91, 1.77, 161.07)\n",
      "('5/16/2021', 'East', 'Boston', 'Bars', 'Carrot', 58, 1.77, 102.66)\n",
      "('4/16/2020', 'East', 'Boston', 'Bars', 'Carrot', 48, 1.77, 84.96)\n",
      "('4/22/2020', 'West', 'Los Angeles', 'Bars', 'Carrot', 20, 1.77, 35.4)\n",
      "('4/25/2020', 'East', 'New York', 'Bars', 'Carrot', 53, 1.77, 93.81)\n",
      "('5/25/2021', 'East', 'New York', 'Bars', 'Carrot', 84, 1.77, 148.68)\n",
      "('5/10/2020', 'West', 'Los Angeles', 'Bars', 'Carrot', 25, 1.77, 44.25)\n",
      "('5/16/2020', 'East', 'New York', 'Bars', 'Carrot', 61, 1.77, 107.97)\n",
      "('6/12/2021', 'West', 'Los Angeles', 'Bars', 'Carrot', 73, 1.77, 129.21)\n",
      "('6/15/2021', 'East', 'New York', 'Bars', 'Bran', 38, 1.87, 71.06)\n",
      "('5/28/2020', 'East', 'Boston', 'Bars', 'Carrot', 58, 1.77, 102.66)\n",
      "('6/21/2021', 'West', 'San Diego', 'Bars', 'Carrot', 41, 1.77, 72.57)\n",
      "('6/9/2020', 'West', 'San Diego', 'Bars', 'Carrot', 42, 1.77, 74.34)\n",
      "('6/15/2020', 'East', 'Boston', 'Bars', 'Carrot', 75, 1.77, 132.75)\n",
      "('6/21/2020', 'West', 'Los Angeles', 'Bars', 'Carrot', 306, 1.77, 541.62)\n",
      "('6/27/2020', 'East', 'New York', 'Bars', 'Bran', 110, 1.87, 205.7)\n",
      "('9/25/2021', 'East', 'Boston', 'Bars', 'Carrot', 31, 1.77, 54.87)\n",
      "('7/3/2020', 'West', 'San Diego', 'Bars', 'Carrot', 52, 1.77, 92.04)\n",
      "('7/9/2020', 'East', 'Boston', 'Bars', 'Carrot', 136, 1.77, 240.72)\n",
      "('7/18/2020', 'East', 'New York', 'Bars', 'Bran', 72, 1.87, 134.64)\n",
      "('8/2/2021', 'East', 'New York', 'Bars', 'Carrot', 71, 1.77, 125.67)\n",
      "('8/8/2020', 'East', 'New York', 'Bars', 'Carrot', 24, 1.77, 42.48)\n",
      "('8/11/2021', 'East', 'Boston', 'Bars', 'Carrot', 55, 1.77, 97.35)\n",
      "('8/17/2021', 'West', 'Los Angeles', 'Bars', 'Carrot', 34, 1.77, 60.18)\n",
      "('8/20/2020', 'East', 'Boston', 'Bars', 'Carrot', 109, 1.77, 192.93)\n",
      "('8/29/2020', 'East', 'New York', 'Bars', 'Bran', 75, 1.87, 140.25)\n",
      "('8/20/2021', 'East', 'New York', 'Bars', 'Bran', 39, 1.87, 72.93)\n",
      "('9/4/2020', 'West', 'San Diego', 'Bars', 'Carrot', 45, 1.77, 79.65)\n",
      "('8/26/2021', 'West', 'San Diego', 'Bars', 'Carrot', 41, 1.77, 72.57)\n",
      "('9/10/2020', 'East', 'Boston', 'Bars', 'Carrot', 143, 1.77, 253.11)\n",
      "('9/16/2020', 'West', 'Los Angeles', 'Bars', 'Carrot', 133, 1.77, 235.41)\n",
      "('9/1/2021', 'East', 'Boston', 'Bars', 'Carrot', 25, 1.77, 44.25)\n",
      "('9/13/2021', 'East', 'New York', 'Bars', 'Carrot', 30, 1.77, 53.1)\n",
      "('9/19/2021', 'West', 'San Diego', 'Bars', 'Carrot', 49, 1.77, 86.73)\n",
      "('10/1/2020', 'East', 'Boston', 'Bars', 'Carrot', 77, 1.77, 136.29)\n",
      "('10/7/2020', 'West', 'Los Angeles', 'Bars', 'Carrot', 40, 1.77, 70.8)\n",
      "('10/13/2021', 'West', 'San Diego', 'Bars', 'Carrot', 40, 1.77, 70.8)\n",
      "('10/16/2020', 'East', 'New York', 'Bars', 'Carrot', 141, 1.77, 249.57)\n",
      "('10/19/2021', 'East', 'Boston', 'Bars', 'Carrot', 43, 1.77, 76.11)\n",
      "('10/22/2020', 'West', 'San Diego', 'Bars', 'Carrot', 20, 1.77, 35.4)\n",
      "('10/25/2021', 'West', 'Los Angeles', 'Bars', 'Carrot', 35, 1.77, 61.95)\n",
      "('11/3/2020', 'West', 'Los Angeles', 'Bars', 'Carrot', 39, 1.77, 69.03)\n",
      "('11/9/2020', 'East', 'New York', 'Bars', 'Carrot', 90, 1.77, 159.3)\n",
      "('10/28/2021', 'East', 'New York', 'Bars', 'Bran', 57, 1.87, 106.59)\n",
      "('11/24/2020', 'West', 'Los Angeles', 'Bars', 'Carrot', 30, 1.77, 53.1)\n",
      "('11/30/2020', 'East', 'New York', 'Bars', 'Carrot', 92, 1.77, 162.84)\n",
      "('11/12/2021', 'West', 'Los Angeles', 'Bars', 'Carrot', 137, 1.77, 242.49)\n",
      "('12/18/2020', 'West', 'Los Angeles', 'Bars', 'Carrot', 44, 1.77, 77.88)\n",
      "('11/21/2021', 'West', 'San Diego', 'Bars', 'Carrot', 20, 1.77, 35.4)\n",
      "('12/9/2021', 'East', 'New York', 'Bars', 'Carrot', 38, 1.77, 67.26)\n",
      "('3/20/2021', 'West', 'Los Angeles', 'Bars', 'Carrot', 103, 1.77, 182.31)\n",
      "('1/5/2021', 'East', 'Boston', 'Bars', 'Carrot', 63, 1.77, 111.51)\n",
      "('1/17/2021', 'East', 'New York', 'Bars', 'Carrot', 102, 1.77, 180.54)\n",
      "('1/23/2021', 'West', 'San Diego', 'Bars', 'Carrot', 56, 1.77, 99.12)\n",
      "('1/29/2021', 'East', 'Boston', 'Bars', 'Carrot', 51, 1.77, 90.27)\n",
      "('2/10/2021', 'East', 'New York', 'Bars', 'Carrot', 34, 1.77, 60.18)\n",
      "('1/10/2020', 'East', 'New York', 'Cookies', 'Chocolate Chip', 82, 1.87, 153.34)\n",
      "('1/13/2020', 'East', 'Boston', 'Cookies', 'Arrowroot', 38, 2.18, 82.84)\n",
      "('1/2/2021', 'East', 'Boston', 'Cookies', 'Arrowroot', 32, 2.18, 69.76)\n",
      "('1/31/2020', 'East', 'Boston', 'Cookies', 'Arrowroot', 36, 2.18, 78.48)\n",
      "('6/18/2021', 'East', 'New York', 'Cookies', 'Oatmeal Raisin', 40, 2.84, 113.6)\n",
      "('2/18/2020', 'East', 'Boston', 'Cookies', 'Arrowroot', 43, 2.18, 93.74)\n",
      "('3/2/2020', 'East', 'New York', 'Cookies', 'Chocolate Chip', 85, 1.87, 158.95)\n",
      "('7/21/2020', 'East', 'New York', 'Cookies', 'Oatmeal Raisin', 56, 2.84, 159.04)\n",
      "('11/15/2021', 'East', 'New York', 'Cookies', 'Arrowroot', 146, 2.18, 318.28)\n",
      "('11/18/2021', 'East', 'New York', 'Cookies', 'Chocolate Chip', 34, 1.87, 63.58)\n",
      "('3/29/2021', 'East', 'New York', 'Cookies', 'Oatmeal Raisin', 65, 2.84, 184.6)\n",
      "('5/25/2020', 'East', 'Boston', 'Cookies', 'Arrowroot', 27, 2.18, 58.86)\n",
      "('6/6/2020', 'East', 'New York', 'Cookies', 'Chocolate Chip', 76, 1.87, 142.12)\n",
      "('6/30/2020', 'East', 'New York', 'Cookies', 'Oatmeal Raisin', 51, 2.84, 144.84)\n",
      "('11/24/2021', 'East', 'Boston', 'Cookies', 'Arrowroot', 139, 2.18, 303.02)\n",
      "('12/18/2021', 'East', 'Boston', 'Cookies', 'Arrowroot', 34, 2.18, 74.12)\n",
      "('8/17/2020', 'East', 'Boston', 'Cookies', 'Arrowroot', 31, 2.18, 67.58)\n",
      "('9/1/2020', 'East', 'New York', 'Cookies', 'Oatmeal Raisin', 74, 2.84, 210.16)\n",
      "('9/7/2020', 'East', 'Boston', 'Cookies', 'Arrowroot', 28, 2.18, 61.04)\n",
      "('9/19/2020', 'East', 'New York', 'Cookies', 'Arrowroot', 110, 2.18, 239.8)\n",
      "('9/22/2020', 'East', 'New York', 'Cookies', 'Chocolate Chip', 65, 1.87, 121.55)\n",
      "('9/28/2020', 'East', 'Boston', 'Cookies', 'Arrowroot', 81, 2.18, 176.58)\n",
      "('10/13/2020', 'East', 'New York', 'Cookies', 'Arrowroot', 224, 2.18, 488.32)\n",
      "('7/27/2021', 'West', 'Los Angeles', 'Cookies', 'Arrowroot', 20, 2.18, 43.6)\n",
      "('10/25/2020', 'East', 'Boston', 'Cookies', 'Arrowroot', 40, 2.18, 87.2)\n",
      "('11/12/2020', 'West', 'San Diego', 'Cookies', 'Arrowroot', 103, 2.18, 224.54)\n",
      "('12/3/2020', 'West', 'San Diego', 'Cookies', 'Arrowroot', 139, 2.18, 303.02)\n",
      "('12/24/2020', 'East', 'New York', 'Cookies', 'Arrowroot', 237, 2.18, 516.66)\n",
      "('12/27/2020', 'East', 'New York', 'Cookies', 'Chocolate Chip', 65, 1.87, 121.55)\n",
      "('7/12/2021', 'East', 'New York', 'Cookies', 'Chocolate Chip', 40, 1.87, 74.8)\n",
      "('5/1/2021', 'West', 'Los Angeles', 'Cookies', 'Arrowroot', 77, 2.18, 167.86)\n",
      "('4/4/2021', 'East', 'Boston', 'Cookies', 'Arrowroot', 36, 2.18, 78.48)\n",
      "('8/5/2021', 'West', 'San Diego', 'Cookies', 'Arrowroot', 90, 2.18, 196.2)\n",
      "('1/26/2021', 'East', 'Boston', 'Cookies', 'Arrowroot', 52, 2.18, 113.36)\n",
      "('2/25/2021', 'West', 'Los Angeles', 'Cookies', 'Arrowroot', 30, 2.18, 65.4)\n",
      "('8/23/2021', 'East', 'New York', 'Cookies', 'Oatmeal Raisin', 41, 2.84, 116.44)\n",
      "('8/29/2021', 'East', 'Boston', 'Cookies', 'Arrowroot', 136, 2.18, 296.48)\n",
      "('5/10/2021', 'East', 'New York', 'Cookies', 'Oatmeal Raisin', 33, 2.84, 93.72)\n",
      "('3/5/2021', 'East', 'New York', 'Cookies', 'Oatmeal Raisin', 97, 2.84, 275.48)\n",
      "('9/22/2021', 'East', 'Boston', 'Cookies', 'Arrowroot', 40, 2.18, 87.2)\n",
      "('7/9/2021', 'East', 'New York', 'Cookies', 'Arrowroot', 37, 2.18, 80.66)\n",
      "('10/7/2021', 'East', 'New York', 'Cookies', 'Arrowroot', 175, 2.18, 381.5)\n",
      "('10/10/2021', 'East', 'New York', 'Cookies', 'Chocolate Chip', 23, 1.87, 43.01)\n",
      "('2/4/2021', 'West', 'Los Angeles', 'Cookies', 'Arrowroot', 58, 2.18, 126.44)\n",
      "('10/16/2021', 'East', 'Boston', 'Cookies', 'Arrowroot', 87, 2.18, 189.66)\n",
      "('5/28/2021', 'West', 'San Diego', 'Cookies', 'Arrowroot', 36, 2.18, 78.48)\n",
      "('12/30/2020', 'West', 'San Diego', 'Cookies', 'Arrowroot', 83, 2.18, 180.94)\n",
      "('4/10/2020', 'East', 'New York', 'Crackers', 'Whole Wheat', 23, 3.49, 80.27)\n",
      "('8/11/2020', 'East', 'New York', 'Crackers', 'Whole Wheat', 30, 3.49, 104.7)\n",
      "('1/20/2021', 'East', 'New York', 'Crackers', 'Whole Wheat', 31, 3.49, 108.19)\n",
      "('12/12/2021', 'East', 'New York', 'Crackers', 'Whole Wheat', 25, 3.49, 87.25)\n",
      "('10/19/2020', 'East', 'New York', 'Crackers', 'Whole Wheat', 32, 3.49, 111.68)\n",
      "('1/28/2020', 'East', 'New York', 'Snacks', 'Potato Chips', 28, 1.35, 37.8)\n",
      "('2/15/2020', 'East', 'New York', 'Snacks', 'Potato Chips', 27, 1.35, 36.45)\n",
      "('4/28/2020', 'East', 'New York', 'Snacks', 'Potato Chips', 64, 1.68, 107.52)\n",
      "('5/19/2020', 'East', 'New York', 'Snacks', 'Potato Chips', 49, 1.68, 82.32)\n",
      "('3/20/2020', 'East', 'New York', 'Snacks', 'Potato Chips', 68, 1.68, 114.24)\n",
      "('9/16/2021', 'East', 'New York', 'Snacks', 'Potato Chips', 20, 1.68, 33.6)\n",
      "('4/19/2021', 'East', 'New York', 'Snacks', 'Potato Chips', 24, 1.68, 40.32)\n",
      "('10/31/2021', 'East', 'New York', 'Snacks', 'Potato Chips', 25, 1.68, 42.0)\n",
      "('2/13/2021', 'East', 'New York', 'Snacks', 'Potato Chips', 21, 1.68, 35.28)\n"
     ]
    }
   ],
   "source": [
    "#display products of carrot and arrowroot\n",
    "\n",
    "c.execute(\"select * from foodsales where City='New York'or product in('Carrot','Arrowroot') order by Category;\")\n",
    "r=c.fetchall()\n",
    "for i in r:\n",
    "    print(i)"
   ]
  },
  {
   "cell_type": "code",
   "execution_count": 44,
   "id": "0c510ee8",
   "metadata": {},
   "outputs": [
    {
     "name": "stdout",
     "output_type": "stream",
     "text": [
      "('2/3/2020', 'East', 'Boston', 'Cookies', 'Chocolate Chip', 31, 1.87, 57.97)\n",
      "('10/28/2020', 'East', 'Boston', 'Cookies', 'Chocolate Chip', 49, 1.87, 91.63)\n",
      "('12/12/2020', 'East', 'Boston', 'Cookies', 'Chocolate Chip', 36, 1.87, 67.32)\n",
      "('6/27/2021', 'East', 'Boston', 'Cookies', 'Chocolate Chip', 38, 1.87, 71.06)\n",
      "('7/21/2021', 'East', 'Boston', 'Cookies', 'Chocolate Chip', 32, 1.87, 59.84)\n",
      "('11/27/2021', 'East', 'Boston', 'Cookies', 'Chocolate Chip', 211, 1.87, 394.57)\n",
      "('12/21/2021', 'East', 'Boston', 'Cookies', 'Chocolate Chip', 245, 1.87, 458.15)\n"
     ]
    }
   ],
   "source": [
    "#display product is chocolate chip city is boston region is east\n",
    "\n",
    "\n",
    "\n",
    "c.execute(\"select * from foodsales where Product='Chocolate Chip' and City='Boston' and Region='East';\")\n",
    "r=c.fetchall()\n",
    "for i in r:\n",
    "    print(i)"
   ]
  },
  {
   "cell_type": "code",
   "execution_count": 50,
   "id": "30853c30",
   "metadata": {},
   "outputs": [
    {
     "name": "stdout",
     "output_type": "stream",
     "text": [
      "('6/3/2020', 'West', 'Los Angeles', 'Cookies', 'Oatmeal Raisin', 288, 2.84, 817.92)\n",
      "('3/29/2020', 'East', 'Boston', 'Cookies', 'Oatmeal Raisin', 193, 2.84, 548.12)\n",
      "('6/21/2020', 'West', 'Los Angeles', 'Bars', 'Carrot', 306, 1.77, 541.62)\n",
      "('1/19/2020', 'East', 'Boston', 'Crackers', 'Whole Wheat', 149, 3.49, 520.01)\n",
      "('12/24/2020', 'East', 'New York', 'Cookies', 'Arrowroot', 237, 2.18, 516.66)\n",
      "('10/13/2020', 'East', 'New York', 'Cookies', 'Arrowroot', 224, 2.18, 488.32)\n",
      "('12/21/2021', 'East', 'Boston', 'Cookies', 'Chocolate Chip', 245, 1.87, 458.15)\n",
      "('2/28/2021', 'West', 'Los Angeles', 'Cookies', 'Chocolate Chip', 232, 1.87, 433.84)\n",
      "('11/27/2021', 'East', 'Boston', 'Cookies', 'Chocolate Chip', 211, 1.87, 394.57)\n",
      "('5/7/2020', 'East', 'Boston', 'Cookies', 'Oatmeal Raisin', 138, 2.84, 391.92)\n"
     ]
    }
   ],
   "source": [
    "#top 10 orders by price greater than 300 \n",
    "\n",
    "c.execute(\"select * from foodsales where TotalPrice>300 order by TotalPrice desc limit 10;\")\n",
    "r=c.fetchall()\n",
    "for i in r:\n",
    "    print(i)"
   ]
  },
  {
   "cell_type": "code",
   "execution_count": 51,
   "id": "f7303d05",
   "metadata": {},
   "outputs": [
    {
     "name": "stdout",
     "output_type": "stream",
     "text": [
      "('9/16/2021', 'East', 'New York', 'Snacks', 'Potato Chips', 20, 1.68, 33.6)\n",
      "('2/13/2021', 'East', 'New York', 'Snacks', 'Potato Chips', 21, 1.68, 35.28)\n",
      "('11/21/2021', 'West', 'San Diego', 'Bars', 'Carrot', 20, 1.77, 35.4)\n",
      "('10/22/2020', 'West', 'San Diego', 'Bars', 'Carrot', 20, 1.77, 35.4)\n",
      "('4/22/2020', 'West', 'Los Angeles', 'Bars', 'Carrot', 20, 1.77, 35.4)\n",
      "('2/15/2020', 'East', 'New York', 'Snacks', 'Potato Chips', 27, 1.35, 36.45)\n",
      "('1/28/2020', 'East', 'New York', 'Snacks', 'Potato Chips', 28, 1.35, 37.8)\n",
      "('4/19/2021', 'East', 'New York', 'Snacks', 'Potato Chips', 24, 1.68, 40.32)\n",
      "('2/1/2021', 'East', 'Boston', 'Snacks', 'Potato Chips', 24, 1.68, 40.32)\n",
      "('2/12/2020', 'East', 'New York', 'Bars', 'Carrot', 23, 1.77, 40.71)\n"
     ]
    }
   ],
   "source": [
    "#low 10 orders\n",
    "\n",
    "c.execute(\"select * from foodsales where TotalPrice<300 order by TotalPrice asc limit 10;\")\n",
    "r=c.fetchall()\n",
    "for i in r:\n",
    "    print(i)"
   ]
  },
  {
   "cell_type": "code",
   "execution_count": 27,
   "id": "4955d9ae",
   "metadata": {},
   "outputs": [
    {
     "name": "stdout",
     "output_type": "stream",
     "text": [
      "(244,)\n"
     ]
    }
   ],
   "source": [
    "#total nomof orders\n",
    "\n",
    "c.execute(\"select count(*) from foodsales;\")\n",
    "r=c.fetchall()\n",
    "for i in r:\n",
    "    print(i)"
   ]
  },
  {
   "cell_type": "code",
   "execution_count": 28,
   "id": "9b6bf675",
   "metadata": {},
   "outputs": [
    {
     "name": "stdout",
     "output_type": "stream",
     "text": [
      "(55,)\n"
     ]
    }
   ],
   "source": [
    "#no of products ordered in los angeles city\n",
    "\n",
    "c.execute(\"select count(Product) as 'No of products' from foodsales where City='Los Angeles';\")\n",
    "r=c.fetchall()\n",
    "for i in r:\n",
    "    print(i)"
   ]
  },
  {
   "cell_type": "code",
   "execution_count": 30,
   "id": "888f9280",
   "metadata": {},
   "outputs": [
    {
     "name": "stdout",
     "output_type": "stream",
     "text": [
      "(33325.57999999999,)\n"
     ]
    }
   ],
   "source": [
    "#total sales\n",
    "\n",
    "c.execute(\"select sum(TotalPrice) as 'TotalSales' from foodsales;\")\n",
    "r=c.fetchall()\n",
    "for i in r:\n",
    "    print(i)"
   ]
  },
  {
   "cell_type": "code",
   "execution_count": 32,
   "id": "f49bed71",
   "metadata": {},
   "outputs": [
    {
     "name": "stdout",
     "output_type": "stream",
     "text": [
      "(Decimal('957'),)\n"
     ]
    }
   ],
   "source": [
    "#total quantity ordered for whole wheat\n",
    "\n",
    "c.execute(\"select sum(Quantity) as 'TotalQuantity' from foodsales where Product='Whole Wheat';\")\n",
    "r=c.fetchall()\n",
    "for i in r:\n",
    "    print(i)"
   ]
  },
  {
   "cell_type": "code",
   "execution_count": 33,
   "id": "71e5be83",
   "metadata": {},
   "outputs": [
    {
     "name": "stdout",
     "output_type": "stream",
     "text": [
      "(Decimal('79'),)\n"
     ]
    }
   ],
   "source": [
    "#total quantity for product banana\n",
    "\n",
    "c.execute(\"select sum(Quantity) as 'TotalQuantity' from foodsales where Product='Banana';\")\n",
    "r=c.fetchall()\n",
    "for i in r:\n",
    "    print(i)"
   ]
  },
  {
   "cell_type": "code",
   "execution_count": 34,
   "id": "e5a28355",
   "metadata": {},
   "outputs": [
    {
     "name": "stdout",
     "output_type": "stream",
     "text": [
      "(136.5802459016393,)\n"
     ]
    }
   ],
   "source": [
    "#average sales \n",
    "\n",
    "c.execute(\"select avg(TotalPrice) as 'Average sales' from foodsales;\")\n",
    "r=c.fetchall()\n",
    "for i in r:\n",
    "    print(i)"
   ]
  },
  {
   "cell_type": "code",
   "execution_count": 35,
   "id": "8d5ac7b2",
   "metadata": {},
   "outputs": [
    {
     "name": "stdout",
     "output_type": "stream",
     "text": [
      "(171.93870967741933,)\n"
     ]
    }
   ],
   "source": [
    "#average sales for arrowroot\n",
    "\n",
    "\n",
    "c.execute(\"select avg(TotalPrice) as 'Average sales' from foodsales where Product='Arrowroot';\")\n",
    "r=c.fetchall()\n",
    "for i in r:\n",
    "    print(i)"
   ]
  },
  {
   "cell_type": "code",
   "execution_count": 36,
   "id": "c755f4c2",
   "metadata": {},
   "outputs": [
    {
     "name": "stdout",
     "output_type": "stream",
     "text": [
      "(68.1,)\n"
     ]
    }
   ],
   "source": [
    "#max order of product banana\n",
    "\n",
    "c.execute(\"select max(TotalPrice) as 'top order' from foodsales where Product='Banana';\")\n",
    "r=c.fetchall()\n",
    "for i in r:\n",
    "    print(i)"
   ]
  },
  {
   "cell_type": "code",
   "execution_count": 37,
   "id": "ea971582",
   "metadata": {},
   "outputs": [
    {
     "name": "stdout",
     "output_type": "stream",
     "text": [
      "(35.4,)\n"
     ]
    }
   ],
   "source": [
    "#minimum sales amount in 2020\n",
    "\n",
    "c.execute(\"select min(TotalPrice) as 'minimum sales' from foodsales where OrderDate between '01/01/2020' and '12/30/2020';\")\n",
    "r=c.fetchall()\n",
    "for i in r:\n",
    "    print(i)"
   ]
  },
  {
   "cell_type": "code",
   "execution_count": 39,
   "id": "9897e383",
   "metadata": {},
   "outputs": [
    {
     "name": "stdout",
     "output_type": "stream",
     "text": [
      "(520.01,)\n"
     ]
    }
   ],
   "source": [
    "#maximum sale amount in 2021\n",
    "\n",
    "c.execute(\"select max(TotalPrice) as 'maximum sales' from foodsales where OrderDate between '01/01/2021' and '12/30/2021';\")\n",
    "r=c.fetchall()\n",
    "for i in r:\n",
    "    print(i)"
   ]
  },
  {
   "cell_type": "code",
   "execution_count": 40,
   "id": "68ea6849",
   "metadata": {},
   "outputs": [
    {
     "name": "stdout",
     "output_type": "stream",
     "text": [
      "('Crackers', 520.01, 69.8, 128.45884615384614)\n",
      "('Cookies', 817.92, 43.01, 181.18326315789474)\n",
      "('Bars', 541.62, 35.4, 112.08053191489363)\n",
      "('Snacks', 225.12, 33.6, 77.16103448275862)\n"
     ]
    }
   ],
   "source": [
    "#grouping on category based of max,min,avg sales in desc order of first five products\n",
    "\n",
    "\n",
    "c.execute(\"select category,max(TotalPrice) as 'MAX SALES',min(TotalPrice) as 'min sales',avg(TotalPrice) as 'avg sales' from foodsales group by category order by TotalPrice desc limit 5;\")\n",
    "r=c.fetchall()\n",
    "for i in r:\n",
    "    print(i)"
   ]
  },
  {
   "cell_type": "code",
   "execution_count": 8,
   "id": "cfa78b70",
   "metadata": {},
   "outputs": [
    {
     "name": "stdout",
     "output_type": "stream",
     "text": [
      "('1/19/2020', 'Crackers', 'Whole Wheat', 520.0)\n",
      "('2/21/2020', 'Cookies', 'Oatmeal Raisin', 349.0)\n",
      "('3/26/2020', 'Bars', 'Bran', 192.0)\n",
      "('3/29/2020', 'Cookies', 'Oatmeal Raisin', 548.0)\n",
      "('4/19/2020', 'Snacks', 'Potato Chips', 225.0)\n",
      "('5/4/2020', 'Bars', 'Bran', 196.0)\n",
      "('5/7/2020', 'Cookies', 'Oatmeal Raisin', 391.0)\n",
      "('6/3/2020', 'Cookies', 'Oatmeal Raisin', 817.0)\n",
      "('6/21/2020', 'Bars', 'Carrot', 541.0)\n",
      "('6/27/2020', 'Bars', 'Bran', 205.0)\n",
      "('7/9/2020', 'Bars', 'Carrot', 240.0)\n",
      "('8/2/2020', 'Cookies', 'Oatmeal Raisin', 389.0)\n",
      "('8/5/2020', 'Cookies', 'Chocolate Chip', 200.0)\n",
      "('8/20/2020', 'Bars', 'Carrot', 192.0)\n",
      "('9/10/2020', 'Bars', 'Carrot', 253.0)\n",
      "('9/16/2020', 'Bars', 'Carrot', 235.0)\n",
      "('9/19/2020', 'Cookies', 'Arrowroot', 239.0)\n",
      "('10/10/2020', 'Snacks', 'Potato Chips', 191.0)\n",
      "('10/13/2020', 'Cookies', 'Arrowroot', 488.0)\n",
      "('10/16/2020', 'Bars', 'Carrot', 249.0)\n",
      "('11/12/2020', 'Cookies', 'Arrowroot', 224.0)\n",
      "('12/3/2020', 'Cookies', 'Arrowroot', 303.0)\n",
      "('12/24/2020', 'Cookies', 'Arrowroot', 516.0)\n",
      "('1/17/2021', 'Bars', 'Carrot', 180.0)\n",
      "('2/28/2021', 'Cookies', 'Chocolate Chip', 433.0)\n",
      "('3/20/2021', 'Bars', 'Carrot', 182.0)\n",
      "('4/1/2021', 'Bars', 'Carrot', 208.0)\n",
      "('4/7/2021', 'Cookies', 'Oatmeal Raisin', 349.0)\n",
      "('4/28/2021', 'Cookies', 'Oatmeal Raisin', 366.0)\n",
      "('6/6/2021', 'Cookies', 'Oatmeal Raisin', 340.0)\n",
      "('8/29/2021', 'Cookies', 'Arrowroot', 296.0)\n",
      "('10/7/2021', 'Cookies', 'Arrowroot', 381.0)\n",
      "('11/9/2021', 'Cookies', 'Oatmeal Raisin', 352.0)\n",
      "('11/12/2021', 'Bars', 'Carrot', 242.0)\n",
      "('11/15/2021', 'Cookies', 'Arrowroot', 318.0)\n",
      "('11/24/2021', 'Cookies', 'Arrowroot', 303.0)\n",
      "('11/27/2021', 'Cookies', 'Chocolate Chip', 394.0)\n",
      "('12/21/2021', 'Cookies', 'Chocolate Chip', 458.0)\n"
     ]
    }
   ],
   "source": [
    "#display whose product quantity greater than 100 using floor\n",
    "\n",
    "c.execute(\"select OrderDate,Category,Product,floor(TotalPrice) from foodsales where Quantity>100;\")\n",
    "r=c.fetchall()\n",
    "for i in r:\n",
    "    print(i)"
   ]
  },
  {
   "cell_type": "code",
   "execution_count": null,
   "id": "3c2d2be5",
   "metadata": {},
   "outputs": [],
   "source": []
  }
 ],
 "metadata": {
  "kernelspec": {
   "display_name": "Python 3",
   "language": "python",
   "name": "python3"
  },
  "language_info": {
   "codemirror_mode": {
    "name": "ipython",
    "version": 3
   },
   "file_extension": ".py",
   "mimetype": "text/x-python",
   "name": "python",
   "nbconvert_exporter": "python",
   "pygments_lexer": "ipython3",
   "version": "3.8.8"
  }
 },
 "nbformat": 4,
 "nbformat_minor": 5
}
